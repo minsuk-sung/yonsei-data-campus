{
 "cells": [
  {
   "cell_type": "markdown",
   "metadata": {},
   "source": [
    "# 연관 규칙 탐사\n",
    "\n",
    "---\n",
    "\n",
    "## 데이터 마이닝\n",
    "\n",
    "> 대용량의 데이터로부터 그들 사이의 관계, 패턴, 규칙을 탐사하여 숨겨져 있던 유용한 지식을 추출하는 과정"
   ]
  },
  {
   "cell_type": "markdown",
   "metadata": {},
   "source": [
    "---\n",
    "\n",
    "## 데이터 마이닝의 연관성 탐사\n",
    "\n",
    "### 데이터 마이닝의 지식 탐사\n",
    "- 확실한 사실이나 명백한 관계를 알아내는 것이 아니다\n",
    "- 일반적인 질의를 통해 확인하기 어려운 패턴을 찾는 것\n",
    "- 숨겨져 있고(hidden) 의미가 있는(significant) 정보를 발견하는 것으로, 대개의 경우 비지도 학습에 해당\n",
    "\n",
    "### 연관성 (Association) 탐사\n",
    "- 서로 다른 항목(item)들 간의 발생 관계, 즉 연관성을 발견하는 과정 및 기법\n",
    "- 장바구니 분석 (market basket analysis) : 고객의 장바구니에 들어 있는 상품들 간의 관계를 파악"
   ]
  },
  {
   "cell_type": "markdown",
   "metadata": {},
   "source": [
    "---\n",
    "\n",
    "## 연관 규칙 탐사\n",
    "\n",
    "### 연관 규칙 (Association Rule)\n",
    "- 연관성 탐사를 통해서 발견되는 규칙\n",
    "- **항목(들) X가 발생하였을 때 항목(들) Y도 같이 발생한다는 연관성을 X → Y 로 표기**\n",
    "    - 이 때, X와 Y는 상호 배타적인 항목(item)들의 집합\n",
    "    - X를 선행절(antecedent) 또는 조건절\n",
    "    - Y를 후행절(consequent) 또는 결과절\n",
    "![](../img/association-rule.png)"
   ]
  },
  {
   "cell_type": "markdown",
   "metadata": {},
   "source": [
    "### 트랜잭션 (Transaction)\n",
    "- 데이터베이스 관리 측면에서는 원래 완결성이 있는 1회의 논리적 실행 또는 처리 단위를 뜻한다\n",
    "- 예를 들면, 은행 계좌 이체를 들 수 있음! 내가 돈을 송금했을때, 상대방이 입금되기 전까진 완료된게 아니다!!\n",
    "- 연관 규칙 탐사에서는 1개의 거래이력 단위를 의미\n",
    "![](../img/transaction.png)\n",
    "\n",
    "- 이 때, 트랜잭션 내에 들어있는 각각의 개별적인 자료를 항목(item)이라고 한다. 항목들 간의 순서는 고려되지 않는다"
   ]
  },
  {
   "cell_type": "markdown",
   "metadata": {},
   "source": [
    "### 항목집합 (Itemset)\n",
    "- 트랜잭션 내에 들어있는 항목들의 집합\n",
    "- 단일 트랜잭션 내의 항목들로부터 파생될 수 있는 조합\n",
    "    - { } 기호로 각 항목집합을 구분한다\n",
    "    - 내부 항목들 간의 순서는 고려되지 않는다\n",
    "![](../img/itemset.png)"
   ]
  },
  {
   "cell_type": "markdown",
   "metadata": {},
   "source": [
    "### 지지도 (Support)\n",
    "- 전체 트랜잭션들에서 특정 항목집합이 포함되어 있는 확률 (즉, 발생 빈도의 비율)\n",
    "- 항목집합 A의 지지도는 A의 출현 확률 Pr(A)이며, 흔히 S(A) 또는 sup(A) 등으로 표현\n",
    "![](../img/support.png)"
   ]
  },
  {
   "cell_type": "markdown",
   "metadata": {},
   "source": [
    "### 빈발 항목집합 (Frequent Itemset)\n",
    "- 전체 트랜잭션들에서 지지도가 특정 임계값 이상으로 빈발하게 발생한 항목집합\n",
    "- 이 때, 이 임계값을 **최소 지지도(minimum support)**라고 하며 0~1 (0%~100%) 사이의 값\n",
    "![](../img/frequent-itemset.png)"
   ]
  },
  {
   "cell_type": "markdown",
   "metadata": {},
   "source": [
    "### 항목집합을 이용한 연관 규칙의 발견\n",
    "- 연관 규칙은 2개 이상의 항목들이 존재하는 항목집합의 항목들 간의 관계를 표현하는 것\n",
    "- 항목집합 A = { X , Y } 에서 추론되는 연관 규칙은 X → Y 및 Y → X\n",
    "![](../img/discover-itemset.png)"
   ]
  },
  {
   "cell_type": "markdown",
   "metadata": {},
   "source": [
    "### 신뢰도 (Confidence)\n",
    "- 연관 규칙의 선행절이 포함된 트랜잭션들 중 후행절의 항목집합들이 포함될 확률\n",
    "- 연관규칙 $X \\rightarrow Y$의 신뢰도는 조건부 확률$Pr(Y|X)$이며, 흔히 $C(X \\rightarrow Y)$ 또는 $ conf(X \\rightarrow Y)$로 표현한다.\n",
    "\n",
    "> $C(X \\rightarrow Y) = Pr(Y|X) = \\frac{Pr(X \\cap Y)}{Pr(X)} $\n",
    "\n",
    "![](../img/confidence.png)"
   ]
  },
  {
   "cell_type": "markdown",
   "metadata": {},
   "source": [
    "- 연관 규칙의 선행절이 포함된 트랜잭션들 중 후행절의 항목 집합들이 포함될 확률\n",
    "- 신뢰도는 항목집합의 지지도 이상의 값으로 계산\n",
    "![](../img/confidence_vs_support.png)"
   ]
  },
  {
   "cell_type": "markdown",
   "metadata": {},
   "source": [
    "### 연관 규칙 탐사의 최종 결과\n",
    "- 빈발 항목집합이면서 신뢰도가 특정 임계값 이상인 연관 규칙들을 최종적으로 의미 있는 결과로 간주\n",
    "- 이 때, 이 임계값을 최소 신뢰도(minimum confidence)라고 하며 0~1 (0%~100%) 사이의 값을 가진다\n",
    "![](../img/association-rule-result.png)"
   ]
  },
  {
   "cell_type": "markdown",
   "metadata": {},
   "source": [
    "### 향상도 (Lift)\n",
    "- 연관 규칙의 선행절과 후행절이 독립적인 경우 대비, 선행절과 후행절이 함께 발생할 확률\n",
    "- 연관규칙 $X \\rightarrow Y$의 향상도는 (X와 상관 없이) Y가 나올 확률과 비교하여 X가 있을 때 Y가 나올 확률의 증가비율이며, 흔히 $L(X \\rightarrow Y)$ 또는 $lift(X  \\rightarrow Y)$로 표현\n",
    "\n",
    "> $$ L(X \\rightarrow Y) = \\frac{Pr(X \\cap Y)}{Pr(X) Pr(Y)} = \\frac{Pr(Y|X)}{Pr(Y)} $$\n",
    "\n",
    "- 향상도가 1이면 서로 독립적인 관계\n",
    "- 1보다 크면 양(+)의 상관 관계, 1보다 작으면 음(–)의 상관 관계\n",
    "- 향상도를 볼때, 예를 들면\n",
    "\n",
    "$$ 향상도 : \\frac{\\mbox{우유가 나왔을 때 지지도}}{\\mbox{우유를 살 때, 계란을 살때의 신뢰도}}$$\n",
    "![](../img/lift.png)"
   ]
  },
  {
   "cell_type": "markdown",
   "metadata": {},
   "source": [
    "### 연관 규칙 탐사의 고려 사항\n",
    "\n",
    "#### 임계값 설정\n",
    "- 최소 지지도 및 최소 신뢰도의 수치를 어느 정도로 설정할 것인지 여러 가지를 고려하여 결정해야 한다.\n",
    "- 임계값들을 증가 또는 감소시키면서 여러 차례 탐사를 수행하여 적절한 지점을 경험적으로 찾아낸다\n",
    "\n",
    "#### 결과의 해석과 적용\n",
    "- 임계값 이상의 결과들이 모두 의미가 있는 규칙이라고 단정할 수는 없다.\n",
    "- 발생한 항목들 간의 우연성, 현실적으로 관련된 요인 등을 검토한 뒤 의사 결정에 반영해야 한다."
   ]
  },
  {
   "cell_type": "markdown",
   "metadata": {},
   "source": [
    "## 파이썬에서 직접 해보기"
   ]
  },
  {
   "cell_type": "markdown",
   "metadata": {},
   "source": [
    "### Apriori 기법\n",
    "- 빈발 항목집합과 연관 규칙을 탐사하는 대표적인 알고리즘\n",
    "- 1개 항목을 이용하여 빈발 항목집합을 생성하고, 이들을 기반으로 2개 이상의 항목을 가지는 빈발 항목집합을 생성하는 과정을 모든 길이의 빈발 항목집합을 생성할 때까지 반복한다.\n",
    "- Apriori 외에 Eclat, FP-growth 등 수행 성능이 향상된 다양한 연관 규칙 탐사 기법들이 존재한다\n",
    "- Apriori는 아나콘다 패키지에 포함되어 있지 않기 때문에, 직접 추가 설치를 해야 사용\n",
    "- 추가 설치하는 방법에 대한 명령어는 아래와 같다\n",
    "\n",
    "```\n",
    "pip install apyori\n",
    "conda install apyori\n",
    "```"
   ]
  },
  {
   "cell_type": "code",
   "execution_count": 6,
   "metadata": {
    "ExecuteTime": {
     "end_time": "2019-07-29T02:37:04.579232Z",
     "start_time": "2019-07-29T02:37:04.575298Z"
    }
   },
   "outputs": [],
   "source": [
    "import apyori as ap"
   ]
  },
  {
   "cell_type": "markdown",
   "metadata": {},
   "source": [
    "### 트랜잭션 데이터 준비하기\n",
    "- 연관 규칙 탐사를 위한 트랜잭션 데이터는 2차원 형태의 리스트 구조여야 한다\n",
    "- 리스트의 각 항목은 1개의 트랜잭션에 해당\n",
    "- 각 트랜잭션의 항목들의 순서는 고려되지 않으며, 트랜잭션 내에서 항목의 중복은 무시"
   ]
  },
  {
   "cell_type": "code",
   "execution_count": 7,
   "metadata": {
    "ExecuteTime": {
     "end_time": "2019-07-29T02:37:05.207707Z",
     "start_time": "2019-07-29T02:37:05.203808Z"
    }
   },
   "outputs": [],
   "source": [
    "tr = [['우유','계란','커피'],\n",
    "      ['빵','우유','버터','휴지','라면'],\n",
    "      ['맥주','땅콩'],\n",
    "      ['계란','빵','우유','생수'],\n",
    "      ['햇반','커피','간장','계란']]"
   ]
  },
  {
   "cell_type": "markdown",
   "metadata": {},
   "source": [
    "### 연관 규칙 탐사 수행하기\n",
    "- 모듈 내의 함수 apriori를 이용하여 트랜잭션 데이터에 대한 연관 규칙을 탐사한다\n",
    "    - 첫 번째 인자는 2차원 리스트인 트랜잭션 데이터\n",
    "    - min_support는 최소 지지도 값\n",
    "    - min_confidence는 최소 신뢰도 값\n",
    "    - 반환 결과는 탐사된 연관 규칙들"
   ]
  },
  {
   "cell_type": "code",
   "execution_count": 38,
   "metadata": {
    "ExecuteTime": {
     "end_time": "2019-07-29T02:54:49.068541Z",
     "start_time": "2019-07-29T02:54:49.065507Z"
    }
   },
   "outputs": [],
   "source": [
    "rules = ap.apriori(tr,min_support=0.3, min_confidence=0.7)"
   ]
  },
  {
   "cell_type": "markdown",
   "metadata": {},
   "source": [
    "### 탐사한 연관 규칙 정보 확인하기\n",
    "- 실행 결과는 반복자 RelationRecord 객체이며, 내부에는 결과 항목집합과 연관 규칙들에 대한 정보가 들어 있다"
   ]
  },
  {
   "cell_type": "code",
   "execution_count": 39,
   "metadata": {
    "ExecuteTime": {
     "end_time": "2019-07-29T02:54:49.479312Z",
     "start_time": "2019-07-29T02:54:49.474504Z"
    }
   },
   "outputs": [
    {
     "name": "stdout",
     "output_type": "stream",
     "text": [
      "RelationRecord(items=frozenset({'커피', '계란'}), support=0.4, ordered_statistics=[OrderedStatistic(items_base=frozenset({'커피'}), items_add=frozenset({'계란'}), confidence=1.0, lift=1.6666666666666667)])\n",
      "----------------------------------------------------------------------\n",
      "RelationRecord(items=frozenset({'빵', '우유'}), support=0.4, ordered_statistics=[OrderedStatistic(items_base=frozenset({'빵'}), items_add=frozenset({'우유'}), confidence=1.0, lift=1.6666666666666667)])\n",
      "----------------------------------------------------------------------\n"
     ]
    }
   ],
   "source": [
    "for r in rules:\n",
    "    print(r)\n",
    "    print('-'*70)"
   ]
  },
  {
   "cell_type": "markdown",
   "metadata": {},
   "source": [
    "- 실행 결과는 반복자 RelationRecord 객체이다.\n",
    "- 객체의 각 항목에는 다음의 내용이 순서대로 존재한다.\n",
    "    1. 빈발 항목집합\n",
    "    2. 그 빈발 항목집합의 지지도 값\n",
    "    3. 빈발 항목집합으로부터 추론되는 연관 규칙 정보\n",
    "    \n",
    "    \n",
    "- 추론되는 연관 규칙들마다 각각 다음의 내용이 순서대로 존재한다.\n",
    "    1. 연관 규칙의 선행절\n",
    "    2. 연관 규칙의 후행절\n",
    "    3. 연관 규칙의 신뢰도 값\n",
    "    4. 연관 규칙의 향상도 값\n",
    "    \n",
    "![](../img/RelationRecord.png)"
   ]
  },
  {
   "cell_type": "markdown",
   "metadata": {},
   "source": [
    "### 객체의 항목마다 필요한 내용들을 원하는 형식에 맞추어 추출한다"
   ]
  },
  {
   "cell_type": "code",
   "execution_count": 57,
   "metadata": {
    "ExecuteTime": {
     "end_time": "2019-07-29T03:00:15.664256Z",
     "start_time": "2019-07-29T03:00:15.657983Z"
    }
   },
   "outputs": [
    {
     "name": "stdout",
     "output_type": "stream",
     "text": [
      "{'계란'}==>{'우유'} 0.4 0.6666666666666667 1.1111111111111114\n",
      "{'우유'}==>{'계란'} 0.4 0.6666666666666667 1.1111111111111114\n",
      "{'계란'}==>{'커피'} 0.4 0.6666666666666667 1.6666666666666667\n",
      "{'커피'}==>{'계란'} 0.4 1.0 1.6666666666666667\n",
      "{'빵'}==>{'우유'} 0.4 1.0 1.6666666666666667\n",
      "{'우유'}==>{'빵'} 0.4 0.6666666666666667 1.6666666666666667\n"
     ]
    }
   ],
   "source": [
    "rules = ap.apriori(tr,min_support=0.3, min_confidence=0.6)\n",
    "for rule in list(rules):\n",
    "    support = rule[1]\n",
    "    infor = list(rule[2])\n",
    "    if len(infor)>1:\n",
    "        for i in infor:\n",
    "            print(\"{}==>{} {} {} {}\".format(set(i[0]),set(i[1]),support,i[2],i[3]))"
   ]
  },
  {
   "cell_type": "markdown",
   "metadata": {},
   "source": [
    "## 예제\n",
    "\n",
    "### 파일에서 트랜잭션 데이터를 불러오기\n",
    "- 데이터를 파일에서 읽어올 때는 함수 load_transactions를 이용하여 불러온 뒤 리스트로 변환\n",
    "    - 첫 번째 인자는 항목들이 트랜잭션 형태로 저장된 파일 객체\n",
    "    - delimiter는 파일 내 항목들의 구분자"
   ]
  },
  {
   "cell_type": "code",
   "execution_count": 58,
   "metadata": {
    "ExecuteTime": {
     "end_time": "2019-07-29T03:03:41.272876Z",
     "start_time": "2019-07-29T03:03:41.249780Z"
    }
   },
   "outputs": [],
   "source": [
    "import apyori as ap\n",
    "f = open('market.csv')\n",
    "tr = list(ap.load_transactions(f,delimiter=','))\n",
    "f.close()"
   ]
  },
  {
   "cell_type": "code",
   "execution_count": 65,
   "metadata": {
    "ExecuteTime": {
     "end_time": "2019-07-29T03:11:58.143160Z",
     "start_time": "2019-07-29T03:11:58.137055Z"
    }
   },
   "outputs": [
    {
     "data": {
      "text/plain": [
       "9835"
      ]
     },
     "execution_count": 65,
     "metadata": {},
     "output_type": "execute_result"
    }
   ],
   "source": [
    "len(tr)"
   ]
  },
  {
   "cell_type": "markdown",
   "metadata": {},
   "source": [
    "### 연관 규칙 탐사 수행하기\n",
    "- 정상적으로 2차원 형태의 리스트로 변환되었다면, 함수 apriori를 이용하여 연관 규칙 탐사를 수행"
   ]
  },
  {
   "cell_type": "code",
   "execution_count": 66,
   "metadata": {
    "ExecuteTime": {
     "end_time": "2019-07-29T03:14:04.947419Z",
     "start_time": "2019-07-29T03:14:04.910319Z"
    }
   },
   "outputs": [
    {
     "name": "stdout",
     "output_type": "stream",
     "text": [
      "{'other vegetables'} ==> {'whole milk'} 0.07483477376715811 0.38675775091960063 1.5136340948246207\n",
      "{'whole milk'} ==> {'other vegetables'} 0.07483477376715811 0.2928770393951452 1.5136340948246205\n",
      "{'rolls/buns'} ==> {'whole milk'} 0.05663446873411286 0.30790491984521834 1.2050317893663836\n",
      "{'whole milk'} ==> {'rolls/buns'} 0.05663446873411286 0.22164743334659767 1.2050317893663836\n",
      "{'whole milk'} ==> {'yogurt'} 0.05602440264361973 0.21925984878631116 1.5717351405345263\n",
      "{'yogurt'} ==> {'whole milk'} 0.05602440264361973 0.40160349854227406 1.5717351405345266\n"
     ]
    }
   ],
   "source": [
    "rules = ap.apriori(tr, min_support=0.05, min_confidence=0.1)\n",
    "for rule in list(rules):\n",
    "    support = rule[1]\n",
    "    infor = list(rule[2])\n",
    "    if len(infor) > 1:\n",
    "        for i in infor:\n",
    "            print(\"{} ==> {} {} {} {}\".format(set(i[0]),\n",
    "                                              set(i[1]),\n",
    "                                              support,\n",
    "                                              i[2],\n",
    "                                              i[3]))"
   ]
  }
 ],
 "metadata": {
  "kernelspec": {
   "display_name": "Python 3",
   "language": "python",
   "name": "python3"
  },
  "language_info": {
   "codemirror_mode": {
    "name": "ipython",
    "version": 3
   },
   "file_extension": ".py",
   "mimetype": "text/x-python",
   "name": "python",
   "nbconvert_exporter": "python",
   "pygments_lexer": "ipython3",
   "version": "3.6.8"
  },
  "toc": {
   "base_numbering": 1,
   "nav_menu": {},
   "number_sections": true,
   "sideBar": true,
   "skip_h1_title": true,
   "title_cell": "Table of Contents",
   "title_sidebar": "Contents",
   "toc_cell": false,
   "toc_position": {},
   "toc_section_display": true,
   "toc_window_display": false
  }
 },
 "nbformat": 4,
 "nbformat_minor": 2
}
