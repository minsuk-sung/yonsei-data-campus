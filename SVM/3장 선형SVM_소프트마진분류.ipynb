{
 "cells": [
  {
   "cell_type": "markdown",
   "metadata": {},
   "source": [
    "# 소프트 마진 분류"
   ]
  },
  {
   "cell_type": "markdown",
   "metadata": {},
   "source": [
    "## 소프트 마진 (Soft Margin) 분류\n",
    "- 어느 정도의 오류를 허용하면서 가급적 최대 마진이 되는 초평면을 찾는다\n",
    "- 이와 같이 소프트 마진 분류를 수행하는 선형 SVM을 서포트 벡터 분류기(support vector classifier)라고 한다\n",
    "- 잘못 분류되는 데이터가 있지만 초평면을 찾을 수 있음\n",
    "- 과대적합을 방지하거나 줄일 수 있음"
   ]
  },
  {
   "cell_type": "markdown",
   "metadata": {},
   "source": [
    "![](../img/SVM_softmargin.png)"
   ]
  },
  {
   "cell_type": "markdown",
   "metadata": {},
   "source": [
    "### 하이퍼파라미터 C(cost)를 이용하여 허용할 오류의 수준을 결정\n",
    "- 즉, “원래 데이터와 다른 클래스로 분류되는 경우를 얼마나 많이 허용할 것인가”를 조정하는 규제 값\n",
    "-  매개변수 C는 이론적으로 소프트 마진 분류를 위해 도입된 여유 변수(slack variable) ξ 의 값에 적용되는 변수"
   ]
  },
  {
   "cell_type": "markdown",
   "metadata": {},
   "source": [
    "#### C의 값이 높은 경우, 오류에 대해서 더 엄격하게 적용\n",
    "- 마진이 작아진다.\n",
    "- 오분류율이 낮아진다.\n",
    "- 과대적합이 될 수 있다.\n",
    "![](../img/SVM_softmargin_lowC.png)"
   ]
  },
  {
   "cell_type": "markdown",
   "metadata": {},
   "source": [
    "#### C의 값이 낮은 경우, 오류에 대해서 덜 엄격하게 적용\n",
    "- 마진이 커진다.\n",
    "- 오분류율이 높아진다.\n",
    "- 과소적합이 될 수 있다.\n",
    "\n",
    "![](../img/SVM_softmargin_highC.png)"
   ]
  },
  {
   "cell_type": "markdown",
   "metadata": {},
   "source": [
    "## 사이킷런으로 선형 SVM (소프트 마진) 분류 수행"
   ]
  },
  {
   "cell_type": "code",
   "execution_count": null,
   "metadata": {},
   "outputs": [],
   "source": []
  }
 ],
 "metadata": {
  "kernelspec": {
   "display_name": "Python 3",
   "language": "python",
   "name": "python3"
  },
  "language_info": {
   "codemirror_mode": {
    "name": "ipython",
    "version": 3
   },
   "file_extension": ".py",
   "mimetype": "text/x-python",
   "name": "python",
   "nbconvert_exporter": "python",
   "pygments_lexer": "ipython3",
   "version": "3.6.8"
  },
  "toc": {
   "base_numbering": 1,
   "nav_menu": {},
   "number_sections": true,
   "sideBar": true,
   "skip_h1_title": true,
   "title_cell": "Table of Contents",
   "title_sidebar": "Contents",
   "toc_cell": false,
   "toc_position": {},
   "toc_section_display": true,
   "toc_window_display": true
  }
 },
 "nbformat": 4,
 "nbformat_minor": 2
}
