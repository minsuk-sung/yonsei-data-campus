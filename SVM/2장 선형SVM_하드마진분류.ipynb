{
 "cells": [
  {
   "cell_type": "markdown",
   "metadata": {},
   "source": [
    "# 서포트 벡터 머신 (Support Vector Machine, SVM)\n",
    "\n",
    "- 이진 클래스에 대한 분류 기법 중 하나\n",
    "- 두 개의 클래스를 구분하는 경계(boundary)들 중 **클래스들 사이의 최적의 경계**를 찾는다\n",
    "- 두 개의 클래스를 구분하는 경계선은 무수히 많다. 이들 중 가장 **적합한 경계선을 긋는 것**이 SVM의 목표"
   ]
  },
  {
   "cell_type": "markdown",
   "metadata": {},
   "source": [
    "## 용어정리\n",
    "\n",
    "### 마진 (margin)\n",
    "- 클래스들 사이의 간격, 즉 여백\n",
    "- 각 클래스들의 말단에 위치한 데이터들 사이의 거리에 해당\n",
    "\n",
    "![](../img/SVM_margin.png)"
   ]
  },
  {
   "cell_type": "markdown",
   "metadata": {},
   "source": [
    "### 초평면 (hyperplane)\n",
    "- 한 영역을 두 개의 부분으로 나누는 결정 경계 (decision boundary)\n",
    "- 데이터를 분리하는 초평면은 무한히 많이 존재\n",
    "- 예를 들어, 2차원 공간 영역을 나누는 경계는 직선이고 3차원 공간을 나누는 경계는 평면\n",
    "- 일반적으로 표현해서, **초평면은 N차원 공간을 (N–1)차원으로 나누는** 경계\n",
    "\n",
    "![](../img/SVM_hyperplane.png)"
   ]
  },
  {
   "cell_type": "markdown",
   "metadata": {},
   "source": [
    "### 서포트 벡터 (support vector)\n",
    "- 마진에서 서로 가장 가까이 위치해 있는 데이터\n",
    "- 이 데이터들의 위치에 따라 초평면의 위치도 달라질 것이다. 즉, 이 값들은 초평면 함수를 지지(support)\n",
    "- 데이터 값이 달라지면 초평면도 달라지기 때문\n",
    "\n",
    "![](../img/SVM_support_vector.png)"
   ]
  },
  {
   "cell_type": "markdown",
   "metadata": {},
   "source": [
    "## 서포트 벡터 머신의 개념 요약\n",
    "- 데이터를 분리하는 최적의 초평면(hyperplane), 즉 **최적의 결정 경계(decision boundary)**를 찾는 기법\n",
    "- 결국, **최대 마진(maximum margin)이 되도록** 클래스를 구분하는 것이 기본적인 목적\n",
    "\n",
    "![](../img/SVM_concept.png)"
   ]
  },
  {
   "cell_type": "markdown",
   "metadata": {},
   "source": [
    "## 선형 SVM (Linear SVM)"
   ]
  },
  {
   "cell_type": "markdown",
   "metadata": {},
   "source": []
  },
  {
   "cell_type": "markdown",
   "metadata": {},
   "source": []
  },
  {
   "cell_type": "markdown",
   "metadata": {},
   "source": []
  },
  {
   "cell_type": "markdown",
   "metadata": {},
   "source": []
  },
  {
   "cell_type": "markdown",
   "metadata": {},
   "source": []
  },
  {
   "cell_type": "markdown",
   "metadata": {},
   "source": []
  }
 ],
 "metadata": {
  "kernelspec": {
   "display_name": "Python 3",
   "language": "python",
   "name": "python3"
  },
  "language_info": {
   "codemirror_mode": {
    "name": "ipython",
    "version": 3
   },
   "file_extension": ".py",
   "mimetype": "text/x-python",
   "name": "python",
   "nbconvert_exporter": "python",
   "pygments_lexer": "ipython3",
   "version": "3.6.8"
  },
  "toc": {
   "base_numbering": 1,
   "nav_menu": {},
   "number_sections": true,
   "sideBar": true,
   "skip_h1_title": true,
   "title_cell": "Table of Contents",
   "title_sidebar": "Contents",
   "toc_cell": false,
   "toc_position": {},
   "toc_section_display": true,
   "toc_window_display": false
  }
 },
 "nbformat": 4,
 "nbformat_minor": 2
}
