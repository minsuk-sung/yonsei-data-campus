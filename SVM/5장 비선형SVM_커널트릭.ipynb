{
 "cells": [
  {
   "cell_type": "markdown",
   "metadata": {},
   "source": [
    "# 비선형SVM 커널트릭"
   ]
  },
  {
   "cell_type": "markdown",
   "metadata": {},
   "source": [
    "## 비선형 데이터의 변환\n",
    "- 비선형 데이터의 특성을 다항식 형태로 변환한다는 것은 더 상위의 차원으로 사상(mapping, projection)시킨다는 의미이다\n",
    "- 이를 통해, 비선형 데이터를 선형의 결정 경계 상에서 구분할 수 있게 된다\n",
    "![](../img/SVM_nonlinear_transform.png)"
   ]
  },
  {
   "cell_type": "markdown",
   "metadata": {},
   "source": [
    "## 비선형 데이터에 대한 특성 확장의 문제\n",
    "- 비선형 데이터의 특성을 다항식 형태로 명시적으로 변환하여 선형 분류를 수행하는 것은 절차가 명확하고 특정 기법에 종속되지 않는다는 장점\n",
    "- 그러나 다항식의 차수에 따라 모형의 성능 상의 문제 또는 계산량 증가의 문제가 발생\n",
    "    - 차수가 낮은 경우, 복잡한 유형의 데이터를 잘 표현하지 못 한다\n",
    "    - 차수가 높은 경우, 특성이 많아지므로 분석 수행에 많은 시간이 소요"
   ]
  },
  {
   "cell_type": "markdown",
   "metadata": {},
   "source": [
    "## 커널 트릭 (Kernel Trick)\n",
    "- 일련의 계산을 통해서 실제로는 데이터의 특성을 확장하지 않으면서 특성을 확장한 것과 동일한 효과를 가져오는 기법\n",
    "- 즉, 비선형 데이터를 상위 차원으로 사상시키는 연산에서 적용되는 함수 또는 방법을 통칭\n",
    "- 커널 트릭(함수)을 적용하여 클래스들 간의 비선형 결정경계를 유도할 수 있게 된다\n",
    "- 사이킷런 svm 모듈 내의 SVC에는 이러한 커널 트릭들이 이미 구현되어 있다\n",
    "- 실제로는 데이터의 특성을 확장하지 않으면서 특성을 확장한 것과 동일한 효과를 가져오는 수학적 계산 기법이다. 비선형 데이터를 상위 차원으로 사상시키는 연산이 적용되는 함수 또는 방법을 뜻"
   ]
  },
  {
   "cell_type": "markdown",
   "metadata": {},
   "source": [
    "## 다항식 커널 (Polynomial Kernel)\n",
    "- 데이터가 가지고 있는 원래 특성들 간의 가능한 조합을 특정 차수(degree)까지 모두 계산하는 방식\n",
    "- SVC를 이용하여 객체를 생성할 때 kernel에 ‘poly’를 적용한다\n",
    "    - 매개변수 kernel은 커널 트릭의 이름이다. 다항식 커널 적용을 위해서 ‘poly’를 사용\n",
    "    - 매개변수 degree는 다항식 커널에서만 사용되는 최대 차수이며, 기본값은 3\n",
    "    - 매개변수 coef0은 다항식 커널과 시그모이드 커널에서만 사용되는 상수값이며, 기본값은 0\n",
    "    - 매개변수 gamma는 커널 반경의 민감도를 결정하는 값이다. 기본 설정은 ‘auto’로서 1÷(특성 수)로 계산"
   ]
  },
  {
   "cell_type": "markdown",
   "metadata": {},
   "source": [
    "### SVC를 이용하여 객체를 생성할 때 kernel에 ‘poly’를 적용"
   ]
  },
  {
   "cell_type": "code",
   "execution_count": 2,
   "metadata": {
    "ExecuteTime": {
     "end_time": "2019-07-26T05:03:17.239952Z",
     "start_time": "2019-07-26T05:03:17.142395Z"
    }
   },
   "outputs": [],
   "source": [
    "import sklearn.datasets as d\n",
    "from sklearn import svm\n",
    "\n",
    "X, y = d.make_moons(n_samples=100, noise=0.15, random_state=42)\n",
    "\n",
    "svm_clf = svm.SVC(C=10,\n",
    "                  kernel='poly',\n",
    "                  degree=3, # 이건 사실 기본값\n",
    "                  coef0=1,\n",
    "                  gamma='auto' # 이건 사실 기본값\n",
    "                 )\n",
    "\n",
    "clf = svm_clf.fit(X,y)"
   ]
  },
  {
   "cell_type": "markdown",
   "metadata": {},
   "source": [
    "### 3차 다항식 커널을 적용한 비선형 SVM 분류의 결과\n",
    "![](../img/SVM_nonlinear_transform_result.png)"
   ]
  },
  {
   "cell_type": "markdown",
   "metadata": {},
   "source": [
    "### 다항식 커널에서의 degree의 영향\n",
    "- 최대 차수가 높을수록 복잡한 유형에 대한 분류 성능이 좋은 반면, 그만큼 과대적합의 가능성이 있음\n",
    "- 최대 차수가 낮을수록 이와 반대의 결과가 도출\n",
    "![](../img/SVM_nonlinear_transform_degree.png)"
   ]
  },
  {
   "cell_type": "markdown",
   "metadata": {},
   "source": [
    "### 다항식 커널에서의 coef0의 영향\n",
    "- 상수 coef0는 높은 차수에서의 계산 값의 영향이 지나치게 크게 적용되는 것을 조절하는 역할을 한다.\n",
    "- 계산 결과 값에 대한 일종의 스케일링을 한 것과 유사\n",
    "![](../img/SVM_nonlinear_transform_coef0.png)"
   ]
  },
  {
   "cell_type": "markdown",
   "metadata": {},
   "source": [
    "### 다항식 커널에서의 gamma의 영향 → 이게 중요★★★\n",
    "- 곡선의 곡률과 관계, 얼마나 더 휘냐\n",
    "- gamma가 커질수록 결정 경계가 데이터 분포에 더욱 민감해지고, gamma가 작을수록 반경이 커지면서 결정 경계가 부드러운 형태를 띈다\n",
    "- 매우 민감하게 변화해도 결과에 많은 영향을 줌\n",
    "![](../img/SVM_nonlinear_transform_gamma.png)"
   ]
  },
  {
   "cell_type": "markdown",
   "metadata": {},
   "source": [
    "## RBF 커널 (RBF Kernel)\n",
    "- 데이터의 특성을 무한한 모든 차수의 모든 다항식으로 확장하는 방사형 기저 함수(RBF; radical basis function) 방식\n",
    "- SVC를 이용하여 객체를 생성할 때 kernel을 ‘rbf’로 적용한다\n",
    "    - 매개변수 kernel은 커널 트릭의 이름이다. RBF 커널을 적용하기 위해서 ‘rbf’를 사용\n",
    "    - 매개변수 gamma는 커널 반경의 민감도를 결정하는 값이다. 기본 설정은 ‘auto’로서, 1÷(특성 수)로 계산\n",
    "\n",
    "### SVC를 이용하여 객체를 생성할 때 kernel을 ‘rbf’로 적용한다\n",
    "```python\n",
    "svm_clf = svm.SVC(C=10,\n",
    "                  kernel='rbf',\n",
    "                  gamma='auto')\n",
    "```"
   ]
  },
  {
   "cell_type": "markdown",
   "metadata": {},
   "source": [
    "### RBF 커널을 적용한 비선형 SVM 분류의 결과\n",
    "![](../img/SVM_nonliear_rbf_result.png)"
   ]
  },
  {
   "cell_type": "markdown",
   "metadata": {},
   "source": [
    "### RBF 커널에서의 gamma의 영향\n",
    "- gamma가 커질수록 결정 경계의 곡률이 커지는 것이므로 과대적합이 되며, gamma가 작을수록 곡률이 작아지므로 과소적합이 된다\n",
    "![](../img/SVM_nonliear_rbf_gamma.png)"
   ]
  },
  {
   "cell_type": "markdown",
   "metadata": {},
   "source": [
    "## 주요 커널 트릭에 대한 요약\n",
    "![](../img/SVM_kernel_trick.png)"
   ]
  },
  {
   "cell_type": "markdown",
   "metadata": {},
   "source": [
    "## 규제 수준의 조절을 위한 C와 gamma 값의 설정\n",
    "- 매개변수 **`C`**는 **`얼마나 여유를 가지고 오류를 허용할 것인지`** 결정한다.\n",
    "    - C 값이 높으면 마진이 좁아지고 오분류가 적어지며 과대적합이 될 수 있다.\n",
    "    - C 값이 낮으면 마진이 넓어지고 오분류가 많아지며 과소적합이 될 수 있다.\n",
    "- 매개변수 **`gamma`**는 **`결정 경계를 얼마나 데이터에 민감하게 반응시킬 것인지`** 결정한다.\n",
    "    - gamma 값이 높으면 한 데이터에 영향을 크게 받으며 과대적합이 될 수 있다.\n",
    "    - gamma 값이 낮으면 한 데이터에 영향을 적게 받으며 과소적합이 될 수 있다.\n",
    "    \n",
    "- 매개변수 C와 gamma의 값은 분류 모형의 성능과 밀접한 연관이 있다.\n",
    "    - 이들의 값이 클수록, 모형의 복잡도가 증가한다.\n",
    "    - 이들의 값이 작을수록, 모형의 복잡도가 감소한다.\n",
    "- 따라서 학습을 수행할 때 GridSearchCV 등을 이용하여 모형의 성능을 극대화하는 C와 gamma의 최적값을 찾아낼 필요가 있다\n",
    "- C와 gamma 값의 변화에 따른 모형의 변동 예\n",
    "![](../img/SVM_C_gamma.png)"
   ]
  },
  {
   "cell_type": "markdown",
   "metadata": {},
   "source": [
    "## 서포트 벡터 머신\n",
    "\n",
    "> **서포트 벡터 머신(SVM) = 서포트 벡터 분류기(SVC) + 커널 기법**\n",
    "\n",
    "- 궁극적인 의미에서의 서포트 벡터 머신이란, 서포트 벡터 분류기(support vector classifier)와 커널 기법을 결합하여 분류를 수행하는 분류기를 의미\n",
    "![](../img/SVM_SVC+kernel.png)"
   ]
  },
  {
   "cell_type": "markdown",
   "metadata": {},
   "source": [
    "## 예제 - IRIS 데이터\n",
    "- IRIS 데이터의 꽃잎의 길이와 너비를 특성으로 하여, RBF 커널을 적용한 비선형 분류를 수행\n",
    "- 검증 정확도, 오차 행렬 또는 보고서 형태의 지표 출력\n",
    "- 그래프 시각화를 결과로 도출 (결정경계 표시)"
   ]
  },
  {
   "cell_type": "code",
   "execution_count": 97,
   "metadata": {
    "ExecuteTime": {
     "end_time": "2019-07-26T07:38:17.049298Z",
     "start_time": "2019-07-26T07:38:17.043124Z"
    }
   },
   "outputs": [],
   "source": [
    "import numpy as np\n",
    "import pandas as pd\n",
    "import matplotlib as mpl\n",
    "import matplotlib.pyplot as plt\n",
    "from sklearn.preprocessing import PolynomialFeatures\n",
    "from sklearn.model_selection import GridSearchCV, train_test_split\n",
    "from sklearn.datasets import load_iris\n",
    "from sklearn.metrics import confusion_matrix,classification_report,accuracy_score\n",
    "from sklearn.svm import SVC"
   ]
  },
  {
   "cell_type": "markdown",
   "metadata": {},
   "source": [
    "### 데이터 준비"
   ]
  },
  {
   "cell_type": "code",
   "execution_count": 256,
   "metadata": {
    "ExecuteTime": {
     "end_time": "2019-07-26T08:19:36.434940Z",
     "start_time": "2019-07-26T08:19:36.429209Z"
    }
   },
   "outputs": [],
   "source": [
    "iris = load_iris()\n",
    "X = iris.data[:,(2,3)]\n",
    "y = iris.target"
   ]
  },
  {
   "cell_type": "code",
   "execution_count": 257,
   "metadata": {
    "ExecuteTime": {
     "end_time": "2019-07-26T08:19:36.763088Z",
     "start_time": "2019-07-26T08:19:36.758786Z"
    }
   },
   "outputs": [],
   "source": [
    "X_train, X_test, y_train, y_test = train_test_split(X,\n",
    "                                                    y, \n",
    "                                                    test_size = 0.3,\n",
    "                                                    random_state = 0)"
   ]
  },
  {
   "cell_type": "markdown",
   "metadata": {},
   "source": [
    "### RBF 커널을 적용한 비선형 분류를 수행"
   ]
  },
  {
   "cell_type": "code",
   "execution_count": 255,
   "metadata": {
    "ExecuteTime": {
     "end_time": "2019-07-26T08:19:36.086520Z",
     "start_time": "2019-07-26T08:19:36.082976Z"
    }
   },
   "outputs": [],
   "source": [
    "c = 1\n",
    "g = 0.5\n",
    "d = 3\n",
    "kernel_type = 'rbf'"
   ]
  },
  {
   "cell_type": "code",
   "execution_count": 258,
   "metadata": {
    "ExecuteTime": {
     "end_time": "2019-07-26T08:19:38.048821Z",
     "start_time": "2019-07-26T08:19:38.045726Z"
    }
   },
   "outputs": [],
   "source": [
    "svm_clf = SVC(C = c, # 1이 default\n",
    "              kernel=kernel_type,\n",
    "              degree=d,\n",
    "              gamma=g #0.5가 'auto'\n",
    "             )"
   ]
  },
  {
   "cell_type": "code",
   "execution_count": 259,
   "metadata": {
    "ExecuteTime": {
     "end_time": "2019-07-26T08:19:41.179101Z",
     "start_time": "2019-07-26T08:19:41.172581Z"
    }
   },
   "outputs": [
    {
     "data": {
      "text/plain": [
       "SVC(C=1, cache_size=200, class_weight=None, coef0=0.0,\n",
       "  decision_function_shape='ovr', degree=3, gamma=0.5, kernel='rbf',\n",
       "  max_iter=-1, probability=False, random_state=None, shrinking=True,\n",
       "  tol=0.001, verbose=False)"
      ]
     },
     "execution_count": 259,
     "metadata": {},
     "output_type": "execute_result"
    }
   ],
   "source": [
    "clf = svm_clf.fit(X_train,y_train)\n",
    "clf"
   ]
  },
  {
   "cell_type": "code",
   "execution_count": 260,
   "metadata": {
    "ExecuteTime": {
     "end_time": "2019-07-26T08:19:41.341288Z",
     "start_time": "2019-07-26T08:19:41.337444Z"
    }
   },
   "outputs": [],
   "source": [
    "y_pred = clf.predict(X_test)"
   ]
  },
  {
   "cell_type": "markdown",
   "metadata": {},
   "source": [
    "### 검증 정확도"
   ]
  },
  {
   "cell_type": "code",
   "execution_count": 261,
   "metadata": {
    "ExecuteTime": {
     "end_time": "2019-07-26T08:19:41.681804Z",
     "start_time": "2019-07-26T08:19:41.676538Z"
    }
   },
   "outputs": [
    {
     "data": {
      "text/plain": [
       "0.9777777777777777"
      ]
     },
     "execution_count": 261,
     "metadata": {},
     "output_type": "execute_result"
    }
   ],
   "source": [
    "accuracy_score(y_test,y_pred)"
   ]
  },
  {
   "cell_type": "code",
   "execution_count": 262,
   "metadata": {
    "ExecuteTime": {
     "end_time": "2019-07-26T08:19:41.852567Z",
     "start_time": "2019-07-26T08:19:41.847088Z"
    }
   },
   "outputs": [
    {
     "data": {
      "text/plain": [
       "0.9777777777777777"
      ]
     },
     "execution_count": 262,
     "metadata": {},
     "output_type": "execute_result"
    }
   ],
   "source": [
    "clf.score(X_test,y_test)"
   ]
  },
  {
   "cell_type": "markdown",
   "metadata": {},
   "source": [
    "### 오차 행렬"
   ]
  },
  {
   "cell_type": "code",
   "execution_count": 263,
   "metadata": {
    "ExecuteTime": {
     "end_time": "2019-07-26T08:19:42.339686Z",
     "start_time": "2019-07-26T08:19:42.332775Z"
    },
    "scrolled": true
   },
   "outputs": [
    {
     "data": {
      "text/plain": [
       "array([[16,  0,  0],\n",
       "       [ 0, 17,  1],\n",
       "       [ 0,  0, 11]])"
      ]
     },
     "execution_count": 263,
     "metadata": {},
     "output_type": "execute_result"
    }
   ],
   "source": [
    "confusion_matrix(y_test,y_pred)"
   ]
  },
  {
   "cell_type": "markdown",
   "metadata": {},
   "source": [
    "### 보고서"
   ]
  },
  {
   "cell_type": "code",
   "execution_count": 264,
   "metadata": {
    "ExecuteTime": {
     "end_time": "2019-07-26T08:19:42.690276Z",
     "start_time": "2019-07-26T08:19:42.682066Z"
    }
   },
   "outputs": [
    {
     "name": "stdout",
     "output_type": "stream",
     "text": [
      "              precision    recall  f1-score   support\n",
      "\n",
      "           0       1.00      1.00      1.00        16\n",
      "           1       1.00      0.94      0.97        18\n",
      "           2       0.92      1.00      0.96        11\n",
      "\n",
      "   micro avg       0.98      0.98      0.98        45\n",
      "   macro avg       0.97      0.98      0.98        45\n",
      "weighted avg       0.98      0.98      0.98        45\n",
      "\n"
     ]
    }
   ],
   "source": [
    "print(classification_report(y_test,y_pred))"
   ]
  },
  {
   "cell_type": "markdown",
   "metadata": {},
   "source": [
    "### 그래프 시각화"
   ]
  },
  {
   "cell_type": "code",
   "execution_count": 265,
   "metadata": {
    "ExecuteTime": {
     "end_time": "2019-07-26T08:19:43.348282Z",
     "start_time": "2019-07-26T08:19:43.128794Z"
    }
   },
   "outputs": [
    {
     "data": {
      "image/png": "[encoded data removed]",
      "text/plain": [
       "<Figure size 432x288 with 1 Axes>"
      ]
     },
     "metadata": {
      "needs_background": "light"
     },
     "output_type": "display_data"
    }
   ],
   "source": [
    "c_set = ['blue','green','red']\n",
    "m_set = ['o','^','*']\n",
    "l_set = iris.target_names\n",
    "\n",
    "# 훈련 데이터 그리기\n",
    "for t in set(y_train):\n",
    "    x_pts = [X_train[i, 0] for i in range(len(y_train)) if y_train[i] == t]\n",
    "    y_pts = [X_train[i, 1] for i in range(len(y_train)) if y_train[i] == t]\n",
    "    plt.scatter(x_pts,\n",
    "                y_pts,\n",
    "                color=c_set[t],\n",
    "                marker=m_set[t],\n",
    "                label=l_set[t]+\" (train)\",\n",
    "                #                 alpha=0.3\n",
    "                )\n",
    "\n",
    "# 검증 데이터 그리기\n",
    "for t in set(y_test):\n",
    "    x_pts = [X_test[i, 0] for i in range(len(y_test)) if y_test[i] == t]\n",
    "    y_pts = [X_test[i, 1] for i in range(len(y_test)) if y_test[i] == t]\n",
    "    plt.scatter(x_pts,\n",
    "                y_pts,\n",
    "                marker=m_set[t],\n",
    "                label=l_set[t]+\" (test)\",\n",
    "                #                 alpha=0.3,\n",
    "                s=130,\n",
    "                edgecolors='black',\n",
    "                facecolor='none')\n",
    "\n",
    "x1s = np.linspace(X[:, 0].min()-1, X[:, 0].max()+1, 100)\n",
    "x2s = np.linspace(X[:, 0].min()-1, X[:, 0].max()+1, 100)\n",
    "X1, X2 = np.meshgrid(x1s, x2s)\n",
    "XX = np.vstack([X1.ravel(), X2.ravel()]).transpose()\n",
    "YY = clf.predict(XX)\n",
    "yy = YY.reshape(X1.shape)\n",
    "\n",
    "plt.contour(x1s, x2s, yy, levels=[0,1,2], colors=c_set) # plt.contour(x1s, x2s, yy, colors=\"black\")\n",
    "plt.contourf(x1s, x2s, yy, cmap=plt.cm.rainbow, alpha=0.1)\n",
    "plt.grid(linestyle=\"--\")\n",
    "plt.xlabel(iris.feature_names[2], fontsize=14)\n",
    "plt.ylabel(iris.feature_names[3], fontsize=14)\n",
    "plt.legend(fontsize=12, bbox_to_anchor=(1, 0.6))\n",
    "plt.title('IRIS : {} Kernel (C={}, gamma={})'.format(kernel_type.upper(),c, g), fontsize=18)\n",
    "# plt.xlim(0,7)\n",
    "# plt.ylim(0,3)\n",
    "plt.axis((X[:, 0].min()-0.2, X[:, 0].max()+0.2,\n",
    "          X[:, 1].min()-0.2, X[:, 1].max()+0.2))\n",
    "plt.show()"
   ]
  }
 ],
 "metadata": {
  "kernelspec": {
   "display_name": "Python 3",
   "language": "python",
   "name": "python3"
  },
  "language_info": {
   "codemirror_mode": {
    "name": "ipython",
    "version": 3
   },
   "file_extension": ".py",
   "mimetype": "text/x-python",
   "name": "python",
   "nbconvert_exporter": "python",
   "pygments_lexer": "ipython3",
   "version": "3.6.8"
  },
  "toc": {
   "base_numbering": 1,
   "nav_menu": {},
   "number_sections": true,
   "sideBar": true,
   "skip_h1_title": false,
   "title_cell": "Table of Contents",
   "title_sidebar": "Contents",
   "toc_cell": false,
   "toc_position": {},
   "toc_section_display": true,
   "toc_window_display": false
  }
 },
 "nbformat": 4,
 "nbformat_minor": 2
}
