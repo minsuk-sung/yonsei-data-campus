{
 "cells": [
  {
   "cell_type": "markdown",
   "metadata": {},
   "source": [
    "# 분류 기법\n",
    "- 관측 데이터가 어떤 그룹(레이블, 클래스)에 속하는지 분석하는 행위\n",
    "- 이러한 분류 작업을 수행하는 기법 또는 학습 모형을 분류기 (classifier)\n",
    "- 분류를 하기 위해서는 클래스에 대한 정보가 주어져야 함\n",
    "- 클래스는 상호 배타적인 그룹 명칭이며, 범주형 데이터 또는 이산형 데이터"
   ]
  },
  {
   "cell_type": "markdown",
   "metadata": {},
   "source": [
    "## 데이터의 유형\n",
    "\n",
    "### 범주형 (Categorical) 데이터\n",
    "- 여러 개의 범주로 나뉘어져 있는 데이터, 정성적(질적; qualitative) 자료\n",
    "- 명목형 (nominal) 데이터\n",
    "    - 순서를 매길 수 없고, 단순히 분류를 할 수 있는 데이터\n",
    "    - 성별, 종교, 색상, 혈액형\n",
    "- 순서형 (ordinal) 데이터\n",
    "    - 범주 간의 순서 또는 서열이 존재하는 데이터\n",
    "    - 일반적으로 수치 연산이 무의미하거나 불가능"
   ]
  },
  {
   "cell_type": "markdown",
   "metadata": {},
   "source": [
    "### 수치형 (Numeric) 데이터\n",
    "- 수치의 형태로 표현되어 측정이 가능한 데이터, 정량적(양적; quantitative) 자료\n",
    "- 이산형 (discrete) 데이터\n",
    "    - 정수 등 특정한 형태로 표현되어 계수할 수 있는 데이터\n",
    "    - 인원 수, 진료 횟수, 사고 건수\n",
    "- 연속형 (continuous) 데이터\n",
    "    - 논리적으로 계량할 수 있는 데이터\n",
    "    - 실수의 형태로서, 수치 연산의 산술적 의미\n",
    "    - 키, 몸무게, 온도, 점수"
   ]
  },
  {
   "cell_type": "markdown",
   "metadata": {},
   "source": [
    "## 분류 기법의 형태\n",
    "### 이진 분류 (Binary Classification)\n",
    "- 두 개의 클래스를 구별하는 분류 기법\n",
    "- 대표적으로 로지스틱 회귀, 서포트 벡터 머신(SVM; Support Vector Machine), 인공 신경망 학습\n",
    "\n",
    "### 다중 분류 (Multiclass Classification)\n",
    "- 세 개 이상의 클래스들을 구분하는 분류 기법으로서, 다항(multinomial) 분류\n",
    "- 다항 로지스틱 회귀, 랜덤 포레스트, 나이브 베이즈 분류기\n",
    "- 이진 분류 기법을 여러 개 조합하여 분류"
   ]
  },
  {
   "cell_type": "markdown",
   "metadata": {},
   "source": [
    "## 분류의 성능 평가 지표"
   ]
  },
  {
   "cell_type": "markdown",
   "metadata": {},
   "source": [
    "### 정확도 (Accuracy)\n",
    "\n",
    "$$ 정확도 = \\frac{\\mbox{실제 결과와 동일한 예측 결과의 수}}{\\mbox{전체 예측 결과의 수}} $$"
   ]
  },
  {
   "cell_type": "markdown",
   "metadata": {},
   "source": [
    "### 오차 행렬 (Confusion Matrix)\n",
    "- 4분면 행렬을 이용하여 실제 결과 값과 예측 결과 값이 얼마나 매칭되었는지를 표현\n",
    "    - TP : 실제로 Positive이고 예측도 Positive로 했다.\n",
    "    - FP : 실제로 Negative인데 예측을 Positive로 했다.\n",
    "    - FN : 실제로 Positive인데 예측을 Negative로 했다.\n",
    "    - TN : 실제로 Negative이고 예측도 Negative로 했다.\n",
    "    \n",
    "![](../img/confusion_matrix.png)"
   ]
  },
  {
   "cell_type": "markdown",
   "metadata": {},
   "source": [
    "### 정밀도 (Precision)\n",
    "- Positive로 예측한 결과들 중 실제로 Positive인 결과들의 비율\n",
    "\n",
    "> 정답으로 찾아낸 결과들 중에서 실제로 정답이 얼마나 많이 있는가?\n",
    "\n",
    "$$ 정밀도 = \\frac{\\mbox{True Positive}}{\\mbox{True Positive + False Positive}} $$\n",
    "\n",
    "![](../img/precision.png)"
   ]
  },
  {
   "cell_type": "markdown",
   "metadata": {},
   "source": [
    "### 재현율 (Recall)\n",
    "- 실제로 Positive인 결과들 중 Positive로 예측한 결과들의 비율\n",
    "\n",
    "> 원래의 정답들 중에서 실제로 정답으로 찾아낸 결과가 얼마나 많이 있는가?\n",
    "\n",
    "$$ 정밀도 = \\frac{\\mbox{True Positive}}{\\mbox{True Positive + False Negative}} $$\n",
    "\n",
    "![](../img/recall.png)"
   ]
  },
  {
   "cell_type": "markdown",
   "metadata": {},
   "source": [
    "### F1 스코어 (F1 Score)\n",
    "- 정밀도와 재현율을 결합한 지표로서, 두 수치의 조화 평균\n",
    "\n",
    "$$ F1 = \\frac{2}{\\frac{1}{정밀도} + \\frac{1}{재현율}} = 2 \\times \\frac{정밀도 \\times 재현율}{정밀도 + 재현율} $$"
   ]
  },
  {
   "cell_type": "markdown",
   "metadata": {},
   "source": [
    "## 사이킷런으로 성능 평가 지표 확인\n",
    "|함수명|설명|\n",
    "|---|---|\n",
    "|**accuracy_score**|정확도를 계산한다.|\n",
    "|**confusion_matrix** |오차 행렬을 도출한다.|\n",
    "|**precision_score** |정밀도를 계산한다.|\n",
    "|**recall_score** |재현율을 계산한다.|\n",
    "|**f1_score** |F1 스코어를 계산한다.|\n",
    "|**classification_report** | 정밀도, 재현율, F1 스코어를 함께 보여준다|"
   ]
  },
  {
   "cell_type": "markdown",
   "metadata": {},
   "source": [
    "## 예제"
   ]
  },
  {
   "cell_type": "code",
   "execution_count": 1,
   "metadata": {
    "ExecuteTime": {
     "end_time": "2019-07-23T02:47:04.715333Z",
     "start_time": "2019-07-23T02:47:04.706682Z"
    }
   },
   "outputs": [],
   "source": [
    "acutal_result = [1,0,0,1,1]\n",
    "predicted_result = [0,1,0,1,0]"
   ]
  },
  {
   "cell_type": "code",
   "execution_count": 2,
   "metadata": {
    "ExecuteTime": {
     "end_time": "2019-07-23T02:47:41.919115Z",
     "start_time": "2019-07-23T02:47:41.024067Z"
    }
   },
   "outputs": [
    {
     "name": "stderr",
     "output_type": "stream",
     "text": [
      "/anaconda3/lib/python3.6/importlib/_bootstrap.py:219: RuntimeWarning: numpy.ufunc size changed, may indicate binary incompatibility. Expected 192 from C header, got 216 from PyObject\n",
      "  return f(*args, **kwds)\n",
      "/anaconda3/lib/python3.6/importlib/_bootstrap.py:219: RuntimeWarning: numpy.ufunc size changed, may indicate binary incompatibility. Expected 192 from C header, got 216 from PyObject\n",
      "  return f(*args, **kwds)\n"
     ]
    }
   ],
   "source": [
    "import sklearn.metrics as mt"
   ]
  },
  {
   "cell_type": "code",
   "execution_count": 4,
   "metadata": {
    "ExecuteTime": {
     "end_time": "2019-07-23T02:47:46.983098Z",
     "start_time": "2019-07-23T02:47:46.968097Z"
    }
   },
   "outputs": [
    {
     "data": {
      "text/plain": [
       "0.4"
      ]
     },
     "execution_count": 4,
     "metadata": {},
     "output_type": "execute_result"
    }
   ],
   "source": [
    "accuacy = mt.accuracy_score(acutal_result,predicted_result)\n",
    "accuacy"
   ]
  },
  {
   "cell_type": "code",
   "execution_count": 6,
   "metadata": {
    "ExecuteTime": {
     "end_time": "2019-07-23T02:47:58.586753Z",
     "start_time": "2019-07-23T02:47:58.580817Z"
    }
   },
   "outputs": [
    {
     "data": {
      "text/plain": [
       "array([[1, 1],\n",
       "       [2, 1]])"
      ]
     },
     "execution_count": 6,
     "metadata": {},
     "output_type": "execute_result"
    }
   ],
   "source": [
    "matrix = mt.confusion_matrix(acutal_result,predicted_result)\n",
    "matrix # 분류한 갯수를 보여줌"
   ]
  },
  {
   "cell_type": "code",
   "execution_count": 7,
   "metadata": {
    "ExecuteTime": {
     "end_time": "2019-07-23T02:48:16.687443Z",
     "start_time": "2019-07-23T02:48:16.679649Z"
    }
   },
   "outputs": [
    {
     "data": {
      "text/plain": [
       "0.5"
      ]
     },
     "execution_count": 7,
     "metadata": {},
     "output_type": "execute_result"
    }
   ],
   "source": [
    "precision = mt.precision_score(acutal_result,predicted_result)\n",
    "precision"
   ]
  },
  {
   "cell_type": "code",
   "execution_count": 8,
   "metadata": {
    "ExecuteTime": {
     "end_time": "2019-07-23T02:48:25.306389Z",
     "start_time": "2019-07-23T02:48:25.301029Z"
    }
   },
   "outputs": [
    {
     "data": {
      "text/plain": [
       "0.3333333333333333"
      ]
     },
     "execution_count": 8,
     "metadata": {},
     "output_type": "execute_result"
    }
   ],
   "source": [
    "recall = mt.recall_score(acutal_result,predicted_result)\n",
    "recall"
   ]
  },
  {
   "cell_type": "code",
   "execution_count": 9,
   "metadata": {
    "ExecuteTime": {
     "end_time": "2019-07-23T02:48:37.586920Z",
     "start_time": "2019-07-23T02:48:37.581036Z"
    }
   },
   "outputs": [
    {
     "data": {
      "text/plain": [
       "0.4"
      ]
     },
     "execution_count": 9,
     "metadata": {},
     "output_type": "execute_result"
    }
   ],
   "source": [
    "f1score = mt.f1_score(acutal_result,predicted_result)\n",
    "f1score"
   ]
  },
  {
   "cell_type": "code",
   "execution_count": 11,
   "metadata": {
    "ExecuteTime": {
     "end_time": "2019-07-23T02:49:06.004229Z",
     "start_time": "2019-07-23T02:49:05.995440Z"
    }
   },
   "outputs": [
    {
     "name": "stdout",
     "output_type": "stream",
     "text": [
      "              precision    recall  f1-score   support\n",
      "\n",
      "           0       0.33      0.50      0.40         2\n",
      "           1       0.50      0.33      0.40         3\n",
      "\n",
      "   micro avg       0.40      0.40      0.40         5\n",
      "   macro avg       0.42      0.42      0.40         5\n",
      "weighted avg       0.43      0.40      0.40         5\n",
      "\n"
     ]
    }
   ],
   "source": [
    "scores = mt.classification_report(acutal_result,predicted_result)\n",
    "print(scores)"
   ]
  }
 ],
 "metadata": {
  "kernelspec": {
   "display_name": "Python 3",
   "language": "python",
   "name": "python3"
  },
  "language_info": {
   "codemirror_mode": {
    "name": "ipython",
    "version": 3
   },
   "file_extension": ".py",
   "mimetype": "text/x-python",
   "name": "python",
   "nbconvert_exporter": "python",
   "pygments_lexer": "ipython3",
   "version": "3.6.8"
  },
  "toc": {
   "base_numbering": 1,
   "nav_menu": {},
   "number_sections": true,
   "sideBar": true,
   "skip_h1_title": true,
   "title_cell": "Table of Contents",
   "title_sidebar": "Contents",
   "toc_cell": false,
   "toc_position": {
    "height": "calc(100% - 180px)",
    "left": "10px",
    "top": "150px",
    "width": "168px"
   },
   "toc_section_display": true,
   "toc_window_display": false
  }
 },
 "nbformat": 4,
 "nbformat_minor": 2
}
