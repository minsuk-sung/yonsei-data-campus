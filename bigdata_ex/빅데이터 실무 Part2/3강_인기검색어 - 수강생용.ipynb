{
 "cells": [
  {
   "cell_type": "markdown",
   "metadata": {
    "slideshow": {
     "slide_type": "slide"
    }
   },
   "source": [
    "# <center> BIGDATA X YONSEI CAMPUS </center>\n",
    "### <center> 키워드 분석 및 문서 분석 </center>\n",
    "#### <center> 키워드 분석: 인기검색어 </center>\n",
    "---------------------------\n",
    "#### <div style=\"text-align: right\"> 손근영 </div>"
   ]
  },
  {
   "cell_type": "markdown",
   "metadata": {
    "slideshow": {
     "slide_type": "slide"
    }
   },
   "source": [
    "## 1. Keyword Analysis - 인기 검색어\n",
    "### Motivation\n",
    "* 사용자들은 액션을 귀찮아함\n",
    "* 검색어 입력은 피곤한 일\n",
    " * 스마트폰에서 키보드 입력은 매우 힘든 일\n",
    "* 사용자는 자신이 무엇을 찾으려하는지 모름\n",
    " * 대부분의 사용자들은 인터넷을 이용할 때 분명한 목적이 있지 않음\n",
    " * 대부분의 사용자는 big head/log tail 법칙에 따라 정보를 소비함\n",
    " * 최근 사용자들은 정보를 능동적으로 소비하지 않고 수동적으로 주입 당함"
   ]
  },
  {
   "cell_type": "markdown",
   "metadata": {
    "slideshow": {
     "slide_type": "slide"
    }
   },
   "source": [
    "## 1. Keyword Analysis - 인기 검색어\n",
    "### Key Idea\n",
    "* 어째뜬 검색은 발생되고 검색 노출 로그는 생성됨\n",
    " * 어떻게 하면 더욱 유익하게 사용할 수 있을까?\n",
    " * 어떻게 하면 무엇을 찾을지 모르는, 검색어 입력을 귀찮아하는 사용자에게 검색을 이용하게 할 것인가?\n",
    "* 많이 발생한 빈도의 키워드를 5~10분마다 저장하고 있다가 사용자에게 노출해주면?"
   ]
  },
  {
   "cell_type": "markdown",
   "metadata": {
    "slideshow": {
     "slide_type": "slide"
    }
   },
   "source": [
    "## 2. 인기 검색어의 서비스 화면\n",
    "<center><img src='img/01_12.png' height=100% width=100%></center>"
   ]
  },
  {
   "cell_type": "markdown",
   "metadata": {
    "slideshow": {
     "slide_type": "slide"
    }
   },
   "source": [
    "## 3. 인기 검색어의 가치\n",
    "* 사용자는 오늘/지금 이순간 무슨일이 일어났는지 모름\n",
    " * 뉴스/매체는 자신들이 알고 있는 정보를 사용자에게 전달하길 원함 (PV 증대 목적)\n",
    " * 정보에 빠른 사용자들은 자신이 얻은 정보를 타인에게 전달함 (by SNS, 카카오톡)\n",
    "* 정보가 퍼지면 관련 검색어들이 급속도로 재생산되어 재검색 됨\n",
    " * 관련 검색어들은 이전과는 전혀 다른 속도로 상승함\n",
    "* 많은 사용자들은 이러한 정보에 관심이 있을 수 있음\n",
    " * 새로운 사용자도 해당 정보의 소비에 영향을 끼쳐 검색량이 증가함\n",
    " -------------------------\n",
    "* 검색량이 증가하면?\n",
    " * PV 상승\n",
    " * 이용자의 의도가 더욱 더 log안에 저장됨\n",
    " * 해당 사용자의 행태가 저정됨\n"
   ]
  },
  {
   "cell_type": "markdown",
   "metadata": {
    "slideshow": {
     "slide_type": "slide"
    }
   },
   "source": [
    "## 4. 인기검색어 방식 구상\n",
    "### 로그 형태\n",
    "\n",
    "<center><img src='img/01_13.png' height=70% width=70%></center>\n",
    "\n",
    "### 알고리즘\n",
    "* 검색 로그를 line by line으로 분리\n",
    "* line을 \\t 기준으로 분리\n",
    "* 분리된 데이터에서 '시간', '검색어'를 획득\n",
    "* 5분 동안의 윈도우 사이즈에서 검색어 개수를 집계함\n",
    "* 내림차순으로 정렬 후 특정 개수를 노출 후 5분마다 재집계함"
   ]
  },
  {
   "cell_type": "markdown",
   "metadata": {
    "slideshow": {
     "slide_type": "slide"
    }
   },
   "source": [
    "## 5. 인기검색어 방식 설명\n",
    "### 데이터 정의\n",
    "* window 사이즈 (5분)마다 주어진 형식의 log가 저장된다고 가정\n",
    "* 호출 때마다 다음 5분 데이터가 출력됨\n",
    "\n",
    "<center><img src='img/02_01.png' height=100% width=100%></center>"
   ]
  },
  {
   "cell_type": "markdown",
   "metadata": {
    "slideshow": {
     "slide_type": "slide"
    }
   },
   "source": [
    "### 키워드 집계 구현\n",
    "* 주어진 5분의 데이터에세 키워드를 집계, Rank 컬럼 부여\n",
    "* 내림차순 정렬 후 특정 개수로 자르면 네이버식 인기검색어\n",
    "\n",
    "<center><img src='img/02_02.png' height=40% width=40%></center>"
   ]
  },
  {
   "cell_type": "markdown",
   "metadata": {
    "slideshow": {
     "slide_type": "slide"
    }
   },
   "source": [
    "### 순위 상승/하락 구현\n",
    "* 순위 하락/상승을 구현하려면?\n",
    " * 어떤 검색어의 변경된 순위 수치를 +/-로 표현하는 함수를 $step(검색어)$라고 가정\n",
    " * 5분전의 어떤 검색어의 순위를 표현하는 함수를 $oldRank(검색어)$라고 가정\n",
    " * 현재의 어떤 검색어의 순위를 표현하는 함수를 $curRank(검색어)$라고 가정\n",
    "$$ Step(검색어) = oldRank(검색어) - curRank(검색어) \\nonumber $$\n",
    "\n",
    "<center><img src='img/02_03.png' height=100% width=100%></center>"
   ]
  },
  {
   "cell_type": "markdown",
   "metadata": {
    "slideshow": {
     "slide_type": "slide"
    }
   },
   "source": [
    "## 6. 실습\n",
    "\n",
    "### 1) 데이터 정제\n",
    "* 대부분의 로그 데이터는 깨끗하지 않고 여러 노이즈가 섞여 있다\n",
    "* 다양한 방법을 통하여 클랜징을 할 필요성에 있다"
   ]
  },
  {
   "cell_type": "code",
   "execution_count": 1,
   "metadata": {
    "ExecuteTime": {
     "end_time": "2019-07-30T07:01:31.894936Z",
     "start_time": "2019-07-30T07:01:29.778161Z"
    },
    "slideshow": {
     "slide_type": "slide"
    }
   },
   "outputs": [
    {
     "data": {
      "text/html": [
       "<div>\n",
       "<style scoped>\n",
       "    .dataframe tbody tr th:only-of-type {\n",
       "        vertical-align: middle;\n",
       "    }\n",
       "\n",
       "    .dataframe tbody tr th {\n",
       "        vertical-align: top;\n",
       "    }\n",
       "\n",
       "    .dataframe thead th {\n",
       "        text-align: right;\n",
       "    }\n",
       "</style>\n",
       "<table border=\"1\" class=\"dataframe\">\n",
       "  <thead>\n",
       "    <tr style=\"text-align: right;\">\n",
       "      <th></th>\n",
       "      <th>date</th>\n",
       "      <th>id</th>\n",
       "      <th>keyword</th>\n",
       "      <th>result</th>\n",
       "    </tr>\n",
       "  </thead>\n",
       "  <tbody>\n",
       "    <tr>\n",
       "      <th>0</th>\n",
       "      <td>20111103-171144</td>\n",
       "      <td>9c4d360d316e5792e5a37b0e0a1e8b82</td>\n",
       "      <td>지하철노선도</td>\n",
       "      <td>secret</td>\n",
       "    </tr>\n",
       "    <tr>\n",
       "      <th>1</th>\n",
       "      <td>20111103-171302</td>\n",
       "      <td>12e994b978d42d93d4347d89a2519d0f</td>\n",
       "      <td>서울시립대 반값등록금</td>\n",
       "      <td>secret</td>\n",
       "    </tr>\n",
       "    <tr>\n",
       "      <th>2</th>\n",
       "      <td>20111103-170329</td>\n",
       "      <td>0c88a61cb02801ac21747a9b02e57300</td>\n",
       "      <td>벼룩시장</td>\n",
       "      <td>secret</td>\n",
       "    </tr>\n",
       "    <tr>\n",
       "      <th>3</th>\n",
       "      <td>20111103-170612</td>\n",
       "      <td>d21dad3d5c8c6bb2a5271faf95db31db</td>\n",
       "      <td>영화다운</td>\n",
       "      <td>secret</td>\n",
       "    </tr>\n",
       "    <tr>\n",
       "      <th>4</th>\n",
       "      <td>20111103-171437</td>\n",
       "      <td>7d228d8b281447909b0bfa89b88b06dc</td>\n",
       "      <td>수지 방</td>\n",
       "      <td>secret</td>\n",
       "    </tr>\n",
       "  </tbody>\n",
       "</table>\n",
       "</div>"
      ],
      "text/plain": [
       "              date                                id      keyword  result\n",
       "0  20111103-171144  9c4d360d316e5792e5a37b0e0a1e8b82       지하철노선도  secret\n",
       "1  20111103-171302  12e994b978d42d93d4347d89a2519d0f  서울시립대 반값등록금  secret\n",
       "2  20111103-170329  0c88a61cb02801ac21747a9b02e57300         벼룩시장  secret\n",
       "3  20111103-170612  d21dad3d5c8c6bb2a5271faf95db31db         영화다운  secret\n",
       "4  20111103-171437  7d228d8b281447909b0bfa89b88b06dc         수지 방  secret"
      ]
     },
     "execution_count": 1,
     "metadata": {},
     "output_type": "execute_result"
    }
   ],
   "source": [
    "import pandas as pd\n",
    "df = pd.read_csv('data/sample_search_log.txt',\n",
    "                 sep='\\t',\n",
    "                 header=None,\n",
    "                 names = ['date', 'id', 'keyword', 'result'])\n",
    "df.head(5)"
   ]
  },
  {
   "cell_type": "code",
   "execution_count": 2,
   "metadata": {
    "ExecuteTime": {
     "end_time": "2019-07-30T07:08:55.315746Z",
     "start_time": "2019-07-30T07:08:54.042627Z"
    },
    "slideshow": {
     "slide_type": "slide"
    }
   },
   "outputs": [
    {
     "data": {
      "text/html": [
       "<div>\n",
       "<style scoped>\n",
       "    .dataframe tbody tr th:only-of-type {\n",
       "        vertical-align: middle;\n",
       "    }\n",
       "\n",
       "    .dataframe tbody tr th {\n",
       "        vertical-align: top;\n",
       "    }\n",
       "\n",
       "    .dataframe thead th {\n",
       "        text-align: right;\n",
       "    }\n",
       "</style>\n",
       "<table border=\"1\" class=\"dataframe\">\n",
       "  <thead>\n",
       "    <tr style=\"text-align: right;\">\n",
       "      <th></th>\n",
       "      <th>date</th>\n",
       "      <th>id</th>\n",
       "      <th>keyword</th>\n",
       "      <th>result</th>\n",
       "    </tr>\n",
       "  </thead>\n",
       "  <tbody>\n",
       "    <tr>\n",
       "      <th>count</th>\n",
       "      <td>572448</td>\n",
       "      <td>572408</td>\n",
       "      <td>572426</td>\n",
       "      <td>572422</td>\n",
       "    </tr>\n",
       "    <tr>\n",
       "      <th>unique</th>\n",
       "      <td>78477</td>\n",
       "      <td>326687</td>\n",
       "      <td>307871</td>\n",
       "      <td>8</td>\n",
       "    </tr>\n",
       "    <tr>\n",
       "      <th>top</th>\n",
       "      <td>20111103-171235</td>\n",
       "      <td>1921ec67ed6c4bb1a13b028ee6dbd111</td>\n",
       "      <td>여자아이돌 대마초</td>\n",
       "      <td>secret</td>\n",
       "    </tr>\n",
       "    <tr>\n",
       "      <th>freq</th>\n",
       "      <td>27</td>\n",
       "      <td>374</td>\n",
       "      <td>5811</td>\n",
       "      <td>572415</td>\n",
       "    </tr>\n",
       "  </tbody>\n",
       "</table>\n",
       "</div>"
      ],
      "text/plain": [
       "                   date                                id    keyword  result\n",
       "count            572448                            572408     572426  572422\n",
       "unique            78477                            326687     307871       8\n",
       "top     20111103-171235  1921ec67ed6c4bb1a13b028ee6dbd111  여자아이돌 대마초  secret\n",
       "freq                 27                               374       5811  572415"
      ]
     },
     "execution_count": 2,
     "metadata": {},
     "output_type": "execute_result"
    }
   ],
   "source": [
    "#데이터 기본 통계를 확인\n",
    "df.describe()"
   ]
  },
  {
   "cell_type": "code",
   "execution_count": 3,
   "metadata": {
    "ExecuteTime": {
     "end_time": "2019-07-30T07:09:00.690293Z",
     "start_time": "2019-07-30T07:08:59.981595Z"
    },
    "slideshow": {
     "slide_type": "slide"
    }
   },
   "outputs": [
    {
     "ename": "ValueError",
     "evalue": "time data 'ns.e-bizs.net' does not match format '%Y%m%d-%H%M%S'",
     "output_type": "error",
     "traceback": [
      "\u001b[0;31m---------------------------------------------------------------------------\u001b[0m",
      "\u001b[0;31mValueError\u001b[0m                                Traceback (most recent call last)",
      "\u001b[0;32m<ipython-input-3-3a60ca93fcbd>\u001b[0m in \u001b[0;36m<module>\u001b[0;34m\u001b[0m\n\u001b[1;32m      1\u001b[0m \u001b[0;31m#date 형식이 time 형식인 것을 확인할 수 있으니 date type으로 변경해보자\u001b[0m\u001b[0;34m\u001b[0m\u001b[0;34m\u001b[0m\u001b[0;34m\u001b[0m\u001b[0m\n\u001b[0;32m----> 2\u001b[0;31m \u001b[0mdf\u001b[0m\u001b[0;34m[\u001b[0m\u001b[0;34m'date'\u001b[0m\u001b[0;34m]\u001b[0m \u001b[0;34m=\u001b[0m \u001b[0mdf\u001b[0m\u001b[0;34m.\u001b[0m\u001b[0mdate\u001b[0m\u001b[0;34m.\u001b[0m\u001b[0mapply\u001b[0m\u001b[0;34m(\u001b[0m\u001b[0;32mlambda\u001b[0m \u001b[0mx\u001b[0m\u001b[0;34m:\u001b[0m \u001b[0mpd\u001b[0m\u001b[0;34m.\u001b[0m\u001b[0mdatetime\u001b[0m\u001b[0;34m.\u001b[0m\u001b[0mstrptime\u001b[0m\u001b[0;34m(\u001b[0m\u001b[0mx\u001b[0m\u001b[0;34m,\u001b[0m \u001b[0;34m'%Y%m%d-%H%M%S'\u001b[0m\u001b[0;34m)\u001b[0m\u001b[0;34m)\u001b[0m\u001b[0;34m\u001b[0m\u001b[0;34m\u001b[0m\u001b[0m\n\u001b[0m",
      "\u001b[0;32m/anaconda3/lib/python3.6/site-packages/pandas/core/series.py\u001b[0m in \u001b[0;36mapply\u001b[0;34m(self, func, convert_dtype, args, **kwds)\u001b[0m\n\u001b[1;32m   3589\u001b[0m             \u001b[0;32melse\u001b[0m\u001b[0;34m:\u001b[0m\u001b[0;34m\u001b[0m\u001b[0;34m\u001b[0m\u001b[0m\n\u001b[1;32m   3590\u001b[0m                 \u001b[0mvalues\u001b[0m \u001b[0;34m=\u001b[0m \u001b[0mself\u001b[0m\u001b[0;34m.\u001b[0m\u001b[0mastype\u001b[0m\u001b[0;34m(\u001b[0m\u001b[0mobject\u001b[0m\u001b[0;34m)\u001b[0m\u001b[0;34m.\u001b[0m\u001b[0mvalues\u001b[0m\u001b[0;34m\u001b[0m\u001b[0;34m\u001b[0m\u001b[0m\n\u001b[0;32m-> 3591\u001b[0;31m                 \u001b[0mmapped\u001b[0m \u001b[0;34m=\u001b[0m \u001b[0mlib\u001b[0m\u001b[0;34m.\u001b[0m\u001b[0mmap_infer\u001b[0m\u001b[0;34m(\u001b[0m\u001b[0mvalues\u001b[0m\u001b[0;34m,\u001b[0m \u001b[0mf\u001b[0m\u001b[0;34m,\u001b[0m \u001b[0mconvert\u001b[0m\u001b[0;34m=\u001b[0m\u001b[0mconvert_dtype\u001b[0m\u001b[0;34m)\u001b[0m\u001b[0;34m\u001b[0m\u001b[0;34m\u001b[0m\u001b[0m\n\u001b[0m\u001b[1;32m   3592\u001b[0m \u001b[0;34m\u001b[0m\u001b[0m\n\u001b[1;32m   3593\u001b[0m         \u001b[0;32mif\u001b[0m \u001b[0mlen\u001b[0m\u001b[0;34m(\u001b[0m\u001b[0mmapped\u001b[0m\u001b[0;34m)\u001b[0m \u001b[0;32mand\u001b[0m \u001b[0misinstance\u001b[0m\u001b[0;34m(\u001b[0m\u001b[0mmapped\u001b[0m\u001b[0;34m[\u001b[0m\u001b[0;36m0\u001b[0m\u001b[0;34m]\u001b[0m\u001b[0;34m,\u001b[0m \u001b[0mSeries\u001b[0m\u001b[0;34m)\u001b[0m\u001b[0;34m:\u001b[0m\u001b[0;34m\u001b[0m\u001b[0;34m\u001b[0m\u001b[0m\n",
      "\u001b[0;32mpandas/_libs/lib.pyx\u001b[0m in \u001b[0;36mpandas._libs.lib.map_infer\u001b[0;34m()\u001b[0m\n",
      "\u001b[0;32m<ipython-input-3-3a60ca93fcbd>\u001b[0m in \u001b[0;36m<lambda>\u001b[0;34m(x)\u001b[0m\n\u001b[1;32m      1\u001b[0m \u001b[0;31m#date 형식이 time 형식인 것을 확인할 수 있으니 date type으로 변경해보자\u001b[0m\u001b[0;34m\u001b[0m\u001b[0;34m\u001b[0m\u001b[0;34m\u001b[0m\u001b[0m\n\u001b[0;32m----> 2\u001b[0;31m \u001b[0mdf\u001b[0m\u001b[0;34m[\u001b[0m\u001b[0;34m'date'\u001b[0m\u001b[0;34m]\u001b[0m \u001b[0;34m=\u001b[0m \u001b[0mdf\u001b[0m\u001b[0;34m.\u001b[0m\u001b[0mdate\u001b[0m\u001b[0;34m.\u001b[0m\u001b[0mapply\u001b[0m\u001b[0;34m(\u001b[0m\u001b[0;32mlambda\u001b[0m \u001b[0mx\u001b[0m\u001b[0;34m:\u001b[0m \u001b[0mpd\u001b[0m\u001b[0;34m.\u001b[0m\u001b[0mdatetime\u001b[0m\u001b[0;34m.\u001b[0m\u001b[0mstrptime\u001b[0m\u001b[0;34m(\u001b[0m\u001b[0mx\u001b[0m\u001b[0;34m,\u001b[0m \u001b[0;34m'%Y%m%d-%H%M%S'\u001b[0m\u001b[0;34m)\u001b[0m\u001b[0;34m)\u001b[0m\u001b[0;34m\u001b[0m\u001b[0;34m\u001b[0m\u001b[0m\n\u001b[0m",
      "\u001b[0;32m/anaconda3/lib/python3.6/_strptime.py\u001b[0m in \u001b[0;36m_strptime_datetime\u001b[0;34m(cls, data_string, format)\u001b[0m\n\u001b[1;32m    563\u001b[0m     \"\"\"Return a class cls instance based on the input string and the\n\u001b[1;32m    564\u001b[0m     format string.\"\"\"\n\u001b[0;32m--> 565\u001b[0;31m     \u001b[0mtt\u001b[0m\u001b[0;34m,\u001b[0m \u001b[0mfraction\u001b[0m \u001b[0;34m=\u001b[0m \u001b[0m_strptime\u001b[0m\u001b[0;34m(\u001b[0m\u001b[0mdata_string\u001b[0m\u001b[0;34m,\u001b[0m \u001b[0mformat\u001b[0m\u001b[0;34m)\u001b[0m\u001b[0;34m\u001b[0m\u001b[0;34m\u001b[0m\u001b[0m\n\u001b[0m\u001b[1;32m    566\u001b[0m     \u001b[0mtzname\u001b[0m\u001b[0;34m,\u001b[0m \u001b[0mgmtoff\u001b[0m \u001b[0;34m=\u001b[0m \u001b[0mtt\u001b[0m\u001b[0;34m[\u001b[0m\u001b[0;34m-\u001b[0m\u001b[0;36m2\u001b[0m\u001b[0;34m:\u001b[0m\u001b[0;34m]\u001b[0m\u001b[0;34m\u001b[0m\u001b[0;34m\u001b[0m\u001b[0m\n\u001b[1;32m    567\u001b[0m     \u001b[0margs\u001b[0m \u001b[0;34m=\u001b[0m \u001b[0mtt\u001b[0m\u001b[0;34m[\u001b[0m\u001b[0;34m:\u001b[0m\u001b[0;36m6\u001b[0m\u001b[0;34m]\u001b[0m \u001b[0;34m+\u001b[0m \u001b[0;34m(\u001b[0m\u001b[0mfraction\u001b[0m\u001b[0;34m,\u001b[0m\u001b[0;34m)\u001b[0m\u001b[0;34m\u001b[0m\u001b[0;34m\u001b[0m\u001b[0m\n",
      "\u001b[0;32m/anaconda3/lib/python3.6/_strptime.py\u001b[0m in \u001b[0;36m_strptime\u001b[0;34m(data_string, format)\u001b[0m\n\u001b[1;32m    360\u001b[0m     \u001b[0;32mif\u001b[0m \u001b[0;32mnot\u001b[0m \u001b[0mfound\u001b[0m\u001b[0;34m:\u001b[0m\u001b[0;34m\u001b[0m\u001b[0;34m\u001b[0m\u001b[0m\n\u001b[1;32m    361\u001b[0m         raise ValueError(\"time data %r does not match format %r\" %\n\u001b[0;32m--> 362\u001b[0;31m                          (data_string, format))\n\u001b[0m\u001b[1;32m    363\u001b[0m     \u001b[0;32mif\u001b[0m \u001b[0mlen\u001b[0m\u001b[0;34m(\u001b[0m\u001b[0mdata_string\u001b[0m\u001b[0;34m)\u001b[0m \u001b[0;34m!=\u001b[0m \u001b[0mfound\u001b[0m\u001b[0;34m.\u001b[0m\u001b[0mend\u001b[0m\u001b[0;34m(\u001b[0m\u001b[0;34m)\u001b[0m\u001b[0;34m:\u001b[0m\u001b[0;34m\u001b[0m\u001b[0;34m\u001b[0m\u001b[0m\n\u001b[1;32m    364\u001b[0m         raise ValueError(\"unconverted data remains: %s\" %\n",
      "\u001b[0;31mValueError\u001b[0m: time data 'ns.e-bizs.net' does not match format '%Y%m%d-%H%M%S'"
     ]
    }
   ],
   "source": [
    "#date 형식이 time 형식인 것을 확인할 수 있으니 date type으로 변경해보자\n",
    "df['date'] = df.date.apply(lambda x: pd.datetime.strptime(x, '%Y%m%d-%H%M%S'))"
   ]
  },
  {
   "cell_type": "code",
   "execution_count": 4,
   "metadata": {
    "ExecuteTime": {
     "end_time": "2019-07-30T07:09:29.082928Z",
     "start_time": "2019-07-30T07:09:28.945666Z"
    },
    "slideshow": {
     "slide_type": "slide"
    }
   },
   "outputs": [
    {
     "data": {
      "text/html": [
       "<div>\n",
       "<style scoped>\n",
       "    .dataframe tbody tr th:only-of-type {\n",
       "        vertical-align: middle;\n",
       "    }\n",
       "\n",
       "    .dataframe tbody tr th {\n",
       "        vertical-align: top;\n",
       "    }\n",
       "\n",
       "    .dataframe thead th {\n",
       "        text-align: right;\n",
       "    }\n",
       "</style>\n",
       "<table border=\"1\" class=\"dataframe\">\n",
       "  <thead>\n",
       "    <tr style=\"text-align: right;\">\n",
       "      <th></th>\n",
       "      <th>date</th>\n",
       "      <th>id</th>\n",
       "      <th>keyword</th>\n",
       "      <th>result</th>\n",
       "    </tr>\n",
       "  </thead>\n",
       "  <tbody>\n",
       "    <tr>\n",
       "      <th>26169</th>\n",
       "      <td>ns.e-bizs.net</td>\n",
       "      <td>NaN</td>\n",
       "      <td>NaN</td>\n",
       "      <td>NaN</td>\n",
       "    </tr>\n",
       "    <tr>\n",
       "      <th>26170</th>\n",
       "      <td>121.78.246.24</td>\n",
       "      <td>secret</td>\n",
       "      <td>NaN</td>\n",
       "      <td>NaN</td>\n",
       "    </tr>\n",
       "    <tr>\n",
       "      <th>29311</th>\n",
       "      <td>NaN</td>\n",
       "      <td>secret</td>\n",
       "      <td>NaN</td>\n",
       "      <td>NaN</td>\n",
       "    </tr>\n",
       "    <tr>\n",
       "      <th>34791</th>\n",
       "      <td>Industrial facilities and distributors stage...</td>\n",
       "      <td>NaN</td>\n",
       "      <td>NaN</td>\n",
       "      <td>NaN</td>\n",
       "    </tr>\n",
       "    <tr>\n",
       "      <th>34792</th>\n",
       "      <td>Carcass meat shipped to retailers and distri...</td>\n",
       "      <td>secret</td>\n",
       "      <td>NaN</td>\n",
       "      <td>NaN</td>\n",
       "    </tr>\n",
       "  </tbody>\n",
       "</table>\n",
       "</div>"
      ],
      "text/plain": [
       "                                                    date      id keyword  \\\n",
       "26169                                      ns.e-bizs.net     NaN     NaN   \n",
       "26170                                      121.78.246.24  secret     NaN   \n",
       "29311                                                NaN  secret     NaN   \n",
       "34791    Industrial facilities and distributors stage...     NaN     NaN   \n",
       "34792    Carcass meat shipped to retailers and distri...  secret     NaN   \n",
       "\n",
       "      result  \n",
       "26169    NaN  \n",
       "26170    NaN  \n",
       "29311    NaN  \n",
       "34791    NaN  \n",
       "34792    NaN  "
      ]
     },
     "execution_count": 4,
     "metadata": {},
     "output_type": "execute_result"
    }
   ],
   "source": [
    "#파싱이 안되는 여러원인이 있을 수 있으나 알려진 형식에 맞지 않는 date 형태가 무엇이 있었는지 확인해보자\n",
    "df[df.date.str.len() != 15][:5]"
   ]
  },
  {
   "cell_type": "code",
   "execution_count": 5,
   "metadata": {
    "ExecuteTime": {
     "end_time": "2019-07-30T07:09:51.822300Z",
     "start_time": "2019-07-30T07:09:46.362363Z"
    },
    "slideshow": {
     "slide_type": "slide"
    }
   },
   "outputs": [],
   "source": [
    "#타임 string의 길이가 15인 것만을 남겨본 뒤 date 변환을 시도해보자\n",
    "df =  df[df[\"date\"].map(str).map(len) == 15]\n",
    "df['date'] = df.date.apply(lambda x: pd.datetime.strptime(x, '%Y%m%d-%H%M%S'))"
   ]
  },
  {
   "cell_type": "code",
   "execution_count": 6,
   "metadata": {
    "ExecuteTime": {
     "end_time": "2019-07-30T07:09:59.411715Z",
     "start_time": "2019-07-30T07:09:58.408181Z"
    },
    "slideshow": {
     "slide_type": "slide"
    }
   },
   "outputs": [
    {
     "data": {
      "text/html": [
       "<div>\n",
       "<style scoped>\n",
       "    .dataframe tbody tr th:only-of-type {\n",
       "        vertical-align: middle;\n",
       "    }\n",
       "\n",
       "    .dataframe tbody tr th {\n",
       "        vertical-align: top;\n",
       "    }\n",
       "\n",
       "    .dataframe thead th {\n",
       "        text-align: right;\n",
       "    }\n",
       "</style>\n",
       "<table border=\"1\" class=\"dataframe\">\n",
       "  <thead>\n",
       "    <tr style=\"text-align: right;\">\n",
       "      <th></th>\n",
       "      <th>date</th>\n",
       "      <th>id</th>\n",
       "      <th>keyword</th>\n",
       "      <th>result</th>\n",
       "    </tr>\n",
       "  </thead>\n",
       "  <tbody>\n",
       "    <tr>\n",
       "      <th>count</th>\n",
       "      <td>572430</td>\n",
       "      <td>572400</td>\n",
       "      <td>572426</td>\n",
       "      <td>572422</td>\n",
       "    </tr>\n",
       "    <tr>\n",
       "      <th>unique</th>\n",
       "      <td>78461</td>\n",
       "      <td>326686</td>\n",
       "      <td>307871</td>\n",
       "      <td>8</td>\n",
       "    </tr>\n",
       "    <tr>\n",
       "      <th>top</th>\n",
       "      <td>2011-11-03 17:12:35</td>\n",
       "      <td>1921ec67ed6c4bb1a13b028ee6dbd111</td>\n",
       "      <td>여자아이돌 대마초</td>\n",
       "      <td>secret</td>\n",
       "    </tr>\n",
       "    <tr>\n",
       "      <th>freq</th>\n",
       "      <td>27</td>\n",
       "      <td>374</td>\n",
       "      <td>5811</td>\n",
       "      <td>572415</td>\n",
       "    </tr>\n",
       "    <tr>\n",
       "      <th>first</th>\n",
       "      <td>2011-11-03 00:00:00</td>\n",
       "      <td>NaN</td>\n",
       "      <td>NaN</td>\n",
       "      <td>NaN</td>\n",
       "    </tr>\n",
       "    <tr>\n",
       "      <th>last</th>\n",
       "      <td>2011-11-03 23:59:59</td>\n",
       "      <td>NaN</td>\n",
       "      <td>NaN</td>\n",
       "      <td>NaN</td>\n",
       "    </tr>\n",
       "  </tbody>\n",
       "</table>\n",
       "</div>"
      ],
      "text/plain": [
       "                       date                                id    keyword  \\\n",
       "count                572430                            572400     572426   \n",
       "unique                78461                            326686     307871   \n",
       "top     2011-11-03 17:12:35  1921ec67ed6c4bb1a13b028ee6dbd111  여자아이돌 대마초   \n",
       "freq                     27                               374       5811   \n",
       "first   2011-11-03 00:00:00                               NaN        NaN   \n",
       "last    2011-11-03 23:59:59                               NaN        NaN   \n",
       "\n",
       "        result  \n",
       "count   572422  \n",
       "unique       8  \n",
       "top     secret  \n",
       "freq    572415  \n",
       "first      NaN  \n",
       "last       NaN  "
      ]
     },
     "execution_count": 6,
     "metadata": {},
     "output_type": "execute_result"
    }
   ],
   "source": [
    "#데이터 기본 통계를 확인\n",
    "df.describe()"
   ]
  },
  {
   "cell_type": "code",
   "execution_count": 7,
   "metadata": {
    "ExecuteTime": {
     "end_time": "2019-07-30T07:10:50.239837Z",
     "start_time": "2019-07-30T07:10:49.385534Z"
    },
    "slideshow": {
     "slide_type": "slide"
    }
   },
   "outputs": [
    {
     "data": {
      "text/html": [
       "<div>\n",
       "<style scoped>\n",
       "    .dataframe tbody tr th:only-of-type {\n",
       "        vertical-align: middle;\n",
       "    }\n",
       "\n",
       "    .dataframe tbody tr th {\n",
       "        vertical-align: top;\n",
       "    }\n",
       "\n",
       "    .dataframe thead th {\n",
       "        text-align: right;\n",
       "    }\n",
       "</style>\n",
       "<table border=\"1\" class=\"dataframe\">\n",
       "  <thead>\n",
       "    <tr style=\"text-align: right;\">\n",
       "      <th></th>\n",
       "      <th>date</th>\n",
       "      <th>keyword</th>\n",
       "      <th>result</th>\n",
       "    </tr>\n",
       "    <tr>\n",
       "      <th>id</th>\n",
       "      <th></th>\n",
       "      <th></th>\n",
       "      <th></th>\n",
       "    </tr>\n",
       "  </thead>\n",
       "  <tbody>\n",
       "    <tr>\n",
       "      <th>1921ec67ed6c4bb1a13b028ee6dbd111</th>\n",
       "      <td>374</td>\n",
       "      <td>374</td>\n",
       "      <td>374</td>\n",
       "    </tr>\n",
       "    <tr>\n",
       "      <th>ffe1489725ef504ef8938f2fe192f2a7</th>\n",
       "      <td>235</td>\n",
       "      <td>235</td>\n",
       "      <td>235</td>\n",
       "    </tr>\n",
       "    <tr>\n",
       "      <th>35b9ab5a36f3234dd26db357fd4a0dc1</th>\n",
       "      <td>169</td>\n",
       "      <td>169</td>\n",
       "      <td>169</td>\n",
       "    </tr>\n",
       "    <tr>\n",
       "      <th>c223710e267c997aa9e81703e560b1c3</th>\n",
       "      <td>119</td>\n",
       "      <td>119</td>\n",
       "      <td>119</td>\n",
       "    </tr>\n",
       "    <tr>\n",
       "      <th>e5e66a674cff71a99fab24d6ca2f82d3</th>\n",
       "      <td>91</td>\n",
       "      <td>91</td>\n",
       "      <td>91</td>\n",
       "    </tr>\n",
       "  </tbody>\n",
       "</table>\n",
       "</div>"
      ],
      "text/plain": [
       "                                  date  keyword  result\n",
       "id                                                     \n",
       "1921ec67ed6c4bb1a13b028ee6dbd111   374      374     374\n",
       "ffe1489725ef504ef8938f2fe192f2a7   235      235     235\n",
       "35b9ab5a36f3234dd26db357fd4a0dc1   169      169     169\n",
       "c223710e267c997aa9e81703e560b1c3   119      119     119\n",
       "e5e66a674cff71a99fab24d6ca2f82d3    91       91      91"
      ]
     },
     "execution_count": 7,
     "metadata": {},
     "output_type": "execute_result"
    }
   ],
   "source": [
    "#한명당 검색어를 어느정도 입력하는지 다양한 방법으로 알아볼 수 있다\n",
    "grouped = df.groupby(by='id').count().sort_values(by=['keyword', 'date'], ascending=False)\n",
    "grouped.head(5)"
   ]
  },
  {
   "cell_type": "code",
   "execution_count": 8,
   "metadata": {
    "ExecuteTime": {
     "end_time": "2019-07-30T07:11:53.585967Z",
     "start_time": "2019-07-30T07:11:53.572881Z"
    },
    "slideshow": {
     "slide_type": "slide"
    }
   },
   "outputs": [
    {
     "name": "stdout",
     "output_type": "stream",
     "text": [
      "date       1.0\n",
      "keyword    1.0\n",
      "result     1.0\n",
      "dtype: float64\n",
      "\n",
      "date       1.752141\n",
      "keyword    1.752129\n",
      "result     1.752117\n",
      "dtype: float64\n"
     ]
    }
   ],
   "source": [
    "# 평균적으로 1사람이 어느정도의 검색어를 입력하는지 알아볼 수 있다\n",
    "print(grouped.median())\n",
    "print()\n",
    "print(grouped.mean())"
   ]
  },
  {
   "cell_type": "code",
   "execution_count": 9,
   "metadata": {
    "ExecuteTime": {
     "end_time": "2019-07-30T07:11:57.453363Z",
     "start_time": "2019-07-30T07:11:57.445414Z"
    },
    "slideshow": {
     "slide_type": "slide"
    }
   },
   "outputs": [
    {
     "name": "stdout",
     "output_type": "stream",
     "text": [
      "2011-11-03 00:00:00\n",
      "2011-11-03 23:59:59\n"
     ]
    }
   ],
   "source": [
    "#데이터의 시작 날짜와 끝 날짜를 확인해보자\n",
    "print ( df.date.min() )\n",
    "print ( df.date.max() )"
   ]
  },
  {
   "cell_type": "code",
   "execution_count": 11,
   "metadata": {
    "ExecuteTime": {
     "end_time": "2019-07-30T07:13:08.842907Z",
     "start_time": "2019-07-30T07:13:08.599039Z"
    },
    "slideshow": {
     "slide_type": "slide"
    }
   },
   "outputs": [
    {
     "data": {
      "image/png": "[encoded data removed]",
      "text/plain": [
       "<Figure size 432x288 with 1 Axes>"
      ]
     },
     "metadata": {
      "needs_background": "light"
     },
     "output_type": "display_data"
    }
   ],
   "source": [
    "#날짜에 색인을 걸고 시각화를 해보자\n",
    "df_index = df.set_index('date')\n",
    "import matplotlib.pyplot as plt\n",
    "df_index.groupby(by=df_index.index.hour)['keyword'].count().plot()\n",
    "plt.show()"
   ]
  },
  {
   "cell_type": "code",
   "execution_count": 12,
   "metadata": {
    "ExecuteTime": {
     "end_time": "2019-07-30T07:17:11.075346Z",
     "start_time": "2019-07-30T07:17:10.779438Z"
    },
    "slideshow": {
     "slide_type": "slide"
    }
   },
   "outputs": [
    {
     "data": {
      "text/plain": [
       "count    5.724300e+05\n",
       "mean     1.182076e+01\n",
       "std      2.085732e+03\n",
       "min      1.000000e+00\n",
       "25%      4.000000e+00\n",
       "50%      6.000000e+00\n",
       "75%      9.000000e+00\n",
       "max      1.273532e+06\n",
       "Name: keyword, dtype: float64"
      ]
     },
     "execution_count": 12,
     "metadata": {},
     "output_type": "execute_result"
    }
   ],
   "source": [
    "# keyword 길이에 대한 기본통계를 출력해보자\n",
    "df_index.keyword.map(str).map(len).describe()"
   ]
  },
  {
   "cell_type": "code",
   "execution_count": 13,
   "metadata": {
    "ExecuteTime": {
     "end_time": "2019-07-30T07:17:17.458520Z",
     "start_time": "2019-07-30T07:17:17.204506Z"
    },
    "slideshow": {
     "slide_type": "slide"
    }
   },
   "outputs": [
    {
     "data": {
      "text/html": [
       "<div>\n",
       "<style scoped>\n",
       "    .dataframe tbody tr th:only-of-type {\n",
       "        vertical-align: middle;\n",
       "    }\n",
       "\n",
       "    .dataframe tbody tr th {\n",
       "        vertical-align: top;\n",
       "    }\n",
       "\n",
       "    .dataframe thead th {\n",
       "        text-align: right;\n",
       "    }\n",
       "</style>\n",
       "<table border=\"1\" class=\"dataframe\">\n",
       "  <thead>\n",
       "    <tr style=\"text-align: right;\">\n",
       "      <th></th>\n",
       "      <th>id</th>\n",
       "      <th>keyword</th>\n",
       "      <th>result</th>\n",
       "    </tr>\n",
       "    <tr>\n",
       "      <th>date</th>\n",
       "      <th></th>\n",
       "      <th></th>\n",
       "      <th></th>\n",
       "    </tr>\n",
       "  </thead>\n",
       "  <tbody>\n",
       "    <tr>\n",
       "      <th>2011-11-03 15:51:50</th>\n",
       "      <td>b63d7ad2148297ed76e07f22a68959a8</td>\n",
       "      <td>tenkiu\\tsecret\\n20111103-155127\\t3128aca3bfbb8...</td>\n",
       "      <td>secret</td>\n",
       "    </tr>\n",
       "    <tr>\n",
       "      <th>2011-11-03 00:46:43</th>\n",
       "      <td>202e515f90a1dca3b567c040b24fd76c</td>\n",
       "      <td>\\tsecret\\n20111103-004659\\t31d1a0fa320e792ba56...</td>\n",
       "      <td>secret</td>\n",
       "    </tr>\n",
       "    <tr>\n",
       "      <th>2011-11-03 07:51:57</th>\n",
       "      <td>31ab802e2b8176a65e45ace58c45407d</td>\n",
       "      <td>?:\\tsecret\\n20111103-075211\\t31ab802e2b8176a65...</td>\n",
       "      <td>secret</td>\n",
       "    </tr>\n",
       "    <tr>\n",
       "      <th>2011-11-03 17:04:46</th>\n",
       "      <td>9daae4a26cb8145b8bcff03050d5bf07</td>\n",
       "      <td>\\tsecret\\n20111103-173516\\tf06b3a818f82c75dc96...</td>\n",
       "      <td>secret</td>\n",
       "    </tr>\n",
       "    <tr>\n",
       "      <th>2011-11-03 19:08:06</th>\n",
       "      <td>6f5cdcd744ad10227f8cc783eaca0868</td>\n",
       "      <td>way back into love\\tsecret\\n20111103-194935\\t9...</td>\n",
       "      <td>secret</td>\n",
       "    </tr>\n",
       "  </tbody>\n",
       "</table>\n",
       "</div>"
      ],
      "text/plain": [
       "                                                   id  \\\n",
       "date                                                    \n",
       "2011-11-03 15:51:50  b63d7ad2148297ed76e07f22a68959a8   \n",
       "2011-11-03 00:46:43  202e515f90a1dca3b567c040b24fd76c   \n",
       "2011-11-03 07:51:57  31ab802e2b8176a65e45ace58c45407d   \n",
       "2011-11-03 17:04:46  9daae4a26cb8145b8bcff03050d5bf07   \n",
       "2011-11-03 19:08:06  6f5cdcd744ad10227f8cc783eaca0868   \n",
       "\n",
       "                                                               keyword  result  \n",
       "date                                                                            \n",
       "2011-11-03 15:51:50  tenkiu\\tsecret\\n20111103-155127\\t3128aca3bfbb8...  secret  \n",
       "2011-11-03 00:46:43  \\tsecret\\n20111103-004659\\t31d1a0fa320e792ba56...  secret  \n",
       "2011-11-03 07:51:57  ?:\\tsecret\\n20111103-075211\\t31ab802e2b8176a65...  secret  \n",
       "2011-11-03 17:04:46  \\tsecret\\n20111103-173516\\tf06b3a818f82c75dc96...  secret  \n",
       "2011-11-03 19:08:06  way back into love\\tsecret\\n20111103-194935\\t9...  secret  "
      ]
     },
     "execution_count": 13,
     "metadata": {},
     "output_type": "execute_result"
    }
   ],
   "source": [
    "#5000 글자가 넘는 keyword들이 무엇인지 확인해보자\n",
    "df_index[df_index.keyword.map(str).map(len) > 5000][:5]"
   ]
  },
  {
   "cell_type": "code",
   "execution_count": 14,
   "metadata": {
    "ExecuteTime": {
     "end_time": "2019-07-30T07:19:30.729406Z",
     "start_time": "2019-07-30T07:19:23.563140Z"
    },
    "slideshow": {
     "slide_type": "slide"
    }
   },
   "outputs": [],
   "source": [
    "# 지금까지 알아낸 정보를 이용해서 df를 새로 load해보자\n",
    "import csv\n",
    "df = pd.read_csv('data/sample_search_log.txt',\n",
    "                 sep='\\t',\n",
    "                 header=None,\n",
    "                 names = ['date', 'id', 'keyword', 'result'],\n",
    "                 quoting=csv.QUOTE_NONE)\n",
    "df = df[df[\"date\"].map(str).map(len) == 15]\n",
    "df['date'] = df.date.apply(lambda x: pd.datetime.strptime(x, '%Y%m%d-%H%M%S'))"
   ]
  },
  {
   "cell_type": "code",
   "execution_count": 28,
   "metadata": {
    "slideshow": {
     "slide_type": "slide"
    }
   },
   "outputs": [
    {
     "data": {
      "text/plain": [
       "count    630712.000000\n",
       "mean          6.838930\n",
       "std           4.773458\n",
       "min           1.000000\n",
       "25%           4.000000\n",
       "50%           6.000000\n",
       "75%           9.000000\n",
       "max         907.000000\n",
       "Name: keyword, dtype: float64"
      ]
     },
     "execution_count": 28,
     "metadata": {},
     "output_type": "execute_result"
    }
   ],
   "source": [
    "# keyword 길이에 대한 기본통계\n",
    "df.keyword.map(str).map(len).describe()"
   ]
  },
  {
   "cell_type": "code",
   "execution_count": 29,
   "metadata": {
    "slideshow": {
     "slide_type": "slide"
    }
   },
   "outputs": [
    {
     "data": {
      "text/html": [
       "<div>\n",
       "<style scoped>\n",
       "    .dataframe tbody tr th:only-of-type {\n",
       "        vertical-align: middle;\n",
       "    }\n",
       "\n",
       "    .dataframe tbody tr th {\n",
       "        vertical-align: top;\n",
       "    }\n",
       "\n",
       "    .dataframe thead th {\n",
       "        text-align: right;\n",
       "    }\n",
       "</style>\n",
       "<table border=\"1\" class=\"dataframe\">\n",
       "  <thead>\n",
       "    <tr style=\"text-align: right;\">\n",
       "      <th></th>\n",
       "      <th>date</th>\n",
       "      <th>id</th>\n",
       "      <th>keyword</th>\n",
       "      <th>result</th>\n",
       "    </tr>\n",
       "  </thead>\n",
       "  <tbody>\n",
       "    <tr>\n",
       "      <th>206</th>\n",
       "      <td>2011-11-03 17:11:58</td>\n",
       "      <td>589b95e3ee1ff1e0a3d9817e7c859f52</td>\n",
       "      <td>A Boy and His HorseMike lives on a farm. There...</td>\n",
       "      <td>secret</td>\n",
       "    </tr>\n",
       "    <tr>\n",
       "      <th>8398</th>\n",
       "      <td>2011-11-03 08:45:33</td>\n",
       "      <td>efe31c1b24297ab2c32cdeec5fb41b2d</td>\n",
       "      <td>유빈아미안해 유빈아미안해유빈아미안해유빈아미안해유빈아미안해유빈아미안해유빈아미안해유빈아...</td>\n",
       "      <td>secret</td>\n",
       "    </tr>\n",
       "    <tr>\n",
       "      <th>11152</th>\n",
       "      <td>2011-11-03 23:18:56</td>\n",
       "      <td>a616d124f35d1e1c6121ed707c2d51c2</td>\n",
       "      <td>낙성비룡｣은 조선 왕실에서 향유되었던 낙선재본 소설이다. 이 작품은 영웅소설인 ｢소...</td>\n",
       "      <td>secret</td>\n",
       "    </tr>\n",
       "    <tr>\n",
       "      <th>31347</th>\n",
       "      <td>2011-11-03 18:35:02</td>\n",
       "      <td>52f2c3ec9ddafdd7325efa8ffa6dbcfa</td>\n",
       "      <td>[[[[[[[[[[[[[[[[[[[[[[[[[[[[[[[[[[[[[[[[[[[[[[...</td>\n",
       "      <td>secret</td>\n",
       "    </tr>\n",
       "    <tr>\n",
       "      <th>38694</th>\n",
       "      <td>2011-11-03 16:15:16</td>\n",
       "      <td>0c27eff8b3bafe515a6890a5c5ec8c08</td>\n",
       "      <td>[ㅔㅑㅐㅑㅔㅐ[ㅔ]-=09ㅑㅐㅐㅏㅣ[ㅏㅣㅓ;ㅏㅓㅏㅗㅇㄹㅇㅊㄴ허ㅌ32123234546...</td>\n",
       "      <td>secret</td>\n",
       "    </tr>\n",
       "  </tbody>\n",
       "</table>\n",
       "</div>"
      ],
      "text/plain": [
       "                     date                                id  \\\n",
       "206   2011-11-03 17:11:58  589b95e3ee1ff1e0a3d9817e7c859f52   \n",
       "8398  2011-11-03 08:45:33  efe31c1b24297ab2c32cdeec5fb41b2d   \n",
       "11152 2011-11-03 23:18:56  a616d124f35d1e1c6121ed707c2d51c2   \n",
       "31347 2011-11-03 18:35:02  52f2c3ec9ddafdd7325efa8ffa6dbcfa   \n",
       "38694 2011-11-03 16:15:16  0c27eff8b3bafe515a6890a5c5ec8c08   \n",
       "\n",
       "                                                 keyword  result  \n",
       "206    A Boy and His HorseMike lives on a farm. There...  secret  \n",
       "8398   유빈아미안해 유빈아미안해유빈아미안해유빈아미안해유빈아미안해유빈아미안해유빈아미안해유빈아...  secret  \n",
       "11152  낙성비룡｣은 조선 왕실에서 향유되었던 낙선재본 소설이다. 이 작품은 영웅소설인 ｢소...  secret  \n",
       "31347  [[[[[[[[[[[[[[[[[[[[[[[[[[[[[[[[[[[[[[[[[[[[[[...  secret  \n",
       "38694  [ㅔㅑㅐㅑㅔㅐ[ㅔ]-=09ㅑㅐㅐㅏㅣ[ㅏㅣㅓ;ㅏㅓㅏㅗㅇㄹㅇㅊㄴ허ㅌ32123234546...  secret  "
      ]
     },
     "execution_count": 29,
     "metadata": {},
     "output_type": "execute_result"
    }
   ],
   "source": [
    "# 길이가 100이 넘는 keyword는 무엇일까?\n",
    "df[df.keyword.map(str).map(len) > 100][:5]"
   ]
  },
  {
   "cell_type": "markdown",
   "metadata": {
    "slideshow": {
     "slide_type": "slide"
    }
   },
   "source": [
    "## quiz 1\n",
    "- 전체 PV와 UV를 구해보자\n",
    "\n",
    "## quiz 2\n",
    "- 특정 키워드(네이버, 다음, 카카오)에 대한 PV와 UV를 구해보자"
   ]
  },
  {
   "cell_type": "markdown",
   "metadata": {
    "slideshow": {
     "slide_type": "slide"
    }
   },
   "source": [
    "### 2) pandas를 이용한 mapReduce를 활용하지 않는 인기검색어\n",
    "- 인기 검색어를 pandas를 이용하여 구현하여보자\n",
    "- 인기 검색어는 windows size가 존재하는 것을 제외하면 키워드 집계와 핵심로직을 90% 이상 공유함"
   ]
  },
  {
   "cell_type": "code",
   "execution_count": 15,
   "metadata": {
    "ExecuteTime": {
     "end_time": "2019-07-30T07:19:51.307684Z",
     "start_time": "2019-07-30T07:19:51.300401Z"
    },
    "slideshow": {
     "slide_type": "slide"
    }
   },
   "outputs": [],
   "source": [
    "import pandas as pd\n",
    "\n",
    "# 5분동안의 데이터가 스트림으로 지나가는 것을 시뮬레이션하는 제네레이터\n",
    "def log_streamer(path, window_size = 5):\n",
    "    import csv\n",
    "    df = pd.read_csv(path, sep='\\t', header=None, names = ['date', 'id', 'keyword', 'result'],quoting=csv.QUOTE_NONE)\n",
    "    df =  df[df[\"date\"].map(str).map(len) == 15]\n",
    "    df['date'] = df.date.apply(lambda x: pd.datetime.strptime(x, '%Y%m%d-%H%M%S'))\n",
    "    df = df[['date', 'id', 'keyword']]\n",
    "    df = df.set_index('date').sort_index()\n",
    "    \n",
    "    current_timestamp = df.index[0]\n",
    "    while current_timestamp < df.index[-1]:\n",
    "        next_timestamp = current_timestamp + pd.DateOffset(minutes=window_size)\n",
    "        window_df = df[current_timestamp:next_timestamp]\n",
    "        yield window_df\n",
    "        current_timestamp = next_timestamp\n",
    "\n",
    "window_df = log_streamer('data/sample_search_log.txt')"
   ]
  },
  {
   "cell_type": "markdown",
   "metadata": {
    "slideshow": {
     "slide_type": "slide"
    }
   },
   "source": [
    "##### 스트리밍 로그 출력\n",
    "- 실제 서비스 단에서는 주어진 window 사이즈의 데이터가 실시간 혹은 파일 시스템에 주기적으로 저장됨\n",
    "- 위의 상황을 모사하여, 호출하면 연속된 window 사이즈의 데이터를 순차적으로 출력하는 스트림을 생성\n",
    "- next(스트림)을 호출하면 5분 단위씩의 window 사이즈의 데이터를 출력함\n"
   ]
  },
  {
   "cell_type": "code",
   "execution_count": 16,
   "metadata": {
    "ExecuteTime": {
     "end_time": "2019-07-30T07:20:04.338793Z",
     "start_time": "2019-07-30T07:19:57.048397Z"
    },
    "slideshow": {
     "slide_type": "slide"
    }
   },
   "outputs": [
    {
     "data": {
      "text/html": [
       "<div>\n",
       "<style scoped>\n",
       "    .dataframe tbody tr th:only-of-type {\n",
       "        vertical-align: middle;\n",
       "    }\n",
       "\n",
       "    .dataframe tbody tr th {\n",
       "        vertical-align: top;\n",
       "    }\n",
       "\n",
       "    .dataframe thead th {\n",
       "        text-align: right;\n",
       "    }\n",
       "</style>\n",
       "<table border=\"1\" class=\"dataframe\">\n",
       "  <thead>\n",
       "    <tr style=\"text-align: right;\">\n",
       "      <th></th>\n",
       "      <th>id</th>\n",
       "      <th>keyword</th>\n",
       "    </tr>\n",
       "    <tr>\n",
       "      <th>date</th>\n",
       "      <th></th>\n",
       "      <th></th>\n",
       "    </tr>\n",
       "  </thead>\n",
       "  <tbody>\n",
       "    <tr>\n",
       "      <th>2011-11-03</th>\n",
       "      <td>f9947bb8c91c027cd85dcb0044056885</td>\n",
       "      <td>음악이 쓰이는 예</td>\n",
       "    </tr>\n",
       "    <tr>\n",
       "      <th>2011-11-03</th>\n",
       "      <td>a4b49b06464597a9cd070985199bc637</td>\n",
       "      <td>한미fta</td>\n",
       "    </tr>\n",
       "    <tr>\n",
       "      <th>2011-11-03</th>\n",
       "      <td>93ac87adba3c3e7e0dae915701884f87</td>\n",
       "      <td>잭다니엘 로고 ai</td>\n",
       "    </tr>\n",
       "    <tr>\n",
       "      <th>2011-11-03</th>\n",
       "      <td>e87fa94638891f3ed8737abf368e06e5</td>\n",
       "      <td>B형성격</td>\n",
       "    </tr>\n",
       "    <tr>\n",
       "      <th>2011-11-03</th>\n",
       "      <td>5996de2df2b6889c7d6373e09c425c84</td>\n",
       "      <td>주걸륜</td>\n",
       "    </tr>\n",
       "  </tbody>\n",
       "</table>\n",
       "</div>"
      ],
      "text/plain": [
       "                                          id     keyword\n",
       "date                                                    \n",
       "2011-11-03  f9947bb8c91c027cd85dcb0044056885   음악이 쓰이는 예\n",
       "2011-11-03  a4b49b06464597a9cd070985199bc637       한미fta\n",
       "2011-11-03  93ac87adba3c3e7e0dae915701884f87  잭다니엘 로고 ai\n",
       "2011-11-03  e87fa94638891f3ed8737abf368e06e5        B형성격\n",
       "2011-11-03  5996de2df2b6889c7d6373e09c425c84         주걸륜"
      ]
     },
     "execution_count": 16,
     "metadata": {},
     "output_type": "execute_result"
    }
   ],
   "source": [
    "# 처음 5분의 데이터 2011-11-03 00:00:00 ~ 2011-11-03 00:05:00\n",
    "next(window_df)[:5]"
   ]
  },
  {
   "cell_type": "code",
   "execution_count": 37,
   "metadata": {
    "slideshow": {
     "slide_type": "slide"
    }
   },
   "outputs": [
    {
     "data": {
      "text/html": [
       "<div>\n",
       "<style scoped>\n",
       "    .dataframe tbody tr th:only-of-type {\n",
       "        vertical-align: middle;\n",
       "    }\n",
       "\n",
       "    .dataframe tbody tr th {\n",
       "        vertical-align: top;\n",
       "    }\n",
       "\n",
       "    .dataframe thead th {\n",
       "        text-align: right;\n",
       "    }\n",
       "</style>\n",
       "<table border=\"1\" class=\"dataframe\">\n",
       "  <thead>\n",
       "    <tr style=\"text-align: right;\">\n",
       "      <th></th>\n",
       "      <th>id</th>\n",
       "      <th>keyword</th>\n",
       "    </tr>\n",
       "    <tr>\n",
       "      <th>date</th>\n",
       "      <th></th>\n",
       "      <th></th>\n",
       "    </tr>\n",
       "  </thead>\n",
       "  <tbody>\n",
       "    <tr>\n",
       "      <th>2011-11-03 00:05:00</th>\n",
       "      <td>16d5c7e0a2ce331b77f1141545bec342</td>\n",
       "      <td>로마문화유적</td>\n",
       "    </tr>\n",
       "    <tr>\n",
       "      <th>2011-11-03 00:05:00</th>\n",
       "      <td>977dc555540ccc221abb60872121baad</td>\n",
       "      <td>독서대</td>\n",
       "    </tr>\n",
       "    <tr>\n",
       "      <th>2011-11-03 00:05:00</th>\n",
       "      <td>85306d646596501fb4f16bd816794ef4</td>\n",
       "      <td>소이 왕따</td>\n",
       "    </tr>\n",
       "    <tr>\n",
       "      <th>2011-11-03 00:05:00</th>\n",
       "      <td>69dfa95a68ce8703bdd9ad1fd8418ef3</td>\n",
       "      <td>박명수 부인 재혼</td>\n",
       "    </tr>\n",
       "    <tr>\n",
       "      <th>2011-11-03 00:05:00</th>\n",
       "      <td>7baed4e27173fe5ffb8003b8fab12db5</td>\n",
       "      <td>tesat 기출문제</td>\n",
       "    </tr>\n",
       "  </tbody>\n",
       "</table>\n",
       "</div>"
      ],
      "text/plain": [
       "                                                   id     keyword\n",
       "date                                                             \n",
       "2011-11-03 00:05:00  16d5c7e0a2ce331b77f1141545bec342      로마문화유적\n",
       "2011-11-03 00:05:00  977dc555540ccc221abb60872121baad         독서대\n",
       "2011-11-03 00:05:00  85306d646596501fb4f16bd816794ef4       소이 왕따\n",
       "2011-11-03 00:05:00  69dfa95a68ce8703bdd9ad1fd8418ef3   박명수 부인 재혼\n",
       "2011-11-03 00:05:00  7baed4e27173fe5ffb8003b8fab12db5  tesat 기출문제"
      ]
     },
     "execution_count": 37,
     "metadata": {},
     "output_type": "execute_result"
    }
   ],
   "source": [
    "# 다음 5분의 데이터 2011-11-03 00:05:00 ~ 2011-11-03 00:10:00\n",
    "next(window_df)[:5]"
   ]
  },
  {
   "cell_type": "markdown",
   "metadata": {
    "slideshow": {
     "slide_type": "slide"
    }
   },
   "source": [
    "##### window 사이즈의 데이터에 대한 키워드 집계\n",
    "- 인기 검색어는 주어진 시간에 대한 word count를 높은 순서대로 정렬한 것과 거의 완벽히 동일함\n",
    "- 단순히 주어진 window에 word count를 구현해보자"
   ]
  },
  {
   "cell_type": "code",
   "execution_count": 17,
   "metadata": {
    "ExecuteTime": {
     "end_time": "2019-07-30T07:21:53.277339Z",
     "start_time": "2019-07-30T07:21:53.253230Z"
    },
    "scrolled": true,
    "slideshow": {
     "slide_type": "slide"
    }
   },
   "outputs": [
    {
     "data": {
      "text/html": [
       "<div>\n",
       "<style scoped>\n",
       "    .dataframe tbody tr th:only-of-type {\n",
       "        vertical-align: middle;\n",
       "    }\n",
       "\n",
       "    .dataframe tbody tr th {\n",
       "        vertical-align: top;\n",
       "    }\n",
       "\n",
       "    .dataframe thead th {\n",
       "        text-align: right;\n",
       "    }\n",
       "</style>\n",
       "<table border=\"1\" class=\"dataframe\">\n",
       "  <thead>\n",
       "    <tr style=\"text-align: right;\">\n",
       "      <th></th>\n",
       "      <th>cnt</th>\n",
       "      <th>rank</th>\n",
       "    </tr>\n",
       "    <tr>\n",
       "      <th>keyword</th>\n",
       "      <th></th>\n",
       "      <th></th>\n",
       "    </tr>\n",
       "  </thead>\n",
       "  <tbody>\n",
       "    <tr>\n",
       "      <th>소이</th>\n",
       "      <td>26</td>\n",
       "      <td>1.0</td>\n",
       "    </tr>\n",
       "    <tr>\n",
       "      <th>진지희 폭풍성장</th>\n",
       "      <td>17</td>\n",
       "      <td>2.0</td>\n",
       "    </tr>\n",
       "    <tr>\n",
       "      <th>소녀시대 라디오 인증</th>\n",
       "      <td>15</td>\n",
       "      <td>3.0</td>\n",
       "    </tr>\n",
       "    <tr>\n",
       "      <th>한미fta</th>\n",
       "      <td>15</td>\n",
       "      <td>4.0</td>\n",
       "    </tr>\n",
       "    <tr>\n",
       "      <th>1박2일 후속 준비</th>\n",
       "      <td>14</td>\n",
       "      <td>5.0</td>\n",
       "    </tr>\n",
       "    <tr>\n",
       "      <th>김현정</th>\n",
       "      <td>13</td>\n",
       "      <td>6.0</td>\n",
       "    </tr>\n",
       "    <tr>\n",
       "      <th>진지희</th>\n",
       "      <td>13</td>\n",
       "      <td>7.0</td>\n",
       "    </tr>\n",
       "    <tr>\n",
       "      <th>이센스</th>\n",
       "      <td>12</td>\n",
       "      <td>8.0</td>\n",
       "    </tr>\n",
       "    <tr>\n",
       "      <th>박유천 동방신기 언급</th>\n",
       "      <td>11</td>\n",
       "      <td>9.0</td>\n",
       "    </tr>\n",
       "    <tr>\n",
       "      <th>소이 왕따</th>\n",
       "      <td>11</td>\n",
       "      <td>10.0</td>\n",
       "    </tr>\n",
       "  </tbody>\n",
       "</table>\n",
       "</div>"
      ],
      "text/plain": [
       "             cnt  rank\n",
       "keyword               \n",
       "소이            26   1.0\n",
       "진지희 폭풍성장      17   2.0\n",
       "소녀시대 라디오 인증   15   3.0\n",
       "한미fta         15   4.0\n",
       "1박2일 후속 준비    14   5.0\n",
       "김현정           13   6.0\n",
       "진지희           13   7.0\n",
       "이센스           12   8.0\n",
       "박유천 동방신기 언급   11   9.0\n",
       "소이 왕따         11  10.0"
      ]
     },
     "execution_count": 17,
     "metadata": {},
     "output_type": "execute_result"
    }
   ],
   "source": [
    "# window만큼의 df를 keyword로 그룹 한 뒤 count를 집계 후 집계된 cnt를 내림 차순 정렬\n",
    "# 그럼 해당 기간 동안 인기가 많았던 키워드를 획득 가능\n",
    "window_df_tmp = next(window_df)\n",
    "current_tmp = window_df_tmp.groupby('keyword').count().rename(columns={'id':'cnt'}).sort_values(by='cnt',\n",
    "                                                                                                ascending=False)\n",
    "current_tmp['rank'] = current_tmp.cnt.rank(method='first',\n",
    "                                           ascending=False)\n",
    "current_tmp = current_tmp[:10]\n",
    "current_tmp"
   ]
  },
  {
   "cell_type": "code",
   "execution_count": 18,
   "metadata": {
    "ExecuteTime": {
     "end_time": "2019-07-30T07:22:05.808158Z",
     "start_time": "2019-07-30T07:22:05.788930Z"
    },
    "slideshow": {
     "slide_type": "slide"
    }
   },
   "outputs": [
    {
     "data": {
      "text/html": [
       "<div>\n",
       "<style scoped>\n",
       "    .dataframe tbody tr th:only-of-type {\n",
       "        vertical-align: middle;\n",
       "    }\n",
       "\n",
       "    .dataframe tbody tr th {\n",
       "        vertical-align: top;\n",
       "    }\n",
       "\n",
       "    .dataframe thead th {\n",
       "        text-align: right;\n",
       "    }\n",
       "</style>\n",
       "<table border=\"1\" class=\"dataframe\">\n",
       "  <thead>\n",
       "    <tr style=\"text-align: right;\">\n",
       "      <th></th>\n",
       "      <th>cnt</th>\n",
       "      <th>rank</th>\n",
       "    </tr>\n",
       "    <tr>\n",
       "      <th>keyword</th>\n",
       "      <th></th>\n",
       "      <th></th>\n",
       "    </tr>\n",
       "  </thead>\n",
       "  <tbody>\n",
       "    <tr>\n",
       "      <th>소이</th>\n",
       "      <td>26</td>\n",
       "      <td>1.0</td>\n",
       "    </tr>\n",
       "    <tr>\n",
       "      <th>진지희 폭풍성장</th>\n",
       "      <td>17</td>\n",
       "      <td>2.0</td>\n",
       "    </tr>\n",
       "    <tr>\n",
       "      <th>소녀시대 라디오 인증</th>\n",
       "      <td>15</td>\n",
       "      <td>3.0</td>\n",
       "    </tr>\n",
       "    <tr>\n",
       "      <th>한미fta</th>\n",
       "      <td>15</td>\n",
       "      <td>4.0</td>\n",
       "    </tr>\n",
       "    <tr>\n",
       "      <th>1박2일 후속 준비</th>\n",
       "      <td>14</td>\n",
       "      <td>5.0</td>\n",
       "    </tr>\n",
       "    <tr>\n",
       "      <th>김현정</th>\n",
       "      <td>13</td>\n",
       "      <td>6.0</td>\n",
       "    </tr>\n",
       "    <tr>\n",
       "      <th>진지희</th>\n",
       "      <td>13</td>\n",
       "      <td>7.0</td>\n",
       "    </tr>\n",
       "    <tr>\n",
       "      <th>이센스</th>\n",
       "      <td>12</td>\n",
       "      <td>8.0</td>\n",
       "    </tr>\n",
       "    <tr>\n",
       "      <th>박유천 동방신기 언급</th>\n",
       "      <td>11</td>\n",
       "      <td>9.0</td>\n",
       "    </tr>\n",
       "    <tr>\n",
       "      <th>소이 왕따</th>\n",
       "      <td>11</td>\n",
       "      <td>10.0</td>\n",
       "    </tr>\n",
       "  </tbody>\n",
       "</table>\n",
       "</div>"
      ],
      "text/plain": [
       "             cnt  rank\n",
       "keyword               \n",
       "소이            26   1.0\n",
       "진지희 폭풍성장      17   2.0\n",
       "소녀시대 라디오 인증   15   3.0\n",
       "한미fta         15   4.0\n",
       "1박2일 후속 준비    14   5.0\n",
       "김현정           13   6.0\n",
       "진지희           13   7.0\n",
       "이센스           12   8.0\n",
       "박유천 동방신기 언급   11   9.0\n",
       "소이 왕따         11  10.0"
      ]
     },
     "execution_count": 18,
     "metadata": {},
     "output_type": "execute_result"
    }
   ],
   "source": [
    "# 과거 데이터를 previous로 저장 후 지금 시간의 current 데이터를 추가로 획득\n",
    "previous_tmp = current_tmp\n",
    "window_df_tmp = next(window_df)\n",
    "current_tmp = window_df_tmp.groupby('keyword').count().rename(columns={'id':'cnt'}).sort_values(by='cnt', ascending=False)\n",
    "current_tmp['rank'] = current_tmp.cnt.rank(method='first', ascending=False)\n",
    "current_tmp = current_tmp[:10]\n",
    "previous_tmp"
   ]
  },
  {
   "cell_type": "code",
   "execution_count": 19,
   "metadata": {
    "ExecuteTime": {
     "end_time": "2019-07-30T07:22:09.422399Z",
     "start_time": "2019-07-30T07:22:09.413759Z"
    },
    "slideshow": {
     "slide_type": "slide"
    }
   },
   "outputs": [
    {
     "data": {
      "text/html": [
       "<div>\n",
       "<style scoped>\n",
       "    .dataframe tbody tr th:only-of-type {\n",
       "        vertical-align: middle;\n",
       "    }\n",
       "\n",
       "    .dataframe tbody tr th {\n",
       "        vertical-align: top;\n",
       "    }\n",
       "\n",
       "    .dataframe thead th {\n",
       "        text-align: right;\n",
       "    }\n",
       "</style>\n",
       "<table border=\"1\" class=\"dataframe\">\n",
       "  <thead>\n",
       "    <tr style=\"text-align: right;\">\n",
       "      <th></th>\n",
       "      <th>cnt</th>\n",
       "      <th>rank</th>\n",
       "    </tr>\n",
       "    <tr>\n",
       "      <th>keyword</th>\n",
       "      <th></th>\n",
       "      <th></th>\n",
       "    </tr>\n",
       "  </thead>\n",
       "  <tbody>\n",
       "    <tr>\n",
       "      <th>소이</th>\n",
       "      <td>27</td>\n",
       "      <td>1.0</td>\n",
       "    </tr>\n",
       "    <tr>\n",
       "      <th>진지희 폭풍성장</th>\n",
       "      <td>16</td>\n",
       "      <td>2.0</td>\n",
       "    </tr>\n",
       "    <tr>\n",
       "      <th>홀리 헨더슨</th>\n",
       "      <td>15</td>\n",
       "      <td>3.0</td>\n",
       "    </tr>\n",
       "    <tr>\n",
       "      <th>강민경 셀카</th>\n",
       "      <td>14</td>\n",
       "      <td>4.0</td>\n",
       "    </tr>\n",
       "    <tr>\n",
       "      <th>하하</th>\n",
       "      <td>13</td>\n",
       "      <td>5.0</td>\n",
       "    </tr>\n",
       "    <tr>\n",
       "      <th>1박2일 후속 준비</th>\n",
       "      <td>12</td>\n",
       "      <td>6.0</td>\n",
       "    </tr>\n",
       "    <tr>\n",
       "      <th>한 사람이 보이면 솔로</th>\n",
       "      <td>11</td>\n",
       "      <td>7.0</td>\n",
       "    </tr>\n",
       "    <tr>\n",
       "      <th>끝장토론</th>\n",
       "      <td>11</td>\n",
       "      <td>8.0</td>\n",
       "    </tr>\n",
       "    <tr>\n",
       "      <th>김현정</th>\n",
       "      <td>10</td>\n",
       "      <td>9.0</td>\n",
       "    </tr>\n",
       "    <tr>\n",
       "      <th>치즈인더트랩</th>\n",
       "      <td>10</td>\n",
       "      <td>10.0</td>\n",
       "    </tr>\n",
       "  </tbody>\n",
       "</table>\n",
       "</div>"
      ],
      "text/plain": [
       "              cnt  rank\n",
       "keyword                \n",
       "소이             27   1.0\n",
       "진지희 폭풍성장       16   2.0\n",
       "홀리 헨더슨         15   3.0\n",
       "강민경 셀카         14   4.0\n",
       "하하             13   5.0\n",
       "1박2일 후속 준비     12   6.0\n",
       "한 사람이 보이면 솔로   11   7.0\n",
       "끝장토론           11   8.0\n",
       "김현정            10   9.0\n",
       "치즈인더트랩         10  10.0"
      ]
     },
     "execution_count": 19,
     "metadata": {},
     "output_type": "execute_result"
    }
   ],
   "source": [
    "current_tmp"
   ]
  },
  {
   "cell_type": "code",
   "execution_count": 20,
   "metadata": {
    "ExecuteTime": {
     "end_time": "2019-07-30T07:22:14.902366Z",
     "start_time": "2019-07-30T07:22:14.879303Z"
    },
    "slideshow": {
     "slide_type": "slide"
    }
   },
   "outputs": [
    {
     "data": {
      "text/html": [
       "<div>\n",
       "<style scoped>\n",
       "    .dataframe tbody tr th:only-of-type {\n",
       "        vertical-align: middle;\n",
       "    }\n",
       "\n",
       "    .dataframe tbody tr th {\n",
       "        vertical-align: top;\n",
       "    }\n",
       "\n",
       "    .dataframe thead th {\n",
       "        text-align: right;\n",
       "    }\n",
       "</style>\n",
       "<table border=\"1\" class=\"dataframe\">\n",
       "  <thead>\n",
       "    <tr style=\"text-align: right;\">\n",
       "      <th></th>\n",
       "      <th>cnt</th>\n",
       "      <th>rank</th>\n",
       "      <th>old_cnt</th>\n",
       "      <th>old_rank</th>\n",
       "    </tr>\n",
       "    <tr>\n",
       "      <th>keyword</th>\n",
       "      <th></th>\n",
       "      <th></th>\n",
       "      <th></th>\n",
       "      <th></th>\n",
       "    </tr>\n",
       "  </thead>\n",
       "  <tbody>\n",
       "    <tr>\n",
       "      <th>소이</th>\n",
       "      <td>27.0</td>\n",
       "      <td>1.0</td>\n",
       "      <td>26.0</td>\n",
       "      <td>1.0</td>\n",
       "    </tr>\n",
       "    <tr>\n",
       "      <th>진지희 폭풍성장</th>\n",
       "      <td>16.0</td>\n",
       "      <td>2.0</td>\n",
       "      <td>17.0</td>\n",
       "      <td>2.0</td>\n",
       "    </tr>\n",
       "    <tr>\n",
       "      <th>홀리 헨더슨</th>\n",
       "      <td>15.0</td>\n",
       "      <td>3.0</td>\n",
       "      <td>NaN</td>\n",
       "      <td>NaN</td>\n",
       "    </tr>\n",
       "    <tr>\n",
       "      <th>강민경 셀카</th>\n",
       "      <td>14.0</td>\n",
       "      <td>4.0</td>\n",
       "      <td>NaN</td>\n",
       "      <td>NaN</td>\n",
       "    </tr>\n",
       "    <tr>\n",
       "      <th>하하</th>\n",
       "      <td>13.0</td>\n",
       "      <td>5.0</td>\n",
       "      <td>NaN</td>\n",
       "      <td>NaN</td>\n",
       "    </tr>\n",
       "    <tr>\n",
       "      <th>1박2일 후속 준비</th>\n",
       "      <td>12.0</td>\n",
       "      <td>6.0</td>\n",
       "      <td>14.0</td>\n",
       "      <td>5.0</td>\n",
       "    </tr>\n",
       "    <tr>\n",
       "      <th>한 사람이 보이면 솔로</th>\n",
       "      <td>11.0</td>\n",
       "      <td>7.0</td>\n",
       "      <td>NaN</td>\n",
       "      <td>NaN</td>\n",
       "    </tr>\n",
       "    <tr>\n",
       "      <th>끝장토론</th>\n",
       "      <td>11.0</td>\n",
       "      <td>8.0</td>\n",
       "      <td>NaN</td>\n",
       "      <td>NaN</td>\n",
       "    </tr>\n",
       "    <tr>\n",
       "      <th>김현정</th>\n",
       "      <td>10.0</td>\n",
       "      <td>9.0</td>\n",
       "      <td>13.0</td>\n",
       "      <td>6.0</td>\n",
       "    </tr>\n",
       "    <tr>\n",
       "      <th>치즈인더트랩</th>\n",
       "      <td>10.0</td>\n",
       "      <td>10.0</td>\n",
       "      <td>NaN</td>\n",
       "      <td>NaN</td>\n",
       "    </tr>\n",
       "    <tr>\n",
       "      <th>소녀시대 라디오 인증</th>\n",
       "      <td>NaN</td>\n",
       "      <td>NaN</td>\n",
       "      <td>15.0</td>\n",
       "      <td>3.0</td>\n",
       "    </tr>\n",
       "    <tr>\n",
       "      <th>한미fta</th>\n",
       "      <td>NaN</td>\n",
       "      <td>NaN</td>\n",
       "      <td>15.0</td>\n",
       "      <td>4.0</td>\n",
       "    </tr>\n",
       "    <tr>\n",
       "      <th>진지희</th>\n",
       "      <td>NaN</td>\n",
       "      <td>NaN</td>\n",
       "      <td>13.0</td>\n",
       "      <td>7.0</td>\n",
       "    </tr>\n",
       "    <tr>\n",
       "      <th>이센스</th>\n",
       "      <td>NaN</td>\n",
       "      <td>NaN</td>\n",
       "      <td>12.0</td>\n",
       "      <td>8.0</td>\n",
       "    </tr>\n",
       "    <tr>\n",
       "      <th>박유천 동방신기 언급</th>\n",
       "      <td>NaN</td>\n",
       "      <td>NaN</td>\n",
       "      <td>11.0</td>\n",
       "      <td>9.0</td>\n",
       "    </tr>\n",
       "    <tr>\n",
       "      <th>소이 왕따</th>\n",
       "      <td>NaN</td>\n",
       "      <td>NaN</td>\n",
       "      <td>11.0</td>\n",
       "      <td>10.0</td>\n",
       "    </tr>\n",
       "  </tbody>\n",
       "</table>\n",
       "</div>"
      ],
      "text/plain": [
       "               cnt  rank  old_cnt  old_rank\n",
       "keyword                                    \n",
       "소이            27.0   1.0     26.0       1.0\n",
       "진지희 폭풍성장      16.0   2.0     17.0       2.0\n",
       "홀리 헨더슨        15.0   3.0      NaN       NaN\n",
       "강민경 셀카        14.0   4.0      NaN       NaN\n",
       "하하            13.0   5.0      NaN       NaN\n",
       "1박2일 후속 준비    12.0   6.0     14.0       5.0\n",
       "한 사람이 보이면 솔로  11.0   7.0      NaN       NaN\n",
       "끝장토론          11.0   8.0      NaN       NaN\n",
       "김현정           10.0   9.0     13.0       6.0\n",
       "치즈인더트랩        10.0  10.0      NaN       NaN\n",
       "소녀시대 라디오 인증    NaN   NaN     15.0       3.0\n",
       "한미fta          NaN   NaN     15.0       4.0\n",
       "진지희            NaN   NaN     13.0       7.0\n",
       "이센스            NaN   NaN     12.0       8.0\n",
       "박유천 동방신기 언급    NaN   NaN     11.0       9.0\n",
       "소이 왕따          NaN   NaN     11.0      10.0"
      ]
     },
     "execution_count": 20,
     "metadata": {},
     "output_type": "execute_result"
    }
   ],
   "source": [
    "#과거 데이터의 column 이름을 변경해줌 (필수 작업은 아님)\n",
    "# 현재 데이터와 조인함\n",
    "previous_tmp = previous_tmp.rename(columns={'cnt':'old_cnt', 'rank':'old_rank'})\n",
    "current_tmp = current_tmp.join(previous_tmp, on='keyword', how='outer')\n",
    "current_tmp"
   ]
  },
  {
   "cell_type": "code",
   "execution_count": 21,
   "metadata": {
    "ExecuteTime": {
     "end_time": "2019-07-30T07:22:18.021600Z",
     "start_time": "2019-07-30T07:22:17.985338Z"
    },
    "slideshow": {
     "slide_type": "slide"
    }
   },
   "outputs": [
    {
     "data": {
      "text/html": [
       "<div>\n",
       "<style scoped>\n",
       "    .dataframe tbody tr th:only-of-type {\n",
       "        vertical-align: middle;\n",
       "    }\n",
       "\n",
       "    .dataframe tbody tr th {\n",
       "        vertical-align: top;\n",
       "    }\n",
       "\n",
       "    .dataframe thead th {\n",
       "        text-align: right;\n",
       "    }\n",
       "</style>\n",
       "<table border=\"1\" class=\"dataframe\">\n",
       "  <thead>\n",
       "    <tr style=\"text-align: right;\">\n",
       "      <th></th>\n",
       "      <th>cnt</th>\n",
       "      <th>rank</th>\n",
       "      <th>old_cnt</th>\n",
       "      <th>old_rank</th>\n",
       "      <th>step</th>\n",
       "    </tr>\n",
       "    <tr>\n",
       "      <th>keyword</th>\n",
       "      <th></th>\n",
       "      <th></th>\n",
       "      <th></th>\n",
       "      <th></th>\n",
       "      <th></th>\n",
       "    </tr>\n",
       "  </thead>\n",
       "  <tbody>\n",
       "    <tr>\n",
       "      <th>소이</th>\n",
       "      <td>27.0</td>\n",
       "      <td>1.0</td>\n",
       "      <td>26.0</td>\n",
       "      <td>1.0</td>\n",
       "      <td>25.0</td>\n",
       "    </tr>\n",
       "    <tr>\n",
       "      <th>진지희 폭풍성장</th>\n",
       "      <td>16.0</td>\n",
       "      <td>2.0</td>\n",
       "      <td>17.0</td>\n",
       "      <td>2.0</td>\n",
       "      <td>15.0</td>\n",
       "    </tr>\n",
       "    <tr>\n",
       "      <th>홀리 헨더슨</th>\n",
       "      <td>15.0</td>\n",
       "      <td>3.0</td>\n",
       "      <td>NaN</td>\n",
       "      <td>NaN</td>\n",
       "      <td>NaN</td>\n",
       "    </tr>\n",
       "    <tr>\n",
       "      <th>강민경 셀카</th>\n",
       "      <td>14.0</td>\n",
       "      <td>4.0</td>\n",
       "      <td>NaN</td>\n",
       "      <td>NaN</td>\n",
       "      <td>NaN</td>\n",
       "    </tr>\n",
       "    <tr>\n",
       "      <th>하하</th>\n",
       "      <td>13.0</td>\n",
       "      <td>5.0</td>\n",
       "      <td>NaN</td>\n",
       "      <td>NaN</td>\n",
       "      <td>NaN</td>\n",
       "    </tr>\n",
       "    <tr>\n",
       "      <th>1박2일 후속 준비</th>\n",
       "      <td>12.0</td>\n",
       "      <td>6.0</td>\n",
       "      <td>14.0</td>\n",
       "      <td>5.0</td>\n",
       "      <td>9.0</td>\n",
       "    </tr>\n",
       "    <tr>\n",
       "      <th>한 사람이 보이면 솔로</th>\n",
       "      <td>11.0</td>\n",
       "      <td>7.0</td>\n",
       "      <td>NaN</td>\n",
       "      <td>NaN</td>\n",
       "      <td>NaN</td>\n",
       "    </tr>\n",
       "    <tr>\n",
       "      <th>끝장토론</th>\n",
       "      <td>11.0</td>\n",
       "      <td>8.0</td>\n",
       "      <td>NaN</td>\n",
       "      <td>NaN</td>\n",
       "      <td>NaN</td>\n",
       "    </tr>\n",
       "    <tr>\n",
       "      <th>김현정</th>\n",
       "      <td>10.0</td>\n",
       "      <td>9.0</td>\n",
       "      <td>13.0</td>\n",
       "      <td>6.0</td>\n",
       "      <td>7.0</td>\n",
       "    </tr>\n",
       "    <tr>\n",
       "      <th>치즈인더트랩</th>\n",
       "      <td>10.0</td>\n",
       "      <td>10.0</td>\n",
       "      <td>NaN</td>\n",
       "      <td>NaN</td>\n",
       "      <td>NaN</td>\n",
       "    </tr>\n",
       "  </tbody>\n",
       "</table>\n",
       "</div>"
      ],
      "text/plain": [
       "               cnt  rank  old_cnt  old_rank  step\n",
       "keyword                                          \n",
       "소이            27.0   1.0     26.0       1.0  25.0\n",
       "진지희 폭풍성장      16.0   2.0     17.0       2.0  15.0\n",
       "홀리 헨더슨        15.0   3.0      NaN       NaN   NaN\n",
       "강민경 셀카        14.0   4.0      NaN       NaN   NaN\n",
       "하하            13.0   5.0      NaN       NaN   NaN\n",
       "1박2일 후속 준비    12.0   6.0     14.0       5.0   9.0\n",
       "한 사람이 보이면 솔로  11.0   7.0      NaN       NaN   NaN\n",
       "끝장토론          11.0   8.0      NaN       NaN   NaN\n",
       "김현정           10.0   9.0     13.0       6.0   7.0\n",
       "치즈인더트랩        10.0  10.0      NaN       NaN   NaN"
      ]
     },
     "execution_count": 21,
     "metadata": {},
     "output_type": "execute_result"
    }
   ],
   "source": [
    "# 과거 rank와 지금 rank를 비교하여 상승/하락폭을 구함\n",
    "# 신규 진입한 keyword는 NaN이기 때문에 수치연산에 반응하지 않음\n",
    "current_tmp['step'] = current_tmp['old_cnt'] - current_tmp['old_rank']\n",
    "current_tmp = current_tmp[:10]\n",
    "current_tmp"
   ]
  },
  {
   "cell_type": "code",
   "execution_count": 22,
   "metadata": {
    "ExecuteTime": {
     "end_time": "2019-07-30T07:22:20.983533Z",
     "start_time": "2019-07-30T07:22:20.973827Z"
    },
    "slideshow": {
     "slide_type": "slide"
    }
   },
   "outputs": [
    {
     "data": {
      "text/html": [
       "<div>\n",
       "<style scoped>\n",
       "    .dataframe tbody tr th:only-of-type {\n",
       "        vertical-align: middle;\n",
       "    }\n",
       "\n",
       "    .dataframe tbody tr th {\n",
       "        vertical-align: top;\n",
       "    }\n",
       "\n",
       "    .dataframe thead th {\n",
       "        text-align: right;\n",
       "    }\n",
       "</style>\n",
       "<table border=\"1\" class=\"dataframe\">\n",
       "  <thead>\n",
       "    <tr style=\"text-align: right;\">\n",
       "      <th></th>\n",
       "      <th>rank</th>\n",
       "      <th>step</th>\n",
       "    </tr>\n",
       "    <tr>\n",
       "      <th>keyword</th>\n",
       "      <th></th>\n",
       "      <th></th>\n",
       "    </tr>\n",
       "  </thead>\n",
       "  <tbody>\n",
       "    <tr>\n",
       "      <th>소이</th>\n",
       "      <td>1.0</td>\n",
       "      <td>25.0</td>\n",
       "    </tr>\n",
       "    <tr>\n",
       "      <th>진지희 폭풍성장</th>\n",
       "      <td>2.0</td>\n",
       "      <td>15.0</td>\n",
       "    </tr>\n",
       "    <tr>\n",
       "      <th>홀리 헨더슨</th>\n",
       "      <td>3.0</td>\n",
       "      <td>NaN</td>\n",
       "    </tr>\n",
       "    <tr>\n",
       "      <th>강민경 셀카</th>\n",
       "      <td>4.0</td>\n",
       "      <td>NaN</td>\n",
       "    </tr>\n",
       "    <tr>\n",
       "      <th>하하</th>\n",
       "      <td>5.0</td>\n",
       "      <td>NaN</td>\n",
       "    </tr>\n",
       "    <tr>\n",
       "      <th>1박2일 후속 준비</th>\n",
       "      <td>6.0</td>\n",
       "      <td>9.0</td>\n",
       "    </tr>\n",
       "    <tr>\n",
       "      <th>한 사람이 보이면 솔로</th>\n",
       "      <td>7.0</td>\n",
       "      <td>NaN</td>\n",
       "    </tr>\n",
       "    <tr>\n",
       "      <th>끝장토론</th>\n",
       "      <td>8.0</td>\n",
       "      <td>NaN</td>\n",
       "    </tr>\n",
       "    <tr>\n",
       "      <th>김현정</th>\n",
       "      <td>9.0</td>\n",
       "      <td>7.0</td>\n",
       "    </tr>\n",
       "    <tr>\n",
       "      <th>치즈인더트랩</th>\n",
       "      <td>10.0</td>\n",
       "      <td>NaN</td>\n",
       "    </tr>\n",
       "  </tbody>\n",
       "</table>\n",
       "</div>"
      ],
      "text/plain": [
       "              rank  step\n",
       "keyword                 \n",
       "소이             1.0  25.0\n",
       "진지희 폭풍성장       2.0  15.0\n",
       "홀리 헨더슨         3.0   NaN\n",
       "강민경 셀카         4.0   NaN\n",
       "하하             5.0   NaN\n",
       "1박2일 후속 준비     6.0   9.0\n",
       "한 사람이 보이면 솔로   7.0   NaN\n",
       "끝장토론           8.0   NaN\n",
       "김현정            9.0   7.0\n",
       "치즈인더트랩        10.0   NaN"
      ]
     },
     "execution_count": 22,
     "metadata": {},
     "output_type": "execute_result"
    }
   ],
   "source": [
    "# 해당 출력을 예쁘게 보이기 하기 위해서 field를 정리\n",
    "# 해당 작업을 계속 반복하면 인기검색어 구현 완료\n",
    "current_tmp = current_tmp[['rank', 'step']]\n",
    "current_tmp"
   ]
  },
  {
   "cell_type": "markdown",
   "metadata": {
    "slideshow": {
     "slide_type": "slide"
    }
   },
   "source": [
    "### 완성된 인기검색어 로직 (pandas ver)"
   ]
  },
  {
   "cell_type": "code",
   "execution_count": 44,
   "metadata": {
    "slideshow": {
     "slide_type": "slide"
    }
   },
   "outputs": [],
   "source": [
    "import pandas as pd\n",
    "    \n",
    "def log_streamer(path, window_size = 5):\n",
    "    import csv\n",
    "    df = pd.read_csv(path, sep='\\t', header=None, names = ['date', 'id', 'keyword', 'result'],quoting=csv.QUOTE_NONE)\n",
    "    df =  df[df[\"date\"].map(str).map(len) == 15]\n",
    "    df['date'] = df.date.apply(lambda x: pd.datetime.strptime(x, '%Y%m%d-%H%M%S'))\n",
    "    df = df[['date', 'id', 'keyword']]\n",
    "    df = df.set_index('date').sort_index()\n",
    "    \n",
    "    previous = pd.DataFrame(columns=['keyword', 'old_rank'])\n",
    "    current_timestamp = df.index[0]\n",
    "    while current_timestamp < df.index[-1]:\n",
    "        next_timestamp = current_timestamp + pd.DateOffset(minutes=window_size)\n",
    "        word_count = df[current_timestamp:next_timestamp]\n",
    "        \n",
    "        # groupby를 추가 후 100개만 남김\n",
    "        #word_count = word_count.groupby  ????     [:100]\n",
    "       \n",
    "        # 과거 step 계산\n",
    "        current = word_count.join(previous, on='keyword', how='outer', rsuffix='_right')\n",
    "        #current['rank'] = ????\n",
    "        #current['step'] = ????\n",
    "        current = current[['cnt', 'rank', 'step']][:100]\n",
    "        \n",
    "        yield current, previous\n",
    "        previous = current.rename(columns={'rank':'old_rank'})[:100]\n",
    "        current_timestamp = next_timestamp\n",
    "\n",
    "stream = log_streamer('data/sample_search_log.txt')"
   ]
  },
  {
   "cell_type": "code",
   "execution_count": 50,
   "metadata": {
    "slideshow": {
     "slide_type": "slide"
    }
   },
   "outputs": [],
   "source": [
    "from ipywidgets import widgets\n",
    "from IPython.display import display\n",
    "from IPython.display import clear_output\n",
    "\n",
    "text = widgets.Text()\n",
    "\n",
    "def handle_submint(sender):\n",
    "    clear_output()\n",
    "    display(text)\n",
    "    for k, v in get_top(30)[0].iterrows():\n",
    "        print (k, v[1], str(v[2]).replace('nan', 'NEW').replace('.0', ''))\n",
    "\n",
    "text.on_submit(handle_submint)\n",
    "\n",
    "stream = log_streamer('data/sample_search_log.txt')\n",
    "\n",
    "def get_top(rows=10):\n",
    "    current, previous = next(stream)\n",
    "    return current[:rows], previous[:rows]"
   ]
  },
  {
   "cell_type": "code",
   "execution_count": 52,
   "metadata": {
    "slideshow": {
     "slide_type": "slide"
    }
   },
   "outputs": [
    {
     "data": {
      "application/vnd.jupyter.widget-view+json": {
       "model_id": "a2e695be689d47acba0c525f75f6632c",
       "version_major": 2,
       "version_minor": 0
      },
      "text/plain": [
       "Text(value='')"
      ]
     },
     "metadata": {},
     "output_type": "display_data"
    },
    {
     "name": "stdout",
     "output_type": "stream",
     "text": [
      "당연히송 1.0 7\n",
      "소이 2.0 0\n",
      "짝 3.0 6\n",
      "1박2일 후속 준비 4.0 0\n",
      "진지희 폭풍성장 5.0 0\n",
      "정형돈 6.0 -5\n",
      "권소현 7.0 -4\n",
      "홀리 헨더슨 8.0 15\n",
      "진지희 9.0 11\n",
      "박유천 동방신기 언급 10.0 8\n",
      "강민경 셀카 11.0 -4\n",
      "소이 왕따 12.0 -6\n",
      "이센스 13.0 -3\n",
      "박혜경 공식입장 14.0 -1\n",
      "한사람이 보이면 솔로 15.0 -4\n",
      "제니주노 박민지 16.0 -4\n",
      "소녀시대 라디오 인증 17.0 -2\n",
      "문채원 달려라고등어 18.0 NEW\n",
      "다음 19.0 3\n",
      "백윤식 둘째아들 20.0 5\n",
      "박유천 동방신기 21.0 13\n",
      "라디오스타 22.0 10\n",
      "김현정 23.0 NEW\n",
      "한 사람이 보이면 솔로 24.0 2\n",
      "김치의 효능 25.0 22\n",
      "브라보마이라이프 26.0 -12\n",
      "아이폰4s 27.0 36\n",
      "이센스 활동 중단 28.0 2\n",
      "뿌리깊은나무 29.0 35\n",
      "연금복권18회당첨번호 30.0 63\n"
     ]
    }
   ],
   "source": [
    "display(text)"
   ]
  }
 ],
 "metadata": {
  "celltoolbar": "Slideshow",
  "kernelspec": {
   "display_name": "Python 3",
   "language": "python",
   "name": "python3"
  },
  "language_info": {
   "codemirror_mode": {
    "name": "ipython",
    "version": 3
   },
   "file_extension": ".py",
   "mimetype": "text/x-python",
   "name": "python",
   "nbconvert_exporter": "python",
   "pygments_lexer": "ipython3",
   "version": "3.6.8"
  },
  "latex_envs": {
   "LaTeX_envs_menu_present": true,
   "autoclose": false,
   "autocomplete": true,
   "bibliofile": "biblio.bib",
   "cite_by": "apalike",
   "current_citInitial": 1,
   "eqLabelWithNumbers": true,
   "eqNumInitial": 1,
   "hotkeys": {
    "equation": "Ctrl-E",
    "itemize": "Ctrl-I"
   },
   "labels_anchors": false,
   "latex_user_defs": false,
   "report_style_numbering": false,
   "user_envs_cfg": false
  },
  "toc": {
   "base_numbering": 1,
   "nav_menu": {},
   "number_sections": false,
   "sideBar": true,
   "skip_h1_title": false,
   "title_cell": "Table of Contents",
   "title_sidebar": "Contents",
   "toc_cell": false,
   "toc_position": {
    "height": "calc(100% - 180px)",
    "left": "10px",
    "top": "150px",
    "width": "250.188px"
   },
   "toc_section_display": true,
   "toc_window_display": false
  },
  "varInspector": {
   "cols": {
    "lenName": 16,
    "lenType": 16,
    "lenVar": 40
   },
   "kernels_config": {
    "python": {
     "delete_cmd_postfix": "",
     "delete_cmd_prefix": "del ",
     "library": "var_list.py",
     "varRefreshCmd": "print(var_dic_list())"
    },
    "r": {
     "delete_cmd_postfix": ") ",
     "delete_cmd_prefix": "rm(",
     "library": "var_list.r",
     "varRefreshCmd": "cat(var_dic_list()) "
    }
   },
   "types_to_exclude": [
    "module",
    "function",
    "builtin_function_or_method",
    "instance",
    "_Feature"
   ],
   "window_display": false
  }
 },
 "nbformat": 4,
 "nbformat_minor": 2
}
