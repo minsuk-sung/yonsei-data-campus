{
 "cells": [
  {
   "cell_type": "markdown",
   "metadata": {
    "slideshow": {
     "slide_type": "slide"
    }
   },
   "source": [
    "# <center> BIGDATA X YONSEI CAMPUS </center>\n",
    "### <center> 키워드 분석 및 문서 분석 </center>\n",
    "#### <center> 키워드 분석: 키워드 자동완성 </center>\n",
    "---------------------------\n",
    "#### <div style=\"text-align: right\"> 손근영 </div>"
   ]
  },
  {
   "cell_type": "markdown",
   "metadata": {
    "slideshow": {
     "slide_type": "slide"
    }
   },
   "source": [
    "## 1. Keyword Analysis - 키워드 자동완성\n",
    "### Motivation\n",
    "* 사용자들은 액션을 귀찮아함\n",
    "* 검색어 입력은 피곤한 일\n",
    " * 스마트폰에서 키보드 입력은 매우 힘든 일\n",
    "* 사용자는 자신이 무엇을 찾으려하는지 모름\n",
    " * 대부분의 사용자들은 인터넷을 이용할 때 분명한 목적이 있지 않음\n",
    " * 대부분의 사용자는 big head/log tail 법칙에 따라 정보를 소비함\n",
    " * 최근 사용자들은 정보를 능동적으로 소비하지 않고 수동적으로 주입 당함"
   ]
  },
  {
   "cell_type": "markdown",
   "metadata": {
    "slideshow": {
     "slide_type": "slide"
    }
   },
   "source": [
    "## 1. Keyword Analysis - 키워드 자동완성\n",
    "### Key Idea\n",
    "* 어째뜬 검색은 발생되고 검색 노출 로그는 생성됨\n",
    " * 어떻게 하면 더욱 유익하게 사용할 수 있을까?\n",
    " * 어떻게 하면 무엇을 찾을지 모르는, 검색어 입력을 귀찮아하는 사용자에게 검색을 이용하게 할 것인가?\n",
    "* 많이 발생한 빈도의 키워드를 사용자기 키워드를 입력하는 동안 예측해서 보여주면?"
   ]
  },
  {
   "cell_type": "markdown",
   "metadata": {
    "slideshow": {
     "slide_type": "slide"
    }
   },
   "source": [
    "## 2. 키워드 자동완성의 서비스 화면\n",
    "<center><img src='img/03_01.png' height=50% width=50%></center>"
   ]
  },
  {
   "cell_type": "markdown",
   "metadata": {
    "slideshow": {
     "slide_type": "slide"
    }
   },
   "source": [
    "## 3. 자동완성의 가치\n",
    "* 사용자는 모바일 시대 이전부터 PC에서 오랜 시간 검색을 이용해왔음\n",
    " * PC의 검색어 입력은 모바일보다는 쉽지만 역시 피곤한 일\n",
    "* 우리는 상당히 오랫동안 동일한 검색어를 다시 검색하는 습성이 있음 (ex 날씨)\n",
    "* 찾고자 하는 내용은 PC나 모바일이나 같음\n",
    "* 검색 노출 정보를 이용하여 여러사람의 검색 빅데이터를 재활용\n",
    " * 입력하고 있는 키워드를 예측해서 보여주면 검색 피로도를 줄일 수 있음\n",
    " \n"
   ]
  },
  {
   "cell_type": "markdown",
   "metadata": {
    "slideshow": {
     "slide_type": "subslide"
    }
   },
   "source": [
    "## 3. 자동완성의 가치\n",
    "\n",
    "* 검색 피로도가 줄면?\n",
    " * 검색 액션에 부담이 적어짐 / 검색양이 증가함\n",
    "--------------------\n",
    "* 검색양이 증가하면?\n",
    " * PV 상승 / 이용자의 의도가 더욱 더 log안에 저장됨\n",
    " * 해당 사용자의 행태가 저정됨"
   ]
  },
  {
   "cell_type": "markdown",
   "metadata": {
    "slideshow": {
     "slide_type": "slide"
    }
   },
   "source": [
    "## 4. 자동완성 방식 구상\n",
    "### 로그 형태\n",
    "\n",
    "<center><img src='img/01_13.png' height=50% width=50%></center>\n",
    "\n",
    "### 알고리즘\n",
    "* 검색 로그를 line by line으로 분리\n",
    "* line을 \\t 기준으로 분리\n",
    "* 분리된 데이터에서 '검색어'를 획득\n",
    "* 전체 로그에서 검색어 개수를 집계함\n",
    "* 등장 횟수가 너무 작은 검색어를 삭제 후 높은 순으로 정렬\n",
    "* 입력되는 문자열 $typing$이 주어졌을때 예상되는 키워드 $pred\\_keywords$를 출력"
   ]
  },
  {
   "cell_type": "markdown",
   "metadata": {
    "slideshow": {
     "slide_type": "slide"
    }
   },
   "source": [
    "## 4. 자동완성 방식 구상\n",
    "\n",
    "### 알고리즘\n",
    "$$ P(pred\\_keyword|typing) \\nonumber $$\n",
    "* 주어진 중간 입력에 대하여 완성될 키워드를 예측하는 문제\n",
    "* 사용자가 어떤 키워드를 완성하고 싶을지 알 수 없음\n",
    "* 다른 사용자들이 기존에 입력한 키워드의 조건부 확률을 집계하여 높은 순서대로 보여줌"
   ]
  },
  {
   "cell_type": "markdown",
   "metadata": {
    "slideshow": {
     "slide_type": "slide"
    }
   },
   "source": [
    "## 5. 자동완성 방식 설명\n",
    "### 데이터 정의\n",
    "* 빅데이터 저장소에 엄청나게 많은 검색 로그가 저장되어있다고 가정\n",
    "* 많이 집계하면 많이 집계할 수록 사용자의 입력에 대한 coverage가 좋아짐"
   ]
  },
  {
   "cell_type": "markdown",
   "metadata": {
    "slideshow": {
     "slide_type": "slide"
    }
   },
   "source": [
    "### 필수 모듈\n",
    "* 전체 데이터에 대한 키워드 집계\n",
    "<center><img src='img/03_02.png' height=50% width=50%></center>"
   ]
  },
  {
   "cell_type": "markdown",
   "metadata": {
    "slideshow": {
     "slide_type": "slide"
    }
   },
   "source": [
    "### 필수 모듈\n",
    "* 한글 자소 분리\n",
    " * 자동완성은 사용자의 키워드 입력 하나하나에 반응\n",
    " * 이것은 한글을 자소 단위로 분석해야한다는 것과 같음\n",
    " * 한글 유니코드에 대한 조합형 공식의 이해가 필요\n",
    "<center><img src='img/03_03.png' height=60% width=60%></center>"
   ]
  },
  {
   "cell_type": "markdown",
   "metadata": {
    "slideshow": {
     "slide_type": "slide"
    }
   },
   "source": [
    "## 5. 자동완성 방식 설명\n",
    "### 자소(초성, 중성, 종성) 분리 예제\n",
    "\n",
    "* 간소화한 예제지만 근본 원리는 같음\n",
    "<center><img src='img/03_04.png' height=70% width=70%></center>\n",
    "* 각 => 1110\n",
    " * 각/1000 => 1, 초성 ㄱ\n",
    " * (각 % 1000)/100 => 1, 중성 ㅏ\n",
    " * (각 % 1000 % 100)/10 => 1, 종성 ㄱ\n"
   ]
  },
  {
   "cell_type": "code",
   "execution_count": 1,
   "metadata": {
    "slideshow": {
     "slide_type": "slide"
    }
   },
   "outputs": [],
   "source": [
    "import pandas as pd"
   ]
  },
  {
   "cell_type": "code",
   "execution_count": 4,
   "metadata": {
    "slideshow": {
     "slide_type": "slide"
    }
   },
   "outputs": [],
   "source": [
    "#이전 시간에 처리했던 데이터 클랜징 시도\n",
    "import csv \n",
    "df = pd.read_csv('data/sample_search_log.txt', sep='\\t', header=None, names = ['date', 'id', 'keyword', 'result'],\n",
    "                 quoting=csv.QUOTE_NONE)\n",
    "df =  df[df[\"date\"].map(str).map(len) == 15]\n",
    "df['date'] = df.date.apply(lambda x: pd.datetime.strptime(x, '%Y%m%d-%H%M%S'))"
   ]
  },
  {
   "cell_type": "code",
   "execution_count": 5,
   "metadata": {
    "scrolled": true,
    "slideshow": {
     "slide_type": "slide"
    }
   },
   "outputs": [
    {
     "data": {
      "text/html": [
       "<div>\n",
       "<style scoped>\n",
       "    .dataframe tbody tr th:only-of-type {\n",
       "        vertical-align: middle;\n",
       "    }\n",
       "\n",
       "    .dataframe tbody tr th {\n",
       "        vertical-align: top;\n",
       "    }\n",
       "\n",
       "    .dataframe thead th {\n",
       "        text-align: right;\n",
       "    }\n",
       "</style>\n",
       "<table border=\"1\" class=\"dataframe\">\n",
       "  <thead>\n",
       "    <tr style=\"text-align: right;\">\n",
       "      <th></th>\n",
       "      <th>cnt</th>\n",
       "    </tr>\n",
       "    <tr>\n",
       "      <th>keyword</th>\n",
       "      <th></th>\n",
       "    </tr>\n",
       "  </thead>\n",
       "  <tbody>\n",
       "    <tr>\n",
       "      <th>여자아이돌 대마초</th>\n",
       "      <td>6576</td>\n",
       "    </tr>\n",
       "    <tr>\n",
       "      <th>박봄</th>\n",
       "      <td>4558</td>\n",
       "    </tr>\n",
       "    <tr>\n",
       "      <th>정다연</th>\n",
       "      <td>3889</td>\n",
       "    </tr>\n",
       "    <tr>\n",
       "      <th>안은정</th>\n",
       "      <td>2943</td>\n",
       "    </tr>\n",
       "    <tr>\n",
       "      <th>강민경 셀카</th>\n",
       "      <td>2936</td>\n",
       "    </tr>\n",
       "  </tbody>\n",
       "</table>\n",
       "</div>"
      ],
      "text/plain": [
       "            cnt\n",
       "keyword        \n",
       "여자아이돌 대마초  6576\n",
       "박봄         4558\n",
       "정다연        3889\n",
       "안은정        2943\n",
       "강민경 셀카     2936"
      ]
     },
     "execution_count": 5,
     "metadata": {},
     "output_type": "execute_result"
    }
   ],
   "source": [
    "# word count를 적용\n",
    "df = df.groupby(by='keyword').count().sort_values(by='id', ascending=False)[['id']].rename(columns={\"id\": \"cnt\"})\n",
    "res = df.copy()\n",
    "res[:5]"
   ]
  },
  {
   "cell_type": "code",
   "execution_count": 7,
   "metadata": {
    "scrolled": true,
    "slideshow": {
     "slide_type": "slide"
    }
   },
   "outputs": [
    {
     "data": {
      "text/plain": [
       "array([[<matplotlib.axes._subplots.AxesSubplot object at 0x0000015C4C378208>]],\n",
       "      dtype=object)"
      ]
     },
     "execution_count": 7,
     "metadata": {},
     "output_type": "execute_result"
    },
    {
     "data": {
      "image/png": "[encoded data removed]",
      "text/plain": [
       "<Figure size 432x288 with 1 Axes>"
      ]
     },
     "metadata": {
      "needs_background": "light"
     },
     "output_type": "display_data"
    }
   ],
   "source": [
    "# count 별 키워드 개수 빈도\n",
    "res[:1000].hist(bins = 100)"
   ]
  },
  {
   "cell_type": "code",
   "execution_count": 8,
   "metadata": {
    "slideshow": {
     "slide_type": "slide"
    }
   },
   "outputs": [
    {
     "data": {
      "text/html": [
       "<div>\n",
       "<style scoped>\n",
       "    .dataframe tbody tr th:only-of-type {\n",
       "        vertical-align: middle;\n",
       "    }\n",
       "\n",
       "    .dataframe tbody tr th {\n",
       "        vertical-align: top;\n",
       "    }\n",
       "\n",
       "    .dataframe thead th {\n",
       "        text-align: right;\n",
       "    }\n",
       "</style>\n",
       "<table border=\"1\" class=\"dataframe\">\n",
       "  <thead>\n",
       "    <tr style=\"text-align: right;\">\n",
       "      <th></th>\n",
       "      <th>cnt</th>\n",
       "    </tr>\n",
       "    <tr>\n",
       "      <th>keyword</th>\n",
       "      <th></th>\n",
       "    </tr>\n",
       "  </thead>\n",
       "  <tbody>\n",
       "    <tr>\n",
       "      <th>삼성카드</th>\n",
       "      <td>220</td>\n",
       "    </tr>\n",
       "    <tr>\n",
       "      <th>삼성전자</th>\n",
       "      <td>150</td>\n",
       "    </tr>\n",
       "    <tr>\n",
       "      <th>삼성모바일닷컴</th>\n",
       "      <td>100</td>\n",
       "    </tr>\n",
       "    <tr>\n",
       "      <th>삼성화재</th>\n",
       "      <td>40</td>\n",
       "    </tr>\n",
       "    <tr>\n",
       "      <th>삼성전기</th>\n",
       "      <td>39</td>\n",
       "    </tr>\n",
       "  </tbody>\n",
       "</table>\n",
       "</div>"
      ],
      "text/plain": [
       "         cnt\n",
       "keyword     \n",
       "삼성카드     220\n",
       "삼성전자     150\n",
       "삼성모바일닷컴  100\n",
       "삼성화재      40\n",
       "삼성전기      39"
      ]
     },
     "execution_count": 8,
     "metadata": {},
     "output_type": "execute_result"
    }
   ],
   "source": [
    "#완성된 word count를 사용자가 질의한 키워드에 prefix 검색을 시도하면 대상 키워드를 추출할 수 있음\n",
    "res[res.index.str.startswith('삼성')][:5]"
   ]
  },
  {
   "cell_type": "code",
   "execution_count": 9,
   "metadata": {
    "slideshow": {
     "slide_type": "slide"
    }
   },
   "outputs": [],
   "source": [
    "from ipywidgets import widgets\n",
    "from IPython.display import display\n",
    "from IPython.display import clear_output\n",
    "text = widgets.Text()\n",
    "\n",
    "def handle_submint(sender):\n",
    "    clear_output()\n",
    "    display(text)\n",
    "    for k, v in get_suggest(text.value):\n",
    "        print(k)\n",
    "\n",
    "text.on_submit(handle_submint)\n",
    "\n",
    "def get_suggest(raw, rows=10):\n",
    "    return [(key, val[0])for key, val in res[res.index.str.startswith(raw)][:rows].iterrows()]"
   ]
  },
  {
   "cell_type": "code",
   "execution_count": 10,
   "metadata": {
    "slideshow": {
     "slide_type": "slide"
    }
   },
   "outputs": [
    {
     "data": {
      "application/vnd.jupyter.widget-view+json": {
       "model_id": "5868681046ab45b78f339d17542513b1",
       "version_major": 2,
       "version_minor": 0
      },
      "text/plain": [
       "Text(value='삼성')"
      ]
     },
     "metadata": {},
     "output_type": "display_data"
    },
    {
     "name": "stdout",
     "output_type": "stream",
     "text": [
      "삼성카드\n",
      "삼성전자\n",
      "삼성모바일닷컴\n",
      "삼성화재\n",
      "삼성전기\n",
      "삼성생명\n",
      "삼성중공업\n",
      "삼성증권\n",
      "삼성\n",
      "삼성전자서비스센터\n"
     ]
    }
   ],
   "source": [
    "display(text)"
   ]
  },
  {
   "cell_type": "markdown",
   "metadata": {
    "slideshow": {
     "slide_type": "slide"
    }
   },
   "source": [
    "## 한계점\n",
    "\n",
    "* 자동완성은 사용자의 입력이 불완전한 상태에도 동작함\n",
    " * 예) 삼ㅅ -> 삼성 출력\n",
    "* 현재의 방식은 사용자의 로그에서 정말로 등장했던 입력에 대한 자동완성 밖에 출력해주지 못함\n",
    "* 사용자 입력을 초성 중성 종성으로 분해하여 검색 대상으로 잡아주자"
   ]
  },
  {
   "cell_type": "markdown",
   "metadata": {
    "slideshow": {
     "slide_type": "slide"
    }
   },
   "source": [
    "### 자소가 분리된 색인을 추가해여 보자\n",
    "- unicode 한글은 다음과 같이 분해 될 수 있음\n",
    "- 한글 => ㅎㅏㄴㄱㅡㄹ\n",
    "- 한글은 0xAC00 부터 시작\n",
    "- 초성 19개, 중성 21개, 종성 28개"
   ]
  },
  {
   "cell_type": "markdown",
   "metadata": {
    "slideshow": {
     "slide_type": "slide"
    }
   },
   "source": [
    "### 한글을 완성시키는 조합 공식은 다음과 같음\n",
    "\n",
    "<pre>\n",
    "글자 = (초성 * 21 * 28) + (중성 * 28) + 종성\n",
    "     = ((초성 * 21) + 중성) * 28 + 종성\n",
    "</pre>\n",
    "\n",
    "- 최종적으로 한글의 시작 범위인 OxAC00을 더해주면 유니코드상의 한글이 표현됨<br>\n",
    "글자 = ((초성 * 21) + 중성) * 28 + 종성 + 0xAC00<br>\n",
    "\n",
    "- 공식을 이용하여 주어진 글자에 대한 각 초성과 중성, 종성의 코드를 알아낼 수 있음"
   ]
  },
  {
   "cell_type": "markdown",
   "metadata": {
    "slideshow": {
     "slide_type": "slide"
    }
   },
   "source": [
    "## quiz 1 \n",
    "* 초성, 중성, 종성으로 한글입력을 나누는 함수를 작성해보자"
   ]
  },
  {
   "cell_type": "code",
   "execution_count": 11,
   "metadata": {
    "slideshow": {
     "slide_type": "slide"
    }
   },
   "outputs": [],
   "source": [
    "def decomposeKStr(kstr):\n",
    "    def decomposeKChar(ch):\n",
    "        if not(0xAC00 <= ord(ch) <= 0xD7AF):\n",
    "            return ch\n",
    "\n",
    "        cho  = [\"ㄱ\", \"ㄲ\", \"ㄴ\", \"ㄷ\", \"ㄸ\", \"ㄹ\", \"ㅁ\", \"ㅂ\", \"ㅃ\", \"ㅅ\", \"ㅆ\", \"ㅇ\", \"ㅈ\", \"ㅉ\", \"ㅊ\", \"ㅋ\", \"ㅌ\", \"ㅍ\", \"ㅎ\" ]\n",
    "        jung = [\"ㅏ\", \"ㅐ\", \"ㅑ\", \"ㅒ\", \"ㅓ\", \"ㅔ\", \"ㅕ\", \"ㅖ\", \"ㅗ\", \"ㅘ\", \"ㅙ\", \"ㅚ\", \"ㅛ\", \"ㅜ\", \"ㅝ\", \"ㅞ\", \"ㅟ\", \"ㅠ\", \"ㅡ\", \"ㅢ\", \"ㅣ\"]\n",
    "        jong = [\"\", \"ㄱ\", \"ㄲ\", \"ㄳ\", \"ㄴ\", \"ㄵ\", \"ㄶ\", \"ㄷ\", \"ㄹ\", \"ㄺ\", \"ㄻ\", \"ㄼ\", \"ㄽ\", \"ㄾ\", \"ㄿ\", \"ㅀ\", \"ㅁ\", \"ㅂ\", \"ㅄ\", \"ㅅ\", \"ㅆ\", \"ㅇ\", \"ㅈ\", \"ㅊ\", \"ㅋ\", \"ㅌ\", \"ㅍ\", \"ㅎ\"]\n",
    "\n",
    "        n = ord(ch) - 0xAC00\n",
    "\n",
    "        #last = ???\n",
    "        #middle = ???\n",
    "        #first = ????\n",
    "        return cho[first], jung[middle], jong[last]\n",
    "    \n",
    "    res = []\n",
    "    for ch in kstr:\n",
    "        res += decomposeKChar(ch)\n",
    "    return res"
   ]
  },
  {
   "cell_type": "code",
   "execution_count": 12,
   "metadata": {
    "slideshow": {
     "slide_type": "slide"
    }
   },
   "outputs": [
    {
     "data": {
      "text/plain": [
       "'todayㄴㅡㄴ ㄴㅏㄹㅆㅣㄱㅏ 10ㅂㅓㄴㅉㅐㄹㅗ ㅈㅗㅎㅇㅏ'"
      ]
     },
     "execution_count": 12,
     "metadata": {},
     "output_type": "execute_result"
    }
   ],
   "source": [
    "\"\".join(decomposeKStr('today는 날씨가 10번째로 좋아'))"
   ]
  },
  {
   "cell_type": "code",
   "execution_count": 13,
   "metadata": {
    "slideshow": {
     "slide_type": "slide"
    }
   },
   "outputs": [],
   "source": [
    "df2 = df.reset_index()"
   ]
  },
  {
   "cell_type": "code",
   "execution_count": 14,
   "metadata": {
    "slideshow": {
     "slide_type": "slide"
    }
   },
   "outputs": [
    {
     "data": {
      "text/html": [
       "<div>\n",
       "<style scoped>\n",
       "    .dataframe tbody tr th:only-of-type {\n",
       "        vertical-align: middle;\n",
       "    }\n",
       "\n",
       "    .dataframe tbody tr th {\n",
       "        vertical-align: top;\n",
       "    }\n",
       "\n",
       "    .dataframe thead th {\n",
       "        text-align: right;\n",
       "    }\n",
       "</style>\n",
       "<table border=\"1\" class=\"dataframe\">\n",
       "  <thead>\n",
       "    <tr style=\"text-align: right;\">\n",
       "      <th></th>\n",
       "      <th>keyword</th>\n",
       "      <th>cnt</th>\n",
       "      <th>decompose</th>\n",
       "    </tr>\n",
       "  </thead>\n",
       "  <tbody>\n",
       "    <tr>\n",
       "      <th>0</th>\n",
       "      <td>여자아이돌 대마초</td>\n",
       "      <td>6576</td>\n",
       "      <td>ㅇㅕㅈㅏㅇㅏㅇㅣㄷㅗㄹ ㄷㅐㅁㅏㅊㅗ</td>\n",
       "    </tr>\n",
       "    <tr>\n",
       "      <th>1</th>\n",
       "      <td>박봄</td>\n",
       "      <td>4558</td>\n",
       "      <td>ㅂㅏㄱㅂㅗㅁ</td>\n",
       "    </tr>\n",
       "    <tr>\n",
       "      <th>2</th>\n",
       "      <td>정다연</td>\n",
       "      <td>3889</td>\n",
       "      <td>ㅈㅓㅇㄷㅏㅇㅕㄴ</td>\n",
       "    </tr>\n",
       "    <tr>\n",
       "      <th>3</th>\n",
       "      <td>안은정</td>\n",
       "      <td>2943</td>\n",
       "      <td>ㅇㅏㄴㅇㅡㄴㅈㅓㅇ</td>\n",
       "    </tr>\n",
       "    <tr>\n",
       "      <th>4</th>\n",
       "      <td>강민경 셀카</td>\n",
       "      <td>2936</td>\n",
       "      <td>ㄱㅏㅇㅁㅣㄴㄱㅕㅇ ㅅㅔㄹㅋㅏ</td>\n",
       "    </tr>\n",
       "  </tbody>\n",
       "</table>\n",
       "</div>"
      ],
      "text/plain": [
       "     keyword   cnt           decompose\n",
       "0  여자아이돌 대마초  6576  ㅇㅕㅈㅏㅇㅏㅇㅣㄷㅗㄹ ㄷㅐㅁㅏㅊㅗ\n",
       "1         박봄  4558              ㅂㅏㄱㅂㅗㅁ\n",
       "2        정다연  3889            ㅈㅓㅇㄷㅏㅇㅕㄴ\n",
       "3        안은정  2943           ㅇㅏㄴㅇㅡㄴㅈㅓㅇ\n",
       "4     강민경 셀카  2936     ㄱㅏㅇㅁㅣㄴㄱㅕㅇ ㅅㅔㄹㅋㅏ"
      ]
     },
     "execution_count": 14,
     "metadata": {},
     "output_type": "execute_result"
    }
   ],
   "source": [
    "#자소분해를 적용시켜보자\n",
    "df2['decompose'] = df2.keyword.map(lambda x : \"\".join(decomposeKStr(str(x))))\n",
    "df2[:5]"
   ]
  },
  {
   "cell_type": "code",
   "execution_count": 15,
   "metadata": {
    "slideshow": {
     "slide_type": "slide"
    }
   },
   "outputs": [
    {
     "data": {
      "text/html": [
       "<div>\n",
       "<style scoped>\n",
       "    .dataframe tbody tr th:only-of-type {\n",
       "        vertical-align: middle;\n",
       "    }\n",
       "\n",
       "    .dataframe tbody tr th {\n",
       "        vertical-align: top;\n",
       "    }\n",
       "\n",
       "    .dataframe thead th {\n",
       "        text-align: right;\n",
       "    }\n",
       "</style>\n",
       "<table border=\"1\" class=\"dataframe\">\n",
       "  <thead>\n",
       "    <tr style=\"text-align: right;\">\n",
       "      <th></th>\n",
       "      <th>keyword</th>\n",
       "      <th>cnt</th>\n",
       "    </tr>\n",
       "    <tr>\n",
       "      <th>decompose</th>\n",
       "      <th></th>\n",
       "      <th></th>\n",
       "    </tr>\n",
       "  </thead>\n",
       "  <tbody>\n",
       "    <tr>\n",
       "      <th>ㅇㅕㅈㅏㅇㅏㅇㅣㄷㅗㄹ ㄷㅐㅁㅏㅊㅗ</th>\n",
       "      <td>여자아이돌 대마초</td>\n",
       "      <td>6576</td>\n",
       "    </tr>\n",
       "    <tr>\n",
       "      <th>ㅂㅏㄱㅂㅗㅁ</th>\n",
       "      <td>박봄</td>\n",
       "      <td>4558</td>\n",
       "    </tr>\n",
       "    <tr>\n",
       "      <th>ㅈㅓㅇㄷㅏㅇㅕㄴ</th>\n",
       "      <td>정다연</td>\n",
       "      <td>3889</td>\n",
       "    </tr>\n",
       "    <tr>\n",
       "      <th>ㅇㅏㄴㅇㅡㄴㅈㅓㅇ</th>\n",
       "      <td>안은정</td>\n",
       "      <td>2943</td>\n",
       "    </tr>\n",
       "    <tr>\n",
       "      <th>ㄱㅏㅇㅁㅣㄴㄱㅕㅇ ㅅㅔㄹㅋㅏ</th>\n",
       "      <td>강민경 셀카</td>\n",
       "      <td>2936</td>\n",
       "    </tr>\n",
       "  </tbody>\n",
       "</table>\n",
       "</div>"
      ],
      "text/plain": [
       "                      keyword   cnt\n",
       "decompose                          \n",
       "ㅇㅕㅈㅏㅇㅏㅇㅣㄷㅗㄹ ㄷㅐㅁㅏㅊㅗ  여자아이돌 대마초  6576\n",
       "ㅂㅏㄱㅂㅗㅁ                     박봄  4558\n",
       "ㅈㅓㅇㄷㅏㅇㅕㄴ                  정다연  3889\n",
       "ㅇㅏㄴㅇㅡㄴㅈㅓㅇ                 안은정  2943\n",
       "ㄱㅏㅇㅁㅣㄴㄱㅕㅇ ㅅㅔㄹㅋㅏ        강민경 셀카  2936"
      ]
     },
     "execution_count": 15,
     "metadata": {},
     "output_type": "execute_result"
    }
   ],
   "source": [
    "# 완성된 데이터 필드를 정리한다\n",
    "df2 = df2[['decompose', 'keyword', 'cnt']]\n",
    "df2 = df2.set_index('decompose')\n",
    "df2[:5]"
   ]
  },
  {
   "cell_type": "code",
   "execution_count": 16,
   "metadata": {
    "slideshow": {
     "slide_type": "slide"
    }
   },
   "outputs": [],
   "source": [
    "from ipywidgets import widgets\n",
    "from IPython.display import display\n",
    "from IPython.display import clear_output\n",
    "text = widgets.Text()\n",
    "\n",
    "def handle_submint(sender):\n",
    "    clear_output()\n",
    "    display(text)\n",
    "    for k, v in get_suggest(\"\".join(decomposeKStr(text.value))):\n",
    "        print(k)\n",
    "\n",
    "#text.observe(handle_submint)\n",
    "text.on_submit(handle_submint)\n",
    "\n",
    "def get_suggest(raw, rows=10):\n",
    "    return [(val[0], val[1])for key, val in df2[df2.index.str.startswith(raw)][:rows].iterrows()]"
   ]
  },
  {
   "cell_type": "code",
   "execution_count": 17,
   "metadata": {
    "slideshow": {
     "slide_type": "slide"
    }
   },
   "outputs": [
    {
     "data": {
      "application/vnd.jupyter.widget-view+json": {
       "model_id": "946487ce46d44ce4bfdfa9412fe4fd9c",
       "version_major": 2,
       "version_minor": 0
      },
      "text/plain": [
       "Text(value='삼ㅅ')"
      ]
     },
     "metadata": {},
     "output_type": "display_data"
    },
    {
     "name": "stdout",
     "output_type": "stream",
     "text": [
      "삼성카드\n",
      "삼성전자\n",
      "삼성모바일닷컴\n",
      "삼성화재\n",
      "삼성전기\n",
      "삼성생명\n",
      "삼성중공업\n",
      "삼성증권\n",
      "삼성\n",
      "삼성전자서비스센터\n"
     ]
    }
   ],
   "source": [
    "display(text)"
   ]
  },
  {
   "cell_type": "markdown",
   "metadata": {
    "slideshow": {
     "slide_type": "slide"
    }
   },
   "source": [
    "## 한계점\n",
    "\n",
    "* coverage는 넓어졌지만 실제 자동완성은 이렇게 동작하지 않음\n",
    "* 가장 큰 원인은 bigdata 자체임\n",
    "* 오늘날 사용자의 검색로그는 하루당 수천만~수억건이 쌓이게 됨\n",
    "* 위의 방식은 저장된 모든 로그에서 검색 입력과 시작부터 매칭된 키워드를 전부 검색하는 방식\n",
    "* 이것은 사용자가 많아지고 로그가 많아질 수록 부하가 걸리는 방식임"
   ]
  },
  {
   "cell_type": "markdown",
   "metadata": {
    "slideshow": {
     "slide_type": "slide"
    }
   },
   "source": [
    "## 개선점\n",
    "\n",
    "* 사용자의 입력과 동일하기 시작한 키워드들을 전부 그룹을 걸어주는 것은 어떨까\n",
    " * ex) 감자 라고 입력하면다면, ㄱ으로 시작하는 모든 검색어, 'ㄱㅏ'로 시작하는 모든 검색어, 'ㄱㅏㅁ'으로 시작하는 모든 검색어를 탐색\n",
    "* 해당 방식으로 로그의 모든 검색어를 탐색하지 않고, 실제 사용자가 입력한 검색어만 탐색할 수 있게 개선 할 수 있음\n",
    "* 그러기 위해서는 생성된 자동완성 키워드를 시작부터 자모부터 한글자씩 늘려가며 확장할 필요가 있음"
   ]
  },
  {
   "cell_type": "code",
   "execution_count": 22,
   "metadata": {
    "slideshow": {
     "slide_type": "slide"
    }
   },
   "outputs": [
    {
     "data": {
      "text/plain": [
       "(20627, 334599)"
      ]
     },
     "execution_count": 22,
     "metadata": {},
     "output_type": "execute_result"
    }
   ],
   "source": [
    "len(df2[df2['cnt'] > 2]), len(df2)"
   ]
  },
  {
   "cell_type": "code",
   "execution_count": 35,
   "metadata": {
    "slideshow": {
     "slide_type": "slide"
    }
   },
   "outputs": [
    {
     "data": {
      "text/html": [
       "<div>\n",
       "<style scoped>\n",
       "    .dataframe tbody tr th:only-of-type {\n",
       "        vertical-align: middle;\n",
       "    }\n",
       "\n",
       "    .dataframe tbody tr th {\n",
       "        vertical-align: top;\n",
       "    }\n",
       "\n",
       "    .dataframe thead th {\n",
       "        text-align: right;\n",
       "    }\n",
       "</style>\n",
       "<table border=\"1\" class=\"dataframe\">\n",
       "  <thead>\n",
       "    <tr style=\"text-align: right;\">\n",
       "      <th></th>\n",
       "      <th>decompose</th>\n",
       "      <th>keyword</th>\n",
       "      <th>cnt</th>\n",
       "      <th>expand_decompose</th>\n",
       "    </tr>\n",
       "  </thead>\n",
       "  <tbody>\n",
       "    <tr>\n",
       "      <th>0</th>\n",
       "      <td>ㅇㅕㅈㅏㅇㅏㅇㅣㄷㅗㄹ ㄷㅐㅁㅏㅊㅗ</td>\n",
       "      <td>여자아이돌 대마초</td>\n",
       "      <td>6576</td>\n",
       "      <td>[ㅇ, ㅇㅕ, ㅇㅕㅈ, ㅇㅕㅈㅏ, ㅇㅕㅈㅏㅇ, ㅇㅕㅈㅏㅇㅏ, ㅇㅕㅈㅏㅇㅏㅇ, ㅇㅕㅈ...</td>\n",
       "    </tr>\n",
       "    <tr>\n",
       "      <th>1</th>\n",
       "      <td>ㅂㅏㄱㅂㅗㅁ</td>\n",
       "      <td>박봄</td>\n",
       "      <td>4558</td>\n",
       "      <td>[ㅂ, ㅂㅏ, ㅂㅏㄱ, ㅂㅏㄱㅂ, ㅂㅏㄱㅂㅗ, ㅂㅏㄱㅂㅗㅁ]</td>\n",
       "    </tr>\n",
       "    <tr>\n",
       "      <th>2</th>\n",
       "      <td>ㅈㅓㅇㄷㅏㅇㅕㄴ</td>\n",
       "      <td>정다연</td>\n",
       "      <td>3889</td>\n",
       "      <td>[ㅈ, ㅈㅓ, ㅈㅓㅇ, ㅈㅓㅇㄷ, ㅈㅓㅇㄷㅏ, ㅈㅓㅇㄷㅏㅇ, ㅈㅓㅇㄷㅏㅇㅕ, ㅈㅓㅇ...</td>\n",
       "    </tr>\n",
       "    <tr>\n",
       "      <th>3</th>\n",
       "      <td>ㅇㅏㄴㅇㅡㄴㅈㅓㅇ</td>\n",
       "      <td>안은정</td>\n",
       "      <td>2943</td>\n",
       "      <td>[ㅇ, ㅇㅏ, ㅇㅏㄴ, ㅇㅏㄴㅇ, ㅇㅏㄴㅇㅡ, ㅇㅏㄴㅇㅡㄴ, ㅇㅏㄴㅇㅡㄴㅈ, ㅇㅏㄴ...</td>\n",
       "    </tr>\n",
       "    <tr>\n",
       "      <th>4</th>\n",
       "      <td>ㄱㅏㅇㅁㅣㄴㄱㅕㅇ ㅅㅔㄹㅋㅏ</td>\n",
       "      <td>강민경 셀카</td>\n",
       "      <td>2936</td>\n",
       "      <td>[ㄱ, ㄱㅏ, ㄱㅏㅇ, ㄱㅏㅇㅁ, ㄱㅏㅇㅁㅣ, ㄱㅏㅇㅁㅣㄴ, ㄱㅏㅇㅁㅣㄴㄱ, ㄱㅏㅇ...</td>\n",
       "    </tr>\n",
       "  </tbody>\n",
       "</table>\n",
       "</div>"
      ],
      "text/plain": [
       "            decompose    keyword   cnt  \\\n",
       "0  ㅇㅕㅈㅏㅇㅏㅇㅣㄷㅗㄹ ㄷㅐㅁㅏㅊㅗ  여자아이돌 대마초  6576   \n",
       "1              ㅂㅏㄱㅂㅗㅁ         박봄  4558   \n",
       "2            ㅈㅓㅇㄷㅏㅇㅕㄴ        정다연  3889   \n",
       "3           ㅇㅏㄴㅇㅡㄴㅈㅓㅇ        안은정  2943   \n",
       "4     ㄱㅏㅇㅁㅣㄴㄱㅕㅇ ㅅㅔㄹㅋㅏ     강민경 셀카  2936   \n",
       "\n",
       "                                    expand_decompose  \n",
       "0  [ㅇ, ㅇㅕ, ㅇㅕㅈ, ㅇㅕㅈㅏ, ㅇㅕㅈㅏㅇ, ㅇㅕㅈㅏㅇㅏ, ㅇㅕㅈㅏㅇㅏㅇ, ㅇㅕㅈ...  \n",
       "1                  [ㅂ, ㅂㅏ, ㅂㅏㄱ, ㅂㅏㄱㅂ, ㅂㅏㄱㅂㅗ, ㅂㅏㄱㅂㅗㅁ]  \n",
       "2  [ㅈ, ㅈㅓ, ㅈㅓㅇ, ㅈㅓㅇㄷ, ㅈㅓㅇㄷㅏ, ㅈㅓㅇㄷㅏㅇ, ㅈㅓㅇㄷㅏㅇㅕ, ㅈㅓㅇ...  \n",
       "3  [ㅇ, ㅇㅏ, ㅇㅏㄴ, ㅇㅏㄴㅇ, ㅇㅏㄴㅇㅡ, ㅇㅏㄴㅇㅡㄴ, ㅇㅏㄴㅇㅡㄴㅈ, ㅇㅏㄴ...  \n",
       "4  [ㄱ, ㄱㅏ, ㄱㅏㅇ, ㄱㅏㅇㅁ, ㄱㅏㅇㅁㅣ, ㄱㅏㅇㅁㅣㄴ, ㄱㅏㅇㅁㅣㄴㄱ, ㄱㅏㅇ...  "
      ]
     },
     "execution_count": 35,
     "metadata": {},
     "output_type": "execute_result"
    }
   ],
   "source": [
    "df3 = df2[df2['cnt'] > 2].reset_index()\n",
    "df3['expand_decompose'] = df3.apply(lambda row: [row['decompose'][:i+1] for i in range(len(row['decompose']))], axis=1)\n",
    "df3[:5]"
   ]
  },
  {
   "cell_type": "code",
   "execution_count": 90,
   "metadata": {
    "slideshow": {
     "slide_type": "slide"
    }
   },
   "outputs": [
    {
     "data": {
      "text/html": [
       "<div>\n",
       "<style scoped>\n",
       "    .dataframe tbody tr th:only-of-type {\n",
       "        vertical-align: middle;\n",
       "    }\n",
       "\n",
       "    .dataframe tbody tr th {\n",
       "        vertical-align: top;\n",
       "    }\n",
       "\n",
       "    .dataframe thead th {\n",
       "        text-align: right;\n",
       "    }\n",
       "</style>\n",
       "<table border=\"1\" class=\"dataframe\">\n",
       "  <thead>\n",
       "    <tr style=\"text-align: right;\">\n",
       "      <th></th>\n",
       "      <th>jaso</th>\n",
       "    </tr>\n",
       "    <tr>\n",
       "      <th>level_1</th>\n",
       "      <th></th>\n",
       "    </tr>\n",
       "  </thead>\n",
       "  <tbody>\n",
       "    <tr>\n",
       "      <th>0</th>\n",
       "      <td>ㅇ</td>\n",
       "    </tr>\n",
       "    <tr>\n",
       "      <th>1</th>\n",
       "      <td>ㅂ</td>\n",
       "    </tr>\n",
       "    <tr>\n",
       "      <th>2</th>\n",
       "      <td>ㅈ</td>\n",
       "    </tr>\n",
       "    <tr>\n",
       "      <th>3</th>\n",
       "      <td>ㅇ</td>\n",
       "    </tr>\n",
       "    <tr>\n",
       "      <th>4</th>\n",
       "      <td>ㄱ</td>\n",
       "    </tr>\n",
       "  </tbody>\n",
       "</table>\n",
       "</div>"
      ],
      "text/plain": [
       "        jaso\n",
       "level_1     \n",
       "0          ㅇ\n",
       "1          ㅂ\n",
       "2          ㅈ\n",
       "3          ㅇ\n",
       "4          ㄱ"
      ]
     },
     "execution_count": 90,
     "metadata": {},
     "output_type": "execute_result"
    }
   ],
   "source": [
    "df4 = df3['expand_decompose'].apply(pd.Series).unstack().dropna()\n",
    "df4 = df4.to_frame('jaso').reset_index()[['level_1', 'jaso']].set_index('level_1')\n",
    "df4[:5]"
   ]
  },
  {
   "cell_type": "code",
   "execution_count": 91,
   "metadata": {
    "slideshow": {
     "slide_type": "slide"
    }
   },
   "outputs": [
    {
     "data": {
      "text/plain": [
       "(Index(['decompose', 'keyword', 'cnt', 'expand_decompose'], dtype='object'),\n",
       " Index(['jaso'], dtype='object'))"
      ]
     },
     "execution_count": 91,
     "metadata": {},
     "output_type": "execute_result"
    }
   ],
   "source": [
    "df3.columns, df4.columns"
   ]
  },
  {
   "cell_type": "code",
   "execution_count": 93,
   "metadata": {
    "slideshow": {
     "slide_type": "slide"
    }
   },
   "outputs": [
    {
     "data": {
      "text/html": [
       "<div>\n",
       "<style scoped>\n",
       "    .dataframe tbody tr th:only-of-type {\n",
       "        vertical-align: middle;\n",
       "    }\n",
       "\n",
       "    .dataframe tbody tr th {\n",
       "        vertical-align: top;\n",
       "    }\n",
       "\n",
       "    .dataframe thead th {\n",
       "        text-align: right;\n",
       "    }\n",
       "</style>\n",
       "<table border=\"1\" class=\"dataframe\">\n",
       "  <thead>\n",
       "    <tr style=\"text-align: right;\">\n",
       "      <th></th>\n",
       "      <th>jaso</th>\n",
       "      <th>keyword</th>\n",
       "      <th>cnt</th>\n",
       "    </tr>\n",
       "  </thead>\n",
       "  <tbody>\n",
       "    <tr>\n",
       "      <th>0</th>\n",
       "      <td>ㅇ</td>\n",
       "      <td>여자아이돌 대마초</td>\n",
       "      <td>6576</td>\n",
       "    </tr>\n",
       "    <tr>\n",
       "      <th>0</th>\n",
       "      <td>ㅇㅕ</td>\n",
       "      <td>여자아이돌 대마초</td>\n",
       "      <td>6576</td>\n",
       "    </tr>\n",
       "    <tr>\n",
       "      <th>0</th>\n",
       "      <td>ㅇㅕㅈ</td>\n",
       "      <td>여자아이돌 대마초</td>\n",
       "      <td>6576</td>\n",
       "    </tr>\n",
       "    <tr>\n",
       "      <th>0</th>\n",
       "      <td>ㅇㅕㅈㅏ</td>\n",
       "      <td>여자아이돌 대마초</td>\n",
       "      <td>6576</td>\n",
       "    </tr>\n",
       "    <tr>\n",
       "      <th>0</th>\n",
       "      <td>ㅇㅕㅈㅏㅇ</td>\n",
       "      <td>여자아이돌 대마초</td>\n",
       "      <td>6576</td>\n",
       "    </tr>\n",
       "  </tbody>\n",
       "</table>\n",
       "</div>"
      ],
      "text/plain": [
       "    jaso    keyword   cnt\n",
       "0      ㅇ  여자아이돌 대마초  6576\n",
       "0     ㅇㅕ  여자아이돌 대마초  6576\n",
       "0    ㅇㅕㅈ  여자아이돌 대마초  6576\n",
       "0   ㅇㅕㅈㅏ  여자아이돌 대마초  6576\n",
       "0  ㅇㅕㅈㅏㅇ  여자아이돌 대마초  6576"
      ]
     },
     "execution_count": 93,
     "metadata": {},
     "output_type": "execute_result"
    }
   ],
   "source": [
    "#자소와 키워드를 조인함\n",
    "df5 = df3.merge(df4, how='left', left_index=True, right_index=True)[['jaso', 'keyword', 'cnt']]\n",
    "df5[:5]"
   ]
  },
  {
   "cell_type": "code",
   "execution_count": 104,
   "metadata": {
    "slideshow": {
     "slide_type": "slide"
    }
   },
   "outputs": [],
   "source": [
    "#모든 자소가 같은 키워드들을 그룹하여 cnt가 많은 기준으로 20개만 남겨둠\n",
    "df6 = df5.groupby('jaso').apply(lambda x: x.sort_values([\"cnt\"], ascending = False).head(20)).reset_index(drop=True)"
   ]
  },
  {
   "cell_type": "code",
   "execution_count": 110,
   "metadata": {
    "slideshow": {
     "slide_type": "slide"
    }
   },
   "outputs": [
    {
     "data": {
      "text/plain": [
       "(20, 20, 20)"
      ]
     },
     "execution_count": 110,
     "metadata": {},
     "output_type": "execute_result"
    }
   ],
   "source": [
    "#모든 키워드에 대하여 20개가 등장하는지 확인함\n",
    "len(df6[df6['jaso'] == 'ㅂ']), len(df6[df6['jaso'] == 'ㅂㅏ']), len(df6[df6['jaso'] == 'ㅂㅏㄱ'])"
   ]
  },
  {
   "cell_type": "code",
   "execution_count": 113,
   "metadata": {
    "slideshow": {
     "slide_type": "slide"
    }
   },
   "outputs": [],
   "source": [
    "from ipywidgets import widgets\n",
    "from IPython.display import display\n",
    "from IPython.display import clear_output\n",
    "text = widgets.Text()\n",
    "\n",
    "def handle_submint(sender):\n",
    "    clear_output()\n",
    "    display(text)\n",
    "    for k, v in get_suggest(\"\".join(decomposeKStr(text.value))):\n",
    "        print(k)\n",
    "\n",
    "#text.observe(handle_submint)\n",
    "text.on_submit(handle_submint)\n",
    "\n",
    "def get_suggest(raw, rows=10):\n",
    "    ##TODO 구현해보자\n",
    "    "
   ]
  },
  {
   "cell_type": "code",
   "execution_count": 114,
   "metadata": {
    "slideshow": {
     "slide_type": "slide"
    }
   },
   "outputs": [
    {
     "data": {
      "application/vnd.jupyter.widget-view+json": {
       "model_id": "7c507bf68164450cbe10669949bf30b6",
       "version_major": 2,
       "version_minor": 0
      },
      "text/plain": [
       "Text(value='박봄')"
      ]
     },
     "metadata": {},
     "output_type": "display_data"
    },
    {
     "name": "stdout",
     "output_type": "stream",
     "text": [
      "박봄\n",
      "박봄 대마초\n",
      "박봄 성형전 사진\n",
      "박봄 건강식품\n",
      "박봄 출렁\n",
      "박봄 담배\n",
      "박봄 성형중독\n",
      "박봄 대마\n",
      "박봄 마약\n",
      "박봄 루머\n"
     ]
    }
   ],
   "source": [
    "display(text)"
   ]
  },
  {
   "cell_type": "code",
   "execution_count": null,
   "metadata": {
    "slideshow": {
     "slide_type": "slide"
    }
   },
   "outputs": [],
   "source": []
  }
 ],
 "metadata": {
  "celltoolbar": "Slideshow",
  "kernelspec": {
   "display_name": "Python 3",
   "language": "python",
   "name": "python3"
  },
  "language_info": {
   "codemirror_mode": {
    "name": "ipython",
    "version": 3
   },
   "file_extension": ".py",
   "mimetype": "text/x-python",
   "name": "python",
   "nbconvert_exporter": "python",
   "pygments_lexer": "ipython3",
   "version": "3.7.3"
  },
  "latex_envs": {
   "LaTeX_envs_menu_present": true,
   "autoclose": false,
   "autocomplete": true,
   "bibliofile": "biblio.bib",
   "cite_by": "apalike",
   "current_citInitial": 1,
   "eqLabelWithNumbers": true,
   "eqNumInitial": 1,
   "hotkeys": {
    "equation": "Ctrl-E",
    "itemize": "Ctrl-I"
   },
   "labels_anchors": false,
   "latex_user_defs": false,
   "report_style_numbering": false,
   "user_envs_cfg": false
  },
  "toc": {
   "base_numbering": 1,
   "nav_menu": {},
   "number_sections": false,
   "sideBar": true,
   "skip_h1_title": false,
   "title_cell": "Table of Contents",
   "title_sidebar": "Contents",
   "toc_cell": false,
   "toc_position": {
    "height": "calc(100% - 180px)",
    "left": "10px",
    "top": "150px",
    "width": "227.797px"
   },
   "toc_section_display": true,
   "toc_window_display": false
  },
  "varInspector": {
   "cols": {
    "lenName": 16,
    "lenType": 16,
    "lenVar": 40
   },
   "kernels_config": {
    "python": {
     "delete_cmd_postfix": "",
     "delete_cmd_prefix": "del ",
     "library": "var_list.py",
     "varRefreshCmd": "print(var_dic_list())"
    },
    "r": {
     "delete_cmd_postfix": ") ",
     "delete_cmd_prefix": "rm(",
     "library": "var_list.r",
     "varRefreshCmd": "cat(var_dic_list()) "
    }
   },
   "types_to_exclude": [
    "module",
    "function",
    "builtin_function_or_method",
    "instance",
    "_Feature"
   ],
   "window_display": false
  }
 },
 "nbformat": 4,
 "nbformat_minor": 2
}
