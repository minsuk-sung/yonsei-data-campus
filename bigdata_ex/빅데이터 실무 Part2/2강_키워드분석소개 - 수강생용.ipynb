{
 "cells": [
  {
   "cell_type": "markdown",
   "metadata": {
    "slideshow": {
     "slide_type": "slide"
    }
   },
   "source": [
    "# <center> BIGDATA X YONSEI CAMPUS </center>\n",
    "### <center> 키워드 분석 및 문서 분석 </center>\n",
    "#### <center> 키워드 분석: 키워드 분석 소개 </center>\n",
    "---------------------------\n",
    "#### <div style=\"text-align: right\"> 손근영 </div>"
   ]
  },
  {
   "cell_type": "markdown",
   "metadata": {
    "slideshow": {
     "slide_type": "slide"
    }
   },
   "source": [
    "## 1. What is Keyword Analysis\n",
    "### Keyword Analysis\n",
    "+ 서비스 (특히 검색 서비스)의 이용 수단은 주로 검색어(키워드)가 됨\n",
    "+ 사용자의 서비스 편의성을 키워드를 통해서 증진 시켜주는 기법\n",
    "+ 사용자 로그 피드백 시스템의 일종\n",
    "\n",
    "<center><img src='img/01_03.png' height=50% width=50%></center>"
   ]
  },
  {
   "cell_type": "markdown",
   "metadata": {
    "slideshow": {
     "slide_type": "slide"
    }
   },
   "source": [
    "## 1. What is Keyword Analysis\n",
    "### Keyword Analysis\n",
    "\n",
    "+ 인기 검색어\n",
    " + 현재 이슈가 되고 있는 검색어를 분석하여 빠르게 노출/전달\n",
    "+ 키워드 자동 완성\n",
    " + 사용자가 의도한 검색어를 입력 중 미리 제안\n",
    "+ 연관 검색어\n",
    " + 사용자가 입력한 검색어와 유사한 검색어들을 전달\n",
    "+ 오타 교정\n",
    " + 사용자의 입력에 오탈자가 있는 경우 정타로 치환"
   ]
  },
  {
   "cell_type": "markdown",
   "metadata": {
    "slideshow": {
     "slide_type": "slide"
    }
   },
   "source": [
    "## 2. What is User log\n",
    "### User log\n",
    "\n",
    "+ 사용자가 서비스를 사용하면서 생성되는 이용 로그\n",
    "+ 서비스 초기에는 사용자의 이용성을 집계하기 위하여 쓰임\n",
    "+ 좋은 bigdata analysis를 하기 위해 초기부터 복잡한 설계를 요구하기도 함\n",
    "+ log는 특정양/특정기간 이상 쌓이게 되면 스스로의 특성을 가지게 됨"
   ]
  },
  {
   "cell_type": "markdown",
   "metadata": {
    "slideshow": {
     "slide_type": "slide"
    }
   },
   "source": [
    "## 2. What is User log\n",
    "### 노출 로그\n",
    " + 사용자가 어떤 페이지나 기능에 진입할 때 쌓임\n",
    " + 서비스가 노출한 정보를 저장하는 로그\n",
    " \n",
    "### 클릭 로그\n",
    " + 사용자가 노출된 페이지에서 특정 페이지나/기능으로 진입을 시도할 때 쌓임\n",
    "  + 노출된 서비스에 대한 사용자의 액션을 저장하는 로그\n"
   ]
  },
  {
   "cell_type": "markdown",
   "metadata": {
    "slideshow": {
     "slide_type": "slide"
    }
   },
   "source": [
    "## 2. What is User log\n",
    "\n",
    "### 1) 노출 로그의 스키마\n",
    "\n",
    "<center><img src='img/01_04.png' height=100% width=100%></center>"
   ]
  },
  {
   "cell_type": "markdown",
   "metadata": {
    "slideshow": {
     "slide_type": "slide"
    }
   },
   "source": [
    "## 2. What is User log\n",
    "\n",
    "### 2) 노출 로그의 예\n",
    "\n",
    "<center><img src='img/01_05.png' height=100% width=100%></center>"
   ]
  },
  {
   "cell_type": "markdown",
   "metadata": {
    "slideshow": {
     "slide_type": "slide"
    }
   },
   "source": [
    "## 2. What is User log\n",
    "\n",
    "### 1) 클릭 로그의 스키마\n",
    "\n",
    "<center><img src='img/01_06.png' height=100% width=100%></center>"
   ]
  },
  {
   "cell_type": "markdown",
   "metadata": {
    "slideshow": {
     "slide_type": "slide"
    }
   },
   "source": [
    "## 2. What is User log\n",
    "\n",
    "### 2) 클릭 로그의 예\n",
    "\n",
    "<center><img src='img/01_07.png' height=100% width=100%></center>"
   ]
  },
  {
   "cell_type": "markdown",
   "metadata": {
    "slideshow": {
     "slide_type": "slide"
    }
   },
   "source": [
    "## 3. 중요 통계 평가 지표\n",
    "\n",
    "### 1) PV (page view)\n",
    "* 해당 page가 유저에게 몇번 노출되었는가에 대한 지표\n",
    "* 특정 기간동안의 노출 로그 수치와 동일\n",
    "* 매우 중요한 수치\n",
    " + PV는 해당 서비스의 파워를 의미함\n",
    "----------------\n",
    "* 고려사항\n",
    " * 인간이 아닌 방문도 PV가 증가하여야 하는가 (ex. crawler)\n",
    " * 인간이라도 의도를 가지고 방문을 여러번 한다면?\n",
    "  + 사이트 주인\n",
    "  + 고객이 마음에 드는 물건을 고민하느라 수시로 재방문\n",
    "  + 자신의 사이트의 PV를 높이려고 수시로 재방문"
   ]
  },
  {
   "cell_type": "markdown",
   "metadata": {
    "slideshow": {
     "slide_type": "slide"
    }
   },
   "source": [
    "## 3. 중요 통계 평가 지표\n",
    "\n",
    "### 2) UV (unique visitor)\n",
    "* 임의의 기간동안 접속한 사용자 수\n",
    "* 특정 기간 동안 중복된 사용자 카운트를 1로 보는 PV와 동일한 값\n",
    "* 일/주/월 등의 UV로 사용자의 이탈/유입을 추정함\n",
    "* 매우 중요한 수치\n",
    "---------------------------\n",
    "* 고려사항\n",
    " * UV는 bot이나 불순한 의도의 사용자 어뷰징을 감소 시킴\n",
    " * 분석 관점에서 사용자의 행위를 희석시킴"
   ]
  },
  {
   "cell_type": "markdown",
   "metadata": {
    "slideshow": {
     "slide_type": "slide"
    }
   },
   "source": [
    "## 3. 중요 통계 평가 지표\n",
    "\n",
    "### 3) CTR (click through rate)\n",
    "\n",
    "$$ CTR = \\frac{Clicks}{Impressions} \\nonumber $$\n",
    "* 노출 발생 회수 (PV) 대비 클릭이 일어난 비율\n",
    "* 품질의 핵심 지표 중 하나\n",
    "* 모든 서비스는 CTR을 올리는데 집중함 => 왜?\n",
    "---------------------------\n",
    "* 고려사항\n",
    " * CTR은 100%를 넘을 수 있는가?\n",
    " * CTR이 높으면 무조건 좋은가?"
   ]
  },
  {
   "cell_type": "markdown",
   "metadata": {
    "slideshow": {
     "slide_type": "slide"
    }
   },
   "source": [
    "## 3. 중요 통계 평가 지표\n",
    "\n",
    "### 4) MRR (mean reciprocal rank)\n",
    "\n",
    "$$ MRR = \\frac{1}{|Q|}\\sum_{i=1}^{|Q|}\\frac{1}{rank_i} \\nonumber $$\n",
    "* 노출된 결과 중 상위 클릭이 일어난 점수\n",
    "<center><img src='img/01_09.png' height=100% width=100%></center>\n",
    "<center>mrr = (1/3 + 1/2 + 1)/3 = 11/18 = 0.61</center>"
   ]
  },
  {
   "cell_type": "markdown",
   "metadata": {
    "slideshow": {
     "slide_type": "slide"
    }
   },
   "source": [
    "## 4. User log feedback\n",
    "\n",
    "### User log feedback system\n",
    "* 현대의 대부분의 웹 서비스가 차용\n",
    " * 서비스 발생되는 user log와 그 log로 사용자 반응을 분석/개선\n",
    " \n",
    "* 데이터 분석이 중요해지는 이유\n",
    " * 분석가는 user log를 디자인 / 발생되는 log에서 숨겨진 의미/유용한 정보를 발굴\n",
    " * 의미를 파악해 user 편의성을 높이고 서비스 지표를 개선\n",
    " * 개선된 지표는 광고나 M&A를 통해 수익화\n",
    " \n",
    "<center><img src='img/01_10.png' height=30% width=30%></center>"
   ]
  },
  {
   "cell_type": "markdown",
   "metadata": {
    "slideshow": {
     "slide_type": "slide"
    }
   },
   "source": [
    "## quiz 1 \n",
    "- 다음과 같은 log가 주어질 때 PV와 일단위 UV를 구해보자.\n",
    " * (만약 pv가 300이고 uv가 100이라면 300,100 라고 입력)\n",
    "\n",
    "<center><img src='img/01_11.png' height=30% width=30%></center>"
   ]
  },
  {
   "cell_type": "markdown",
   "metadata": {
    "slideshow": {
     "slide_type": "fragment"
    }
   },
   "source": [
    "## quiz 2\n",
    "- 만약 어떤 검색 결과에서 모든 사용자가 첫번째 결과를 클릭한다면 mrr이 몇"
   ]
  }
 ],
 "metadata": {
  "celltoolbar": "Slideshow",
  "kernelspec": {
   "display_name": "Python 3",
   "language": "python",
   "name": "python3"
  },
  "language_info": {
   "codemirror_mode": {
    "name": "ipython",
    "version": 3
   },
   "file_extension": ".py",
   "mimetype": "text/x-python",
   "name": "python",
   "nbconvert_exporter": "python",
   "pygments_lexer": "ipython3",
   "version": "3.6.8"
  },
  "latex_envs": {
   "LaTeX_envs_menu_present": true,
   "autoclose": false,
   "autocomplete": true,
   "bibliofile": "biblio.bib",
   "cite_by": "apalike",
   "current_citInitial": 1,
   "eqLabelWithNumbers": true,
   "eqNumInitial": 1,
   "hotkeys": {
    "equation": "Ctrl-E",
    "itemize": "Ctrl-I"
   },
   "labels_anchors": false,
   "latex_user_defs": false,
   "report_style_numbering": false,
   "user_envs_cfg": false
  },
  "toc": {
   "base_numbering": 1,
   "nav_menu": {},
   "number_sections": false,
   "sideBar": true,
   "skip_h1_title": false,
   "title_cell": "Table of Contents",
   "title_sidebar": "Contents",
   "toc_cell": false,
   "toc_position": {
    "height": "calc(100% - 180px)",
    "left": "10px",
    "top": "150px",
    "width": "250.188px"
   },
   "toc_section_display": true,
   "toc_window_display": false
  },
  "varInspector": {
   "cols": {
    "lenName": 16,
    "lenType": 16,
    "lenVar": 40
   },
   "kernels_config": {
    "python": {
     "delete_cmd_postfix": "",
     "delete_cmd_prefix": "del ",
     "library": "var_list.py",
     "varRefreshCmd": "print(var_dic_list())"
    },
    "r": {
     "delete_cmd_postfix": ") ",
     "delete_cmd_prefix": "rm(",
     "library": "var_list.r",
     "varRefreshCmd": "cat(var_dic_list()) "
    }
   },
   "types_to_exclude": [
    "module",
    "function",
    "builtin_function_or_method",
    "instance",
    "_Feature"
   ],
   "window_display": false
  }
 },
 "nbformat": 4,
 "nbformat_minor": 2
}
