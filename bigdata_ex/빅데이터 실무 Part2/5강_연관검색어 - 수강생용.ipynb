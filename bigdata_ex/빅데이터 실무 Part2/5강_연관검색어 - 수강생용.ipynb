{
 "cells": [
  {
   "cell_type": "markdown",
   "metadata": {
    "slideshow": {
     "slide_type": "slide"
    }
   },
   "source": [
    "# <center> BIGDATA X YONSEI CAMPUS </center>\n",
    "### <center> 키워드 분석 및 문서 분석 </center>\n",
    "#### <center> 키워드 분석: 연관 검색어 </center>\n",
    "---------------------------\n",
    "#### <div style=\"text-align: right\"> 손근영 </div>"
   ]
  },
  {
   "cell_type": "markdown",
   "metadata": {
    "slideshow": {
     "slide_type": "slide"
    }
   },
   "source": [
    "## 1. Keyword Analysis - 연관 검색어\n",
    "### Motivation\n",
    "* 자신이 원하는 정보를 정확히 표현하는 검색어를 찾는 것은 어려운 일\n",
    "* 많은 사용자들은 무엇을 찾으려고 하는지 여전히 모름\n",
    " * 비슷한 단어는 기억이 나지만 해당 키워드가 기억이 안나는 경우도 존재함\n",
    " * 예를 들면 강남 쉑쉑버거를 찾고 싶지만 쉑쉑이 기억이 안날때 -> 강남 버거로 검색\n",
    "* 중요 포인드\n",
    " * 통계적으로 이런 사람들이 한둘이 아님"
   ]
  },
  {
   "cell_type": "markdown",
   "metadata": {
    "slideshow": {
     "slide_type": "slide"
    }
   },
   "source": [
    "## 1. Keyword Analysis - 연관 검색어\n",
    "### Key Idea\n",
    "* 어떤 검색어가 발생하고 연이어서 발생한 검색어는 연관성이 높을 수 있다는 가정\n",
    "* 이러한 상황을 유저단위가 아닌 전체 사용자로 확대하면 검색어별 연관성이 높은 검색어들을 획득 가능"
   ]
  },
  {
   "cell_type": "markdown",
   "metadata": {
    "slideshow": {
     "slide_type": "slide"
    }
   },
   "source": [
    "## 2. 연관검색어의 서비스 화면\n",
    "<center><img src='img/04_01.png' height=60% width=60%></center>"
   ]
  },
  {
   "cell_type": "markdown",
   "metadata": {
    "slideshow": {
     "slide_type": "slide"
    }
   },
   "source": [
    "## 3. 연관검색어 가치\n",
    "* 개별 사용자는 정확한 검색어는 모르지만 비슷한 검색어는 알고 있음\n",
    " * 통계적으로 정확한 검색어의 count는 높아짐\n",
    " * 사용자는 입력한 검색어에 만족을 못하면 다른 검색어를 입력하는 경향이 있음\n",
    "* 검색엔진은 A라는 키워드에는 결과가 나빠도 B라는 키워드는 결과가 좋을 수 있음\n",
    "* 타사용자들의 경험을 개별 사용자에게 다시 제공하면 검색의도를 명확하게 하는데 도움을 줄 수 있음\n",
    "* 해당 경험은 검색량의 증가를 가져옴\n"
   ]
  },
  {
   "cell_type": "markdown",
   "metadata": {
    "slideshow": {
     "slide_type": "slide"
    }
   },
   "source": [
    "## 3. 연관검색어 가치\n",
    "* 검색양이 증가하면?\n",
    " * PV 상승 / 이용자의 의도가 더욱 더 log안에 저장됨\n",
    " * 해당 사용자의 행태가 저정됨\n",
    "---------------------\n",
    "* 검색의도가 명확해지면?\n",
    " * 검색 이용율이 늘어남 / 사용자는 좋은 검색 결과를 받아볼 수 있는 확률이 증가"
   ]
  },
  {
   "cell_type": "markdown",
   "metadata": {
    "slideshow": {
     "slide_type": "slide"
    }
   },
   "source": [
    "## 4. 연관규칙\n",
    "#### 마케팅 도시 괴담\n",
    "*  오후 6~9시 사이의 소비자가 기저귀를 사면 높은 확률로 맥주도 산다\n",
    "---------------------\n",
    "* 왜?\n",
    " * 분석 결과 이런 케이스는 대부분 '기혼 남성' 구매자일때 발생\n",
    " * 저녁에 남편이 퇴근 -> 아내가 남편에게 전화\n",
    "  * 오는길에 애기 기저귀 좀 사다줘\n",
    " * 남편은 기저귀도 사면서 맥주도 같이 삼\n",
    "* 퇴근 시간때 애기용품과 남성 용품을 가깝게 두면 매출이 상승\n",
    "* 다른 용례 들어보신 분?"
   ]
  },
  {
   "cell_type": "markdown",
   "metadata": {
    "slideshow": {
     "slide_type": "slide"
    }
   },
   "source": [
    "## 4. 연관규칙\n",
    "#### 기본 알고리즘\n",
    "* 어떻게 기저귀가 팔릴 때 맥주도 많이 팔리는 것을 잡아냈을까?\n",
    "--------------------\n",
    "* 상점 주인은 영수증을 보고 한 고객이 어떤 제품을 샀는지 알 수 있음\n",
    "<center><img src='img/04_02.png' height=100% width=100%></center>"
   ]
  },
  {
   "cell_type": "markdown",
   "metadata": {
    "slideshow": {
     "slide_type": "slide"
    }
   },
   "source": [
    "## 4. 연관규칙\n",
    "#### 기본 알고리즘의 핵심\n",
    "<center><img src='img/04_03.png' height=100% width=100%></center>"
   ]
  },
  {
   "cell_type": "markdown",
   "metadata": {
    "slideshow": {
     "slide_type": "slide"
    }
   },
   "source": [
    "## 4. 연관규칙\n",
    "#### 지지도 (support)\n",
    "* $support(x) = \\frac{X포함 트랜잭션수}{전체 트랜잭션수} = \\frac{|x|}{N} = P(x)$\n",
    "* 비중이 작은 x를 삭제하기 위해 쓰임\n",
    "\n",
    "#### 신뢰도 (confidence)\n",
    "* x와 y를 포함하는 트랜잭션수/X가 포함된 트랜잭션 수\n",
    "* $cofidence(x,y) = P(y|x) = \\frac{P(x,y)}{P(x)}$\n",
    "* 신뢰도가 높을 수록 유용한 규칙\n",
    "* 조건부 확률과 동일"
   ]
  },
  {
   "cell_type": "markdown",
   "metadata": {
    "slideshow": {
     "slide_type": "slide"
    }
   },
   "source": [
    "## 4. 연관규칙\n",
    "\n",
    "#### 향상도 (lift)\n",
    "* 신뢰도/support(y)\n",
    "* $lift(x,y) = \\frac{P(y|x)}{P(y)} = \\frac{P(x,y)}{P(x)P(y)} $\n",
    "* x와 y가 서로 상관이 없다면 P(y|x)와 P(y)가 같게되어 향상도가 1이 됨\n",
    "* 향상도가 1보다 크면 상관이 깊고 1이면 무상관, 1보다 작으면 음의 상관"
   ]
  },
  {
   "cell_type": "markdown",
   "metadata": {
    "slideshow": {
     "slide_type": "slide"
    }
   },
   "source": [
    "## 4. 연관규칙\n",
    "#### PMI (pointwise mutual information)\n",
    "* 확률기반 특정값의 연관성을 표현하는 지표\n",
    "* 상질이 비슷한 대상은 동시에 등장할 확률이 높다는데에서 기반\n",
    "$$ pmi(x,y) = log \\frac{p(x,y)}{p(x)p(y)} = log \\frac{p(x|y)}{p(x)} = log \\frac{p(y|x)}{p(y)} \\nonumber$$\n",
    "* lift 결과에 log2를 취한 것과 동일\n",
    "* 독립일 때 0, 음수라면 관련 없음, 양수면 관련 있음"
   ]
  },
  {
   "cell_type": "markdown",
   "metadata": {
    "slideshow": {
     "slide_type": "slide"
    }
   },
   "source": [
    "## 5. 연관검색어 방식 구상\n",
    "### 로그 형태\n",
    "\n",
    "<center><img src='img/01_13.png' height=50% width=50%></center>\n",
    "\n",
    "### 알고리즘\n",
    "* 검색 로그를 line by line으로 분리\n",
    "* line을 \\t 기준으로 분리\n",
    "* 분리된 데이터에서 '시간', 'id', '검색어'를 획득\n",
    "* id기준으로 시간, 검색어 pair를 추출\n",
    "* 위의 데이터에서 의미 있는 검색어 pair를 다시 추출\n",
    "* 검색어 pair에서 연관 공식을 이용하여 연관어 대상을 추출\n",
    "* 입력된 검색어에 대하여 연관 검색어를 노출"
   ]
  },
  {
   "cell_type": "markdown",
   "metadata": {
    "slideshow": {
     "slide_type": "slide"
    }
   },
   "source": [
    "## 5. 연관검색어\n",
    "\n",
    "### 알고리즘\n",
    "$$ P(연관검색어|현재검색어) \\nonumber $$\n",
    "* 모든 P(이전검색어 = A)와 P(다음검색어 = B)의 값을 획득\n",
    "* P(A, B)의 값을 획득\n",
    "* P(A), P(B), P(A, B)를 한 dataframe으로 조인\n",
    "* P(A), P(B), P(A, B)를 이용하여 P(B|A)를 구해냄 (혹은 PMI를 획득)\n",
    "* A 기준으로 P(B|A)의 높은 순서의 B를 A 키워드당 10~20개씩 저장"
   ]
  },
  {
   "cell_type": "markdown",
   "metadata": {
    "slideshow": {
     "slide_type": "slide"
    }
   },
   "source": [
    "## 6. 검색어 트랜잭션\n",
    "\n",
    "### 검색어 트랜잭션의 형태\n",
    "* 다음은 어떤 사용자의 검색 이용기록이라고 가정한 테이블\n",
    "<center><img src='img/04_04.png' height=100% width=100%></center>"
   ]
  },
  {
   "cell_type": "markdown",
   "metadata": {
    "slideshow": {
     "slide_type": "slide"
    }
   },
   "source": [
    "## 6. 검색어 트랜잭션\n",
    "\n",
    "### Sessionization\n",
    "* 관련있는 pairwise 검색어를 어떻게 획득 할 수 있을까?\n",
    "* 의미 있는 시간 단위로 검색 chain을 생성 가능\n",
    "* 2시간 안에 입력 되는 값을 chain으로 연결 시 다음과 같음\n",
    "<center><img src='img/04_05.png' height=100% width=100%></center>"
   ]
  },
  {
   "cell_type": "markdown",
   "metadata": {
    "slideshow": {
     "slide_type": "slide"
    }
   },
   "source": [
    "## 6. 검색어 트랜잭션\n",
    "\n",
    "### Sessionization의 시간 대비 품질\n",
    "* 묶는 시간이 작을 경우\n",
    " * 강한 연관성을 갖는 session이 만들어짐\n",
    " * 검색어 pari의 양이 적어짐\n",
    "* 묶는 시간이 클 경우\n",
    " * 연관성이 낮은 session이 포함 될 확률이 높아짐\n",
    " * 검색 pair의 양이 많아짐"
   ]
  },
  {
   "cell_type": "markdown",
   "metadata": {
    "slideshow": {
     "slide_type": "slide"
    }
   },
   "source": [
    "## 6. 검색어 트랜잭션\n",
    "\n",
    "### Sessionization의 시간 대비 품질\n",
    "* 2시간으로 sessionize한 검색 로그의 예\n",
    "<center><img src='img/04_06.png' height=100% width=100%></center>"
   ]
  },
  {
   "cell_type": "markdown",
   "metadata": {
    "slideshow": {
     "slide_type": "slide"
    }
   },
   "source": [
    "## 6. 검색어 트랜잭션\n",
    "\n",
    "### 검색키워드의 조건부 확률\n",
    "* 수식 정의\n",
    " * P(A) - 앞쪽 키워드의 출현 확률 (이전 검색어)\n",
    " * P(B) - 뒤쪽 키워드의 출현 확률 (이후 검색어)\n",
    " * P(A,B) - 동시 출현 확률\n",
    "<center><img src='img/04_07.png' height=70% width=70%></center>"
   ]
  },
  {
   "cell_type": "markdown",
   "metadata": {
    "slideshow": {
     "slide_type": "slide"
    }
   },
   "source": [
    "## 6. 검색어 트랜잭션\n",
    "\n",
    "### 검색키워드의 조건부 확률\n",
    "* 수식 정의\n",
    " * P(A) - 앞쪽 키워드의 출현 확률 (이전 검색어)\n",
    " * P(B) - 뒤쪽 키워드의 출현 확률 (이후 검색어)\n",
    " * P(A,B) - 동시 출현 확률\n",
    "<center><img src='img/04_08.png' height=100% width=100%></center>"
   ]
  },
  {
   "cell_type": "code",
   "execution_count": 1,
   "metadata": {
    "slideshow": {
     "slide_type": "slide"
    }
   },
   "outputs": [],
   "source": [
    "import pandas as pd"
   ]
  },
  {
   "cell_type": "code",
   "execution_count": 3,
   "metadata": {
    "slideshow": {
     "slide_type": "slide"
    }
   },
   "outputs": [],
   "source": [
    "import csv \n",
    "df = pd.read_csv('data/sample_search_log.txt', sep='\\t', header=None, names = ['date', 'id', 'keyword', 'result'],\n",
    "                 quoting=csv.QUOTE_NONE)\n",
    "df =  df[df[\"date\"].map(str).map(len) == 15]\n",
    "df['date'] = df.date.apply(lambda x: pd.datetime.strptime(x, '%Y%m%d-%H%M%S'))"
   ]
  },
  {
   "cell_type": "code",
   "execution_count": 4,
   "metadata": {
    "slideshow": {
     "slide_type": "slide"
    }
   },
   "outputs": [
    {
     "data": {
      "text/html": [
       "<div>\n",
       "<style scoped>\n",
       "    .dataframe tbody tr th:only-of-type {\n",
       "        vertical-align: middle;\n",
       "    }\n",
       "\n",
       "    .dataframe tbody tr th {\n",
       "        vertical-align: top;\n",
       "    }\n",
       "\n",
       "    .dataframe thead th {\n",
       "        text-align: right;\n",
       "    }\n",
       "</style>\n",
       "<table border=\"1\" class=\"dataframe\">\n",
       "  <thead>\n",
       "    <tr style=\"text-align: right;\">\n",
       "      <th></th>\n",
       "      <th>date</th>\n",
       "      <th>id</th>\n",
       "      <th>keyword</th>\n",
       "    </tr>\n",
       "  </thead>\n",
       "  <tbody>\n",
       "    <tr>\n",
       "      <th>0</th>\n",
       "      <td>2011-11-03 17:11:44</td>\n",
       "      <td>9c4d360d316e5792e5a37b0e0a1e8b82</td>\n",
       "      <td>지하철노선도</td>\n",
       "    </tr>\n",
       "    <tr>\n",
       "      <th>1</th>\n",
       "      <td>2011-11-03 17:13:02</td>\n",
       "      <td>12e994b978d42d93d4347d89a2519d0f</td>\n",
       "      <td>서울시립대 반값등록금</td>\n",
       "    </tr>\n",
       "    <tr>\n",
       "      <th>2</th>\n",
       "      <td>2011-11-03 17:03:29</td>\n",
       "      <td>0c88a61cb02801ac21747a9b02e57300</td>\n",
       "      <td>벼룩시장</td>\n",
       "    </tr>\n",
       "    <tr>\n",
       "      <th>3</th>\n",
       "      <td>2011-11-03 17:06:12</td>\n",
       "      <td>d21dad3d5c8c6bb2a5271faf95db31db</td>\n",
       "      <td>영화다운</td>\n",
       "    </tr>\n",
       "    <tr>\n",
       "      <th>4</th>\n",
       "      <td>2011-11-03 17:14:37</td>\n",
       "      <td>7d228d8b281447909b0bfa89b88b06dc</td>\n",
       "      <td>수지 방</td>\n",
       "    </tr>\n",
       "  </tbody>\n",
       "</table>\n",
       "</div>"
      ],
      "text/plain": [
       "                 date                                id      keyword\n",
       "0 2011-11-03 17:11:44  9c4d360d316e5792e5a37b0e0a1e8b82       지하철노선도\n",
       "1 2011-11-03 17:13:02  12e994b978d42d93d4347d89a2519d0f  서울시립대 반값등록금\n",
       "2 2011-11-03 17:03:29  0c88a61cb02801ac21747a9b02e57300         벼룩시장\n",
       "3 2011-11-03 17:06:12  d21dad3d5c8c6bb2a5271faf95db31db         영화다운\n",
       "4 2011-11-03 17:14:37  7d228d8b281447909b0bfa89b88b06dc         수지 방"
      ]
     },
     "execution_count": 4,
     "metadata": {},
     "output_type": "execute_result"
    }
   ],
   "source": [
    "#연관 검색어에서 쓰일 date, id, keyword로 df를 정리\n",
    "df = df[['date', 'id', 'keyword']]\n",
    "df.head(5)"
   ]
  },
  {
   "cell_type": "code",
   "execution_count": 5,
   "metadata": {
    "slideshow": {
     "slide_type": "slide"
    }
   },
   "outputs": [
    {
     "data": {
      "text/html": [
       "<div>\n",
       "<style scoped>\n",
       "    .dataframe tbody tr th:only-of-type {\n",
       "        vertical-align: middle;\n",
       "    }\n",
       "\n",
       "    .dataframe tbody tr th {\n",
       "        vertical-align: top;\n",
       "    }\n",
       "\n",
       "    .dataframe thead th {\n",
       "        text-align: right;\n",
       "    }\n",
       "</style>\n",
       "<table border=\"1\" class=\"dataframe\">\n",
       "  <thead>\n",
       "    <tr style=\"text-align: right;\">\n",
       "      <th></th>\n",
       "      <th>date</th>\n",
       "      <th>id</th>\n",
       "      <th>keyword</th>\n",
       "    </tr>\n",
       "  </thead>\n",
       "  <tbody>\n",
       "    <tr>\n",
       "      <th>364982</th>\n",
       "      <td>2011-11-03</td>\n",
       "      <td>5996de2df2b6889c7d6373e09c425c84</td>\n",
       "      <td>주걸륜</td>\n",
       "    </tr>\n",
       "    <tr>\n",
       "      <th>308234</th>\n",
       "      <td>2011-11-03</td>\n",
       "      <td>93ac87adba3c3e7e0dae915701884f87</td>\n",
       "      <td>잭다니엘 로고 ai</td>\n",
       "    </tr>\n",
       "    <tr>\n",
       "      <th>225718</th>\n",
       "      <td>2011-11-03</td>\n",
       "      <td>a4b49b06464597a9cd070985199bc637</td>\n",
       "      <td>한미fta</td>\n",
       "    </tr>\n",
       "    <tr>\n",
       "      <th>365139</th>\n",
       "      <td>2011-11-03</td>\n",
       "      <td>e87fa94638891f3ed8737abf368e06e5</td>\n",
       "      <td>B형성격</td>\n",
       "    </tr>\n",
       "    <tr>\n",
       "      <th>364977</th>\n",
       "      <td>2011-11-03</td>\n",
       "      <td>ea32f8b00e48384fe683963202bdb36e</td>\n",
       "      <td>조성흠 일러스트</td>\n",
       "    </tr>\n",
       "  </tbody>\n",
       "</table>\n",
       "</div>"
      ],
      "text/plain": [
       "             date                                id     keyword\n",
       "364982 2011-11-03  5996de2df2b6889c7d6373e09c425c84         주걸륜\n",
       "308234 2011-11-03  93ac87adba3c3e7e0dae915701884f87  잭다니엘 로고 ai\n",
       "225718 2011-11-03  a4b49b06464597a9cd070985199bc637       한미fta\n",
       "365139 2011-11-03  e87fa94638891f3ed8737abf368e06e5        B형성격\n",
       "364977 2011-11-03  ea32f8b00e48384fe683963202bdb36e    조성흠 일러스트"
      ]
     },
     "execution_count": 5,
     "metadata": {},
     "output_type": "execute_result"
    }
   ],
   "source": [
    "# 보기 편하게 date와 id 순으로 df를 정렬\n",
    "df = df.dropna()\n",
    "df = df.sort_values(by=['date', 'id'])\n",
    "df.head(5)"
   ]
  },
  {
   "cell_type": "code",
   "execution_count": 6,
   "metadata": {
    "slideshow": {
     "slide_type": "slide"
    }
   },
   "outputs": [
    {
     "data": {
      "text/html": [
       "<div>\n",
       "<style scoped>\n",
       "    .dataframe tbody tr th:only-of-type {\n",
       "        vertical-align: middle;\n",
       "    }\n",
       "\n",
       "    .dataframe tbody tr th {\n",
       "        vertical-align: top;\n",
       "    }\n",
       "\n",
       "    .dataframe thead th {\n",
       "        text-align: right;\n",
       "    }\n",
       "</style>\n",
       "<table border=\"1\" class=\"dataframe\">\n",
       "  <thead>\n",
       "    <tr style=\"text-align: right;\">\n",
       "      <th></th>\n",
       "      <th>date</th>\n",
       "      <th>id</th>\n",
       "      <th>keyword</th>\n",
       "    </tr>\n",
       "  </thead>\n",
       "  <tbody>\n",
       "    <tr>\n",
       "      <th>225718</th>\n",
       "      <td>2011-11-03 00:00:00</td>\n",
       "      <td>a4b49b06464597a9cd070985199bc637</td>\n",
       "      <td>한미fta</td>\n",
       "    </tr>\n",
       "    <tr>\n",
       "      <th>364977</th>\n",
       "      <td>2011-11-03 00:00:00</td>\n",
       "      <td>ea32f8b00e48384fe683963202bdb36e</td>\n",
       "      <td>조성흠 일러스트</td>\n",
       "    </tr>\n",
       "    <tr>\n",
       "      <th>308195</th>\n",
       "      <td>2011-11-03 00:00:01</td>\n",
       "      <td>8e384b72b2697ab85d576cc56a58d45d</td>\n",
       "      <td>이승철 서쪽하늘</td>\n",
       "    </tr>\n",
       "    <tr>\n",
       "      <th>463874</th>\n",
       "      <td>2011-11-03 00:00:02</td>\n",
       "      <td>017d67a71a5a01f81150981deac2a884</td>\n",
       "      <td>아이돌마스터 16화 토렌트</td>\n",
       "    </tr>\n",
       "    <tr>\n",
       "      <th>284588</th>\n",
       "      <td>2011-11-03 00:00:02</td>\n",
       "      <td>46440372c22f13a6da465989d88d719d</td>\n",
       "      <td>신상뽐춤노래</td>\n",
       "    </tr>\n",
       "  </tbody>\n",
       "</table>\n",
       "</div>"
      ],
      "text/plain": [
       "                      date                                id         keyword\n",
       "225718 2011-11-03 00:00:00  a4b49b06464597a9cd070985199bc637           한미fta\n",
       "364977 2011-11-03 00:00:00  ea32f8b00e48384fe683963202bdb36e        조성흠 일러스트\n",
       "308195 2011-11-03 00:00:01  8e384b72b2697ab85d576cc56a58d45d        이승철 서쪽하늘\n",
       "463874 2011-11-03 00:00:02  017d67a71a5a01f81150981deac2a884  아이돌마스터 16화 토렌트\n",
       "284588 2011-11-03 00:00:02  46440372c22f13a6da465989d88d719d          신상뽐춤노래"
      ]
     },
     "execution_count": 6,
     "metadata": {},
     "output_type": "execute_result"
    }
   ],
   "source": [
    "# 한사람이 2개이상 검색어를 입력한 경우를 보기\n",
    "# df를 id로 그루핑\n",
    "gdf = df.groupby('id')\n",
    "df2 = gdf.filter(lambda x:x['keyword'].count() > 2)\n",
    "gdf = df2.groupby('id')\n",
    "df2.head(5)"
   ]
  },
  {
   "cell_type": "code",
   "execution_count": 7,
   "metadata": {
    "slideshow": {
     "slide_type": "slide"
    }
   },
   "outputs": [
    {
     "data": {
      "text/html": [
       "<div>\n",
       "<style scoped>\n",
       "    .dataframe tbody tr th:only-of-type {\n",
       "        vertical-align: middle;\n",
       "    }\n",
       "\n",
       "    .dataframe tbody tr th {\n",
       "        vertical-align: top;\n",
       "    }\n",
       "\n",
       "    .dataframe thead th {\n",
       "        text-align: right;\n",
       "    }\n",
       "</style>\n",
       "<table border=\"1\" class=\"dataframe\">\n",
       "  <thead>\n",
       "    <tr style=\"text-align: right;\">\n",
       "      <th></th>\n",
       "      <th>date</th>\n",
       "      <th>id</th>\n",
       "      <th>keyword</th>\n",
       "    </tr>\n",
       "  </thead>\n",
       "  <tbody>\n",
       "    <tr>\n",
       "      <th>225718</th>\n",
       "      <td>2011-11-03 00:00:00</td>\n",
       "      <td>a4b49b06464597a9cd070985199bc637</td>\n",
       "      <td>한미fta</td>\n",
       "    </tr>\n",
       "    <tr>\n",
       "      <th>482697</th>\n",
       "      <td>2011-11-03 00:01:36</td>\n",
       "      <td>a4b49b06464597a9cd070985199bc637</td>\n",
       "      <td>한미fta</td>\n",
       "    </tr>\n",
       "    <tr>\n",
       "      <th>297916</th>\n",
       "      <td>2011-11-03 00:02:00</td>\n",
       "      <td>a4b49b06464597a9cd070985199bc637</td>\n",
       "      <td>한미fta</td>\n",
       "    </tr>\n",
       "    <tr>\n",
       "      <th>297917</th>\n",
       "      <td>2011-11-03 00:02:03</td>\n",
       "      <td>a4b49b06464597a9cd070985199bc637</td>\n",
       "      <td>한미fta</td>\n",
       "    </tr>\n",
       "    <tr>\n",
       "      <th>297918</th>\n",
       "      <td>2011-11-03 00:02:09</td>\n",
       "      <td>a4b49b06464597a9cd070985199bc637</td>\n",
       "      <td>한미fta</td>\n",
       "    </tr>\n",
       "    <tr>\n",
       "      <th>297919</th>\n",
       "      <td>2011-11-03 00:02:21</td>\n",
       "      <td>a4b49b06464597a9cd070985199bc637</td>\n",
       "      <td>한미fta</td>\n",
       "    </tr>\n",
       "    <tr>\n",
       "      <th>464335</th>\n",
       "      <td>2011-11-03 00:02:44</td>\n",
       "      <td>a4b49b06464597a9cd070985199bc637</td>\n",
       "      <td>한미fta</td>\n",
       "    </tr>\n",
       "    <tr>\n",
       "      <th>473612</th>\n",
       "      <td>2011-11-03 00:03:28</td>\n",
       "      <td>a4b49b06464597a9cd070985199bc637</td>\n",
       "      <td>한미fta</td>\n",
       "    </tr>\n",
       "    <tr>\n",
       "      <th>162721</th>\n",
       "      <td>2011-11-03 00:03:48</td>\n",
       "      <td>a4b49b06464597a9cd070985199bc637</td>\n",
       "      <td>한미fta</td>\n",
       "    </tr>\n",
       "    <tr>\n",
       "      <th>162722</th>\n",
       "      <td>2011-11-03 00:04:03</td>\n",
       "      <td>a4b49b06464597a9cd070985199bc637</td>\n",
       "      <td>한미fta</td>\n",
       "    </tr>\n",
       "    <tr>\n",
       "      <th>628039</th>\n",
       "      <td>2011-11-03 00:04:44</td>\n",
       "      <td>a4b49b06464597a9cd070985199bc637</td>\n",
       "      <td>한미fta</td>\n",
       "    </tr>\n",
       "    <tr>\n",
       "      <th>628040</th>\n",
       "      <td>2011-11-03 00:04:50</td>\n",
       "      <td>a4b49b06464597a9cd070985199bc637</td>\n",
       "      <td>한미fta</td>\n",
       "    </tr>\n",
       "    <tr>\n",
       "      <th>515148</th>\n",
       "      <td>2011-11-03 00:05:19</td>\n",
       "      <td>a4b49b06464597a9cd070985199bc637</td>\n",
       "      <td>한미fta</td>\n",
       "    </tr>\n",
       "    <tr>\n",
       "      <th>406639</th>\n",
       "      <td>2011-11-03 00:05:50</td>\n",
       "      <td>a4b49b06464597a9cd070985199bc637</td>\n",
       "      <td>한미fta</td>\n",
       "    </tr>\n",
       "    <tr>\n",
       "      <th>406640</th>\n",
       "      <td>2011-11-03 00:06:14</td>\n",
       "      <td>a4b49b06464597a9cd070985199bc637</td>\n",
       "      <td>한미fta</td>\n",
       "    </tr>\n",
       "    <tr>\n",
       "      <th>226156</th>\n",
       "      <td>2011-11-03 00:06:42</td>\n",
       "      <td>a4b49b06464597a9cd070985199bc637</td>\n",
       "      <td>한미fta</td>\n",
       "    </tr>\n",
       "    <tr>\n",
       "      <th>355652</th>\n",
       "      <td>2011-11-03 00:07:34</td>\n",
       "      <td>a4b49b06464597a9cd070985199bc637</td>\n",
       "      <td>한미fta</td>\n",
       "    </tr>\n",
       "    <tr>\n",
       "      <th>355653</th>\n",
       "      <td>2011-11-03 00:07:41</td>\n",
       "      <td>a4b49b06464597a9cd070985199bc637</td>\n",
       "      <td>한미fta</td>\n",
       "    </tr>\n",
       "    <tr>\n",
       "      <th>355654</th>\n",
       "      <td>2011-11-03 00:07:44</td>\n",
       "      <td>a4b49b06464597a9cd070985199bc637</td>\n",
       "      <td>한미fta</td>\n",
       "    </tr>\n",
       "    <tr>\n",
       "      <th>65675</th>\n",
       "      <td>2011-11-03 00:07:53</td>\n",
       "      <td>a4b49b06464597a9cd070985199bc637</td>\n",
       "      <td>한미fta</td>\n",
       "    </tr>\n",
       "    <tr>\n",
       "      <th>65676</th>\n",
       "      <td>2011-11-03 00:08:18</td>\n",
       "      <td>a4b49b06464597a9cd070985199bc637</td>\n",
       "      <td>한미fta</td>\n",
       "    </tr>\n",
       "  </tbody>\n",
       "</table>\n",
       "</div>"
      ],
      "text/plain": [
       "                      date                                id keyword\n",
       "225718 2011-11-03 00:00:00  a4b49b06464597a9cd070985199bc637   한미fta\n",
       "482697 2011-11-03 00:01:36  a4b49b06464597a9cd070985199bc637   한미fta\n",
       "297916 2011-11-03 00:02:00  a4b49b06464597a9cd070985199bc637   한미fta\n",
       "297917 2011-11-03 00:02:03  a4b49b06464597a9cd070985199bc637   한미fta\n",
       "297918 2011-11-03 00:02:09  a4b49b06464597a9cd070985199bc637   한미fta\n",
       "297919 2011-11-03 00:02:21  a4b49b06464597a9cd070985199bc637   한미fta\n",
       "464335 2011-11-03 00:02:44  a4b49b06464597a9cd070985199bc637   한미fta\n",
       "473612 2011-11-03 00:03:28  a4b49b06464597a9cd070985199bc637   한미fta\n",
       "162721 2011-11-03 00:03:48  a4b49b06464597a9cd070985199bc637   한미fta\n",
       "162722 2011-11-03 00:04:03  a4b49b06464597a9cd070985199bc637   한미fta\n",
       "628039 2011-11-03 00:04:44  a4b49b06464597a9cd070985199bc637   한미fta\n",
       "628040 2011-11-03 00:04:50  a4b49b06464597a9cd070985199bc637   한미fta\n",
       "515148 2011-11-03 00:05:19  a4b49b06464597a9cd070985199bc637   한미fta\n",
       "406639 2011-11-03 00:05:50  a4b49b06464597a9cd070985199bc637   한미fta\n",
       "406640 2011-11-03 00:06:14  a4b49b06464597a9cd070985199bc637   한미fta\n",
       "226156 2011-11-03 00:06:42  a4b49b06464597a9cd070985199bc637   한미fta\n",
       "355652 2011-11-03 00:07:34  a4b49b06464597a9cd070985199bc637   한미fta\n",
       "355653 2011-11-03 00:07:41  a4b49b06464597a9cd070985199bc637   한미fta\n",
       "355654 2011-11-03 00:07:44  a4b49b06464597a9cd070985199bc637   한미fta\n",
       "65675  2011-11-03 00:07:53  a4b49b06464597a9cd070985199bc637   한미fta\n",
       "65676  2011-11-03 00:08:18  a4b49b06464597a9cd070985199bc637   한미fta"
      ]
     },
     "execution_count": 7,
     "metadata": {},
     "output_type": "execute_result"
    }
   ],
   "source": [
    "# 개별 id 를 체크 하여 실제 얼만큼 검색어를 입력했는지 확인\n",
    "gdf.get_group('a4b49b06464597a9cd070985199bc637')"
   ]
  },
  {
   "cell_type": "code",
   "execution_count": 8,
   "metadata": {
    "slideshow": {
     "slide_type": "slide"
    }
   },
   "outputs": [
    {
     "data": {
      "text/html": [
       "<div>\n",
       "<style scoped>\n",
       "    .dataframe tbody tr th:only-of-type {\n",
       "        vertical-align: middle;\n",
       "    }\n",
       "\n",
       "    .dataframe tbody tr th {\n",
       "        vertical-align: top;\n",
       "    }\n",
       "\n",
       "    .dataframe thead th {\n",
       "        text-align: right;\n",
       "    }\n",
       "</style>\n",
       "<table border=\"1\" class=\"dataframe\">\n",
       "  <thead>\n",
       "    <tr style=\"text-align: right;\">\n",
       "      <th></th>\n",
       "      <th>date</th>\n",
       "      <th>id</th>\n",
       "      <th>keyword</th>\n",
       "    </tr>\n",
       "  </thead>\n",
       "  <tbody>\n",
       "    <tr>\n",
       "      <th>308195</th>\n",
       "      <td>2011-11-03 00:00:01</td>\n",
       "      <td>8e384b72b2697ab85d576cc56a58d45d</td>\n",
       "      <td>이승철 서쪽하늘</td>\n",
       "    </tr>\n",
       "    <tr>\n",
       "      <th>77059</th>\n",
       "      <td>2011-11-03 00:35:35</td>\n",
       "      <td>8e384b72b2697ab85d576cc56a58d45d</td>\n",
       "      <td>b형</td>\n",
       "    </tr>\n",
       "    <tr>\n",
       "      <th>66362</th>\n",
       "      <td>2011-11-03 00:36:49</td>\n",
       "      <td>8e384b72b2697ab85d576cc56a58d45d</td>\n",
       "      <td>o형남 o형여</td>\n",
       "    </tr>\n",
       "  </tbody>\n",
       "</table>\n",
       "</div>"
      ],
      "text/plain": [
       "                      date                                id   keyword\n",
       "308195 2011-11-03 00:00:01  8e384b72b2697ab85d576cc56a58d45d  이승철 서쪽하늘\n",
       "77059  2011-11-03 00:35:35  8e384b72b2697ab85d576cc56a58d45d        b형\n",
       "66362  2011-11-03 00:36:49  8e384b72b2697ab85d576cc56a58d45d   o형남 o형여"
      ]
     },
     "execution_count": 8,
     "metadata": {},
     "output_type": "execute_result"
    }
   ],
   "source": [
    "gdf.get_group('8e384b72b2697ab85d576cc56a58d45d')"
   ]
  },
  {
   "cell_type": "code",
   "execution_count": 9,
   "metadata": {
    "slideshow": {
     "slide_type": "slide"
    }
   },
   "outputs": [
    {
     "data": {
      "text/html": [
       "<div>\n",
       "<style scoped>\n",
       "    .dataframe tbody tr th:only-of-type {\n",
       "        vertical-align: middle;\n",
       "    }\n",
       "\n",
       "    .dataframe tbody tr th {\n",
       "        vertical-align: top;\n",
       "    }\n",
       "\n",
       "    .dataframe thead th {\n",
       "        text-align: right;\n",
       "    }\n",
       "</style>\n",
       "<table border=\"1\" class=\"dataframe\">\n",
       "  <thead>\n",
       "    <tr style=\"text-align: right;\">\n",
       "      <th></th>\n",
       "      <th>keyword</th>\n",
       "    </tr>\n",
       "    <tr>\n",
       "      <th>id</th>\n",
       "      <th></th>\n",
       "    </tr>\n",
       "  </thead>\n",
       "  <tbody>\n",
       "    <tr>\n",
       "      <th>0001345b66f604c70ebf4654a16779ef</th>\n",
       "      <td>[다이어트 효과, 미료 카리스마 사진, 2주 20kg, 하루 1시간 걷기]</td>\n",
       "    </tr>\n",
       "    <tr>\n",
       "      <th>0001e9697cf8771c1126f08e38c6e010</th>\n",
       "      <td>[엘소드, 이어폰, 광개토태왕 미리보기]</td>\n",
       "    </tr>\n",
       "    <tr>\n",
       "      <th>0002a91b2d41f3d1bcdb3b4fc7c4f395</th>\n",
       "      <td>[가수박모, 박혜경 공식입장, 임수향]</td>\n",
       "    </tr>\n",
       "    <tr>\n",
       "      <th>0003d2c1433bc164ee15e668fb62df77</th>\n",
       "      <td>[bubble trouble, 테트리스 한게임, 타이젬 외톨이, Dollars, D...</td>\n",
       "    </tr>\n",
       "    <tr>\n",
       "      <th>000699dd69c60d75d69ccf8f3d162401</th>\n",
       "      <td>[낙뢰방지, 계장, 제너배리어, 낙뢰방지]</td>\n",
       "    </tr>\n",
       "  </tbody>\n",
       "</table>\n",
       "</div>"
      ],
      "text/plain": [
       "                                                                            keyword\n",
       "id                                                                                 \n",
       "0001345b66f604c70ebf4654a16779ef          [다이어트 효과, 미료 카리스마 사진, 2주 20kg, 하루 1시간 걷기]\n",
       "0001e9697cf8771c1126f08e38c6e010                             [엘소드, 이어폰, 광개토태왕 미리보기]\n",
       "0002a91b2d41f3d1bcdb3b4fc7c4f395                              [가수박모, 박혜경 공식입장, 임수향]\n",
       "0003d2c1433bc164ee15e668fb62df77  [bubble trouble, 테트리스 한게임, 타이젬 외톨이, Dollars, D...\n",
       "000699dd69c60d75d69ccf8f3d162401                            [낙뢰방지, 계장, 제너배리어, 낙뢰방지]"
      ]
     },
     "execution_count": 9,
     "metadata": {},
     "output_type": "execute_result"
    }
   ],
   "source": [
    "#그룹된 df에서 keyword를 list로 확장한다\n",
    "df3 = gdf.agg({'keyword':list})\n",
    "df3.head(5)"
   ]
  },
  {
   "cell_type": "code",
   "execution_count": 10,
   "metadata": {
    "slideshow": {
     "slide_type": "slide"
    }
   },
   "outputs": [
    {
     "data": {
      "text/html": [
       "<div>\n",
       "<style scoped>\n",
       "    .dataframe tbody tr th:only-of-type {\n",
       "        vertical-align: middle;\n",
       "    }\n",
       "\n",
       "    .dataframe tbody tr th {\n",
       "        vertical-align: top;\n",
       "    }\n",
       "\n",
       "    .dataframe thead th {\n",
       "        text-align: right;\n",
       "    }\n",
       "</style>\n",
       "<table border=\"1\" class=\"dataframe\">\n",
       "  <thead>\n",
       "    <tr style=\"text-align: right;\">\n",
       "      <th></th>\n",
       "      <th>keyword</th>\n",
       "    </tr>\n",
       "    <tr>\n",
       "      <th>id</th>\n",
       "      <th></th>\n",
       "    </tr>\n",
       "  </thead>\n",
       "  <tbody>\n",
       "    <tr>\n",
       "      <th>0001345b66f604c70ebf4654a16779ef</th>\n",
       "      <td>[(다이어트 효과, 미료 카리스마 사진), (미료 카리스마 사진, 2주 20kg),...</td>\n",
       "    </tr>\n",
       "    <tr>\n",
       "      <th>0001e9697cf8771c1126f08e38c6e010</th>\n",
       "      <td>[(엘소드, 이어폰), (이어폰, 광개토태왕 미리보기)]</td>\n",
       "    </tr>\n",
       "    <tr>\n",
       "      <th>0002a91b2d41f3d1bcdb3b4fc7c4f395</th>\n",
       "      <td>[(가수박모, 박혜경 공식입장), (박혜경 공식입장, 임수향)]</td>\n",
       "    </tr>\n",
       "    <tr>\n",
       "      <th>0003d2c1433bc164ee15e668fb62df77</th>\n",
       "      <td>[(bubble trouble, 테트리스 한게임), (테트리스 한게임, 타이젬 외톨...</td>\n",
       "    </tr>\n",
       "    <tr>\n",
       "      <th>000699dd69c60d75d69ccf8f3d162401</th>\n",
       "      <td>[(낙뢰방지, 계장), (계장, 제너배리어), (제너배리어, 낙뢰방지)]</td>\n",
       "    </tr>\n",
       "  </tbody>\n",
       "</table>\n",
       "</div>"
      ],
      "text/plain": [
       "                                                                            keyword\n",
       "id                                                                                 \n",
       "0001345b66f604c70ebf4654a16779ef  [(다이어트 효과, 미료 카리스마 사진), (미료 카리스마 사진, 2주 20kg),...\n",
       "0001e9697cf8771c1126f08e38c6e010                    [(엘소드, 이어폰), (이어폰, 광개토태왕 미리보기)]\n",
       "0002a91b2d41f3d1bcdb3b4fc7c4f395                [(가수박모, 박혜경 공식입장), (박혜경 공식입장, 임수향)]\n",
       "0003d2c1433bc164ee15e668fb62df77  [(bubble trouble, 테트리스 한게임), (테트리스 한게임, 타이젬 외톨...\n",
       "000699dd69c60d75d69ccf8f3d162401           [(낙뢰방지, 계장), (계장, 제너배리어), (제너배리어, 낙뢰방지)]"
      ]
     },
     "execution_count": 10,
     "metadata": {},
     "output_type": "execute_result"
    }
   ],
   "source": [
    "#keyword에서 검색 pair를 추출한다\n",
    "df4 = df3.keyword.apply(lambda x:[tuple(x[i:i+2]) for i in range(len(x)-1)]).to_frame()\n",
    "df4.head(5)"
   ]
  },
  {
   "cell_type": "code",
   "execution_count": 11,
   "metadata": {
    "slideshow": {
     "slide_type": "slide"
    }
   },
   "outputs": [
    {
     "data": {
      "text/html": [
       "<div>\n",
       "<style scoped>\n",
       "    .dataframe tbody tr th:only-of-type {\n",
       "        vertical-align: middle;\n",
       "    }\n",
       "\n",
       "    .dataframe tbody tr th {\n",
       "        vertical-align: top;\n",
       "    }\n",
       "\n",
       "    .dataframe thead th {\n",
       "        text-align: right;\n",
       "    }\n",
       "</style>\n",
       "<table border=\"1\" class=\"dataframe\">\n",
       "  <thead>\n",
       "    <tr style=\"text-align: right;\">\n",
       "      <th></th>\n",
       "      <th>0</th>\n",
       "      <th>1</th>\n",
       "      <th>2</th>\n",
       "      <th>3</th>\n",
       "      <th>4</th>\n",
       "      <th>5</th>\n",
       "      <th>6</th>\n",
       "      <th>7</th>\n",
       "      <th>8</th>\n",
       "      <th>9</th>\n",
       "      <th>...</th>\n",
       "      <th>398</th>\n",
       "      <th>399</th>\n",
       "      <th>400</th>\n",
       "      <th>401</th>\n",
       "      <th>402</th>\n",
       "      <th>403</th>\n",
       "      <th>404</th>\n",
       "      <th>405</th>\n",
       "      <th>406</th>\n",
       "      <th>407</th>\n",
       "    </tr>\n",
       "    <tr>\n",
       "      <th>id</th>\n",
       "      <th></th>\n",
       "      <th></th>\n",
       "      <th></th>\n",
       "      <th></th>\n",
       "      <th></th>\n",
       "      <th></th>\n",
       "      <th></th>\n",
       "      <th></th>\n",
       "      <th></th>\n",
       "      <th></th>\n",
       "      <th></th>\n",
       "      <th></th>\n",
       "      <th></th>\n",
       "      <th></th>\n",
       "      <th></th>\n",
       "      <th></th>\n",
       "      <th></th>\n",
       "      <th></th>\n",
       "      <th></th>\n",
       "      <th></th>\n",
       "      <th></th>\n",
       "    </tr>\n",
       "  </thead>\n",
       "  <tbody>\n",
       "    <tr>\n",
       "      <th>0001345b66f604c70ebf4654a16779ef</th>\n",
       "      <td>(다이어트 효과, 미료 카리스마 사진)</td>\n",
       "      <td>(미료 카리스마 사진, 2주 20kg)</td>\n",
       "      <td>(2주 20kg, 하루 1시간 걷기)</td>\n",
       "      <td>NaN</td>\n",
       "      <td>NaN</td>\n",
       "      <td>NaN</td>\n",
       "      <td>NaN</td>\n",
       "      <td>NaN</td>\n",
       "      <td>NaN</td>\n",
       "      <td>NaN</td>\n",
       "      <td>...</td>\n",
       "      <td>NaN</td>\n",
       "      <td>NaN</td>\n",
       "      <td>NaN</td>\n",
       "      <td>NaN</td>\n",
       "      <td>NaN</td>\n",
       "      <td>NaN</td>\n",
       "      <td>NaN</td>\n",
       "      <td>NaN</td>\n",
       "      <td>NaN</td>\n",
       "      <td>NaN</td>\n",
       "    </tr>\n",
       "    <tr>\n",
       "      <th>0001e9697cf8771c1126f08e38c6e010</th>\n",
       "      <td>(엘소드, 이어폰)</td>\n",
       "      <td>(이어폰, 광개토태왕 미리보기)</td>\n",
       "      <td>NaN</td>\n",
       "      <td>NaN</td>\n",
       "      <td>NaN</td>\n",
       "      <td>NaN</td>\n",
       "      <td>NaN</td>\n",
       "      <td>NaN</td>\n",
       "      <td>NaN</td>\n",
       "      <td>NaN</td>\n",
       "      <td>...</td>\n",
       "      <td>NaN</td>\n",
       "      <td>NaN</td>\n",
       "      <td>NaN</td>\n",
       "      <td>NaN</td>\n",
       "      <td>NaN</td>\n",
       "      <td>NaN</td>\n",
       "      <td>NaN</td>\n",
       "      <td>NaN</td>\n",
       "      <td>NaN</td>\n",
       "      <td>NaN</td>\n",
       "    </tr>\n",
       "    <tr>\n",
       "      <th>0002a91b2d41f3d1bcdb3b4fc7c4f395</th>\n",
       "      <td>(가수박모, 박혜경 공식입장)</td>\n",
       "      <td>(박혜경 공식입장, 임수향)</td>\n",
       "      <td>NaN</td>\n",
       "      <td>NaN</td>\n",
       "      <td>NaN</td>\n",
       "      <td>NaN</td>\n",
       "      <td>NaN</td>\n",
       "      <td>NaN</td>\n",
       "      <td>NaN</td>\n",
       "      <td>NaN</td>\n",
       "      <td>...</td>\n",
       "      <td>NaN</td>\n",
       "      <td>NaN</td>\n",
       "      <td>NaN</td>\n",
       "      <td>NaN</td>\n",
       "      <td>NaN</td>\n",
       "      <td>NaN</td>\n",
       "      <td>NaN</td>\n",
       "      <td>NaN</td>\n",
       "      <td>NaN</td>\n",
       "      <td>NaN</td>\n",
       "    </tr>\n",
       "    <tr>\n",
       "      <th>0003d2c1433bc164ee15e668fb62df77</th>\n",
       "      <td>(bubble trouble, 테트리스 한게임)</td>\n",
       "      <td>(테트리스 한게임, 타이젬 외톨이)</td>\n",
       "      <td>(타이젬 외톨이, Dollars)</td>\n",
       "      <td>(Dollars, Dollars 다라즈)</td>\n",
       "      <td>NaN</td>\n",
       "      <td>NaN</td>\n",
       "      <td>NaN</td>\n",
       "      <td>NaN</td>\n",
       "      <td>NaN</td>\n",
       "      <td>NaN</td>\n",
       "      <td>...</td>\n",
       "      <td>NaN</td>\n",
       "      <td>NaN</td>\n",
       "      <td>NaN</td>\n",
       "      <td>NaN</td>\n",
       "      <td>NaN</td>\n",
       "      <td>NaN</td>\n",
       "      <td>NaN</td>\n",
       "      <td>NaN</td>\n",
       "      <td>NaN</td>\n",
       "      <td>NaN</td>\n",
       "    </tr>\n",
       "    <tr>\n",
       "      <th>000699dd69c60d75d69ccf8f3d162401</th>\n",
       "      <td>(낙뢰방지, 계장)</td>\n",
       "      <td>(계장, 제너배리어)</td>\n",
       "      <td>(제너배리어, 낙뢰방지)</td>\n",
       "      <td>NaN</td>\n",
       "      <td>NaN</td>\n",
       "      <td>NaN</td>\n",
       "      <td>NaN</td>\n",
       "      <td>NaN</td>\n",
       "      <td>NaN</td>\n",
       "      <td>NaN</td>\n",
       "      <td>...</td>\n",
       "      <td>NaN</td>\n",
       "      <td>NaN</td>\n",
       "      <td>NaN</td>\n",
       "      <td>NaN</td>\n",
       "      <td>NaN</td>\n",
       "      <td>NaN</td>\n",
       "      <td>NaN</td>\n",
       "      <td>NaN</td>\n",
       "      <td>NaN</td>\n",
       "      <td>NaN</td>\n",
       "    </tr>\n",
       "  </tbody>\n",
       "</table>\n",
       "<p>5 rows × 408 columns</p>\n",
       "</div>"
      ],
      "text/plain": [
       "                                                         0    \\\n",
       "id                                                             \n",
       "0001345b66f604c70ebf4654a16779ef       (다이어트 효과, 미료 카리스마 사진)   \n",
       "0001e9697cf8771c1126f08e38c6e010                  (엘소드, 이어폰)   \n",
       "0002a91b2d41f3d1bcdb3b4fc7c4f395            (가수박모, 박혜경 공식입장)   \n",
       "0003d2c1433bc164ee15e668fb62df77  (bubble trouble, 테트리스 한게임)   \n",
       "000699dd69c60d75d69ccf8f3d162401                  (낙뢰방지, 계장)   \n",
       "\n",
       "                                                    1                     2    \\\n",
       "id                                                                              \n",
       "0001345b66f604c70ebf4654a16779ef  (미료 카리스마 사진, 2주 20kg)  (2주 20kg, 하루 1시간 걷기)   \n",
       "0001e9697cf8771c1126f08e38c6e010      (이어폰, 광개토태왕 미리보기)                   NaN   \n",
       "0002a91b2d41f3d1bcdb3b4fc7c4f395        (박혜경 공식입장, 임수향)                   NaN   \n",
       "0003d2c1433bc164ee15e668fb62df77    (테트리스 한게임, 타이젬 외톨이)    (타이젬 외톨이, Dollars)   \n",
       "000699dd69c60d75d69ccf8f3d162401            (계장, 제너배리어)         (제너배리어, 낙뢰방지)   \n",
       "\n",
       "                                                     3    4    5    6    7    \\\n",
       "id                                                                             \n",
       "0001345b66f604c70ebf4654a16779ef                     NaN  NaN  NaN  NaN  NaN   \n",
       "0001e9697cf8771c1126f08e38c6e010                     NaN  NaN  NaN  NaN  NaN   \n",
       "0002a91b2d41f3d1bcdb3b4fc7c4f395                     NaN  NaN  NaN  NaN  NaN   \n",
       "0003d2c1433bc164ee15e668fb62df77  (Dollars, Dollars 다라즈)  NaN  NaN  NaN  NaN   \n",
       "000699dd69c60d75d69ccf8f3d162401                     NaN  NaN  NaN  NaN  NaN   \n",
       "\n",
       "                                  8    9    ...  398  399  400  401  402  403  \\\n",
       "id                                          ...                                 \n",
       "0001345b66f604c70ebf4654a16779ef  NaN  NaN  ...  NaN  NaN  NaN  NaN  NaN  NaN   \n",
       "0001e9697cf8771c1126f08e38c6e010  NaN  NaN  ...  NaN  NaN  NaN  NaN  NaN  NaN   \n",
       "0002a91b2d41f3d1bcdb3b4fc7c4f395  NaN  NaN  ...  NaN  NaN  NaN  NaN  NaN  NaN   \n",
       "0003d2c1433bc164ee15e668fb62df77  NaN  NaN  ...  NaN  NaN  NaN  NaN  NaN  NaN   \n",
       "000699dd69c60d75d69ccf8f3d162401  NaN  NaN  ...  NaN  NaN  NaN  NaN  NaN  NaN   \n",
       "\n",
       "                                  404  405  406  407  \n",
       "id                                                    \n",
       "0001345b66f604c70ebf4654a16779ef  NaN  NaN  NaN  NaN  \n",
       "0001e9697cf8771c1126f08e38c6e010  NaN  NaN  NaN  NaN  \n",
       "0002a91b2d41f3d1bcdb3b4fc7c4f395  NaN  NaN  NaN  NaN  \n",
       "0003d2c1433bc164ee15e668fb62df77  NaN  NaN  NaN  NaN  \n",
       "000699dd69c60d75d69ccf8f3d162401  NaN  NaN  NaN  NaN  \n",
       "\n",
       "[5 rows x 408 columns]"
      ]
     },
     "execution_count": 11,
     "metadata": {},
     "output_type": "execute_result"
    }
   ],
   "source": [
    "#각 하나의 row의 검색 pair를 series로 치환한다\n",
    "df5 = df4.keyword.apply(pd.Series)\n",
    "df5.head(5)"
   ]
  },
  {
   "cell_type": "code",
   "execution_count": 13,
   "metadata": {
    "slideshow": {
     "slide_type": "slide"
    }
   },
   "outputs": [
    {
     "data": {
      "text/html": [
       "<div>\n",
       "<style scoped>\n",
       "    .dataframe tbody tr th:only-of-type {\n",
       "        vertical-align: middle;\n",
       "    }\n",
       "\n",
       "    .dataframe tbody tr th {\n",
       "        vertical-align: top;\n",
       "    }\n",
       "\n",
       "    .dataframe thead th {\n",
       "        text-align: right;\n",
       "    }\n",
       "</style>\n",
       "<table border=\"1\" class=\"dataframe\">\n",
       "  <thead>\n",
       "    <tr style=\"text-align: right;\">\n",
       "      <th></th>\n",
       "      <th>id</th>\n",
       "      <th>pairwise</th>\n",
       "    </tr>\n",
       "  </thead>\n",
       "  <tbody>\n",
       "    <tr>\n",
       "      <th>0</th>\n",
       "      <td>0001345b66f604c70ebf4654a16779ef</td>\n",
       "      <td>(다이어트 효과, 미료 카리스마 사진)</td>\n",
       "    </tr>\n",
       "    <tr>\n",
       "      <th>1</th>\n",
       "      <td>0001345b66f604c70ebf4654a16779ef</td>\n",
       "      <td>(미료 카리스마 사진, 2주 20kg)</td>\n",
       "    </tr>\n",
       "    <tr>\n",
       "      <th>2</th>\n",
       "      <td>0001345b66f604c70ebf4654a16779ef</td>\n",
       "      <td>(2주 20kg, 하루 1시간 걷기)</td>\n",
       "    </tr>\n",
       "    <tr>\n",
       "      <th>0</th>\n",
       "      <td>0001e9697cf8771c1126f08e38c6e010</td>\n",
       "      <td>(엘소드, 이어폰)</td>\n",
       "    </tr>\n",
       "    <tr>\n",
       "      <th>1</th>\n",
       "      <td>0001e9697cf8771c1126f08e38c6e010</td>\n",
       "      <td>(이어폰, 광개토태왕 미리보기)</td>\n",
       "    </tr>\n",
       "  </tbody>\n",
       "</table>\n",
       "</div>"
      ],
      "text/plain": [
       "                                 id               pairwise\n",
       "0  0001345b66f604c70ebf4654a16779ef  (다이어트 효과, 미료 카리스마 사진)\n",
       "1  0001345b66f604c70ebf4654a16779ef  (미료 카리스마 사진, 2주 20kg)\n",
       "2  0001345b66f604c70ebf4654a16779ef   (2주 20kg, 하루 1시간 걷기)\n",
       "0  0001e9697cf8771c1126f08e38c6e010             (엘소드, 이어폰)\n",
       "1  0001e9697cf8771c1126f08e38c6e010      (이어폰, 광개토태왕 미리보기)"
      ]
     },
     "execution_count": 13,
     "metadata": {},
     "output_type": "execute_result"
    }
   ],
   "source": [
    "#스택 명령을 이용하여 field안에 담긴 serise를 column으로 치환한다\n",
    "df6 = df5.stack().to_frame('pairwise')\n",
    "df6 = df6.reset_index(level=0)\n",
    "df6.head(5)"
   ]
  },
  {
   "cell_type": "code",
   "execution_count": 14,
   "metadata": {
    "slideshow": {
     "slide_type": "slide"
    }
   },
   "outputs": [
    {
     "data": {
      "text/html": [
       "<div>\n",
       "<style scoped>\n",
       "    .dataframe tbody tr th:only-of-type {\n",
       "        vertical-align: middle;\n",
       "    }\n",
       "\n",
       "    .dataframe tbody tr th {\n",
       "        vertical-align: top;\n",
       "    }\n",
       "\n",
       "    .dataframe thead th {\n",
       "        text-align: right;\n",
       "    }\n",
       "</style>\n",
       "<table border=\"1\" class=\"dataframe\">\n",
       "  <thead>\n",
       "    <tr style=\"text-align: right;\">\n",
       "      <th></th>\n",
       "      <th>A</th>\n",
       "      <th>B</th>\n",
       "    </tr>\n",
       "  </thead>\n",
       "  <tbody>\n",
       "    <tr>\n",
       "      <th>0</th>\n",
       "      <td>다이어트 효과</td>\n",
       "      <td>미료 카리스마 사진</td>\n",
       "    </tr>\n",
       "    <tr>\n",
       "      <th>1</th>\n",
       "      <td>미료 카리스마 사진</td>\n",
       "      <td>2주 20kg</td>\n",
       "    </tr>\n",
       "    <tr>\n",
       "      <th>2</th>\n",
       "      <td>2주 20kg</td>\n",
       "      <td>하루 1시간 걷기</td>\n",
       "    </tr>\n",
       "    <tr>\n",
       "      <th>0</th>\n",
       "      <td>엘소드</td>\n",
       "      <td>이어폰</td>\n",
       "    </tr>\n",
       "    <tr>\n",
       "      <th>1</th>\n",
       "      <td>이어폰</td>\n",
       "      <td>광개토태왕 미리보기</td>\n",
       "    </tr>\n",
       "  </tbody>\n",
       "</table>\n",
       "</div>"
      ],
      "text/plain": [
       "            A           B\n",
       "0     다이어트 효과  미료 카리스마 사진\n",
       "1  미료 카리스마 사진     2주 20kg\n",
       "2     2주 20kg   하루 1시간 걷기\n",
       "0         엘소드         이어폰\n",
       "1         이어폰  광개토태왕 미리보기"
      ]
     },
     "execution_count": 14,
     "metadata": {},
     "output_type": "execute_result"
    }
   ],
   "source": [
    "#pairwise컬럼을 각 A 컬럼, B컬럼으로 분리한다\n",
    "df7 = df6.pairwise.apply(lambda x:x[0]).to_frame('A')\n",
    "df7['B'] = df6.pairwise.apply(lambda x:x[1])\n",
    "df7.head(5)"
   ]
  },
  {
   "cell_type": "code",
   "execution_count": 15,
   "metadata": {
    "slideshow": {
     "slide_type": "slide"
    }
   },
   "outputs": [
    {
     "data": {
      "text/html": [
       "<div>\n",
       "<style scoped>\n",
       "    .dataframe tbody tr th:only-of-type {\n",
       "        vertical-align: middle;\n",
       "    }\n",
       "\n",
       "    .dataframe tbody tr th {\n",
       "        vertical-align: top;\n",
       "    }\n",
       "\n",
       "    .dataframe thead th {\n",
       "        text-align: right;\n",
       "    }\n",
       "</style>\n",
       "<table border=\"1\" class=\"dataframe\">\n",
       "  <thead>\n",
       "    <tr style=\"text-align: right;\">\n",
       "      <th></th>\n",
       "      <th>A</th>\n",
       "      <th>B</th>\n",
       "      <th>key_A</th>\n",
       "      <th>key_B</th>\n",
       "    </tr>\n",
       "  </thead>\n",
       "  <tbody>\n",
       "    <tr>\n",
       "      <th>0</th>\n",
       "      <td>다이어트 효과</td>\n",
       "      <td>미료 카리스마 사진</td>\n",
       "      <td>다이어트효과</td>\n",
       "      <td>미료카리스마사진</td>\n",
       "    </tr>\n",
       "    <tr>\n",
       "      <th>1</th>\n",
       "      <td>미료 카리스마 사진</td>\n",
       "      <td>2주 20kg</td>\n",
       "      <td>미료카리스마사진</td>\n",
       "      <td>2주20kg</td>\n",
       "    </tr>\n",
       "    <tr>\n",
       "      <th>2</th>\n",
       "      <td>2주 20kg</td>\n",
       "      <td>하루 1시간 걷기</td>\n",
       "      <td>2주20kg</td>\n",
       "      <td>하루1시간걷기</td>\n",
       "    </tr>\n",
       "    <tr>\n",
       "      <th>0</th>\n",
       "      <td>엘소드</td>\n",
       "      <td>이어폰</td>\n",
       "      <td>엘소드</td>\n",
       "      <td>이어폰</td>\n",
       "    </tr>\n",
       "    <tr>\n",
       "      <th>1</th>\n",
       "      <td>이어폰</td>\n",
       "      <td>광개토태왕 미리보기</td>\n",
       "      <td>이어폰</td>\n",
       "      <td>광개토태왕미리보기</td>\n",
       "    </tr>\n",
       "  </tbody>\n",
       "</table>\n",
       "</div>"
      ],
      "text/plain": [
       "            A           B     key_A      key_B\n",
       "0     다이어트 효과  미료 카리스마 사진    다이어트효과   미료카리스마사진\n",
       "1  미료 카리스마 사진     2주 20kg  미료카리스마사진     2주20kg\n",
       "2     2주 20kg   하루 1시간 걷기    2주20kg    하루1시간걷기\n",
       "0         엘소드         이어폰       엘소드        이어폰\n",
       "1         이어폰  광개토태왕 미리보기       이어폰  광개토태왕미리보기"
      ]
     },
     "execution_count": 15,
     "metadata": {},
     "output_type": "execute_result"
    }
   ],
   "source": [
    "#집계용 띄어쓰기, 대소문자를 처리한 A, B 컬럼을 추가한다\n",
    "df7['key_A'] = df7.A.apply(lambda x:x.replace(' ','').lower())\n",
    "df7['key_B'] = df7.B.apply(lambda x:x.replace(' ','').lower())\n",
    "df7.head(5)"
   ]
  },
  {
   "cell_type": "code",
   "execution_count": 16,
   "metadata": {
    "slideshow": {
     "slide_type": "slide"
    }
   },
   "outputs": [],
   "source": [
    "#P(A), P(B), P(A,B)를 추출하기 위한 df를 추가한다\n",
    "stats_A = df7.groupby(by='key_A')['key_A'].count().to_frame('freq_A')\n",
    "stats_A['total_A'] = stats_A.freq_A.sum()\n",
    "stats_B = df7.groupby(by='key_B')['key_B'].count().to_frame('freq_B')\n",
    "stats_B['total_B'] = stats_B.freq_B.sum()"
   ]
  },
  {
   "cell_type": "code",
   "execution_count": 17,
   "metadata": {
    "slideshow": {
     "slide_type": "slide"
    }
   },
   "outputs": [
    {
     "data": {
      "text/html": [
       "<div>\n",
       "<style scoped>\n",
       "    .dataframe tbody tr th:only-of-type {\n",
       "        vertical-align: middle;\n",
       "    }\n",
       "\n",
       "    .dataframe tbody tr th {\n",
       "        vertical-align: top;\n",
       "    }\n",
       "\n",
       "    .dataframe thead th {\n",
       "        text-align: right;\n",
       "    }\n",
       "</style>\n",
       "<table border=\"1\" class=\"dataframe\">\n",
       "  <thead>\n",
       "    <tr style=\"text-align: right;\">\n",
       "      <th></th>\n",
       "      <th>freq_A</th>\n",
       "      <th>total_A</th>\n",
       "    </tr>\n",
       "    <tr>\n",
       "      <th>key_A</th>\n",
       "      <th></th>\n",
       "      <th></th>\n",
       "    </tr>\n",
       "  </thead>\n",
       "  <tbody>\n",
       "    <tr>\n",
       "      <th></th>\n",
       "      <td>4</td>\n",
       "      <td>209199</td>\n",
       "    </tr>\n",
       "    <tr>\n",
       "      <th>!!!</th>\n",
       "      <td>3</td>\n",
       "      <td>209199</td>\n",
       "    </tr>\n",
       "    <tr>\n",
       "      <th>!깜빡</th>\n",
       "      <td>1</td>\n",
       "      <td>209199</td>\n",
       "    </tr>\n",
       "    <tr>\n",
       "      <th>\"dude,i'mchuckbass,evenyourpantsmustknowwhatthatmeans\"</th>\n",
       "      <td>2</td>\n",
       "      <td>209199</td>\n",
       "    </tr>\n",
       "    <tr>\n",
       "      <th>\"slowandsteady\"\"명사\"</th>\n",
       "      <td>1</td>\n",
       "      <td>209199</td>\n",
       "    </tr>\n",
       "  </tbody>\n",
       "</table>\n",
       "</div>"
      ],
      "text/plain": [
       "                                                    freq_A  total_A\n",
       "key_A                                                              \n",
       "                                                         4   209199\n",
       "!!!                                                      3   209199\n",
       "!깜빡                                                      1   209199\n",
       "\"dude,i'mchuckbass,evenyourpantsmustknowwhattha...       2   209199\n",
       "\"slowandsteady\"\"명사\"                                      1   209199"
      ]
     },
     "execution_count": 17,
     "metadata": {},
     "output_type": "execute_result"
    }
   ],
   "source": [
    "stats_A.head(5)"
   ]
  },
  {
   "cell_type": "code",
   "execution_count": 18,
   "metadata": {
    "slideshow": {
     "slide_type": "slide"
    }
   },
   "outputs": [
    {
     "data": {
      "text/html": [
       "<div>\n",
       "<style scoped>\n",
       "    .dataframe tbody tr th:only-of-type {\n",
       "        vertical-align: middle;\n",
       "    }\n",
       "\n",
       "    .dataframe tbody tr th {\n",
       "        vertical-align: top;\n",
       "    }\n",
       "\n",
       "    .dataframe thead th {\n",
       "        text-align: right;\n",
       "    }\n",
       "</style>\n",
       "<table border=\"1\" class=\"dataframe\">\n",
       "  <thead>\n",
       "    <tr style=\"text-align: right;\">\n",
       "      <th></th>\n",
       "      <th>freq_B</th>\n",
       "      <th>total_B</th>\n",
       "    </tr>\n",
       "    <tr>\n",
       "      <th>key_B</th>\n",
       "      <th></th>\n",
       "      <th></th>\n",
       "    </tr>\n",
       "  </thead>\n",
       "  <tbody>\n",
       "    <tr>\n",
       "      <th></th>\n",
       "      <td>5</td>\n",
       "      <td>209199</td>\n",
       "    </tr>\n",
       "    <tr>\n",
       "      <th>!!!</th>\n",
       "      <td>4</td>\n",
       "      <td>209199</td>\n",
       "    </tr>\n",
       "    <tr>\n",
       "      <th>!깜빡</th>\n",
       "      <td>1</td>\n",
       "      <td>209199</td>\n",
       "    </tr>\n",
       "    <tr>\n",
       "      <th>\"dude,i'mchuckbass,evenyourpantsmustknowwhatthatmeans\"</th>\n",
       "      <td>1</td>\n",
       "      <td>209199</td>\n",
       "    </tr>\n",
       "    <tr>\n",
       "      <th>\"tenkiu</th>\n",
       "      <td>1</td>\n",
       "      <td>209199</td>\n",
       "    </tr>\n",
       "  </tbody>\n",
       "</table>\n",
       "</div>"
      ],
      "text/plain": [
       "                                                    freq_B  total_B\n",
       "key_B                                                              \n",
       "                                                         5   209199\n",
       "!!!                                                      4   209199\n",
       "!깜빡                                                      1   209199\n",
       "\"dude,i'mchuckbass,evenyourpantsmustknowwhattha...       1   209199\n",
       "\"tenkiu                                                  1   209199"
      ]
     },
     "execution_count": 18,
     "metadata": {},
     "output_type": "execute_result"
    }
   ],
   "source": [
    "stats_B.head(5)"
   ]
  },
  {
   "cell_type": "code",
   "execution_count": 19,
   "metadata": {
    "slideshow": {
     "slide_type": "slide"
    }
   },
   "outputs": [
    {
     "data": {
      "text/html": [
       "<div>\n",
       "<style scoped>\n",
       "    .dataframe tbody tr th:only-of-type {\n",
       "        vertical-align: middle;\n",
       "    }\n",
       "\n",
       "    .dataframe tbody tr th {\n",
       "        vertical-align: top;\n",
       "    }\n",
       "\n",
       "    .dataframe thead th {\n",
       "        text-align: right;\n",
       "    }\n",
       "</style>\n",
       "<table border=\"1\" class=\"dataframe\">\n",
       "  <thead>\n",
       "    <tr style=\"text-align: right;\">\n",
       "      <th></th>\n",
       "      <th></th>\n",
       "      <th>freq_AB</th>\n",
       "      <th>total_AB</th>\n",
       "    </tr>\n",
       "    <tr>\n",
       "      <th>key_A</th>\n",
       "      <th>key_B</th>\n",
       "      <th></th>\n",
       "      <th></th>\n",
       "    </tr>\n",
       "  </thead>\n",
       "  <tbody>\n",
       "    <tr>\n",
       "      <th rowspan=\"4\" valign=\"top\"></th>\n",
       "      <th>경주콘도</th>\n",
       "      <td>1</td>\n",
       "      <td>209199</td>\n",
       "    </tr>\n",
       "    <tr>\n",
       "      <th>메이비신체나이</th>\n",
       "      <td>1</td>\n",
       "      <td>209199</td>\n",
       "    </tr>\n",
       "    <tr>\n",
       "      <th>영국전통의상</th>\n",
       "      <td>1</td>\n",
       "      <td>209199</td>\n",
       "    </tr>\n",
       "    <tr>\n",
       "      <th>키즈짱</th>\n",
       "      <td>1</td>\n",
       "      <td>209199</td>\n",
       "    </tr>\n",
       "    <tr>\n",
       "      <th>!!!</th>\n",
       "      <th>가리온</th>\n",
       "      <td>1</td>\n",
       "      <td>209199</td>\n",
       "    </tr>\n",
       "  </tbody>\n",
       "</table>\n",
       "</div>"
      ],
      "text/plain": [
       "               freq_AB  total_AB\n",
       "key_A key_B                     \n",
       "      경주콘도           1    209199\n",
       "      메이비신체나이        1    209199\n",
       "      영국전통의상         1    209199\n",
       "      키즈짱            1    209199\n",
       "!!!   가리온            1    209199"
      ]
     },
     "execution_count": 19,
     "metadata": {},
     "output_type": "execute_result"
    }
   ],
   "source": [
    "#A,B에 대한 집계도 추가한다\n",
    "stats_AB = df7.groupby(by=['key_A', 'key_B'])['A'].count().to_frame('freq_AB')\n",
    "stats_AB['total_AB'] = stats_AB.freq_AB.sum()\n",
    "stats_AB.head(5)"
   ]
  },
  {
   "cell_type": "code",
   "execution_count": 20,
   "metadata": {
    "slideshow": {
     "slide_type": "slide"
    }
   },
   "outputs": [
    {
     "name": "stdout",
     "output_type": "stream",
     "text": [
      "209199\n"
     ]
    },
    {
     "data": {
      "text/html": [
       "<div>\n",
       "<style scoped>\n",
       "    .dataframe tbody tr th:only-of-type {\n",
       "        vertical-align: middle;\n",
       "    }\n",
       "\n",
       "    .dataframe tbody tr th {\n",
       "        vertical-align: top;\n",
       "    }\n",
       "\n",
       "    .dataframe thead th {\n",
       "        text-align: right;\n",
       "    }\n",
       "</style>\n",
       "<table border=\"1\" class=\"dataframe\">\n",
       "  <thead>\n",
       "    <tr style=\"text-align: right;\">\n",
       "      <th></th>\n",
       "      <th>A</th>\n",
       "      <th>B</th>\n",
       "      <th>key_A</th>\n",
       "      <th>key_B</th>\n",
       "      <th>freq_A</th>\n",
       "      <th>total_A</th>\n",
       "    </tr>\n",
       "  </thead>\n",
       "  <tbody>\n",
       "    <tr>\n",
       "      <th>0</th>\n",
       "      <td>다이어트 효과</td>\n",
       "      <td>미료 카리스마 사진</td>\n",
       "      <td>다이어트효과</td>\n",
       "      <td>미료카리스마사진</td>\n",
       "      <td>1</td>\n",
       "      <td>209199</td>\n",
       "    </tr>\n",
       "    <tr>\n",
       "      <th>1</th>\n",
       "      <td>미료 카리스마 사진</td>\n",
       "      <td>2주 20kg</td>\n",
       "      <td>미료카리스마사진</td>\n",
       "      <td>2주20kg</td>\n",
       "      <td>453</td>\n",
       "      <td>209199</td>\n",
       "    </tr>\n",
       "    <tr>\n",
       "      <th>2</th>\n",
       "      <td>미료 카리스마 사진</td>\n",
       "      <td>dutntnstkfrkfcl</td>\n",
       "      <td>미료카리스마사진</td>\n",
       "      <td>dutntnstkfrkfcl</td>\n",
       "      <td>453</td>\n",
       "      <td>209199</td>\n",
       "    </tr>\n",
       "    <tr>\n",
       "      <th>3</th>\n",
       "      <td>미료 카리스마 사진</td>\n",
       "      <td>mobile based</td>\n",
       "      <td>미료카리스마사진</td>\n",
       "      <td>mobilebased</td>\n",
       "      <td>453</td>\n",
       "      <td>209199</td>\n",
       "    </tr>\n",
       "    <tr>\n",
       "      <th>4</th>\n",
       "      <td>미료 카리스마 사진</td>\n",
       "      <td>sk</td>\n",
       "      <td>미료카리스마사진</td>\n",
       "      <td>sk</td>\n",
       "      <td>453</td>\n",
       "      <td>209199</td>\n",
       "    </tr>\n",
       "  </tbody>\n",
       "</table>\n",
       "</div>"
      ],
      "text/plain": [
       "            A                B     key_A            key_B  freq_A  total_A\n",
       "0     다이어트 효과       미료 카리스마 사진    다이어트효과         미료카리스마사진       1   209199\n",
       "1  미료 카리스마 사진          2주 20kg  미료카리스마사진           2주20kg     453   209199\n",
       "2  미료 카리스마 사진  dutntnstkfrkfcl  미료카리스마사진  dutntnstkfrkfcl     453   209199\n",
       "3  미료 카리스마 사진     mobile based  미료카리스마사진      mobilebased     453   209199\n",
       "4  미료 카리스마 사진               sk  미료카리스마사진               sk     453   209199"
      ]
     },
     "execution_count": 20,
     "metadata": {},
     "output_type": "execute_result"
    }
   ],
   "source": [
    "#기존 df에 집계된 A,B AB의 통계 정보를 추가한다\n",
    "df8 = pd.merge(df7, stats_A, on='key_A')\n",
    "print (len(df8))\n",
    "df8.head(5)"
   ]
  },
  {
   "cell_type": "code",
   "execution_count": 21,
   "metadata": {
    "slideshow": {
     "slide_type": "slide"
    }
   },
   "outputs": [
    {
     "name": "stdout",
     "output_type": "stream",
     "text": [
      "209199\n"
     ]
    },
    {
     "data": {
      "text/html": [
       "<div>\n",
       "<style scoped>\n",
       "    .dataframe tbody tr th:only-of-type {\n",
       "        vertical-align: middle;\n",
       "    }\n",
       "\n",
       "    .dataframe tbody tr th {\n",
       "        vertical-align: top;\n",
       "    }\n",
       "\n",
       "    .dataframe thead th {\n",
       "        text-align: right;\n",
       "    }\n",
       "</style>\n",
       "<table border=\"1\" class=\"dataframe\">\n",
       "  <thead>\n",
       "    <tr style=\"text-align: right;\">\n",
       "      <th></th>\n",
       "      <th>A</th>\n",
       "      <th>B</th>\n",
       "      <th>key_A</th>\n",
       "      <th>key_B</th>\n",
       "      <th>freq_A</th>\n",
       "      <th>total_A</th>\n",
       "      <th>freq_B</th>\n",
       "      <th>total_B</th>\n",
       "    </tr>\n",
       "  </thead>\n",
       "  <tbody>\n",
       "    <tr>\n",
       "      <th>0</th>\n",
       "      <td>다이어트 효과</td>\n",
       "      <td>미료 카리스마 사진</td>\n",
       "      <td>다이어트효과</td>\n",
       "      <td>미료카리스마사진</td>\n",
       "      <td>1</td>\n",
       "      <td>209199</td>\n",
       "      <td>476</td>\n",
       "      <td>209199</td>\n",
       "    </tr>\n",
       "    <tr>\n",
       "      <th>1</th>\n",
       "      <td>박혜경 공식입장</td>\n",
       "      <td>미료 카리스마 사진</td>\n",
       "      <td>박혜경공식입장</td>\n",
       "      <td>미료카리스마사진</td>\n",
       "      <td>113</td>\n",
       "      <td>209199</td>\n",
       "      <td>476</td>\n",
       "      <td>209199</td>\n",
       "    </tr>\n",
       "    <tr>\n",
       "      <th>2</th>\n",
       "      <td>송중기 나쁜 손</td>\n",
       "      <td>미료 카리스마 사진</td>\n",
       "      <td>송중기나쁜손</td>\n",
       "      <td>미료카리스마사진</td>\n",
       "      <td>871</td>\n",
       "      <td>209199</td>\n",
       "      <td>476</td>\n",
       "      <td>209199</td>\n",
       "    </tr>\n",
       "    <tr>\n",
       "      <th>3</th>\n",
       "      <td>송중기 나쁜손</td>\n",
       "      <td>미료 카리스마 사진</td>\n",
       "      <td>송중기나쁜손</td>\n",
       "      <td>미료카리스마사진</td>\n",
       "      <td>871</td>\n",
       "      <td>209199</td>\n",
       "      <td>476</td>\n",
       "      <td>209199</td>\n",
       "    </tr>\n",
       "    <tr>\n",
       "      <th>4</th>\n",
       "      <td>송중기 나쁜 손</td>\n",
       "      <td>미료 카리스마 사진</td>\n",
       "      <td>송중기나쁜손</td>\n",
       "      <td>미료카리스마사진</td>\n",
       "      <td>871</td>\n",
       "      <td>209199</td>\n",
       "      <td>476</td>\n",
       "      <td>209199</td>\n",
       "    </tr>\n",
       "  </tbody>\n",
       "</table>\n",
       "</div>"
      ],
      "text/plain": [
       "          A           B    key_A     key_B  freq_A  total_A  freq_B  total_B\n",
       "0   다이어트 효과  미료 카리스마 사진   다이어트효과  미료카리스마사진       1   209199     476   209199\n",
       "1  박혜경 공식입장  미료 카리스마 사진  박혜경공식입장  미료카리스마사진     113   209199     476   209199\n",
       "2  송중기 나쁜 손  미료 카리스마 사진   송중기나쁜손  미료카리스마사진     871   209199     476   209199\n",
       "3   송중기 나쁜손  미료 카리스마 사진   송중기나쁜손  미료카리스마사진     871   209199     476   209199\n",
       "4  송중기 나쁜 손  미료 카리스마 사진   송중기나쁜손  미료카리스마사진     871   209199     476   209199"
      ]
     },
     "execution_count": 21,
     "metadata": {},
     "output_type": "execute_result"
    }
   ],
   "source": [
    "df9 = pd.merge(df8, stats_B, on='key_B')\n",
    "print (len(df9))\n",
    "df9.head(5)"
   ]
  },
  {
   "cell_type": "code",
   "execution_count": 22,
   "metadata": {
    "slideshow": {
     "slide_type": "slide"
    }
   },
   "outputs": [
    {
     "name": "stdout",
     "output_type": "stream",
     "text": [
      "209199\n"
     ]
    },
    {
     "data": {
      "text/html": [
       "<div>\n",
       "<style scoped>\n",
       "    .dataframe tbody tr th:only-of-type {\n",
       "        vertical-align: middle;\n",
       "    }\n",
       "\n",
       "    .dataframe tbody tr th {\n",
       "        vertical-align: top;\n",
       "    }\n",
       "\n",
       "    .dataframe thead th {\n",
       "        text-align: right;\n",
       "    }\n",
       "</style>\n",
       "<table border=\"1\" class=\"dataframe\">\n",
       "  <thead>\n",
       "    <tr style=\"text-align: right;\">\n",
       "      <th></th>\n",
       "      <th>A</th>\n",
       "      <th>B</th>\n",
       "      <th>key_A</th>\n",
       "      <th>key_B</th>\n",
       "      <th>freq_A</th>\n",
       "      <th>total_A</th>\n",
       "      <th>freq_B</th>\n",
       "      <th>total_B</th>\n",
       "      <th>freq_AB</th>\n",
       "      <th>total_AB</th>\n",
       "    </tr>\n",
       "  </thead>\n",
       "  <tbody>\n",
       "    <tr>\n",
       "      <th>0</th>\n",
       "      <td>다이어트 효과</td>\n",
       "      <td>미료 카리스마 사진</td>\n",
       "      <td>다이어트효과</td>\n",
       "      <td>미료카리스마사진</td>\n",
       "      <td>1</td>\n",
       "      <td>209199</td>\n",
       "      <td>476</td>\n",
       "      <td>209199</td>\n",
       "      <td>1</td>\n",
       "      <td>209199</td>\n",
       "    </tr>\n",
       "    <tr>\n",
       "      <th>1</th>\n",
       "      <td>박혜경 공식입장</td>\n",
       "      <td>미료 카리스마 사진</td>\n",
       "      <td>박혜경공식입장</td>\n",
       "      <td>미료카리스마사진</td>\n",
       "      <td>113</td>\n",
       "      <td>209199</td>\n",
       "      <td>476</td>\n",
       "      <td>209199</td>\n",
       "      <td>1</td>\n",
       "      <td>209199</td>\n",
       "    </tr>\n",
       "    <tr>\n",
       "      <th>2</th>\n",
       "      <td>송중기 나쁜 손</td>\n",
       "      <td>미료 카리스마 사진</td>\n",
       "      <td>송중기나쁜손</td>\n",
       "      <td>미료카리스마사진</td>\n",
       "      <td>871</td>\n",
       "      <td>209199</td>\n",
       "      <td>476</td>\n",
       "      <td>209199</td>\n",
       "      <td>7</td>\n",
       "      <td>209199</td>\n",
       "    </tr>\n",
       "    <tr>\n",
       "      <th>3</th>\n",
       "      <td>송중기 나쁜손</td>\n",
       "      <td>미료 카리스마 사진</td>\n",
       "      <td>송중기나쁜손</td>\n",
       "      <td>미료카리스마사진</td>\n",
       "      <td>871</td>\n",
       "      <td>209199</td>\n",
       "      <td>476</td>\n",
       "      <td>209199</td>\n",
       "      <td>7</td>\n",
       "      <td>209199</td>\n",
       "    </tr>\n",
       "    <tr>\n",
       "      <th>4</th>\n",
       "      <td>송중기 나쁜 손</td>\n",
       "      <td>미료 카리스마 사진</td>\n",
       "      <td>송중기나쁜손</td>\n",
       "      <td>미료카리스마사진</td>\n",
       "      <td>871</td>\n",
       "      <td>209199</td>\n",
       "      <td>476</td>\n",
       "      <td>209199</td>\n",
       "      <td>7</td>\n",
       "      <td>209199</td>\n",
       "    </tr>\n",
       "  </tbody>\n",
       "</table>\n",
       "</div>"
      ],
      "text/plain": [
       "          A           B    key_A     key_B  freq_A  total_A  freq_B  total_B  \\\n",
       "0   다이어트 효과  미료 카리스마 사진   다이어트효과  미료카리스마사진       1   209199     476   209199   \n",
       "1  박혜경 공식입장  미료 카리스마 사진  박혜경공식입장  미료카리스마사진     113   209199     476   209199   \n",
       "2  송중기 나쁜 손  미료 카리스마 사진   송중기나쁜손  미료카리스마사진     871   209199     476   209199   \n",
       "3   송중기 나쁜손  미료 카리스마 사진   송중기나쁜손  미료카리스마사진     871   209199     476   209199   \n",
       "4  송중기 나쁜 손  미료 카리스마 사진   송중기나쁜손  미료카리스마사진     871   209199     476   209199   \n",
       "\n",
       "   freq_AB  total_AB  \n",
       "0        1    209199  \n",
       "1        1    209199  \n",
       "2        7    209199  \n",
       "3        7    209199  \n",
       "4        7    209199  "
      ]
     },
     "execution_count": 22,
     "metadata": {},
     "output_type": "execute_result"
    }
   ],
   "source": [
    "df10 = df9.merge(stats_AB, on=['key_A', 'key_B'])\n",
    "print (len(df10))\n",
    "df10.head(5)"
   ]
  },
  {
   "cell_type": "code",
   "execution_count": 23,
   "metadata": {
    "slideshow": {
     "slide_type": "slide"
    }
   },
   "outputs": [
    {
     "data": {
      "text/html": [
       "<div>\n",
       "<style scoped>\n",
       "    .dataframe tbody tr th:only-of-type {\n",
       "        vertical-align: middle;\n",
       "    }\n",
       "\n",
       "    .dataframe tbody tr th {\n",
       "        vertical-align: top;\n",
       "    }\n",
       "\n",
       "    .dataframe thead th {\n",
       "        text-align: right;\n",
       "    }\n",
       "</style>\n",
       "<table border=\"1\" class=\"dataframe\">\n",
       "  <thead>\n",
       "    <tr style=\"text-align: right;\">\n",
       "      <th></th>\n",
       "      <th>key_A</th>\n",
       "      <th>key_B</th>\n",
       "      <th>B</th>\n",
       "      <th>pmi</th>\n",
       "      <th>freq_A</th>\n",
       "      <th>freq_B</th>\n",
       "      <th>freq_AB</th>\n",
       "    </tr>\n",
       "  </thead>\n",
       "  <tbody>\n",
       "    <tr>\n",
       "      <th>0</th>\n",
       "      <td>다이어트효과</td>\n",
       "      <td>미료카리스마사진</td>\n",
       "      <td>미료 카리스마 사진</td>\n",
       "      <td>8.779699</td>\n",
       "      <td>1</td>\n",
       "      <td>476</td>\n",
       "      <td>1</td>\n",
       "    </tr>\n",
       "    <tr>\n",
       "      <th>1</th>\n",
       "      <td>박혜경공식입장</td>\n",
       "      <td>미료카리스마사진</td>\n",
       "      <td>미료 카리스마 사진</td>\n",
       "      <td>1.959520</td>\n",
       "      <td>113</td>\n",
       "      <td>476</td>\n",
       "      <td>1</td>\n",
       "    </tr>\n",
       "    <tr>\n",
       "      <th>2</th>\n",
       "      <td>송중기나쁜손</td>\n",
       "      <td>미료카리스마사진</td>\n",
       "      <td>미료 카리스마 사진</td>\n",
       "      <td>1.820525</td>\n",
       "      <td>871</td>\n",
       "      <td>476</td>\n",
       "      <td>7</td>\n",
       "    </tr>\n",
       "    <tr>\n",
       "      <th>3</th>\n",
       "      <td>송중기나쁜손</td>\n",
       "      <td>미료카리스마사진</td>\n",
       "      <td>미료 카리스마 사진</td>\n",
       "      <td>1.820525</td>\n",
       "      <td>871</td>\n",
       "      <td>476</td>\n",
       "      <td>7</td>\n",
       "    </tr>\n",
       "    <tr>\n",
       "      <th>4</th>\n",
       "      <td>송중기나쁜손</td>\n",
       "      <td>미료카리스마사진</td>\n",
       "      <td>미료 카리스마 사진</td>\n",
       "      <td>1.820525</td>\n",
       "      <td>871</td>\n",
       "      <td>476</td>\n",
       "      <td>7</td>\n",
       "    </tr>\n",
       "  </tbody>\n",
       "</table>\n",
       "</div>"
      ],
      "text/plain": [
       "     key_A     key_B           B       pmi  freq_A  freq_B  freq_AB\n",
       "0   다이어트효과  미료카리스마사진  미료 카리스마 사진  8.779699       1     476        1\n",
       "1  박혜경공식입장  미료카리스마사진  미료 카리스마 사진  1.959520     113     476        1\n",
       "2   송중기나쁜손  미료카리스마사진  미료 카리스마 사진  1.820525     871     476        7\n",
       "3   송중기나쁜손  미료카리스마사진  미료 카리스마 사진  1.820525     871     476        7\n",
       "4   송중기나쁜손  미료카리스마사진  미료 카리스마 사진  1.820525     871     476        7"
      ]
     },
     "execution_count": 23,
     "metadata": {},
     "output_type": "execute_result"
    }
   ],
   "source": [
    "# 통계 정보를 이용하여 pmi를 측정한다\n",
    "import numpy as np\n",
    "df10['pmi'] = np.log2( (df10.freq_AB/df10.total_AB) /((df10.freq_A/df10.total_A) * (df10.freq_B/df10.total_B)))\n",
    "df11 = df10[['key_A', 'key_B', 'B', 'pmi', 'freq_A', 'freq_B', 'freq_AB']]\n",
    "df11.head(5)"
   ]
  },
  {
   "cell_type": "code",
   "execution_count": 24,
   "metadata": {
    "slideshow": {
     "slide_type": "slide"
    }
   },
   "outputs": [
    {
     "data": {
      "text/html": [
       "<div>\n",
       "<style scoped>\n",
       "    .dataframe tbody tr th:only-of-type {\n",
       "        vertical-align: middle;\n",
       "    }\n",
       "\n",
       "    .dataframe tbody tr th {\n",
       "        vertical-align: top;\n",
       "    }\n",
       "\n",
       "    .dataframe thead th {\n",
       "        text-align: right;\n",
       "    }\n",
       "</style>\n",
       "<table border=\"1\" class=\"dataframe\">\n",
       "  <thead>\n",
       "    <tr style=\"text-align: right;\">\n",
       "      <th></th>\n",
       "      <th>key_A</th>\n",
       "      <th>key_B</th>\n",
       "      <th>B</th>\n",
       "      <th>pmi</th>\n",
       "      <th>freq_A</th>\n",
       "      <th>freq_B</th>\n",
       "      <th>freq_AB</th>\n",
       "    </tr>\n",
       "  </thead>\n",
       "  <tbody>\n",
       "    <tr>\n",
       "      <th>205205</th>\n",
       "      <td>～もなければ～もない</td>\n",
       "      <td>구미여고</td>\n",
       "      <td>구미여고</td>\n",
       "      <td>17.674516</td>\n",
       "      <td>1</td>\n",
       "      <td>1</td>\n",
       "      <td>1</td>\n",
       "    </tr>\n",
       "    <tr>\n",
       "      <th>146353</th>\n",
       "      <td>～に際して</td>\n",
       "      <td>뇌구조테스트</td>\n",
       "      <td>뇌구조테스트</td>\n",
       "      <td>17.674516</td>\n",
       "      <td>1</td>\n",
       "      <td>1</td>\n",
       "      <td>1</td>\n",
       "    </tr>\n",
       "    <tr>\n",
       "      <th>146352</th>\n",
       "      <td>～にあたって</td>\n",
       "      <td>～に際して</td>\n",
       "      <td>～に際して</td>\n",
       "      <td>17.674516</td>\n",
       "      <td>1</td>\n",
       "      <td>1</td>\n",
       "      <td>1</td>\n",
       "    </tr>\n",
       "    <tr>\n",
       "      <th>135398</th>\n",
       "      <td>ｋｙ</td>\n",
       "      <td>雛壇</td>\n",
       "      <td>雛壇</td>\n",
       "      <td>17.674516</td>\n",
       "      <td>1</td>\n",
       "      <td>1</td>\n",
       "      <td>1</td>\n",
       "    </tr>\n",
       "    <tr>\n",
       "      <th>155335</th>\n",
       "      <td>﻿첫사랑예보7화</td>\n",
       "      <td>리미트1권</td>\n",
       "      <td>리미트 1권</td>\n",
       "      <td>17.674516</td>\n",
       "      <td>1</td>\n",
       "      <td>1</td>\n",
       "      <td>1</td>\n",
       "    </tr>\n",
       "  </tbody>\n",
       "</table>\n",
       "</div>"
      ],
      "text/plain": [
       "             key_A   key_B       B        pmi  freq_A  freq_B  freq_AB\n",
       "205205  ～もなければ～もない    구미여고    구미여고  17.674516       1       1        1\n",
       "146353       ～に際して  뇌구조테스트  뇌구조테스트  17.674516       1       1        1\n",
       "146352      ～にあたって   ～に際して   ～に際して  17.674516       1       1        1\n",
       "135398          ｋｙ      雛壇      雛壇  17.674516       1       1        1\n",
       "155335    ﻿첫사랑예보7화   리미트1권  리미트 1권  17.674516       1       1        1"
      ]
     },
     "execution_count": 24,
     "metadata": {},
     "output_type": "execute_result"
    }
   ],
   "source": [
    "#pmi 순으로 내림차순 진행\n",
    "df12 = df11.sort_values(by=['pmi', 'key_A'], ascending=False)\n",
    "df12.head(5)"
   ]
  },
  {
   "cell_type": "code",
   "execution_count": 25,
   "metadata": {
    "slideshow": {
     "slide_type": "slide"
    }
   },
   "outputs": [
    {
     "data": {
      "text/html": [
       "<div>\n",
       "<style scoped>\n",
       "    .dataframe tbody tr th:only-of-type {\n",
       "        vertical-align: middle;\n",
       "    }\n",
       "\n",
       "    .dataframe tbody tr th {\n",
       "        vertical-align: top;\n",
       "    }\n",
       "\n",
       "    .dataframe thead th {\n",
       "        text-align: right;\n",
       "    }\n",
       "</style>\n",
       "<table border=\"1\" class=\"dataframe\">\n",
       "  <thead>\n",
       "    <tr style=\"text-align: right;\">\n",
       "      <th></th>\n",
       "      <th>key_A</th>\n",
       "      <th>key_B</th>\n",
       "      <th>B</th>\n",
       "      <th>pmi</th>\n",
       "      <th>freq_A</th>\n",
       "      <th>freq_B</th>\n",
       "      <th>freq_AB</th>\n",
       "    </tr>\n",
       "  </thead>\n",
       "  <tbody>\n",
       "    <tr>\n",
       "      <th>3110</th>\n",
       "      <td>김두한</td>\n",
       "      <td>여자아이돌대마초</td>\n",
       "      <td>여자아이돌 대마초</td>\n",
       "      <td>-1.972067</td>\n",
       "      <td>350</td>\n",
       "      <td>2345</td>\n",
       "      <td>1</td>\n",
       "    </tr>\n",
       "    <tr>\n",
       "      <th>31763</th>\n",
       "      <td>여자아이돌대마초</td>\n",
       "      <td>김을동</td>\n",
       "      <td>김을동</td>\n",
       "      <td>-2.150604</td>\n",
       "      <td>2328</td>\n",
       "      <td>399</td>\n",
       "      <td>1</td>\n",
       "    </tr>\n",
       "    <tr>\n",
       "      <th>32362</th>\n",
       "      <td>여자아이돌대마초</td>\n",
       "      <td>김현정</td>\n",
       "      <td>김현정</td>\n",
       "      <td>-2.231458</td>\n",
       "      <td>2328</td>\n",
       "      <td>422</td>\n",
       "      <td>1</td>\n",
       "    </tr>\n",
       "    <tr>\n",
       "      <th>2907</th>\n",
       "      <td>소이왕따고백</td>\n",
       "      <td>여자아이돌대마초</td>\n",
       "      <td>여자아이돌 대마초</td>\n",
       "      <td>-2.238532</td>\n",
       "      <td>421</td>\n",
       "      <td>2345</td>\n",
       "      <td>1</td>\n",
       "    </tr>\n",
       "    <tr>\n",
       "      <th>16532</th>\n",
       "      <td>여자아이돌대마초</td>\n",
       "      <td>이재진</td>\n",
       "      <td>이재진</td>\n",
       "      <td>-2.515983</td>\n",
       "      <td>2328</td>\n",
       "      <td>514</td>\n",
       "      <td>1</td>\n",
       "    </tr>\n",
       "  </tbody>\n",
       "</table>\n",
       "</div>"
      ],
      "text/plain": [
       "          key_A     key_B          B       pmi  freq_A  freq_B  freq_AB\n",
       "3110        김두한  여자아이돌대마초  여자아이돌 대마초 -1.972067     350    2345        1\n",
       "31763  여자아이돌대마초       김을동        김을동 -2.150604    2328     399        1\n",
       "32362  여자아이돌대마초       김현정        김현정 -2.231458    2328     422        1\n",
       "2907     소이왕따고백  여자아이돌대마초  여자아이돌 대마초 -2.238532     421    2345        1\n",
       "16532  여자아이돌대마초       이재진        이재진 -2.515983    2328     514        1"
      ]
     },
     "execution_count": 25,
     "metadata": {},
     "output_type": "execute_result"
    }
   ],
   "source": [
    "df12.tail(5)"
   ]
  },
  {
   "cell_type": "code",
   "execution_count": 26,
   "metadata": {
    "slideshow": {
     "slide_type": "slide"
    }
   },
   "outputs": [
    {
     "data": {
      "text/html": [
       "<div>\n",
       "<style scoped>\n",
       "    .dataframe tbody tr th:only-of-type {\n",
       "        vertical-align: middle;\n",
       "    }\n",
       "\n",
       "    .dataframe tbody tr th {\n",
       "        vertical-align: top;\n",
       "    }\n",
       "\n",
       "    .dataframe thead th {\n",
       "        text-align: right;\n",
       "    }\n",
       "</style>\n",
       "<table border=\"1\" class=\"dataframe\">\n",
       "  <thead>\n",
       "    <tr style=\"text-align: right;\">\n",
       "      <th></th>\n",
       "      <th>key_A</th>\n",
       "      <th>B</th>\n",
       "      <th>pmi</th>\n",
       "    </tr>\n",
       "  </thead>\n",
       "  <tbody>\n",
       "    <tr>\n",
       "      <th>209091</th>\n",
       "      <td>한우공장</td>\n",
       "      <td>골목식당</td>\n",
       "      <td>14.089554</td>\n",
       "    </tr>\n",
       "    <tr>\n",
       "      <th>209092</th>\n",
       "      <td>한우공장</td>\n",
       "      <td>골목식당</td>\n",
       "      <td>14.089554</td>\n",
       "    </tr>\n",
       "    <tr>\n",
       "      <th>209093</th>\n",
       "      <td>한우공장</td>\n",
       "      <td>골목식당</td>\n",
       "      <td>14.089554</td>\n",
       "    </tr>\n",
       "    <tr>\n",
       "      <th>209077</th>\n",
       "      <td>뽀빠이횟집</td>\n",
       "      <td>대영식당</td>\n",
       "      <td>14.089554</td>\n",
       "    </tr>\n",
       "    <tr>\n",
       "      <th>209078</th>\n",
       "      <td>뽀빠이횟집</td>\n",
       "      <td>대영식당</td>\n",
       "      <td>14.089554</td>\n",
       "    </tr>\n",
       "  </tbody>\n",
       "</table>\n",
       "</div>"
      ],
      "text/plain": [
       "        key_A     B        pmi\n",
       "209091   한우공장  골목식당  14.089554\n",
       "209092   한우공장  골목식당  14.089554\n",
       "209093   한우공장  골목식당  14.089554\n",
       "209077  뽀빠이횟집  대영식당  14.089554\n",
       "209078  뽀빠이횟집  대영식당  14.089554"
      ]
     },
     "execution_count": 26,
     "metadata": {},
     "output_type": "execute_result"
    }
   ],
   "source": [
    "# 너무 낮은 등장 빈도를 가지고 있는 키워드를 필터링한다\n",
    "df13 = df12[(df12.freq_A > 5) & (df12.freq_B > 5) & (df12.key_A != df12.key_B)]\n",
    "df13 = df13[['key_A', 'B', 'pmi']]\n",
    "df13.head(5)"
   ]
  },
  {
   "cell_type": "code",
   "execution_count": 27,
   "metadata": {
    "scrolled": true,
    "slideshow": {
     "slide_type": "slide"
    }
   },
   "outputs": [
    {
     "data": {
      "text/html": [
       "<div>\n",
       "<style scoped>\n",
       "    .dataframe tbody tr th:only-of-type {\n",
       "        vertical-align: middle;\n",
       "    }\n",
       "\n",
       "    .dataframe tbody tr th {\n",
       "        vertical-align: top;\n",
       "    }\n",
       "\n",
       "    .dataframe thead th {\n",
       "        text-align: right;\n",
       "    }\n",
       "</style>\n",
       "<table border=\"1\" class=\"dataframe\">\n",
       "  <thead>\n",
       "    <tr style=\"text-align: right;\">\n",
       "      <th></th>\n",
       "      <th>key_A</th>\n",
       "      <th>B</th>\n",
       "      <th>pmi</th>\n",
       "    </tr>\n",
       "  </thead>\n",
       "  <tbody>\n",
       "    <tr>\n",
       "      <th>3110</th>\n",
       "      <td>김두한</td>\n",
       "      <td>여자아이돌 대마초</td>\n",
       "      <td>-1.972067</td>\n",
       "    </tr>\n",
       "    <tr>\n",
       "      <th>31763</th>\n",
       "      <td>여자아이돌대마초</td>\n",
       "      <td>김을동</td>\n",
       "      <td>-2.150604</td>\n",
       "    </tr>\n",
       "    <tr>\n",
       "      <th>32362</th>\n",
       "      <td>여자아이돌대마초</td>\n",
       "      <td>김현정</td>\n",
       "      <td>-2.231458</td>\n",
       "    </tr>\n",
       "    <tr>\n",
       "      <th>2907</th>\n",
       "      <td>소이왕따고백</td>\n",
       "      <td>여자아이돌 대마초</td>\n",
       "      <td>-2.238532</td>\n",
       "    </tr>\n",
       "    <tr>\n",
       "      <th>16532</th>\n",
       "      <td>여자아이돌대마초</td>\n",
       "      <td>이재진</td>\n",
       "      <td>-2.515983</td>\n",
       "    </tr>\n",
       "  </tbody>\n",
       "</table>\n",
       "</div>"
      ],
      "text/plain": [
       "          key_A          B       pmi\n",
       "3110        김두한  여자아이돌 대마초 -1.972067\n",
       "31763  여자아이돌대마초        김을동 -2.150604\n",
       "32362  여자아이돌대마초        김현정 -2.231458\n",
       "2907     소이왕따고백  여자아이돌 대마초 -2.238532\n",
       "16532  여자아이돌대마초        이재진 -2.515983"
      ]
     },
     "execution_count": 27,
     "metadata": {},
     "output_type": "execute_result"
    }
   ],
   "source": [
    "df13.tail(5)"
   ]
  },
  {
   "cell_type": "code",
   "execution_count": 28,
   "metadata": {
    "slideshow": {
     "slide_type": "slide"
    }
   },
   "outputs": [
    {
     "data": {
      "text/html": [
       "<div>\n",
       "<style scoped>\n",
       "    .dataframe tbody tr th:only-of-type {\n",
       "        vertical-align: middle;\n",
       "    }\n",
       "\n",
       "    .dataframe tbody tr th {\n",
       "        vertical-align: top;\n",
       "    }\n",
       "\n",
       "    .dataframe thead th {\n",
       "        text-align: right;\n",
       "    }\n",
       "</style>\n",
       "<table border=\"1\" class=\"dataframe\">\n",
       "  <thead>\n",
       "    <tr style=\"text-align: right;\">\n",
       "      <th></th>\n",
       "      <th>key_A</th>\n",
       "      <th>B</th>\n",
       "      <th>pmi</th>\n",
       "    </tr>\n",
       "  </thead>\n",
       "  <tbody>\n",
       "    <tr>\n",
       "      <th>209091</th>\n",
       "      <td>한우공장</td>\n",
       "      <td>골목식당</td>\n",
       "      <td>14.089554</td>\n",
       "    </tr>\n",
       "    <tr>\n",
       "      <th>209077</th>\n",
       "      <td>뽀빠이횟집</td>\n",
       "      <td>대영식당</td>\n",
       "      <td>14.089554</td>\n",
       "    </tr>\n",
       "    <tr>\n",
       "      <th>208965</th>\n",
       "      <td>청정바다회센타</td>\n",
       "      <td>안동갈비</td>\n",
       "      <td>13.867162</td>\n",
       "    </tr>\n",
       "    <tr>\n",
       "      <th>113734</th>\n",
       "      <td>라디오스타무한도전토렌트</td>\n",
       "      <td>라디오스타 토렌트</td>\n",
       "      <td>13.867162</td>\n",
       "    </tr>\n",
       "    <tr>\n",
       "      <th>106138</th>\n",
       "      <td>체리벳</td>\n",
       "      <td>인터넷배팅</td>\n",
       "      <td>13.674516</td>\n",
       "    </tr>\n",
       "  </tbody>\n",
       "</table>\n",
       "</div>"
      ],
      "text/plain": [
       "               key_A          B        pmi\n",
       "209091          한우공장       골목식당  14.089554\n",
       "209077         뽀빠이횟집       대영식당  14.089554\n",
       "208965       청정바다회센타       안동갈비  13.867162\n",
       "113734  라디오스타무한도전토렌트  라디오스타 토렌트  13.867162\n",
       "106138           체리벳      인터넷배팅  13.674516"
      ]
     },
     "execution_count": 28,
     "metadata": {},
     "output_type": "execute_result"
    }
   ],
   "source": [
    "#df에서 중복 키워드를 제거한다\n",
    "df14 = df13.drop_duplicates()\n",
    "df14.head(5)"
   ]
  },
  {
   "cell_type": "code",
   "execution_count": 29,
   "metadata": {
    "slideshow": {
     "slide_type": "slide"
    }
   },
   "outputs": [
    {
     "name": "stderr",
     "output_type": "stream",
     "text": [
      "C:\\Users\\sons\\Anaconda3\\lib\\site-packages\\ipykernel_launcher.py:2: SettingWithCopyWarning: \n",
      "A value is trying to be set on a copy of a slice from a DataFrame.\n",
      "Try using .loc[row_indexer,col_indexer] = value instead\n",
      "\n",
      "See the caveats in the documentation: http://pandas.pydata.org/pandas-docs/stable/indexing.html#indexing-view-versus-copy\n",
      "  \n"
     ]
    },
    {
     "data": {
      "text/html": [
       "<div>\n",
       "<style scoped>\n",
       "    .dataframe tbody tr th:only-of-type {\n",
       "        vertical-align: middle;\n",
       "    }\n",
       "\n",
       "    .dataframe tbody tr th {\n",
       "        vertical-align: top;\n",
       "    }\n",
       "\n",
       "    .dataframe thead th {\n",
       "        text-align: right;\n",
       "    }\n",
       "</style>\n",
       "<table border=\"1\" class=\"dataframe\">\n",
       "  <thead>\n",
       "    <tr style=\"text-align: right;\">\n",
       "      <th></th>\n",
       "      <th>key_A</th>\n",
       "      <th>B</th>\n",
       "      <th>pmi</th>\n",
       "      <th>related</th>\n",
       "    </tr>\n",
       "  </thead>\n",
       "  <tbody>\n",
       "    <tr>\n",
       "      <th>209091</th>\n",
       "      <td>한우공장</td>\n",
       "      <td>골목식당</td>\n",
       "      <td>14.089554</td>\n",
       "      <td>(골목식당, 14.089553929036223)</td>\n",
       "    </tr>\n",
       "    <tr>\n",
       "      <th>209077</th>\n",
       "      <td>뽀빠이횟집</td>\n",
       "      <td>대영식당</td>\n",
       "      <td>14.089554</td>\n",
       "      <td>(대영식당, 14.089553929036223)</td>\n",
       "    </tr>\n",
       "    <tr>\n",
       "      <th>208965</th>\n",
       "      <td>청정바다회센타</td>\n",
       "      <td>안동갈비</td>\n",
       "      <td>13.867162</td>\n",
       "      <td>(안동갈비, 13.867161507699775)</td>\n",
       "    </tr>\n",
       "    <tr>\n",
       "      <th>113734</th>\n",
       "      <td>라디오스타무한도전토렌트</td>\n",
       "      <td>라디오스타 토렌트</td>\n",
       "      <td>13.867162</td>\n",
       "      <td>(라디오스타 토렌트, 13.867161507699775)</td>\n",
       "    </tr>\n",
       "    <tr>\n",
       "      <th>106138</th>\n",
       "      <td>체리벳</td>\n",
       "      <td>인터넷배팅</td>\n",
       "      <td>13.674516</td>\n",
       "      <td>(인터넷배팅, 13.674516429757379)</td>\n",
       "    </tr>\n",
       "  </tbody>\n",
       "</table>\n",
       "</div>"
      ],
      "text/plain": [
       "               key_A          B        pmi                          related\n",
       "209091          한우공장       골목식당  14.089554       (골목식당, 14.089553929036223)\n",
       "209077         뽀빠이횟집       대영식당  14.089554       (대영식당, 14.089553929036223)\n",
       "208965       청정바다회센타       안동갈비  13.867162       (안동갈비, 13.867161507699775)\n",
       "113734  라디오스타무한도전토렌트  라디오스타 토렌트  13.867162  (라디오스타 토렌트, 13.867161507699775)\n",
       "106138           체리벳      인터넷배팅  13.674516      (인터넷배팅, 13.674516429757379)"
      ]
     },
     "execution_count": 29,
     "metadata": {},
     "output_type": "execute_result"
    }
   ],
   "source": [
    "# 함께 들고 다니기 편리하게 related란 필드를 만들고 키워드 정보와 pmi를 함께 둔다\n",
    "df14['related'] = list(zip(df14.B, df14.pmi))\n",
    "df14.head(5)"
   ]
  },
  {
   "cell_type": "code",
   "execution_count": 30,
   "metadata": {
    "slideshow": {
     "slide_type": "slide"
    }
   },
   "outputs": [
    {
     "data": {
      "text/html": [
       "<div>\n",
       "<style scoped>\n",
       "    .dataframe tbody tr th:only-of-type {\n",
       "        vertical-align: middle;\n",
       "    }\n",
       "\n",
       "    .dataframe tbody tr th {\n",
       "        vertical-align: top;\n",
       "    }\n",
       "\n",
       "    .dataframe thead th {\n",
       "        text-align: right;\n",
       "    }\n",
       "</style>\n",
       "<table border=\"1\" class=\"dataframe\">\n",
       "  <thead>\n",
       "    <tr style=\"text-align: right;\">\n",
       "      <th></th>\n",
       "      <th>related</th>\n",
       "    </tr>\n",
       "    <tr>\n",
       "      <th>key_A</th>\n",
       "      <th></th>\n",
       "    </tr>\n",
       "  </thead>\n",
       "  <tbody>\n",
       "    <tr>\n",
       "      <th>%ub9c8%ud06c%ub85c%uc820</th>\n",
       "      <td>[(부광약품, 11.974076711616286), (마크로젠, 10.9151830...</td>\n",
       "    </tr>\n",
       "    <tr>\n",
       "      <th>%uba54%ub514%ud3ec%uc2a4%ud2b8</th>\n",
       "      <td>[(paxnet, 11.630122310398924), (%uB9C8%uD06C%u...</td>\n",
       "    </tr>\n",
       "    <tr>\n",
       "      <th>003190</th>\n",
       "      <td>[(005500, 11.352588334870015), (034940, 10.426...</td>\n",
       "    </tr>\n",
       "    <tr>\n",
       "      <th>005500</th>\n",
       "      <td>[(034940, 11.689623322147586), (003190, 11.352...</td>\n",
       "    </tr>\n",
       "    <tr>\n",
       "      <th>034940</th>\n",
       "      <td>[(005500, 11.767625834148859)]</td>\n",
       "    </tr>\n",
       "  </tbody>\n",
       "</table>\n",
       "</div>"
      ],
      "text/plain": [
       "                                                                          related\n",
       "key_A                                                                            \n",
       "%ub9c8%ud06c%ub85c%uc820        [(부광약품, 11.974076711616286), (마크로젠, 10.9151830...\n",
       "%uba54%ub514%ud3ec%uc2a4%ud2b8  [(paxnet, 11.630122310398924), (%uB9C8%uD06C%u...\n",
       "003190                          [(005500, 11.352588334870015), (034940, 10.426...\n",
       "005500                          [(034940, 11.689623322147586), (003190, 11.352...\n",
       "034940                                             [(005500, 11.767625834148859)]"
      ]
     },
     "execution_count": 30,
     "metadata": {},
     "output_type": "execute_result"
    }
   ],
   "source": [
    "#최종적으로 key_A 로 그루핑을 하고 relate를 리스트로 변경해줌\n",
    "df15 = df14.groupby(by='key_A').agg({'related':list})\n",
    "df15.head(5)"
   ]
  },
  {
   "cell_type": "code",
   "execution_count": 31,
   "metadata": {
    "slideshow": {
     "slide_type": "slide"
    }
   },
   "outputs": [
    {
     "data": {
      "text/plain": [
       "[('동양종합금융증권', 8.899729370156205),\n",
       " ('부동산경매', 8.677336948819757),\n",
       " ('배트맨토토', 8.314766869435049),\n",
       " ('동양종금', 8.025260252240065),\n",
       " ('464회로또', 8.025260252240065),\n",
       " ('올레샵', 7.577801275268842),\n",
       " ('신한은행', 7.047286558570063),\n",
       " ('국민카드', 7.025260252240064),\n",
       " ('롯데카드', 6.961129914820348),\n",
       " ('우리은행', 6.462324057848907),\n",
       " ('팍스넷', 6.440297751518908),\n",
       " ('삼성카드', 6.275238505248411),\n",
       " ('환율', 5.65180185671262),\n",
       " ('11번가', 5.275238505248411),\n",
       " ('웹툰', 5.180911122700258),\n",
       " ('나는 꼼수다', 5.0923744480986),\n",
       " ('화성인 족쇄남 과거 해명', 4.7842521527362685),\n",
       " ('싸이월드', 4.626710875749788),\n",
       " ('토요일날씨', 4.626710875749788),\n",
       " ('이재진 음주운전', 3.5658286336027665),\n",
       " ('햄토킹', 3.54805393187479),\n",
       " ('한사람이 보이면 솔로', 3.360570559048173),\n",
       " ('유상증자', 3.314766869435049),\n",
       " ('진지희 폭풍성장', 3.1992896520151124),\n",
       " ('소이 왕따 고백', 2.9224494466562883),\n",
       " ('김요한 안은정 결별', 1.914836262546413)]"
      ]
     },
     "execution_count": 31,
     "metadata": {},
     "output_type": "execute_result"
    }
   ],
   "source": [
    "# 검색에 편리하도록 dict형태로 변경한뒤 테스트 \n",
    "res = df15.to_dict()\n",
    "res['related']['국민은행']"
   ]
  },
  {
   "cell_type": "code",
   "execution_count": 33,
   "metadata": {
    "slideshow": {
     "slide_type": "slide"
    }
   },
   "outputs": [
    {
     "data": {
      "text/plain": [
       "[('정봉주', 8.347338074182813),\n",
       " ('뿌리깊은 나무 소이', 8.312572656022137),\n",
       " ('나는 꼼수다 26회', 8.312572656022137),\n",
       " ('게임메카', 8.312572656022137),\n",
       " ('아저씨', 8.312572656022137),\n",
       " ('마음의소리', 7.7979994831923785),\n",
       " ('짬뽕라면 만들기', 7.660495959442444),\n",
       " ('김용민', 7.660495959442444),\n",
       " ('애쉬튼 커쳐 각서', 7.534965077358585),\n",
       " ('대한항공 채용', 7.119927578079741),\n",
       " ('성신여대', 7.032464736829401),\n",
       " ('남경필', 7.032464736829401),\n",
       " ('김어준', 6.950002576637428),\n",
       " ('주진우', 6.534965077358585),\n",
       " ('나는 꼼수다 27회', 6.4194878599386485),\n",
       " ('당연히송', 6.165731267692865),\n",
       " ('ISD', 6.165731267692865)]"
      ]
     },
     "execution_count": 33,
     "metadata": {},
     "output_type": "execute_result"
    }
   ],
   "source": [
    "#실제 입력 느낌의 테스트\n",
    "a = res['related']['나는 꼼수다'.replace(' ', '').lower()]\n",
    "[(k, v) for k, v in a if v > 6]"
   ]
  },
  {
   "cell_type": "code",
   "execution_count": 34,
   "metadata": {
    "slideshow": {
     "slide_type": "slide"
    }
   },
   "outputs": [],
   "source": [
    "from ipywidgets import widgets\n",
    "from IPython.display import display\n",
    "from IPython.display import clear_output\n",
    "text = widgets.Text()\n",
    "\n",
    "def handle_submint(sender):\n",
    "    clear_output()\n",
    "    display(text)\n",
    "    for k, v in get_related(text.value):\n",
    "        print(k)\n",
    "\n",
    "text.on_submit(handle_submint)\n",
    "\n",
    "def get_related(raw, rows=10, pmi_threshold=6):\n",
    "    return [(k, v) for k, v in res['related'].get(raw.replace(' ', '').lower(), []) if v > pmi_threshold][:rows]"
   ]
  },
  {
   "cell_type": "code",
   "execution_count": 35,
   "metadata": {
    "slideshow": {
     "slide_type": "slide"
    }
   },
   "outputs": [
    {
     "data": {
      "application/vnd.jupyter.widget-view+json": {
       "model_id": "1f1f2474e7314888a05c183024a56a7c",
       "version_major": 2,
       "version_minor": 0
      },
      "text/plain": [
       "Text(value='국민은행')"
      ]
     },
     "metadata": {},
     "output_type": "display_data"
    },
    {
     "name": "stdout",
     "output_type": "stream",
     "text": [
      "동양종합금융증권\n",
      "부동산경매\n",
      "배트맨토토\n",
      "동양종금\n",
      "464회로또\n",
      "올레샵\n",
      "신한은행\n",
      "국민카드\n",
      "롯데카드\n",
      "우리은행\n"
     ]
    }
   ],
   "source": [
    "display(text)"
   ]
  },
  {
   "cell_type": "markdown",
   "metadata": {
    "slideshow": {
     "slide_type": "slide"
    }
   },
   "source": [
    "## quiz 1 \n",
    "- 연관검색어를 구현해보자"
   ]
  }
 ],
 "metadata": {
  "celltoolbar": "Slideshow",
  "kernelspec": {
   "display_name": "Python 3",
   "language": "python",
   "name": "python3"
  },
  "language_info": {
   "codemirror_mode": {
    "name": "ipython",
    "version": 3
   },
   "file_extension": ".py",
   "mimetype": "text/x-python",
   "name": "python",
   "nbconvert_exporter": "python",
   "pygments_lexer": "ipython3",
   "version": "3.7.3"
  },
  "latex_envs": {
   "LaTeX_envs_menu_present": true,
   "autoclose": false,
   "autocomplete": true,
   "bibliofile": "biblio.bib",
   "cite_by": "apalike",
   "current_citInitial": 1,
   "eqLabelWithNumbers": true,
   "eqNumInitial": 1,
   "hotkeys": {
    "equation": "Ctrl-E",
    "itemize": "Ctrl-I"
   },
   "labels_anchors": false,
   "latex_user_defs": false,
   "report_style_numbering": false,
   "user_envs_cfg": false
  },
  "toc": {
   "base_numbering": 1,
   "nav_menu": {},
   "number_sections": false,
   "sideBar": true,
   "skip_h1_title": false,
   "title_cell": "Table of Contents",
   "title_sidebar": "Contents",
   "toc_cell": false,
   "toc_position": {
    "height": "calc(100% - 180px)",
    "left": "10px",
    "top": "150px",
    "width": "274px"
   },
   "toc_section_display": true,
   "toc_window_display": false
  },
  "varInspector": {
   "cols": {
    "lenName": 16,
    "lenType": 16,
    "lenVar": 40
   },
   "kernels_config": {
    "python": {
     "delete_cmd_postfix": "",
     "delete_cmd_prefix": "del ",
     "library": "var_list.py",
     "varRefreshCmd": "print(var_dic_list())"
    },
    "r": {
     "delete_cmd_postfix": ") ",
     "delete_cmd_prefix": "rm(",
     "library": "var_list.r",
     "varRefreshCmd": "cat(var_dic_list()) "
    }
   },
   "types_to_exclude": [
    "module",
    "function",
    "builtin_function_or_method",
    "instance",
    "_Feature"
   ],
   "window_display": false
  }
 },
 "nbformat": 4,
 "nbformat_minor": 2
}
