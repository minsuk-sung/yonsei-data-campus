{
 "cells": [
  {
   "cell_type": "markdown",
   "metadata": {},
   "source": [
    "# 앙상블 실습"
   ]
  },
  {
   "cell_type": "code",
   "execution_count": 1,
   "metadata": {
    "ExecuteTime": {
     "end_time": "2019-07-29T08:02:09.441587Z",
     "start_time": "2019-07-29T08:02:06.929475Z"
    }
   },
   "outputs": [],
   "source": [
    "import os\n",
    "import sys\n",
    "import numpy as np\n",
    "import pandas as pd\n",
    "import matplotlib as mpl\n",
    "import matplotlib.pyplot as plt\n",
    "import sklearn\n",
    "from sklearn.datasets import load_breast_cancer\n",
    "from sklearn.model_selection import train_test_split\n",
    "\n",
    "mpl.rcParams['font.family'] = 'AppleGothic'"
   ]
  },
  {
   "cell_type": "code",
   "execution_count": 2,
   "metadata": {
    "ExecuteTime": {
     "end_time": "2019-07-29T08:02:09.448114Z",
     "start_time": "2019-07-29T08:02:09.443411Z"
    }
   },
   "outputs": [
    {
     "data": {
      "text/plain": [
       "'0.20.3'"
      ]
     },
     "execution_count": 2,
     "metadata": {},
     "output_type": "execute_result"
    }
   ],
   "source": [
    "sklearn.__version__"
   ]
  },
  {
   "cell_type": "markdown",
   "metadata": {},
   "source": [
    "## 유방암 데이터를 통한 Voting 예제"
   ]
  },
  {
   "cell_type": "code",
   "execution_count": 3,
   "metadata": {
    "ExecuteTime": {
     "end_time": "2019-07-29T08:02:09.580674Z",
     "start_time": "2019-07-29T08:02:09.450197Z"
    }
   },
   "outputs": [],
   "source": [
    "from sklearn.ensemble import VotingClassifier\n",
    "from sklearn.tree import DecisionTreeClassifier\n",
    "from sklearn.svm import SVC\n",
    "from sklearn.linear_model import LogisticRegression"
   ]
  },
  {
   "cell_type": "code",
   "execution_count": 4,
   "metadata": {
    "ExecuteTime": {
     "end_time": "2019-07-29T08:02:09.641885Z",
     "start_time": "2019-07-29T08:02:09.583333Z"
    }
   },
   "outputs": [
    {
     "data": {
      "text/html": [
       "<div>\n",
       "<style scoped>\n",
       "    .dataframe tbody tr th:only-of-type {\n",
       "        vertical-align: middle;\n",
       "    }\n",
       "\n",
       "    .dataframe tbody tr th {\n",
       "        vertical-align: top;\n",
       "    }\n",
       "\n",
       "    .dataframe thead th {\n",
       "        text-align: right;\n",
       "    }\n",
       "</style>\n",
       "<table border=\"1\" class=\"dataframe\">\n",
       "  <thead>\n",
       "    <tr style=\"text-align: right;\">\n",
       "      <th></th>\n",
       "      <th>mean radius</th>\n",
       "      <th>mean texture</th>\n",
       "      <th>mean perimeter</th>\n",
       "      <th>mean area</th>\n",
       "      <th>mean smoothness</th>\n",
       "      <th>mean compactness</th>\n",
       "      <th>mean concavity</th>\n",
       "      <th>mean concave points</th>\n",
       "      <th>mean symmetry</th>\n",
       "      <th>mean fractal dimension</th>\n",
       "      <th>...</th>\n",
       "      <th>worst texture</th>\n",
       "      <th>worst perimeter</th>\n",
       "      <th>worst area</th>\n",
       "      <th>worst smoothness</th>\n",
       "      <th>worst compactness</th>\n",
       "      <th>worst concavity</th>\n",
       "      <th>worst concave points</th>\n",
       "      <th>worst symmetry</th>\n",
       "      <th>worst fractal dimension</th>\n",
       "      <th>target</th>\n",
       "    </tr>\n",
       "  </thead>\n",
       "  <tbody>\n",
       "    <tr>\n",
       "      <th>0</th>\n",
       "      <td>17.99</td>\n",
       "      <td>10.38</td>\n",
       "      <td>122.80</td>\n",
       "      <td>1001.0</td>\n",
       "      <td>0.11840</td>\n",
       "      <td>0.27760</td>\n",
       "      <td>0.3001</td>\n",
       "      <td>0.14710</td>\n",
       "      <td>0.2419</td>\n",
       "      <td>0.07871</td>\n",
       "      <td>...</td>\n",
       "      <td>17.33</td>\n",
       "      <td>184.60</td>\n",
       "      <td>2019.0</td>\n",
       "      <td>0.1622</td>\n",
       "      <td>0.6656</td>\n",
       "      <td>0.7119</td>\n",
       "      <td>0.2654</td>\n",
       "      <td>0.4601</td>\n",
       "      <td>0.11890</td>\n",
       "      <td>0</td>\n",
       "    </tr>\n",
       "    <tr>\n",
       "      <th>1</th>\n",
       "      <td>20.57</td>\n",
       "      <td>17.77</td>\n",
       "      <td>132.90</td>\n",
       "      <td>1326.0</td>\n",
       "      <td>0.08474</td>\n",
       "      <td>0.07864</td>\n",
       "      <td>0.0869</td>\n",
       "      <td>0.07017</td>\n",
       "      <td>0.1812</td>\n",
       "      <td>0.05667</td>\n",
       "      <td>...</td>\n",
       "      <td>23.41</td>\n",
       "      <td>158.80</td>\n",
       "      <td>1956.0</td>\n",
       "      <td>0.1238</td>\n",
       "      <td>0.1866</td>\n",
       "      <td>0.2416</td>\n",
       "      <td>0.1860</td>\n",
       "      <td>0.2750</td>\n",
       "      <td>0.08902</td>\n",
       "      <td>0</td>\n",
       "    </tr>\n",
       "    <tr>\n",
       "      <th>2</th>\n",
       "      <td>19.69</td>\n",
       "      <td>21.25</td>\n",
       "      <td>130.00</td>\n",
       "      <td>1203.0</td>\n",
       "      <td>0.10960</td>\n",
       "      <td>0.15990</td>\n",
       "      <td>0.1974</td>\n",
       "      <td>0.12790</td>\n",
       "      <td>0.2069</td>\n",
       "      <td>0.05999</td>\n",
       "      <td>...</td>\n",
       "      <td>25.53</td>\n",
       "      <td>152.50</td>\n",
       "      <td>1709.0</td>\n",
       "      <td>0.1444</td>\n",
       "      <td>0.4245</td>\n",
       "      <td>0.4504</td>\n",
       "      <td>0.2430</td>\n",
       "      <td>0.3613</td>\n",
       "      <td>0.08758</td>\n",
       "      <td>0</td>\n",
       "    </tr>\n",
       "    <tr>\n",
       "      <th>3</th>\n",
       "      <td>11.42</td>\n",
       "      <td>20.38</td>\n",
       "      <td>77.58</td>\n",
       "      <td>386.1</td>\n",
       "      <td>0.14250</td>\n",
       "      <td>0.28390</td>\n",
       "      <td>0.2414</td>\n",
       "      <td>0.10520</td>\n",
       "      <td>0.2597</td>\n",
       "      <td>0.09744</td>\n",
       "      <td>...</td>\n",
       "      <td>26.50</td>\n",
       "      <td>98.87</td>\n",
       "      <td>567.7</td>\n",
       "      <td>0.2098</td>\n",
       "      <td>0.8663</td>\n",
       "      <td>0.6869</td>\n",
       "      <td>0.2575</td>\n",
       "      <td>0.6638</td>\n",
       "      <td>0.17300</td>\n",
       "      <td>0</td>\n",
       "    </tr>\n",
       "    <tr>\n",
       "      <th>4</th>\n",
       "      <td>20.29</td>\n",
       "      <td>14.34</td>\n",
       "      <td>135.10</td>\n",
       "      <td>1297.0</td>\n",
       "      <td>0.10030</td>\n",
       "      <td>0.13280</td>\n",
       "      <td>0.1980</td>\n",
       "      <td>0.10430</td>\n",
       "      <td>0.1809</td>\n",
       "      <td>0.05883</td>\n",
       "      <td>...</td>\n",
       "      <td>16.67</td>\n",
       "      <td>152.20</td>\n",
       "      <td>1575.0</td>\n",
       "      <td>0.1374</td>\n",
       "      <td>0.2050</td>\n",
       "      <td>0.4000</td>\n",
       "      <td>0.1625</td>\n",
       "      <td>0.2364</td>\n",
       "      <td>0.07678</td>\n",
       "      <td>0</td>\n",
       "    </tr>\n",
       "  </tbody>\n",
       "</table>\n",
       "<p>5 rows × 31 columns</p>\n",
       "</div>"
      ],
      "text/plain": [
       "   mean radius  mean texture  mean perimeter  mean area  mean smoothness  \\\n",
       "0        17.99         10.38          122.80     1001.0          0.11840   \n",
       "1        20.57         17.77          132.90     1326.0          0.08474   \n",
       "2        19.69         21.25          130.00     1203.0          0.10960   \n",
       "3        11.42         20.38           77.58      386.1          0.14250   \n",
       "4        20.29         14.34          135.10     1297.0          0.10030   \n",
       "\n",
       "   mean compactness  mean concavity  mean concave points  mean symmetry  \\\n",
       "0           0.27760          0.3001              0.14710         0.2419   \n",
       "1           0.07864          0.0869              0.07017         0.1812   \n",
       "2           0.15990          0.1974              0.12790         0.2069   \n",
       "3           0.28390          0.2414              0.10520         0.2597   \n",
       "4           0.13280          0.1980              0.10430         0.1809   \n",
       "\n",
       "   mean fractal dimension  ...  worst texture  worst perimeter  worst area  \\\n",
       "0                 0.07871  ...          17.33           184.60      2019.0   \n",
       "1                 0.05667  ...          23.41           158.80      1956.0   \n",
       "2                 0.05999  ...          25.53           152.50      1709.0   \n",
       "3                 0.09744  ...          26.50            98.87       567.7   \n",
       "4                 0.05883  ...          16.67           152.20      1575.0   \n",
       "\n",
       "   worst smoothness  worst compactness  worst concavity  worst concave points  \\\n",
       "0            0.1622             0.6656           0.7119                0.2654   \n",
       "1            0.1238             0.1866           0.2416                0.1860   \n",
       "2            0.1444             0.4245           0.4504                0.2430   \n",
       "3            0.2098             0.8663           0.6869                0.2575   \n",
       "4            0.1374             0.2050           0.4000                0.1625   \n",
       "\n",
       "   worst symmetry  worst fractal dimension  target  \n",
       "0          0.4601                  0.11890       0  \n",
       "1          0.2750                  0.08902       0  \n",
       "2          0.3613                  0.08758       0  \n",
       "3          0.6638                  0.17300       0  \n",
       "4          0.2364                  0.07678       0  \n",
       "\n",
       "[5 rows x 31 columns]"
      ]
     },
     "execution_count": 4,
     "metadata": {},
     "output_type": "execute_result"
    }
   ],
   "source": [
    "cancer = load_breast_cancer()\n",
    "cancer_df = pd.DataFrame(data=cancer.data,\n",
    "                         columns=cancer.feature_names)\n",
    "cancer_df['target'] = cancer.target\n",
    "cancer_df.head()"
   ]
  },
  {
   "cell_type": "code",
   "execution_count": 5,
   "metadata": {
    "ExecuteTime": {
     "end_time": "2019-07-29T08:02:09.655438Z",
     "start_time": "2019-07-29T08:02:09.643310Z"
    },
    "scrolled": true
   },
   "outputs": [
    {
     "name": "stdout",
     "output_type": "stream",
     "text": [
      "<class 'pandas.core.frame.DataFrame'>\n",
      "RangeIndex: 569 entries, 0 to 568\n",
      "Data columns (total 31 columns):\n",
      "mean radius                569 non-null float64\n",
      "mean texture               569 non-null float64\n",
      "mean perimeter             569 non-null float64\n",
      "mean area                  569 non-null float64\n",
      "mean smoothness            569 non-null float64\n",
      "mean compactness           569 non-null float64\n",
      "mean concavity             569 non-null float64\n",
      "mean concave points        569 non-null float64\n",
      "mean symmetry              569 non-null float64\n",
      "mean fractal dimension     569 non-null float64\n",
      "radius error               569 non-null float64\n",
      "texture error              569 non-null float64\n",
      "perimeter error            569 non-null float64\n",
      "area error                 569 non-null float64\n",
      "smoothness error           569 non-null float64\n",
      "compactness error          569 non-null float64\n",
      "concavity error            569 non-null float64\n",
      "concave points error       569 non-null float64\n",
      "symmetry error             569 non-null float64\n",
      "fractal dimension error    569 non-null float64\n",
      "worst radius               569 non-null float64\n",
      "worst texture              569 non-null float64\n",
      "worst perimeter            569 non-null float64\n",
      "worst area                 569 non-null float64\n",
      "worst smoothness           569 non-null float64\n",
      "worst compactness          569 non-null float64\n",
      "worst concavity            569 non-null float64\n",
      "worst concave points       569 non-null float64\n",
      "worst symmetry             569 non-null float64\n",
      "worst fractal dimension    569 non-null float64\n",
      "target                     569 non-null int64\n",
      "dtypes: float64(30), int64(1)\n",
      "memory usage: 137.9 KB\n"
     ]
    }
   ],
   "source": [
    "cancer_df.info()"
   ]
  },
  {
   "cell_type": "code",
   "execution_count": 6,
   "metadata": {
    "ExecuteTime": {
     "end_time": "2019-07-29T08:02:09.664105Z",
     "start_time": "2019-07-29T08:02:09.657100Z"
    }
   },
   "outputs": [
    {
     "data": {
      "text/plain": [
       "1    357\n",
       "0    212\n",
       "Name: target, dtype: int64"
      ]
     },
     "execution_count": 6,
     "metadata": {},
     "output_type": "execute_result"
    }
   ],
   "source": [
    "cancer_df.target.value_counts()"
   ]
  },
  {
   "cell_type": "code",
   "execution_count": 7,
   "metadata": {
    "ExecuteTime": {
     "end_time": "2019-07-29T08:02:09.671537Z",
     "start_time": "2019-07-29T08:02:09.666916Z"
    }
   },
   "outputs": [],
   "source": [
    "X_train, X_test, y_train, y_test = train_test_split(cancer.data, # cancer_df.iloc[:,:-1] 혹은 cancer_df.drop('target',axis=1)\n",
    "                                                    cancer.target, # cancer_df.target\n",
    "                                                    test_size=0.3)"
   ]
  },
  {
   "cell_type": "code",
   "execution_count": 8,
   "metadata": {
    "ExecuteTime": {
     "end_time": "2019-07-29T08:02:09.677686Z",
     "start_time": "2019-07-29T08:02:09.674795Z"
    }
   },
   "outputs": [],
   "source": [
    "# VotingClassifier에 추가할 개별 학습 모델(분류기, estimator) 생성\n",
    "svm_clf = SVC(gamma='scale')\n",
    "dt_clf = DecisionTreeClassifier()\n",
    "lr_clf = LogisticRegression(solver='lbfgs',max_iter=10000)"
   ]
  },
  {
   "cell_type": "code",
   "execution_count": 9,
   "metadata": {
    "ExecuteTime": {
     "end_time": "2019-07-29T08:02:09.684441Z",
     "start_time": "2019-07-29T08:02:09.680292Z"
    }
   },
   "outputs": [],
   "source": [
    "# VotingClassifier 객체 생성\n",
    "voting_clf = VotingClassifier([('Support Vector Machine',svm_clf),\n",
    "                               ('Decision Tree Classifier',dt_clf),\n",
    "                               ('Logistic Regression',lr_clf)],\n",
    "                              voting='hard')"
   ]
  },
  {
   "cell_type": "code",
   "execution_count": 10,
   "metadata": {
    "ExecuteTime": {
     "end_time": "2019-07-29T08:02:10.103922Z",
     "start_time": "2019-07-29T08:02:09.686765Z"
    }
   },
   "outputs": [
    {
     "data": {
      "text/plain": [
       "VotingClassifier(estimators=[('Support Vector Machine', SVC(C=1.0, cache_size=200, class_weight=None, coef0=0.0,\n",
       "  decision_function_shape='ovr', degree=3, gamma='scale', kernel='rbf',\n",
       "  max_iter=-1, probability=False, random_state=None, shrinking=True,\n",
       "  tol=0.001, verbose=False)), ('Decision Tree Classifier', Deci...enalty='l2', random_state=None, solver='lbfgs',\n",
       "          tol=0.0001, verbose=0, warm_start=False))],\n",
       "         flatten_transform=None, n_jobs=None, voting='hard', weights=None)"
      ]
     },
     "execution_count": 10,
     "metadata": {},
     "output_type": "execute_result"
    }
   ],
   "source": [
    "voting_clf.fit(X_train,y_train)"
   ]
  },
  {
   "cell_type": "code",
   "execution_count": 11,
   "metadata": {
    "ExecuteTime": {
     "end_time": "2019-07-29T08:02:10.112656Z",
     "start_time": "2019-07-29T08:02:10.105373Z"
    }
   },
   "outputs": [
    {
     "data": {
      "text/plain": [
       "0.9707602339181286"
      ]
     },
     "execution_count": 11,
     "metadata": {},
     "output_type": "execute_result"
    }
   ],
   "source": [
    "voting_clf.score(X_test,y_test)"
   ]
  },
  {
   "cell_type": "code",
   "execution_count": 12,
   "metadata": {
    "ExecuteTime": {
     "end_time": "2019-07-29T08:02:10.125389Z",
     "start_time": "2019-07-29T08:02:10.114495Z"
    }
   },
   "outputs": [
    {
     "name": "stdout",
     "output_type": "stream",
     "text": [
      "\n",
      "\n",
      "    Support Vector Machine    \n",
      "\n",
      "TRAIN : 0.9195979899497487\n",
      "TEST  : 0.9181286549707602\n",
      "\n",
      "\n",
      "   Decision Tree Classifier   \n",
      "\n",
      "TRAIN : 1.0\n",
      "TEST  : 0.9415204678362573\n",
      "\n",
      "\n",
      "     Logistic Regression      \n",
      "\n",
      "TRAIN : 0.9597989949748744\n",
      "TEST  : 0.9590643274853801\n"
     ]
    }
   ],
   "source": [
    "# 각각 개별 분류기의 정확도 확인\n",
    "for i,clf in enumerate(voting_clf.estimators_):\n",
    "    print('\\n')\n",
    "    print('{:^30}'.format(voting_clf.estimators[i][0]))\n",
    "    print()\n",
    "    print('{:<5} : {}'.format('TRAIN',clf.score(X_train,y_train)))\n",
    "    print('{:<5} : {}'.format('TEST',clf.score(X_test,y_test)))"
   ]
  },
  {
   "cell_type": "markdown",
   "metadata": {},
   "source": [
    "---\n",
    "\n",
    "## Bagging"
   ]
  },
  {
   "cell_type": "code",
   "execution_count": 13,
   "metadata": {
    "ExecuteTime": {
     "end_time": "2019-07-29T08:02:10.129220Z",
     "start_time": "2019-07-29T08:02:10.126747Z"
    }
   },
   "outputs": [],
   "source": [
    "from sklearn.ensemble import RandomForestClassifier"
   ]
  },
  {
   "cell_type": "code",
   "execution_count": 14,
   "metadata": {
    "ExecuteTime": {
     "end_time": "2019-07-29T08:02:10.133044Z",
     "start_time": "2019-07-29T08:02:10.130744Z"
    }
   },
   "outputs": [],
   "source": [
    "rf_clf = RandomForestClassifier(n_estimators=100) # scikit-learn 다음 버전을 위해서 param 추가"
   ]
  },
  {
   "cell_type": "code",
   "execution_count": 15,
   "metadata": {
    "ExecuteTime": {
     "end_time": "2019-07-29T08:02:10.252453Z",
     "start_time": "2019-07-29T08:02:10.134433Z"
    }
   },
   "outputs": [
    {
     "data": {
      "text/plain": [
       "RandomForestClassifier(bootstrap=True, class_weight=None, criterion='gini',\n",
       "            max_depth=None, max_features='auto', max_leaf_nodes=None,\n",
       "            min_impurity_decrease=0.0, min_impurity_split=None,\n",
       "            min_samples_leaf=1, min_samples_split=2,\n",
       "            min_weight_fraction_leaf=0.0, n_estimators=100, n_jobs=None,\n",
       "            oob_score=False, random_state=None, verbose=0,\n",
       "            warm_start=False)"
      ]
     },
     "execution_count": 15,
     "metadata": {},
     "output_type": "execute_result"
    }
   ],
   "source": [
    "rf_clf.fit(X_train,y_train)"
   ]
  },
  {
   "cell_type": "code",
   "execution_count": 16,
   "metadata": {
    "ExecuteTime": {
     "end_time": "2019-07-29T08:02:10.264917Z",
     "start_time": "2019-07-29T08:02:10.253939Z"
    }
   },
   "outputs": [
    {
     "data": {
      "text/plain": [
       "0.9532163742690059"
      ]
     },
     "execution_count": 16,
     "metadata": {},
     "output_type": "execute_result"
    }
   ],
   "source": [
    "rf_clf.score(X_test,y_test)"
   ]
  },
  {
   "cell_type": "code",
   "execution_count": 17,
   "metadata": {
    "ExecuteTime": {
     "end_time": "2019-07-29T08:02:10.270208Z",
     "start_time": "2019-07-29T08:02:10.267673Z"
    }
   },
   "outputs": [],
   "source": [
    "from sklearn.model_selection import GridSearchCV"
   ]
  },
  {
   "cell_type": "code",
   "execution_count": 18,
   "metadata": {
    "ExecuteTime": {
     "end_time": "2019-07-29T08:02:10.275242Z",
     "start_time": "2019-07-29T08:02:10.272290Z"
    }
   },
   "outputs": [],
   "source": [
    "params = {'n_estimators':[100,300,500],\n",
    "          'max_depth':[3,5,7],\n",
    "          'n_jobs':[-1]}"
   ]
  },
  {
   "cell_type": "code",
   "execution_count": 19,
   "metadata": {
    "ExecuteTime": {
     "end_time": "2019-07-29T08:02:10.280323Z",
     "start_time": "2019-07-29T08:02:10.277138Z"
    }
   },
   "outputs": [],
   "source": [
    "grid_df = GridSearchCV(rf_clf,\n",
    "                       param_grid=params,\n",
    "                       cv = 5,\n",
    "                       n_jobs=-1)"
   ]
  },
  {
   "cell_type": "code",
   "execution_count": 20,
   "metadata": {
    "ExecuteTime": {
     "end_time": "2019-07-29T08:02:18.114931Z",
     "start_time": "2019-07-29T08:02:10.282727Z"
    },
    "scrolled": true
   },
   "outputs": [
    {
     "data": {
      "text/plain": [
       "GridSearchCV(cv=5, error_score='raise-deprecating',\n",
       "       estimator=RandomForestClassifier(bootstrap=True, class_weight=None, criterion='gini',\n",
       "            max_depth=None, max_features='auto', max_leaf_nodes=None,\n",
       "            min_impurity_decrease=0.0, min_impurity_split=None,\n",
       "            min_samples_leaf=1, min_samples_split=2,\n",
       "            min_weight_fraction_leaf=0.0, n_estimators=100, n_jobs=None,\n",
       "            oob_score=False, random_state=None, verbose=0,\n",
       "            warm_start=False),\n",
       "       fit_params=None, iid='warn', n_jobs=-1,\n",
       "       param_grid={'n_estimators': [100, 300, 500], 'max_depth': [3, 5, 7], 'n_jobs': [-1]},\n",
       "       pre_dispatch='2*n_jobs', refit=True, return_train_score='warn',\n",
       "       scoring=None, verbose=0)"
      ]
     },
     "execution_count": 20,
     "metadata": {},
     "output_type": "execute_result"
    }
   ],
   "source": [
    "grid_df.fit(X_train,y_train)"
   ]
  },
  {
   "cell_type": "code",
   "execution_count": 21,
   "metadata": {
    "ExecuteTime": {
     "end_time": "2019-07-29T08:02:18.228119Z",
     "start_time": "2019-07-29T08:02:18.119058Z"
    }
   },
   "outputs": [
    {
     "data": {
      "text/plain": [
       "0.9415204678362573"
      ]
     },
     "execution_count": 21,
     "metadata": {},
     "output_type": "execute_result"
    }
   ],
   "source": [
    "grid_df.score(X_test,y_test)"
   ]
  },
  {
   "cell_type": "code",
   "execution_count": 22,
   "metadata": {
    "ExecuteTime": {
     "end_time": "2019-07-29T08:02:18.236129Z",
     "start_time": "2019-07-29T08:02:18.231268Z"
    }
   },
   "outputs": [
    {
     "data": {
      "text/plain": [
       "{'max_depth': 5, 'n_estimators': 500, 'n_jobs': -1}"
      ]
     },
     "execution_count": 22,
     "metadata": {},
     "output_type": "execute_result"
    }
   ],
   "source": [
    "grid_df.best_params_"
   ]
  },
  {
   "cell_type": "code",
   "execution_count": 23,
   "metadata": {
    "ExecuteTime": {
     "end_time": "2019-07-29T08:02:18.244120Z",
     "start_time": "2019-07-29T08:02:18.238598Z"
    }
   },
   "outputs": [
    {
     "data": {
      "text/plain": [
       "array([[1.254e+01, 1.807e+01, 7.942e+01, ..., 1.635e-02, 2.233e-01,\n",
       "        5.521e-02],\n",
       "       [1.678e+01, 1.880e+01, 1.093e+02, ..., 1.474e-01, 2.810e-01,\n",
       "        7.228e-02],\n",
       "       [1.122e+01, 3.381e+01, 7.079e+01, ..., 3.002e-02, 2.911e-01,\n",
       "        7.307e-02],\n",
       "       ...,\n",
       "       [1.927e+01, 2.647e+01, 1.279e+02, ..., 1.785e-01, 3.672e-01,\n",
       "        1.123e-01],\n",
       "       [1.500e+01, 1.551e+01, 9.745e+01, ..., 1.379e-01, 2.954e-01,\n",
       "        8.362e-02],\n",
       "       [7.760e+00, 2.454e+01, 4.792e+01, ..., 0.000e+00, 2.871e-01,\n",
       "        7.039e-02]])"
      ]
     },
     "execution_count": 23,
     "metadata": {},
     "output_type": "execute_result"
    }
   ],
   "source": [
    "X_train"
   ]
  },
  {
   "cell_type": "code",
   "execution_count": 24,
   "metadata": {
    "ExecuteTime": {
     "end_time": "2019-07-29T08:02:18.382654Z",
     "start_time": "2019-07-29T08:02:18.246571Z"
    },
    "scrolled": true
   },
   "outputs": [
    {
     "data": {
      "text/html": [
       "<div>\n",
       "<style scoped>\n",
       "    .dataframe tbody tr th:only-of-type {\n",
       "        vertical-align: middle;\n",
       "    }\n",
       "\n",
       "    .dataframe tbody tr th {\n",
       "        vertical-align: top;\n",
       "    }\n",
       "\n",
       "    .dataframe thead th {\n",
       "        text-align: right;\n",
       "    }\n",
       "</style>\n",
       "<table border=\"1\" class=\"dataframe\">\n",
       "  <thead>\n",
       "    <tr style=\"text-align: right;\">\n",
       "      <th></th>\n",
       "      <th>mean radius</th>\n",
       "      <th>mean texture</th>\n",
       "      <th>mean perimeter</th>\n",
       "      <th>mean area</th>\n",
       "      <th>mean smoothness</th>\n",
       "      <th>mean compactness</th>\n",
       "      <th>mean concavity</th>\n",
       "      <th>mean concave points</th>\n",
       "      <th>mean symmetry</th>\n",
       "      <th>mean fractal dimension</th>\n",
       "      <th>...</th>\n",
       "      <th>worst radius</th>\n",
       "      <th>worst texture</th>\n",
       "      <th>worst perimeter</th>\n",
       "      <th>worst area</th>\n",
       "      <th>worst smoothness</th>\n",
       "      <th>worst compactness</th>\n",
       "      <th>worst concavity</th>\n",
       "      <th>worst concave points</th>\n",
       "      <th>worst symmetry</th>\n",
       "      <th>worst fractal dimension</th>\n",
       "    </tr>\n",
       "  </thead>\n",
       "  <tbody>\n",
       "    <tr>\n",
       "      <th>importance</th>\n",
       "      <td>0.038163</td>\n",
       "      <td>0.009985</td>\n",
       "      <td>0.057616</td>\n",
       "      <td>0.045519</td>\n",
       "      <td>0.005651</td>\n",
       "      <td>0.011747</td>\n",
       "      <td>0.052673</td>\n",
       "      <td>0.100919</td>\n",
       "      <td>0.003224</td>\n",
       "      <td>0.003725</td>\n",
       "      <td>...</td>\n",
       "      <td>0.122399</td>\n",
       "      <td>0.014711</td>\n",
       "      <td>0.116491</td>\n",
       "      <td>0.120007</td>\n",
       "      <td>0.011423</td>\n",
       "      <td>0.014078</td>\n",
       "      <td>0.034585</td>\n",
       "      <td>0.120191</td>\n",
       "      <td>0.007401</td>\n",
       "      <td>0.006968</td>\n",
       "    </tr>\n",
       "  </tbody>\n",
       "</table>\n",
       "<p>1 rows × 30 columns</p>\n",
       "</div>"
      ],
      "text/plain": [
       "            mean radius  mean texture  mean perimeter  mean area  \\\n",
       "importance     0.038163      0.009985        0.057616   0.045519   \n",
       "\n",
       "            mean smoothness  mean compactness  mean concavity  \\\n",
       "importance         0.005651          0.011747        0.052673   \n",
       "\n",
       "            mean concave points  mean symmetry  mean fractal dimension  ...  \\\n",
       "importance             0.100919       0.003224                0.003725  ...   \n",
       "\n",
       "            worst radius  worst texture  worst perimeter  worst area  \\\n",
       "importance      0.122399       0.014711         0.116491    0.120007   \n",
       "\n",
       "            worst smoothness  worst compactness  worst concavity  \\\n",
       "importance          0.011423           0.014078         0.034585   \n",
       "\n",
       "            worst concave points  worst symmetry  worst fractal dimension  \n",
       "importance              0.120191        0.007401                 0.006968  \n",
       "\n",
       "[1 rows x 30 columns]"
      ]
     },
     "execution_count": 24,
     "metadata": {},
     "output_type": "execute_result"
    }
   ],
   "source": [
    "f_imp = pd.DataFrame(grid_df.best_estimator_.feature_importances_,\n",
    "                     index = cancer.feature_names,\n",
    "                     columns=['importance'])\n",
    "f_imp.T"
   ]
  },
  {
   "cell_type": "code",
   "execution_count": 25,
   "metadata": {
    "ExecuteTime": {
     "end_time": "2019-07-29T08:02:18.710711Z",
     "start_time": "2019-07-29T08:02:18.386230Z"
    }
   },
   "outputs": [
    {
     "data": {
      "image/png": "[encoded data removed]",
      "text/plain": [
       "<Figure size 432x288 with 1 Axes>"
      ]
     },
     "metadata": {
      "needs_background": "light"
     },
     "output_type": "display_data"
    }
   ],
   "source": [
    "f_imp.sort_values(by='importance').plot(kind='barh')\n",
    "plt.show()"
   ]
  },
  {
   "cell_type": "markdown",
   "metadata": {},
   "source": [
    "---\n",
    "\n",
    "## Boosting"
   ]
  },
  {
   "cell_type": "code",
   "execution_count": 26,
   "metadata": {
    "ExecuteTime": {
     "end_time": "2019-07-29T08:02:18.714797Z",
     "start_time": "2019-07-29T08:02:18.712121Z"
    }
   },
   "outputs": [],
   "source": [
    "from sklearn.ensemble import GradientBoostingClassifier"
   ]
  },
  {
   "cell_type": "code",
   "execution_count": 27,
   "metadata": {
    "ExecuteTime": {
     "end_time": "2019-07-29T08:02:18.719145Z",
     "start_time": "2019-07-29T08:02:18.716468Z"
    }
   },
   "outputs": [],
   "source": [
    "gbm_clf = GradientBoostingClassifier()"
   ]
  },
  {
   "cell_type": "code",
   "execution_count": 28,
   "metadata": {
    "ExecuteTime": {
     "end_time": "2019-07-29T08:02:18.846004Z",
     "start_time": "2019-07-29T08:02:18.721682Z"
    }
   },
   "outputs": [
    {
     "data": {
      "text/plain": [
       "GradientBoostingClassifier(criterion='friedman_mse', init=None,\n",
       "              learning_rate=0.1, loss='deviance', max_depth=3,\n",
       "              max_features=None, max_leaf_nodes=None,\n",
       "              min_impurity_decrease=0.0, min_impurity_split=None,\n",
       "              min_samples_leaf=1, min_samples_split=2,\n",
       "              min_weight_fraction_leaf=0.0, n_estimators=100,\n",
       "              n_iter_no_change=None, presort='auto', random_state=None,\n",
       "              subsample=1.0, tol=0.0001, validation_fraction=0.1,\n",
       "              verbose=0, warm_start=False)"
      ]
     },
     "execution_count": 28,
     "metadata": {},
     "output_type": "execute_result"
    }
   ],
   "source": [
    "gbm_clf.fit(X_train,y_train)"
   ]
  },
  {
   "cell_type": "code",
   "execution_count": 29,
   "metadata": {
    "ExecuteTime": {
     "end_time": "2019-07-29T08:02:18.855603Z",
     "start_time": "2019-07-29T08:02:18.848477Z"
    }
   },
   "outputs": [
    {
     "data": {
      "text/plain": [
       "0.9532163742690059"
      ]
     },
     "execution_count": 29,
     "metadata": {},
     "output_type": "execute_result"
    }
   ],
   "source": [
    "gbm_clf.score(X_test,y_test)"
   ]
  },
  {
   "cell_type": "code",
   "execution_count": 30,
   "metadata": {
    "ExecuteTime": {
     "end_time": "2019-07-29T08:02:18.859815Z",
     "start_time": "2019-07-29T08:02:18.857207Z"
    }
   },
   "outputs": [],
   "source": [
    "gbm_parmas = {\n",
    "    'n_estimators':[100,200],\n",
    "    'learning_rate':[0.05,0.1]\n",
    "}"
   ]
  },
  {
   "cell_type": "code",
   "execution_count": 31,
   "metadata": {
    "ExecuteTime": {
     "end_time": "2019-07-29T08:02:18.864506Z",
     "start_time": "2019-07-29T08:02:18.861522Z"
    }
   },
   "outputs": [],
   "source": [
    "grid_gbm = GridSearchCV(gbm_clf,\n",
    "                        param_grid=gbm_parmas,\n",
    "                        cv=5,\n",
    "                        n_jobs=-1)"
   ]
  },
  {
   "cell_type": "code",
   "execution_count": 32,
   "metadata": {
    "ExecuteTime": {
     "end_time": "2019-07-29T08:02:19.850810Z",
     "start_time": "2019-07-29T08:02:18.866614Z"
    }
   },
   "outputs": [
    {
     "data": {
      "text/plain": [
       "GridSearchCV(cv=5, error_score='raise-deprecating',\n",
       "       estimator=GradientBoostingClassifier(criterion='friedman_mse', init=None,\n",
       "              learning_rate=0.1, loss='deviance', max_depth=3,\n",
       "              max_features=None, max_leaf_nodes=None,\n",
       "              min_impurity_decrease=0.0, min_impurity_split=None,\n",
       "              min_samples_leaf=1, min_sampl...      subsample=1.0, tol=0.0001, validation_fraction=0.1,\n",
       "              verbose=0, warm_start=False),\n",
       "       fit_params=None, iid='warn', n_jobs=-1,\n",
       "       param_grid={'n_estimators': [100, 200], 'learning_rate': [0.05, 0.1]},\n",
       "       pre_dispatch='2*n_jobs', refit=True, return_train_score='warn',\n",
       "       scoring=None, verbose=0)"
      ]
     },
     "execution_count": 32,
     "metadata": {},
     "output_type": "execute_result"
    }
   ],
   "source": [
    "grid_gbm.fit(X_train,y_train)"
   ]
  },
  {
   "cell_type": "code",
   "execution_count": 33,
   "metadata": {
    "ExecuteTime": {
     "end_time": "2019-07-29T08:02:19.858681Z",
     "start_time": "2019-07-29T08:02:19.853076Z"
    }
   },
   "outputs": [
    {
     "data": {
      "text/plain": [
       "0.9707602339181286"
      ]
     },
     "execution_count": 33,
     "metadata": {},
     "output_type": "execute_result"
    }
   ],
   "source": [
    "grid_gbm.score(X_test,y_test)"
   ]
  },
  {
   "cell_type": "markdown",
   "metadata": {},
   "source": [
    "## XGBoost"
   ]
  },
  {
   "cell_type": "code",
   "execution_count": 34,
   "metadata": {
    "ExecuteTime": {
     "end_time": "2019-07-29T08:02:19.905069Z",
     "start_time": "2019-07-29T08:02:19.860298Z"
    }
   },
   "outputs": [],
   "source": [
    "import xgboost"
   ]
  },
  {
   "cell_type": "code",
   "execution_count": 35,
   "metadata": {
    "ExecuteTime": {
     "end_time": "2019-07-29T08:02:19.910675Z",
     "start_time": "2019-07-29T08:02:19.907639Z"
    }
   },
   "outputs": [],
   "source": [
    "from xgboost import XGBClassifier"
   ]
  },
  {
   "cell_type": "code",
   "execution_count": 36,
   "metadata": {
    "ExecuteTime": {
     "end_time": "2019-07-29T08:02:19.917214Z",
     "start_time": "2019-07-29T08:02:19.913503Z"
    }
   },
   "outputs": [],
   "source": [
    "xgb_clf = XGBClassifier()"
   ]
  },
  {
   "cell_type": "code",
   "execution_count": 37,
   "metadata": {
    "ExecuteTime": {
     "end_time": "2019-07-29T08:02:19.990945Z",
     "start_time": "2019-07-29T08:02:19.920102Z"
    }
   },
   "outputs": [
    {
     "data": {
      "text/plain": [
       "XGBClassifier(base_score=0.5, booster='gbtree', colsample_bylevel=1,\n",
       "       colsample_bynode=1, colsample_bytree=1, gamma=0, learning_rate=0.1,\n",
       "       max_delta_step=0, max_depth=3, min_child_weight=1, missing=None,\n",
       "       n_estimators=100, n_jobs=1, nthread=None,\n",
       "       objective='binary:logistic', random_state=0, reg_alpha=0,\n",
       "       reg_lambda=1, scale_pos_weight=1, seed=None, silent=None,\n",
       "       subsample=1, verbosity=1)"
      ]
     },
     "execution_count": 37,
     "metadata": {},
     "output_type": "execute_result"
    }
   ],
   "source": [
    "xgb_clf.fit(X_train,y_train)"
   ]
  },
  {
   "cell_type": "code",
   "execution_count": 38,
   "metadata": {
    "ExecuteTime": {
     "end_time": "2019-07-29T08:02:19.998124Z",
     "start_time": "2019-07-29T08:02:19.992514Z"
    }
   },
   "outputs": [
    {
     "data": {
      "text/plain": [
       "0.9649122807017544"
      ]
     },
     "execution_count": 38,
     "metadata": {},
     "output_type": "execute_result"
    }
   ],
   "source": [
    "xgb_clf.score(X_test,y_test)"
   ]
  },
  {
   "cell_type": "code",
   "execution_count": 39,
   "metadata": {
    "ExecuteTime": {
     "end_time": "2019-07-29T08:02:20.560994Z",
     "start_time": "2019-07-29T08:02:19.999479Z"
    }
   },
   "outputs": [
    {
     "name": "stdout",
     "output_type": "stream",
     "text": [
      "[0]\tvalidation_0-logloss:0.615593\n",
      "Will train until validation_0-logloss hasn't improved in 100 rounds.\n",
      "[1]\tvalidation_0-logloss:0.553036\n",
      "[2]\tvalidation_0-logloss:0.500498\n",
      "[3]\tvalidation_0-logloss:0.453844\n",
      "[4]\tvalidation_0-logloss:0.415334\n",
      "[5]\tvalidation_0-logloss:0.381626\n",
      "[6]\tvalidation_0-logloss:0.354083\n",
      "[7]\tvalidation_0-logloss:0.326348\n",
      "[8]\tvalidation_0-logloss:0.304611\n",
      "[9]\tvalidation_0-logloss:0.284143\n",
      "[10]\tvalidation_0-logloss:0.267726\n",
      "[11]\tvalidation_0-logloss:0.252263\n",
      "[12]\tvalidation_0-logloss:0.239003\n",
      "[13]\tvalidation_0-logloss:0.225695\n",
      "[14]\tvalidation_0-logloss:0.214112\n",
      "[15]\tvalidation_0-logloss:0.203558\n",
      "[16]\tvalidation_0-logloss:0.194984\n",
      "[17]\tvalidation_0-logloss:0.186837\n",
      "[18]\tvalidation_0-logloss:0.179552\n",
      "[19]\tvalidation_0-logloss:0.172228\n",
      "[20]\tvalidation_0-logloss:0.16536\n",
      "[21]\tvalidation_0-logloss:0.159196\n",
      "[22]\tvalidation_0-logloss:0.153946\n",
      "[23]\tvalidation_0-logloss:0.14869\n",
      "[24]\tvalidation_0-logloss:0.144637\n",
      "[25]\tvalidation_0-logloss:0.141697\n",
      "[26]\tvalidation_0-logloss:0.13893\n",
      "[27]\tvalidation_0-logloss:0.135004\n",
      "[28]\tvalidation_0-logloss:0.132001\n",
      "[29]\tvalidation_0-logloss:0.128855\n",
      "[30]\tvalidation_0-logloss:0.125535\n",
      "[31]\tvalidation_0-logloss:0.123026\n",
      "[32]\tvalidation_0-logloss:0.119403\n",
      "[33]\tvalidation_0-logloss:0.116947\n",
      "[34]\tvalidation_0-logloss:0.113874\n",
      "[35]\tvalidation_0-logloss:0.112203\n",
      "[36]\tvalidation_0-logloss:0.110775\n",
      "[37]\tvalidation_0-logloss:0.108044\n",
      "[38]\tvalidation_0-logloss:0.106587\n",
      "[39]\tvalidation_0-logloss:0.104536\n",
      "[40]\tvalidation_0-logloss:0.102854\n",
      "[41]\tvalidation_0-logloss:0.101113\n",
      "[42]\tvalidation_0-logloss:0.100548\n",
      "[43]\tvalidation_0-logloss:0.098427\n",
      "[44]\tvalidation_0-logloss:0.096834\n",
      "[45]\tvalidation_0-logloss:0.095792\n",
      "[46]\tvalidation_0-logloss:0.093954\n",
      "[47]\tvalidation_0-logloss:0.092643\n",
      "[48]\tvalidation_0-logloss:0.09088\n",
      "[49]\tvalidation_0-logloss:0.089052\n",
      "[50]\tvalidation_0-logloss:0.089264\n",
      "[51]\tvalidation_0-logloss:0.088284\n",
      "[52]\tvalidation_0-logloss:0.087277\n",
      "[53]\tvalidation_0-logloss:0.08655\n",
      "[54]\tvalidation_0-logloss:0.085914\n",
      "[55]\tvalidation_0-logloss:0.086342\n",
      "[56]\tvalidation_0-logloss:0.086092\n",
      "[57]\tvalidation_0-logloss:0.085637\n",
      "[58]\tvalidation_0-logloss:0.084889\n",
      "[59]\tvalidation_0-logloss:0.08487\n",
      "[60]\tvalidation_0-logloss:0.084237\n",
      "[61]\tvalidation_0-logloss:0.083549\n",
      "[62]\tvalidation_0-logloss:0.082696\n",
      "[63]\tvalidation_0-logloss:0.082364\n",
      "[64]\tvalidation_0-logloss:0.081709\n",
      "[65]\tvalidation_0-logloss:0.081627\n",
      "[66]\tvalidation_0-logloss:0.080988\n",
      "[67]\tvalidation_0-logloss:0.08087\n",
      "[68]\tvalidation_0-logloss:0.08051\n",
      "[69]\tvalidation_0-logloss:0.08014\n",
      "[70]\tvalidation_0-logloss:0.079173\n",
      "[71]\tvalidation_0-logloss:0.078497\n",
      "[72]\tvalidation_0-logloss:0.078518\n",
      "[73]\tvalidation_0-logloss:0.078471\n",
      "[74]\tvalidation_0-logloss:0.078077\n",
      "[75]\tvalidation_0-logloss:0.078294\n",
      "[76]\tvalidation_0-logloss:0.078283\n",
      "[77]\tvalidation_0-logloss:0.077949\n",
      "[78]\tvalidation_0-logloss:0.078196\n",
      "[79]\tvalidation_0-logloss:0.077626\n",
      "[80]\tvalidation_0-logloss:0.077146\n",
      "[81]\tvalidation_0-logloss:0.077207\n",
      "[82]\tvalidation_0-logloss:0.077004\n",
      "[83]\tvalidation_0-logloss:0.077023\n",
      "[84]\tvalidation_0-logloss:0.077263\n",
      "[85]\tvalidation_0-logloss:0.076635\n",
      "[86]\tvalidation_0-logloss:0.076824\n",
      "[87]\tvalidation_0-logloss:0.076428\n",
      "[88]\tvalidation_0-logloss:0.076254\n",
      "[89]\tvalidation_0-logloss:0.075578\n",
      "[90]\tvalidation_0-logloss:0.075803\n",
      "[91]\tvalidation_0-logloss:0.07625\n",
      "[92]\tvalidation_0-logloss:0.075242\n",
      "[93]\tvalidation_0-logloss:0.074611\n",
      "[94]\tvalidation_0-logloss:0.074844\n",
      "[95]\tvalidation_0-logloss:0.074302\n",
      "[96]\tvalidation_0-logloss:0.074529\n",
      "[97]\tvalidation_0-logloss:0.074647\n",
      "[98]\tvalidation_0-logloss:0.07371\n",
      "[99]\tvalidation_0-logloss:0.073319\n",
      "[100]\tvalidation_0-logloss:0.072461\n",
      "[101]\tvalidation_0-logloss:0.072748\n",
      "[102]\tvalidation_0-logloss:0.072974\n",
      "[103]\tvalidation_0-logloss:0.072402\n",
      "[104]\tvalidation_0-logloss:0.072759\n",
      "[105]\tvalidation_0-logloss:0.071929\n",
      "[106]\tvalidation_0-logloss:0.072163\n",
      "[107]\tvalidation_0-logloss:0.07162\n",
      "[108]\tvalidation_0-logloss:0.071346\n",
      "[109]\tvalidation_0-logloss:0.071621\n",
      "[110]\tvalidation_0-logloss:0.070831\n",
      "[111]\tvalidation_0-logloss:0.071066\n",
      "[112]\tvalidation_0-logloss:0.071411\n",
      "[113]\tvalidation_0-logloss:0.071688\n",
      "[114]\tvalidation_0-logloss:0.070928\n",
      "[115]\tvalidation_0-logloss:0.071083\n",
      "[116]\tvalidation_0-logloss:0.071415\n",
      "[117]\tvalidation_0-logloss:0.071269\n",
      "[118]\tvalidation_0-logloss:0.071376\n",
      "[119]\tvalidation_0-logloss:0.071658\n",
      "[120]\tvalidation_0-logloss:0.071198\n",
      "[121]\tvalidation_0-logloss:0.070484\n",
      "[122]\tvalidation_0-logloss:0.070265\n",
      "[123]\tvalidation_0-logloss:0.070273\n",
      "[124]\tvalidation_0-logloss:0.069584\n",
      "[125]\tvalidation_0-logloss:0.069793\n",
      "[126]\tvalidation_0-logloss:0.07011\n",
      "[127]\tvalidation_0-logloss:0.07045\n",
      "[128]\tvalidation_0-logloss:0.070489\n",
      "[129]\tvalidation_0-logloss:0.07079\n",
      "[130]\tvalidation_0-logloss:0.071055\n",
      "[131]\tvalidation_0-logloss:0.071097\n",
      "[132]\tvalidation_0-logloss:0.070712\n",
      "[133]\tvalidation_0-logloss:0.071003\n",
      "[134]\tvalidation_0-logloss:0.071045\n",
      "[135]\tvalidation_0-logloss:0.070775\n",
      "[136]\tvalidation_0-logloss:0.07047\n",
      "[137]\tvalidation_0-logloss:0.07075\n",
      "[138]\tvalidation_0-logloss:0.070771\n",
      "[139]\tvalidation_0-logloss:0.070852\n",
      "[140]\tvalidation_0-logloss:0.070894\n",
      "[141]\tvalidation_0-logloss:0.070524\n",
      "[142]\tvalidation_0-logloss:0.070568\n",
      "[143]\tvalidation_0-logloss:0.070656\n",
      "[144]\tvalidation_0-logloss:0.0707\n",
      "[145]\tvalidation_0-logloss:0.07045\n",
      "[146]\tvalidation_0-logloss:0.070646\n",
      "[147]\tvalidation_0-logloss:0.070771\n",
      "[148]\tvalidation_0-logloss:0.070422\n",
      "[149]\tvalidation_0-logloss:0.070622\n",
      "[150]\tvalidation_0-logloss:0.070665\n",
      "[151]\tvalidation_0-logloss:0.070725\n",
      "[152]\tvalidation_0-logloss:0.070623\n",
      "[153]\tvalidation_0-logloss:0.070743\n",
      "[154]\tvalidation_0-logloss:0.070788\n",
      "[155]\tvalidation_0-logloss:0.070441\n",
      "[156]\tvalidation_0-logloss:0.070704\n",
      "[157]\tvalidation_0-logloss:0.070468\n",
      "[158]\tvalidation_0-logloss:0.070372\n",
      "[159]\tvalidation_0-logloss:0.070097\n",
      "[160]\tvalidation_0-logloss:0.070139\n",
      "[161]\tvalidation_0-logloss:0.069991\n",
      "[162]\tvalidation_0-logloss:0.070108\n",
      "[163]\tvalidation_0-logloss:0.070151\n",
      "[164]\tvalidation_0-logloss:0.069824\n",
      "[165]\tvalidation_0-logloss:0.069561\n",
      "[166]\tvalidation_0-logloss:0.069816\n",
      "[167]\tvalidation_0-logloss:0.069724\n",
      "[168]\tvalidation_0-logloss:0.069583\n",
      "[169]\tvalidation_0-logloss:0.069701\n",
      "[170]\tvalidation_0-logloss:0.069744\n",
      "[171]\tvalidation_0-logloss:0.06961\n",
      "[172]\tvalidation_0-logloss:0.069521\n",
      "[173]\tvalidation_0-logloss:0.069387\n",
      "[174]\tvalidation_0-logloss:0.069081\n",
      "[175]\tvalidation_0-logloss:0.06933\n",
      "[176]\tvalidation_0-logloss:0.069078\n",
      "[177]\tvalidation_0-logloss:0.069194\n",
      "[178]\tvalidation_0-logloss:0.069237\n",
      "[179]\tvalidation_0-logloss:0.06915\n",
      "[180]\tvalidation_0-logloss:0.069391\n",
      "[181]\tvalidation_0-logloss:0.069088\n",
      "[182]\tvalidation_0-logloss:0.068966\n",
      "[183]\tvalidation_0-logloss:0.068838\n",
      "[184]\tvalidation_0-logloss:0.068755\n",
      "[185]\tvalidation_0-logloss:0.068934\n",
      "[186]\tvalidation_0-logloss:0.068691\n",
      "[187]\tvalidation_0-logloss:0.068805\n",
      "[188]\tvalidation_0-logloss:0.068847\n",
      "[189]\tvalidation_0-logloss:0.068557\n",
      "[190]\tvalidation_0-logloss:0.068901\n",
      "[191]\tvalidation_0-logloss:0.068783\n",
      "[192]\tvalidation_0-logloss:0.0687\n",
      "[193]\tvalidation_0-logloss:0.068874\n",
      "[194]\tvalidation_0-logloss:0.068638\n",
      "[195]\tvalidation_0-logloss:0.068754\n",
      "[196]\tvalidation_0-logloss:0.068583\n",
      "[197]\tvalidation_0-logloss:0.068469\n",
      "[198]\tvalidation_0-logloss:0.068392\n",
      "[199]\tvalidation_0-logloss:0.068622\n",
      "[200]\tvalidation_0-logloss:0.068344\n",
      "[201]\tvalidation_0-logloss:0.068459\n",
      "[202]\tvalidation_0-logloss:0.068502\n",
      "[203]\tvalidation_0-logloss:0.068279\n",
      "[204]\tvalidation_0-logloss:0.06861\n",
      "[205]\tvalidation_0-logloss:0.068449\n",
      "[206]\tvalidation_0-logloss:0.06834\n",
      "[207]\tvalidation_0-logloss:0.068234\n",
      "[208]\tvalidation_0-logloss:0.067966\n",
      "[209]\tvalidation_0-logloss:0.068137\n",
      "[210]\tvalidation_0-logloss:0.067919\n",
      "[211]\tvalidation_0-logloss:0.067945\n",
      "[212]\tvalidation_0-logloss:0.067841\n",
      "[213]\tvalidation_0-logloss:0.067766\n",
      "[214]\tvalidation_0-logloss:0.06766\n",
      "[215]\tvalidation_0-logloss:0.067875\n",
      "[216]\tvalidation_0-logloss:0.0678\n",
      "[217]\tvalidation_0-logloss:0.0677\n",
      "[218]\tvalidation_0-logloss:0.067545\n",
      "[219]\tvalidation_0-logloss:0.067655\n",
      "[220]\tvalidation_0-logloss:0.067449\n",
      "[221]\tvalidation_0-logloss:0.067662\n",
      "[222]\tvalidation_0-logloss:0.067401\n",
      "[223]\tvalidation_0-logloss:0.067426\n",
      "[224]\tvalidation_0-logloss:0.067309\n",
      "[225]\tvalidation_0-logloss:0.067214\n",
      "[226]\tvalidation_0-logloss:0.067142\n",
      "[227]\tvalidation_0-logloss:0.067349\n",
      "[228]\tvalidation_0-logloss:0.0672\n",
      "[229]\tvalidation_0-logloss:0.067108\n"
     ]
    },
    {
     "name": "stdout",
     "output_type": "stream",
     "text": [
      "[230]\tvalidation_0-logloss:0.06704\n",
      "[231]\tvalidation_0-logloss:0.066928\n",
      "[232]\tvalidation_0-logloss:0.066729\n",
      "[233]\tvalidation_0-logloss:0.066932\n",
      "[234]\tvalidation_0-logloss:0.066685\n",
      "[235]\tvalidation_0-logloss:0.066727\n",
      "[236]\tvalidation_0-logloss:0.066824\n",
      "[237]\tvalidation_0-logloss:0.066735\n",
      "[238]\tvalidation_0-logloss:0.066669\n",
      "[239]\tvalidation_0-logloss:0.066866\n",
      "[240]\tvalidation_0-logloss:0.066625\n",
      "[241]\tvalidation_0-logloss:0.066539\n",
      "[242]\tvalidation_0-logloss:0.066399\n",
      "[243]\tvalidation_0-logloss:0.066496\n",
      "[244]\tvalidation_0-logloss:0.066305\n",
      "[245]\tvalidation_0-logloss:0.066331\n",
      "[246]\tvalidation_0-logloss:0.066228\n",
      "[247]\tvalidation_0-logloss:0.066147\n",
      "[248]\tvalidation_0-logloss:0.066084\n",
      "[249]\tvalidation_0-logloss:0.066278\n",
      "[250]\tvalidation_0-logloss:0.066048\n",
      "[251]\tvalidation_0-logloss:0.066238\n",
      "[252]\tvalidation_0-logloss:0.066051\n",
      "[253]\tvalidation_0-logloss:0.065917\n",
      "[254]\tvalidation_0-logloss:0.066012\n",
      "[255]\tvalidation_0-logloss:0.065933\n",
      "[256]\tvalidation_0-logloss:0.065804\n",
      "[257]\tvalidation_0-logloss:0.065831\n",
      "[258]\tvalidation_0-logloss:0.065733\n",
      "[259]\tvalidation_0-logloss:0.065555\n",
      "[260]\tvalidation_0-logloss:0.06548\n",
      "[261]\tvalidation_0-logloss:0.065576\n",
      "[262]\tvalidation_0-logloss:0.065358\n",
      "[263]\tvalidation_0-logloss:0.065544\n",
      "[264]\tvalidation_0-logloss:0.065419\n",
      "[265]\tvalidation_0-logloss:0.065348\n",
      "[266]\tvalidation_0-logloss:0.065138\n",
      "[267]\tvalidation_0-logloss:0.065322\n",
      "[268]\tvalidation_0-logloss:0.065152\n",
      "[269]\tvalidation_0-logloss:0.065248\n",
      "[270]\tvalidation_0-logloss:0.065275\n",
      "[271]\tvalidation_0-logloss:0.065267\n",
      "[272]\tvalidation_0-logloss:0.065057\n",
      "[273]\tvalidation_0-logloss:0.065083\n",
      "[274]\tvalidation_0-logloss:0.065\n",
      "[275]\tvalidation_0-logloss:0.064879\n",
      "[276]\tvalidation_0-logloss:0.064813\n",
      "[277]\tvalidation_0-logloss:0.064807\n",
      "[278]\tvalidation_0-logloss:0.064606\n",
      "[279]\tvalidation_0-logloss:0.064782\n",
      "[280]\tvalidation_0-logloss:0.064809\n",
      "[281]\tvalidation_0-logloss:0.064604\n",
      "[282]\tvalidation_0-logloss:0.064696\n",
      "[283]\tvalidation_0-logloss:0.064536\n",
      "[284]\tvalidation_0-logloss:0.064706\n",
      "[285]\tvalidation_0-logloss:0.06459\n",
      "[286]\tvalidation_0-logloss:0.064479\n",
      "[287]\tvalidation_0-logloss:0.064571\n",
      "[288]\tvalidation_0-logloss:0.064374\n",
      "[289]\tvalidation_0-logloss:0.0644\n",
      "[290]\tvalidation_0-logloss:0.064397\n",
      "[291]\tvalidation_0-logloss:0.064274\n",
      "[292]\tvalidation_0-logloss:0.064442\n",
      "[293]\tvalidation_0-logloss:0.064253\n",
      "[294]\tvalidation_0-logloss:0.064279\n",
      "[295]\tvalidation_0-logloss:0.06443\n",
      "[296]\tvalidation_0-logloss:0.06424\n",
      "[297]\tvalidation_0-logloss:0.064181\n",
      "[298]\tvalidation_0-logloss:0.064272\n",
      "[299]\tvalidation_0-logloss:0.064161\n",
      "[300]\tvalidation_0-logloss:0.064105\n",
      "[301]\tvalidation_0-logloss:0.064106\n",
      "[302]\tvalidation_0-logloss:0.063999\n",
      "[303]\tvalidation_0-logloss:0.064149\n",
      "[304]\tvalidation_0-logloss:0.064047\n",
      "[305]\tvalidation_0-logloss:0.063929\n",
      "[306]\tvalidation_0-logloss:0.064094\n",
      "[307]\tvalidation_0-logloss:0.063913\n",
      "[308]\tvalidation_0-logloss:0.063939\n",
      "[309]\tvalidation_0-logloss:0.064029\n",
      "[310]\tvalidation_0-logloss:0.063854\n",
      "[311]\tvalidation_0-logloss:0.063857\n",
      "[312]\tvalidation_0-logloss:0.064004\n",
      "[313]\tvalidation_0-logloss:0.06403\n",
      "[314]\tvalidation_0-logloss:0.063855\n",
      "[315]\tvalidation_0-logloss:0.063983\n",
      "[316]\tvalidation_0-logloss:0.063987\n",
      "[317]\tvalidation_0-logloss:0.063813\n",
      "[318]\tvalidation_0-logloss:0.063959\n",
      "[319]\tvalidation_0-logloss:0.063859\n",
      "[320]\tvalidation_0-logloss:0.063757\n",
      "[321]\tvalidation_0-logloss:0.063844\n",
      "[322]\tvalidation_0-logloss:0.063637\n",
      "[323]\tvalidation_0-logloss:0.063589\n",
      "[324]\tvalidation_0-logloss:0.063678\n",
      "[325]\tvalidation_0-logloss:0.06351\n",
      "[326]\tvalidation_0-logloss:0.063669\n",
      "[327]\tvalidation_0-logloss:0.06357\n",
      "[328]\tvalidation_0-logloss:0.063476\n",
      "[329]\tvalidation_0-logloss:0.063619\n",
      "[330]\tvalidation_0-logloss:0.063625\n",
      "[331]\tvalidation_0-logloss:0.063457\n",
      "[332]\tvalidation_0-logloss:0.063494\n",
      "[333]\tvalidation_0-logloss:0.063634\n",
      "[334]\tvalidation_0-logloss:0.063469\n",
      "[335]\tvalidation_0-logloss:0.063476\n",
      "[336]\tvalidation_0-logloss:0.063277\n",
      "[337]\tvalidation_0-logloss:0.063415\n",
      "[338]\tvalidation_0-logloss:0.063254\n",
      "[339]\tvalidation_0-logloss:0.063375\n",
      "[340]\tvalidation_0-logloss:0.063281\n",
      "[341]\tvalidation_0-logloss:0.063189\n",
      "[342]\tvalidation_0-logloss:0.063197\n",
      "[343]\tvalidation_0-logloss:0.06304\n",
      "[344]\tvalidation_0-logloss:0.063193\n",
      "[345]\tvalidation_0-logloss:0.063332\n",
      "[346]\tvalidation_0-logloss:0.063175\n",
      "[347]\tvalidation_0-logloss:0.063086\n",
      "[348]\tvalidation_0-logloss:0.062994\n",
      "[349]\tvalidation_0-logloss:0.063143\n",
      "[350]\tvalidation_0-logloss:0.063152\n",
      "[351]\tvalidation_0-logloss:0.062999\n",
      "[352]\tvalidation_0-logloss:0.063137\n",
      "[353]\tvalidation_0-logloss:0.062949\n",
      "[354]\tvalidation_0-logloss:0.062863\n",
      "[355]\tvalidation_0-logloss:0.062866\n",
      "[356]\tvalidation_0-logloss:0.063002\n",
      "[357]\tvalidation_0-logloss:0.063012\n",
      "[358]\tvalidation_0-logloss:0.062861\n",
      "[359]\tvalidation_0-logloss:0.063006\n",
      "[360]\tvalidation_0-logloss:0.062859\n",
      "[361]\tvalidation_0-logloss:0.06282\n",
      "[362]\tvalidation_0-logloss:0.062954\n",
      "[363]\tvalidation_0-logloss:0.062957\n",
      "[364]\tvalidation_0-logloss:0.062968\n",
      "[365]\tvalidation_0-logloss:0.062883\n",
      "[366]\tvalidation_0-logloss:0.063012\n",
      "[367]\tvalidation_0-logloss:0.062866\n",
      "[368]\tvalidation_0-logloss:0.063007\n",
      "[369]\tvalidation_0-logloss:0.06301\n",
      "[370]\tvalidation_0-logloss:0.062828\n",
      "[371]\tvalidation_0-logloss:0.062966\n",
      "[372]\tvalidation_0-logloss:0.062822\n",
      "[373]\tvalidation_0-logloss:0.062834\n",
      "[374]\tvalidation_0-logloss:0.06275\n",
      "[375]\tvalidation_0-logloss:0.062881\n",
      "[376]\tvalidation_0-logloss:0.062885\n",
      "[377]\tvalidation_0-logloss:0.062848\n",
      "[378]\tvalidation_0-logloss:0.062709\n",
      "[379]\tvalidation_0-logloss:0.062839\n",
      "[380]\tvalidation_0-logloss:0.062851\n",
      "[381]\tvalidation_0-logloss:0.062714\n",
      "[382]\tvalidation_0-logloss:0.062852\n",
      "[383]\tvalidation_0-logloss:0.062677\n",
      "[384]\tvalidation_0-logloss:0.062683\n",
      "[385]\tvalidation_0-logloss:0.062808\n",
      "[386]\tvalidation_0-logloss:0.062726\n",
      "[387]\tvalidation_0-logloss:0.062733\n",
      "[388]\tvalidation_0-logloss:0.062868\n",
      "[389]\tvalidation_0-logloss:0.062733\n",
      "[390]\tvalidation_0-logloss:0.062745\n",
      "[391]\tvalidation_0-logloss:0.062666\n",
      "[392]\tvalidation_0-logloss:0.062793\n",
      "[393]\tvalidation_0-logloss:0.0628\n",
      "[394]\tvalidation_0-logloss:0.062637\n",
      "[395]\tvalidation_0-logloss:0.06256\n",
      "[396]\tvalidation_0-logloss:0.062685\n",
      "[397]\tvalidation_0-logloss:0.062552\n",
      "[398]\tvalidation_0-logloss:0.062565\n",
      "[399]\tvalidation_0-logloss:0.062573\n",
      "[400]\tvalidation_0-logloss:0.062497\n",
      "[401]\tvalidation_0-logloss:0.062621\n",
      "[402]\tvalidation_0-logloss:0.062493\n",
      "[403]\tvalidation_0-logloss:0.062508\n",
      "[404]\tvalidation_0-logloss:0.06263\n",
      "[405]\tvalidation_0-logloss:0.062464\n",
      "[406]\tvalidation_0-logloss:0.062472\n",
      "[407]\tvalidation_0-logloss:0.062397\n",
      "[408]\tvalidation_0-logloss:0.062517\n",
      "[409]\tvalidation_0-logloss:0.062394\n",
      "[410]\tvalidation_0-logloss:0.062408\n",
      "[411]\tvalidation_0-logloss:0.062436\n",
      "[412]\tvalidation_0-logloss:0.062312\n",
      "[413]\tvalidation_0-logloss:0.062433\n",
      "[414]\tvalidation_0-logloss:0.062448\n",
      "[415]\tvalidation_0-logloss:0.062376\n",
      "[416]\tvalidation_0-logloss:0.062384\n",
      "[417]\tvalidation_0-logloss:0.0625\n",
      "[418]\tvalidation_0-logloss:0.062349\n",
      "[419]\tvalidation_0-logloss:0.062229\n",
      "[420]\tvalidation_0-logloss:0.062257\n",
      "[421]\tvalidation_0-logloss:0.062272\n",
      "[422]\tvalidation_0-logloss:0.062388\n",
      "[423]\tvalidation_0-logloss:0.062264\n",
      "[424]\tvalidation_0-logloss:0.062194\n",
      "[425]\tvalidation_0-logloss:0.062258\n",
      "[426]\tvalidation_0-logloss:0.062285\n",
      "[427]\tvalidation_0-logloss:0.062292\n",
      "[428]\tvalidation_0-logloss:0.062375\n",
      "[429]\tvalidation_0-logloss:0.062253\n",
      "[430]\tvalidation_0-logloss:0.06237\n",
      "[431]\tvalidation_0-logloss:0.062254\n",
      "[432]\tvalidation_0-logloss:0.06227\n",
      "[433]\tvalidation_0-logloss:0.062112\n",
      "[434]\tvalidation_0-logloss:0.062194\n",
      "[435]\tvalidation_0-logloss:0.062079\n",
      "[436]\tvalidation_0-logloss:0.062197\n",
      "[437]\tvalidation_0-logloss:0.062128\n",
      "[438]\tvalidation_0-logloss:0.062136\n",
      "[439]\tvalidation_0-logloss:0.062217\n",
      "[440]\tvalidation_0-logloss:0.062098\n",
      "[441]\tvalidation_0-logloss:0.062113\n",
      "[442]\tvalidation_0-logloss:0.062229\n",
      "[443]\tvalidation_0-logloss:0.062115\n",
      "[444]\tvalidation_0-logloss:0.061961\n",
      "[445]\tvalidation_0-logloss:0.062041\n",
      "[446]\tvalidation_0-logloss:0.061925\n",
      "[447]\tvalidation_0-logloss:0.06204\n",
      "[448]\tvalidation_0-logloss:0.061972\n",
      "[449]\tvalidation_0-logloss:0.061861\n",
      "[450]\tvalidation_0-logloss:0.061941\n",
      "[451]\tvalidation_0-logloss:0.06195\n",
      "[452]\tvalidation_0-logloss:0.061966\n",
      "[453]\tvalidation_0-logloss:0.06208\n",
      "[454]\tvalidation_0-logloss:0.061968\n",
      "[455]\tvalidation_0-logloss:0.061866\n",
      "[456]\tvalidation_0-logloss:0.061947\n",
      "[457]\tvalidation_0-logloss:0.061837\n",
      "[458]\tvalidation_0-logloss:0.061951\n"
     ]
    },
    {
     "name": "stdout",
     "output_type": "stream",
     "text": [
      "[459]\tvalidation_0-logloss:0.062029\n",
      "[460]\tvalidation_0-logloss:0.061918\n",
      "[461]\tvalidation_0-logloss:0.061769\n",
      "[462]\tvalidation_0-logloss:0.061785\n",
      "[463]\tvalidation_0-logloss:0.061896\n",
      "[464]\tvalidation_0-logloss:0.061787\n",
      "[465]\tvalidation_0-logloss:0.061864\n",
      "[466]\tvalidation_0-logloss:0.061757\n",
      "[467]\tvalidation_0-logloss:0.061834\n",
      "[468]\tvalidation_0-logloss:0.061728\n",
      "[469]\tvalidation_0-logloss:0.061837\n",
      "[470]\tvalidation_0-logloss:0.06174\n",
      "[471]\tvalidation_0-logloss:0.061749\n",
      "[472]\tvalidation_0-logloss:0.061826\n",
      "[473]\tvalidation_0-logloss:0.061722\n",
      "[474]\tvalidation_0-logloss:0.061799\n",
      "[475]\tvalidation_0-logloss:0.061696\n",
      "[476]\tvalidation_0-logloss:0.061807\n",
      "[477]\tvalidation_0-logloss:0.061823\n",
      "[478]\tvalidation_0-logloss:0.061728\n",
      "[479]\tvalidation_0-logloss:0.061627\n",
      "[480]\tvalidation_0-logloss:0.061703\n",
      "[481]\tvalidation_0-logloss:0.061812\n",
      "[482]\tvalidation_0-logloss:0.061709\n",
      "[483]\tvalidation_0-logloss:0.061649\n",
      "[484]\tvalidation_0-logloss:0.061659\n",
      "[485]\tvalidation_0-logloss:0.061734\n",
      "[486]\tvalidation_0-logloss:0.061643\n",
      "[487]\tvalidation_0-logloss:0.06175\n",
      "[488]\tvalidation_0-logloss:0.061649\n",
      "[489]\tvalidation_0-logloss:0.061723\n",
      "[490]\tvalidation_0-logloss:0.061624\n",
      "[491]\tvalidation_0-logloss:0.061697\n",
      "[492]\tvalidation_0-logloss:0.061708\n",
      "[493]\tvalidation_0-logloss:0.061648\n",
      "[494]\tvalidation_0-logloss:0.061752\n",
      "[495]\tvalidation_0-logloss:0.061652\n",
      "[496]\tvalidation_0-logloss:0.061608\n",
      "[497]\tvalidation_0-logloss:0.061519\n",
      "[498]\tvalidation_0-logloss:0.061624\n",
      "[499]\tvalidation_0-logloss:0.061527\n"
     ]
    },
    {
     "data": {
      "text/plain": [
       "XGBClassifier(base_score=0.5, booster='gbtree', colsample_bylevel=1,\n",
       "       colsample_bynode=1, colsample_bytree=1, gamma=0, learning_rate=0.1,\n",
       "       max_delta_step=0, max_depth=3, min_child_weight=1, missing=None,\n",
       "       n_estimators=500, n_jobs=1, nthread=None,\n",
       "       objective='binary:logistic', random_state=0, reg_alpha=0,\n",
       "       reg_lambda=1, scale_pos_weight=1, seed=None, silent=None,\n",
       "       subsample=1, verbosity=1)"
      ]
     },
     "execution_count": 39,
     "metadata": {},
     "output_type": "execute_result"
    }
   ],
   "source": [
    "# 조기 중단 기능 (early stopping) 활용\n",
    "eval_data = [(X_test,y_test)]\n",
    "xgb_clf = XGBClassifier(n_estimators=500)\n",
    "xgb_clf.fit(X_train,y_train,\n",
    "            early_stopping_rounds= 100,\n",
    "            eval_set = eval_data,\n",
    "            eval_metric = 'logloss')"
   ]
  },
  {
   "cell_type": "markdown",
   "metadata": {},
   "source": [
    "## 각종 지표들"
   ]
  },
  {
   "cell_type": "code",
   "execution_count": 43,
   "metadata": {
    "ExecuteTime": {
     "end_time": "2019-07-29T08:05:12.526895Z",
     "start_time": "2019-07-29T08:05:12.522659Z"
    }
   },
   "outputs": [],
   "source": [
    "from sklearn.metrics import confusion_matrix # 오차행렬\n",
    "from sklearn.metrics import accuracy_score # 정확도\n",
    "from sklearn.metrics import precision_score # 정밀도\n",
    "from sklearn.metrics import recall_score # 재현율\n",
    "from sklearn.metrics import roc_auc_score # auc score\n",
    "from sklearn.metrics import f1_score "
   ]
  },
  {
   "cell_type": "code",
   "execution_count": 56,
   "metadata": {
    "ExecuteTime": {
     "end_time": "2019-07-29T08:15:55.118016Z",
     "start_time": "2019-07-29T08:15:55.111246Z"
    }
   },
   "outputs": [],
   "source": [
    "def get_clf_eval(y_test,y_pred):\n",
    "    matrix = confusion_matrix(y_test,y_pred)\n",
    "    accuracy = accuracy_score(y_test,y_pred)\n",
    "    precision = precision_score(y_test,y_pred)\n",
    "    recall = recall_score(y_test,y_pred)\n",
    "    f1 = f1_score(y_test,y_pred)\n",
    "    auc = roc_auc_score(y_test,y_pred)\n",
    "    \n",
    "    print('{}'.format('RESULT'))\n",
    "    print('Confusion Matrix : ')\n",
    "    print(matrix)\n",
    "    print('-'*30)\n",
    "    \n",
    "    print('Accuaracy Score : ')\n",
    "    print(accuracy)\n",
    "    print('-'*30)\n",
    "    \n",
    "    print('Precision Score : ')\n",
    "    print(precision)\n",
    "    print('-'*30)\n",
    "    \n",
    "    print('Recall Score : ')\n",
    "    print(recall)\n",
    "    print('-'*30)\n",
    "    \n",
    "    print('F1 Score : ')\n",
    "    print(f1)\n",
    "    print('-'*30)\n",
    "    \n",
    "    print('AUC Score : ')\n",
    "    print(auc)\n",
    "    print('-'*30)"
   ]
  },
  {
   "cell_type": "code",
   "execution_count": 57,
   "metadata": {
    "ExecuteTime": {
     "end_time": "2019-07-29T08:15:55.323543Z",
     "start_time": "2019-07-29T08:15:55.318713Z"
    }
   },
   "outputs": [],
   "source": [
    "xgb_pred = xgb_clf.predict(X_test)"
   ]
  },
  {
   "cell_type": "code",
   "execution_count": 58,
   "metadata": {
    "ExecuteTime": {
     "end_time": "2019-07-29T08:15:55.509562Z",
     "start_time": "2019-07-29T08:15:55.498457Z"
    }
   },
   "outputs": [
    {
     "name": "stdout",
     "output_type": "stream",
     "text": [
      "RESULT\n",
      "Confusion Matrix : \n",
      "[[ 59   4]\n",
      " [  1 107]]\n",
      "------------------------------\n",
      "Accuaracy Score : \n",
      "0.9707602339181286\n",
      "------------------------------\n",
      "Precision Score : \n",
      "0.963963963963964\n",
      "------------------------------\n",
      "Recall Score : \n",
      "0.9907407407407407\n",
      "------------------------------\n",
      "F1 Score : \n",
      "0.9771689497716894\n",
      "------------------------------\n",
      "AUC Score : \n",
      "0.9636243386243386\n",
      "------------------------------\n"
     ]
    }
   ],
   "source": [
    "get_clf_eval(y_test,xgb_pred)"
   ]
  }
 ],
 "metadata": {
  "kernelspec": {
   "display_name": "Python 3",
   "language": "python",
   "name": "python3"
  },
  "language_info": {
   "codemirror_mode": {
    "name": "ipython",
    "version": 3
   },
   "file_extension": ".py",
   "mimetype": "text/x-python",
   "name": "python",
   "nbconvert_exporter": "python",
   "pygments_lexer": "ipython3",
   "version": "3.6.8"
  },
  "toc": {
   "base_numbering": 1,
   "nav_menu": {},
   "number_sections": true,
   "sideBar": true,
   "skip_h1_title": true,
   "title_cell": "Table of Contents",
   "title_sidebar": "Contents",
   "toc_cell": false,
   "toc_position": {
    "height": "calc(100% - 180px)",
    "left": "10px",
    "top": "150px",
    "width": "168px"
   },
   "toc_section_display": true,
   "toc_window_display": false
  }
 },
 "nbformat": 4,
 "nbformat_minor": 2
}
